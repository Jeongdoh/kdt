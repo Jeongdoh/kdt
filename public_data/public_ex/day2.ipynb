{
 "cells": [
  {
   "cell_type": "code",
   "execution_count": 8,
   "id": "8a62933e",
   "metadata": {},
   "outputs": [
    {
     "name": "stdout",
     "output_type": "stream",
     "text": [
      "['사용월', '호선명', '역ID', '지하철역', '유임승차', '유임하차', '무임승차', '무임하차']\n",
      "['Dec.22', '1호선', '150', '서울역', '1350791', '1316828', '196523', '187268']\n",
      "['Dec.22', '1호선', '151', '시청', '672846', '665583', '96623', '93198']\n",
      "['Dec.22', '1호선', '152', '종각', '975925', '949944', '150911', '141309']\n",
      "['Dec.22', '1호선', '153', '종로3가', '490967', '450017', '309071', '287432']\n",
      "['Dec.22', '1호선', '154', '종로5가', '476315', '470710', '247835', '238588']\n",
      "['Dec.22', '1호선', '155', '동대문', '230076', '215833', '120749', '118870']\n"
     ]
    }
   ],
   "source": [
    "import csv\n",
    "f = open('subwayfee.csv', encoding='utf-8-sig')\n",
    "data = csv.reader(f)\n",
    "header = next(data)\n",
    "print(header)\n",
    "i = 1\n",
    "for row in data:\n",
    "    print(row)\n",
    "    if i > 5:\n",
    "        break\n",
    "    i += 1\n",
    "f.close()"
   ]
  },
  {
   "cell_type": "code",
   "execution_count": 9,
   "id": "faa42c19",
   "metadata": {},
   "outputs": [
    {
     "ename": "ZeroDivisionError",
     "evalue": "division by zero",
     "output_type": "error",
     "traceback": [
      "\u001b[1;31m---------------------------------------------------------------------------\u001b[0m",
      "\u001b[1;31mZeroDivisionError\u001b[0m                         Traceback (most recent call last)",
      "\u001b[1;32m~\\AppData\\Local\\Temp\\ipykernel_35400\\977345745.py\u001b[0m in \u001b[0;36m<module>\u001b[1;34m\u001b[0m\n\u001b[0;32m      9\u001b[0m     \u001b[1;32mfor\u001b[0m \u001b[0mi\u001b[0m \u001b[1;32min\u001b[0m \u001b[0mrange\u001b[0m\u001b[1;33m(\u001b[0m\u001b[1;36m4\u001b[0m\u001b[1;33m,\u001b[0m\u001b[1;36m8\u001b[0m\u001b[1;33m)\u001b[0m\u001b[1;33m:\u001b[0m\u001b[1;33m\u001b[0m\u001b[1;33m\u001b[0m\u001b[0m\n\u001b[0;32m     10\u001b[0m         \u001b[0mrow\u001b[0m\u001b[1;33m[\u001b[0m\u001b[0mi\u001b[0m\u001b[1;33m]\u001b[0m \u001b[1;33m=\u001b[0m \u001b[0mint\u001b[0m\u001b[1;33m(\u001b[0m\u001b[0mrow\u001b[0m\u001b[1;33m[\u001b[0m\u001b[0mi\u001b[0m\u001b[1;33m]\u001b[0m\u001b[1;33m)\u001b[0m \u001b[1;31m# 4, 5, 6, 7 컬럼값을 정수로 변환\u001b[0m\u001b[1;33m\u001b[0m\u001b[1;33m\u001b[0m\u001b[0m\n\u001b[1;32m---> 11\u001b[1;33m     \u001b[0mrate\u001b[0m \u001b[1;33m=\u001b[0m \u001b[0mrow\u001b[0m\u001b[1;33m[\u001b[0m\u001b[1;36m4\u001b[0m\u001b[1;33m]\u001b[0m \u001b[1;33m/\u001b[0m \u001b[0mrow\u001b[0m\u001b[1;33m[\u001b[0m\u001b[1;36m6\u001b[0m\u001b[1;33m]\u001b[0m \u001b[1;31m# [6]컬럼의 값이 0인 행 확인 용도\u001b[0m\u001b[1;33m\u001b[0m\u001b[1;33m\u001b[0m\u001b[0m\n\u001b[0m\u001b[0;32m     12\u001b[0m     \u001b[1;32mif\u001b[0m \u001b[0mrate\u001b[0m \u001b[1;33m>\u001b[0m \u001b[0mmax_rate\u001b[0m\u001b[1;33m:\u001b[0m\u001b[1;33m\u001b[0m\u001b[1;33m\u001b[0m\u001b[0m\n\u001b[0;32m     13\u001b[0m         \u001b[0mmax_rate\u001b[0m \u001b[1;33m=\u001b[0m \u001b[0mrate\u001b[0m\u001b[1;33m\u001b[0m\u001b[1;33m\u001b[0m\u001b[0m\n",
      "\u001b[1;31mZeroDivisionError\u001b[0m: division by zero"
     ]
    }
   ],
   "source": [
    "import csv\n",
    "f = open('subwayfee.csv', encoding='utf-8-sig')\n",
    "data = csv.reader(f)\n",
    "next(data)\n",
    "max_rate = 0\n",
    "rate = 0\n",
    "\n",
    "for row in data:\n",
    "    for i in range(4,8):\n",
    "        row[i] = int(row[i]) # 4, 5, 6, 7 컬럼값을 정수로 변환\n",
    "    rate = row[4] / row[6] # [6]컬럼의 값이 0인 행 확인 용도\n",
    "    if rate > max_rate:\n",
    "        max_rate = rate\n",
    "print(max_rate)"
   ]
  },
  {
   "cell_type": "code",
   "execution_count": 10,
   "id": "09f66e55",
   "metadata": {},
   "outputs": [
    {
     "name": "stdout",
     "output_type": "stream",
     "text": [
      "['Dec.22', '경의선', '1295', '김포공항', 1, 0, 0, 0]\n",
      "['Dec.22', '경의선', '1296', '계양', 6, 0, 0, 0]\n",
      "['Dec.22', '경의선', '1297', '검암', 1, 0, 0, 0]\n"
     ]
    }
   ],
   "source": [
    "header = next(data)\n",
    "rate = 0\n",
    "\n",
    "for row in data:\n",
    "    for i in range(4, 8):\n",
    "        row[i] = int(row[i]) # 4, 5, 6, 7 컬럼값을 정수로 변환\n",
    "    rate = row[4] / (row[4] + row[6])\n",
    "    if row[6] == 0: # 무임승차 인원[6]이 없는 역 출력\n",
    "        print(row)\n",
    "f.close()"
   ]
  },
  {
   "cell_type": "code",
   "execution_count": 12,
   "id": "6b3d74a1",
   "metadata": {},
   "outputs": [
    {
     "name": "stdout",
     "output_type": "stream",
     "text": [
      "['Dec.22', '1호선', '150', '서울역', 1350791, 1316828, 196523, 187268] 12.7 %\n",
      "['Dec.22', '1호선', '152', '종각', 975925, 949944, 150911, 141309] 13.39 %\n",
      "['Dec.22', '1호선', '153', '종로3가', 490967, 450017, 309071, 287432] 38.63 %\n",
      "['Dec.22', '1호선', '157', '제기동', 238529, 228924, 257360, 275606] 51.9 %\n",
      "['Dec.22', '경원선', '1916', '소요산', 30614, 23597, 38770, 35159] 55.88 %\n"
     ]
    }
   ],
   "source": [
    "import csv\n",
    "f = open('subwayfee.csv', encoding='utf-8-sig')\n",
    "data = csv.reader(f)\n",
    "header = next(data)\n",
    "max_rate =0\n",
    "rate = 0\n",
    "i = 0\n",
    "\n",
    "for row in data:\n",
    "    for i in range(4, 8):\n",
    "        row[i] = int(row[i]) # 4, 5, 6, 7 컬럼값을 정수로 변환\n",
    "    if row[6] != 0:\n",
    "        # 무임 승차 (%) = (무임 승차 수 x 100) / (유임 승차 수 + 무임 승차 수)\n",
    "        rate = (row[6] * 100) / (row[4] + row[6])\n",
    "        if rate > max_rate:\n",
    "            max_rate = rate\n",
    "            print(row, round(rate, 2), '%')\n",
    "f.close()"
   ]
  },
  {
   "cell_type": "code",
   "execution_count": 16,
   "id": "716b6e48",
   "metadata": {},
   "outputs": [
    {
     "name": "stdout",
     "output_type": "stream",
     "text": [
      "역이름:\t서울역,\t전체 인원:\t1,547,314,\t유임승차인원:\t1,350,791,\t유임승차 비율:\t87.3\n",
      "역이름:\t시청,\t전체 인원:\t769,469,\t유임승차인원:\t672,846,\t유임승차 비율:\t87.4\n",
      "역이름:\t시청,\t전체 인원:\t742,051,\t유임승차인원:\t682,510,\t유임승차 비율:\t92.0\n",
      "역이름:\t을지로입구,\t전체 인원:\t1,443,036,\t유임승차인원:\t1,330,792,\t유임승차 비율:\t92.2\n",
      "역이름:\t한양대,\t전체 인원:\t302,248,\t유임승차인원:\t289,301,\t유임승차 비율:\t95.7\n",
      "['Dec.22', '2호선', '209', '한양대', 289301, 312576, 12947, 13359]\n",
      "역이름:\t한양대,\t전체 인원:\t302,248,\t유임승차인원:\t289,301,\t유임승차 비율:\t95.7\n"
     ]
    }
   ],
   "source": [
    "import\tcsv\n",
    "\n",
    "f\t=\topen('subwayfee.csv',\tencoding='utf-8-sig')\n",
    "data\t=\tcsv.reader(f)\n",
    "next(data)\n",
    "             \n",
    "max_rate =\t0\n",
    "rate\t=\t0\n",
    "max_row =\t[]\n",
    "total_count =\t0\n",
    "max_total_num =\t0\n",
    "             \n",
    "for\trow\tin\tdata\t:\n",
    "    for\ti in\trange(4,8)\t:\n",
    "        row[i]\t=\tint(row[i])\n",
    "    total_count =\trow[4]\t+\trow[6]\t#\t유임승차수 +\t무임승차수\n",
    "    if\t(row[6]\t!=0)\tand\t(total_count >100000)\t:\n",
    "        rate\t=\trow[4]\t/\ttotal_count\n",
    "        if\trate\t>\tmax_rate :\n",
    "            max_rate =\trate\n",
    "            max_row =\trow\n",
    "            max_total_num =\ttotal_count\n",
    "            print(\"역이름:\t{0},\t전체 인원:\t{1:,},\t유임승차인원:\t{2:,},\t유임승차 비율:\t{3:,}\".format(max_row[3],\tmax_total_num,\tmax_row[4],\tround(max_rate*100,\t1)))\n",
    "            \n",
    "            \n",
    "print(max_row)\n",
    "print(\"역이름:\t{0},\t전체 인원:\t{1:,},\t유임승차인원:\t{2:,},\t유임승차 비율:\t{3:,}\".format(max_row[3],\tmax_total_num,\tmax_row[4],\tround(max_rate*100,\t1)))\n",
    "f.close()\n"
   ]
  },
  {
   "cell_type": "code",
   "execution_count": 17,
   "id": "3251740c",
   "metadata": {},
   "outputs": [
    {
     "data": {
      "image/png": "[encoded data removed]",
      "text/plain": [
       "<Figure size 640x480 with 1 Axes>"
      ]
     },
     "metadata": {},
     "output_type": "display_data"
    }
   ],
   "source": [
    "import matplotlib.pyplot as plt\n",
    "plt.pie([10, 20])\n",
    "plt.show()"
   ]
  },
  {
   "cell_type": "code",
   "execution_count": 18,
   "id": "d496c2fd",
   "metadata": {},
   "outputs": [
    {
     "data": {
      "image/png": "[encoded data removed]",
      "text/plain": [
       "<Figure size 640x480 with 1 Axes>"
      ]
     },
     "metadata": {},
     "output_type": "display_data"
    }
   ],
   "source": [
    "import matplotlib.pyplot as plt\n",
    "import platform\n",
    "\n",
    "if platform.system() == 'Windows':\n",
    "    plt.rc('font', family='Malgun Gothic')\n",
    "else: # MacOS: ‘Darwin’\n",
    "    plt.rc('font', family='AppleGothic')\n",
    "numbers = [214,\t2312, 1031, 1233]\n",
    "blood_type = ['A형', 'B형', 'AB형', 'O형']\n",
    "plt.axis('equal') # 파이 차트를 원형으로 그려줌\n",
    "plt.pie(numbers, labels=blood_type, autopct='%.1f%%')\n",
    "plt.legend()\n",
    "plt.show()"
   ]
  },
  {
   "cell_type": "code",
   "execution_count": 21,
   "id": "202b6ff2",
   "metadata": {},
   "outputs": [
    {
     "data": {
      "image/png": "[encoded data removed]",
      "text/plain": [
       "<Figure size 640x480 with 1 Axes>"
      ]
     },
     "metadata": {},
     "output_type": "display_data"
    }
   ],
   "source": [
    "import matplotlib.pyplot as plt\n",
    "import platform\n",
    "\n",
    "if platform.system() == 'Windows':\n",
    "    plt.rc('font', family='Malgun Gothic')\n",
    "else:\n",
    "    plt.rc('font', family='AppleGothic')\n",
    "    \n",
    "color=['darkmagenta', 'deeppink', 'hotpink', 'pink']\n",
    "size = [2441, 2312, 1031, 1233]\n",
    "blood_type = ['A형', 'B형', 'AB형', 'O형']\n",
    "plt.axis('equal')\n",
    "plt.pie(size, labels=blood_type, autopct='%.1f%%', colors=color, \n",
    "        explode=(0.2, 0, 0, 0), startangle=90)\n",
    "plt.legend()\n",
    "plt.show()"
   ]
  },
  {
   "cell_type": "code",
   "execution_count": 23,
   "id": "38977124",
   "metadata": {},
   "outputs": [
    {
     "name": "stdout",
     "output_type": "stream",
     "text": [
      "['사용월', '호선명', '역ID', '지하철역', '유임승차', '유임하차', '무임승차', '무임하차']\n",
      "['Dec.22', '1호선', '157', '제기동', 238529, '228924', 257360, '275606'] 0.48\n",
      "['Dec.22', '1호선', '159', '동묘앞', 134207, '141805', 137351, '139883'] 0.49\n",
      "['Dec.22', '경원선', '1916', '소요산', 30614, '23597', 38770, '35159'] 0.44\n",
      "유임 승차 비율이 가장 낮은 역: 소요산, 전체 인원:69,384명,유임승차인원:30,614명, 유임승차비율:44.1%\n"
     ]
    },
    {
     "data": {
      "image/png": "[encoded data removed]",
      "text/plain": [
       "<Figure size 640x480 with 1 Axes>"
      ]
     },
     "metadata": {},
     "output_type": "display_data"
    }
   ],
   "source": [
    "import csv\n",
    "import matplotlib.pyplot as plt\n",
    "import platform\n",
    "\n",
    "f = open('subwayfee.csv', encoding='utf-8-sig')\n",
    "data = csv.reader(f)\n",
    "header = next(data)\n",
    "print(header)\n",
    "min_rate = 100\n",
    "rate = 0\n",
    "min_row = []\n",
    "total_count = 0\n",
    "min_total_count = 0\n",
    "\n",
    "for row in data:\n",
    "    for i in [4,6]:\n",
    "        row[i] = int(row[i])\n",
    "    total_count = row[4] + row[6]\n",
    "    # 무임승차 인원이 없고, 총 승차인원이 1만명 이상\n",
    "    if (row[6] != 0) and (total_count >= 10000): \n",
    "        rate = row[4] / total_count\n",
    "        if rate <= 0.5:\n",
    "            print(row, round(rate, 2))\n",
    "            if rate < min_rate:\n",
    "                min_rate = rate\n",
    "                min_row = row\n",
    "                min_total_count = total_count\n",
    "print('유임 승차 비율이 가장 낮은 역: {0}, 전체 인원:{1:,}명,유임승차인원:{2:,}명, 유임승차비율:{3:,}%'.\n",
    "format(min_row[3], min_total_count,min_row[4], round(min_rate*100,\t1)))\n",
    "\n",
    "f.close()\n",
    "\n",
    "if platform.system() == 'Windows':\n",
    "    plt.rc('font', family='Malgun Gothic')\n",
    "else:\n",
    "    plt.rc('font', family='AppleGothic')\n",
    "    \n",
    "plt.title(min_row[3] + \" 유,무임 승차 비율\")\n",
    "label = ['유임승차', '무임승차']\n",
    "values = [min_row[4], min_row[6]]\n",
    "plt.pie(values, labels=label, autopct='%.1f%%')\n",
    "plt.show()\n"
   ]
  },
  {
   "cell_type": "code",
   "execution_count": 24,
   "id": "e61aacc6",
   "metadata": {},
   "outputs": [
    {
     "name": "stdout",
     "output_type": "stream",
     "text": [
      "유임승차: 잠실(송파구청) 2호선 2,324,994명\n",
      "유임하차: 잠실(송파구청) 2호선 2,300,137명\n",
      "무임승차: 종로3가 1호선 309,071명\n",
      "무임하차: 종로3가 1호선 287,432명\n"
     ]
    }
   ],
   "source": [
    "import csv\n",
    "max = [0] * 4 # [0]: 최대 유임승차,[1]: 최대 유임하차, [2]: 최대 무임승차, [3]: 최대 무임하차\n",
    "max_station = [''] * 4\n",
    "label = ['유임승차', '유임하차', '무임승차', '무임하차']\n",
    "\n",
    "# with 구문:\t자동으로 파일을 close()시킴\n",
    "with open('subwayfee.csv', encoding='utf-8-sig') as f:\n",
    "    data = csv.reader(f)\n",
    "    next(data)\n",
    "    \n",
    "    for row in data:\n",
    "        for i in range(4, 8):\n",
    "            row[i] = int(row[i])\n",
    "            if row[i] > max[i-4]: # 원본데이터의 컬럼 (인덱스 -4) -> max리스트의 인덱스\n",
    "                max[i-4] = row[i]\n",
    "                max_station[i-4] = row[3] + ' ' + row[1] # '역이름 지하철노선' 추가\n",
    "for i in range(4):\n",
    "    print('{0}: {1} {2:,}명'.format(label[i], max_station[i], max[i]))"
   ]
  },
  {
   "cell_type": "code",
   "execution_count": 28,
   "id": "ab4bfd12",
   "metadata": {},
   "outputs": [
    {
     "name": "stdout",
     "output_type": "stream",
     "text": [
      "['Dec.22', '1호선', '150', '서울역', 1350791, 1316828, 196523, 187268]\n",
      "['Dec.22', '1호선', '151', '시청', 672846, 665583, 96623, 93198]\n",
      "['Dec.22', '1호선', '152', '종각', 975925, 949944, 150911, 141309]\n",
      "['Dec.22', '1호선', '153', '종로3가', 490967, 450017, 309071, 287432]\n",
      "['Dec.22', '1호선', '154', '종로5가', 476315, 470710, 247835, 238588]\n",
      "['Dec.22', '1호선', '155', '동대문', 230076, 215833, 120749, 118870]\n",
      "['Dec.22', '1호선', '156', '신설동', 288269, 277560, 114634, 110172]\n",
      "['Dec.22', '1호선', '157', '제기동', 238529, 228924, 257360, 275606]\n",
      "['Dec.22', '1호선', '158', '청량리(서울시립대입구)', 344620, 342766, 242950, 245420]\n",
      "['Dec.22', '1호선', '159', '동묘앞', 134207, 141805, 137351, 139883]\n"
     ]
    }
   ],
   "source": [
    "import csv\n",
    "import matplotlib.pyplot as plt\n",
    "import platform\n",
    "\n",
    "label = ['유임승차', '유임하차', '무임승차', '무임하차']\n",
    "c = ['#14CCC0', '#389993', '#FF1C6A', '#CC14AF'] # 파이 차트 컬러 값\n",
    "pic_count = 0\n",
    "with open('subwayfee.csv', encoding='utf-8-sig') as f:\n",
    "    data = csv.reader(f)\n",
    "    next(data)\n",
    "    \n",
    "    if(platform.system() == 'Windows'):\n",
    "        plt.rc('font', family='Malgun Gothic')\n",
    "    else:\n",
    "        plt.rc('font', family='AppleGothic')\n",
    "        \n",
    "    for row in data:\n",
    "        for i in range(4, 8):\n",
    "            row[i] = int(row[i])\n",
    "        print(row)\n",
    "        \n",
    "        plt.figure(dpi=100) # 저장할 그림파일의 dpi 설정\n",
    "        plt.title(row[3] + ' ' + row[1])\n",
    "        plt.pie(row[4:8], labels=label, colors=c, autopct = '%.1f%%')\n",
    "        plt.savefig('img/' + row[3] + ' ' + row[1] + '.png')\n",
    "        plt.close() # 파일 닫기\n",
    "    \n",
    "        pic_count += 1\n",
    "        if pic_count >= 10:\n",
    "            break"
   ]
  },
  {
   "cell_type": "code",
   "execution_count": 32,
   "id": "12f7bac5",
   "metadata": {},
   "outputs": [
    {
     "name": "stdout",
     "output_type": "stream",
     "text": [
      "총 지하철 역의 수: 613\n",
      "새벽 4시 승차인원:120,385\n"
     ]
    }
   ],
   "source": [
    "import csv\n",
    "\n",
    "result=[]\n",
    "total_number = 0 \n",
    "with open('subwaytime.csv', encoding='utf-8') as f:\n",
    "    data=csv.reader(f)\n",
    "    next(data)\n",
    "    next(data)\n",
    "    for row in data:\n",
    "        row[4:]=map(int, row[4:])\n",
    "        total_number+=row[4]\n",
    "        result.append(row[4])\n",
    "        \n",
    "print('총 지하철 역의 수:',len(result))\n",
    "print('새벽 4시 승차인원:{:,}'.format(total_number))"
   ]
  },
  {
   "cell_type": "code",
   "execution_count": 33,
   "id": "434948b8",
   "metadata": {},
   "outputs": [
    {
     "name": "stdout",
     "output_type": "stream",
     "text": [
      "새벽 4시 승차 인원수:\t120,385\n",
      "최대 승차역:\t구로,\t인원수:10,543\n"
     ]
    },
    {
     "data": {
      "image/png": "[encoded data removed]",
      "text/plain": [
       "<Figure size 640x480 with 1 Axes>"
      ]
     },
     "metadata": {},
     "output_type": "display_data"
    }
   ],
   "source": [
    "import\tcsv\n",
    "import\tmatplotlib.pyplot as\tplt\n",
    "\n",
    "with\topen('subwaytime.csv', encoding='utf-8')\tas\tf:\n",
    "    data\t=\tcsv.reader(f)\n",
    "    next(data)\t#\t2줄의 헤더 정보 건너뜀\n",
    "    next(data)\n",
    "    result\t=\t[]\n",
    "    total_number =\t0\n",
    "    max_num =\t-1\n",
    "    max_station =\t''\n",
    "    \n",
    "    for\trow\tin\tdata:\n",
    "        row[4:]\t=\tmap(int,\trow[4:])\n",
    "        total_number +=\trow[4]\n",
    "        result.append(row[4])\n",
    "        if\trow[4]\t>\tmax_num:\n",
    "            max_num =\trow[4]\n",
    "            max_station =\trow[3]\n",
    "            \n",
    "print('새벽 4시 승차 인원수:\t{0:,}'.format(total_number))\n",
    "print('최대 승차역:\t{0},\t인원수:{1:,}'.format(max_station,\tmax_num))\n",
    "result.sort()\t#\t오름 차순으로 정렬 result.sort(reverse=Frue)\n",
    "plt.figure(dpi=100)\n",
    "plt.bar(range(len(result)),\tresult)\n",
    "plt.title('새벽 4시 지하철 승차인원 현황')\n",
    "plt.show()"
   ]
  },
  {
   "cell_type": "code",
   "execution_count": 40,
   "id": "bda1816b",
   "metadata": {},
   "outputs": [
    {
     "name": "stdout",
     "output_type": "stream",
     "text": [
      "최대 승차 인원역: 신림(2호선), 638,249\n"
     ]
    },
    {
     "data": {
      "image/png": "[encoded data removed]",
      "text/plain": [
       "<Figure size 1280x960 with 1 Axes>"
      ]
     },
     "metadata": {},
     "output_type": "display_data"
    }
   ],
   "source": [
    "import csv\n",
    "import matplotlib.pyplot as plt\n",
    "with open('subwaytime.csv', encoding='utf-8') as f:\n",
    "    data = csv.reader(f)\n",
    "    next(data) # 2줄의 헤더 정보 건너뜀\n",
    "    next(data)\n",
    "    result = []\n",
    "    total_number = 0\n",
    "    max_num = -1\n",
    "    max_station = ''\n",
    "    \n",
    "    for row in data:\n",
    "        row[4:] = map(int, row[4:])\n",
    "        row_sum = sum(row[10:15:2]) # index 10, 12, 14\n",
    "        #row_sum = row[10] + row[12] + row[14]\n",
    "        result.append(row_sum)\n",
    "        if row_sum > max_num:\n",
    "            max_num = row_sum\n",
    "            max_station = row[3] + '(' + row[1] + ')'\n",
    "            \n",
    "    print('최대 승차 인원역: {0}, {1:,}'.format(max_station, max_num))\n",
    "    result.sort(reverse=True)\n",
    "    plt.figure(dpi=200)\n",
    "    #plt.bar(range(10),\tresult[0:10])\n",
    "    plt.bar(range(len(result)),\tresult)\n",
    "    plt.show()"
   ]
  },
  {
   "cell_type": "code",
   "execution_count": 44,
   "id": "de0fa545",
   "metadata": {},
   "outputs": [
    {
     "name": "stdout",
     "output_type": "stream",
     "text": [
      "4시:구로:\t10,543, 5시:신림:\t37,109, 6시:신림:\t69,495, 7시:신림:\t183,863, \n",
      "8시:신림:\t281,037, 9시:신림:\t173,349, 10시:신림:\t97,375, 11시:잠실(송파구청):\t89,148, \n",
      "12시:잠실(송파구청):\t98,968, 13시:잠실(송파구청):\t110,219, 14시:잠실(송파구청):\t124,292, 15시:잠실(송파구청):\t154,415, \n",
      "16시:잠실(송파구청):\t178,774, 17시:강남:\t252,226, 18시:삼성(무역센터):\t313,217, 19시:강남:\t203,209, \n",
      "20시:잠실(송파구청):\t197,131, 21시:홍대입구:\t194,177, 22시:홍대입구:\t194,279, 23시:홍대입구:\t99,989, \n",
      "0시:강남:\t17,083, 1시:홍대입구:\t437, 2시:광화문(세종문화회관):\t1,625, "
     ]
    },
    {
     "data": {
      "image/png": "[encoded data removed]",
      "text/plain": [
       "<Figure size 640x480 with 1 Axes>"
      ]
     },
     "metadata": {},
     "output_type": "display_data"
    }
   ],
   "source": [
    "import\tcsv\n",
    "import\tmatplotlib.pyplot as\tplt\n",
    "import\tplatform\n",
    "\n",
    "with\topen('subwaytime.csv',encoding='utf-8')\tas\tf:\n",
    "    data\t=\tcsv.reader(f)\n",
    "    next(data)\n",
    "    next(data)\n",
    "    max\t\t=[0]\t*\t23\t#\t새벽 3시는 지하철 운행 안함\n",
    "    max_station =\t['']\t*\t23\n",
    "    xtick_list =\t[]\n",
    "    \n",
    "    for\ti in\trange(4,\t27):\n",
    "        n\t=\ti %\t24\t #\t4,\t5,\t6,\t...\t23,\t0,\t1,\t2시로 표시\n",
    "        xtick_list.append(str(n))\n",
    "    for\trow\tin\tdata:\n",
    "        row[4:]\t=\tmap(int,\trow[4:])\n",
    "        for\tj\tin\trange(23):\n",
    "            a\t=\trow[j\t*\t2\t+\t4]\t #\tj=0:\tdata[j*2+4]의 값을 max[0]에 저장하기 위함\n",
    "            if\ta\t>\tmax[j]:\n",
    "                max[j]\t=\ta\n",
    "                max_station[j]\t=\txtick_list[j]\t+\t'시:'\t+\trow[3]\t#\t4시:\t구로\n",
    "    for\ti in\trange(len(max)):\n",
    "        print('{0}:\t{1:,}'.format(max_station[i], max[i]), end=', ')\n",
    "        if (i+1) % 4 == 0: # 한 줄에 4개의 데이터씩 출력\n",
    "            print()\n",
    "if(platform.system() == 'Windows'):\n",
    "    plt.rc('font', family = 'Malgun Gothic')\n",
    "else:\n",
    "    plt.rc('font', family = 'AppleGothic')\n",
    "    \n",
    "plt.figure(dpi=100)\n",
    "plt.bar(range(23),\tmax)\n",
    "plt.xticks(range(23), max_station, rotation=80)\n",
    "plt.show()"
   ]
  },
  {
   "cell_type": "code",
   "execution_count": 45,
   "id": "7ba2ad0e",
   "metadata": {},
   "outputs": [
    {
     "name": "stdout",
     "output_type": "stream",
     "text": [
      "['4', '5', '6', '7', '8', '9', '10', '11', '12', '13', '14', '15', '16', '17', '18', '19', '20', '21', '22', '23', '0', '1', '2', '3']\n"
     ]
    },
    {
     "data": {
      "image/png": "[encoded data removed]",
      "text/plain": [
       "<Figure size 640x480 with 1 Axes>"
      ]
     },
     "metadata": {},
     "output_type": "display_data"
    }
   ],
   "source": [
    "import csv\n",
    "import matplotlib.pyplot as plt\n",
    "import platform\n",
    "\n",
    "f = open('subwaytime.csv', encoding='utf-8')\n",
    "data = csv.reader(f)\n",
    "next(data)\n",
    "next(data)\n",
    "s_in = [0] * 24 # 승차 인원 저장 리스트\n",
    "s_out = [0] *24 #하차 인원 저장 리스트\n",
    "\n",
    "for\trow\tin\tdata:\n",
    "    row[4:]\t=\tmap(int,\trow[4:])\n",
    "    for\ti in\trange(24):\n",
    "        s_in[i]\t+=\trow[4+i*2]\n",
    "        s_out[i]\t+=\trow[5+i*2]\n",
    "\n",
    "if(platform.system()\t==\t'Windows'):\n",
    "    plt.rc('font',\tfamily='Malgun Gothic')\n",
    "else:\n",
    "    plt.rc('font',\tfamily='AppleGothic')\n",
    "\n",
    "xtick_list =\t[]\n",
    "for\ti in\trange(4,\t28):\n",
    "    n\t=\ti %\t24\n",
    "    xtick_list.append(str(n))\n",
    "print(xtick_list)\n",
    "\n",
    "plt.figure(dpi=100)\n",
    "plt.title('지하철 시간대별 승하차 인원 추이',\tsize=16)\n",
    "plt.grid(linestyle=':')\t\t#\t그리드 라인 표시\n",
    "plt.plot(s_in,\tlabel='승차')\n",
    "plt.plot(s_out,\tlabel='하차')\n",
    "plt.legend()\n",
    "\n",
    "plt.xticks(range(24),\tlabels=xtick_list)\n",
    "plt.xlabel('시간')\n",
    "plt.ylabel('인원 (천만명)')\n",
    "plt.show()"
   ]
  },
  {
   "cell_type": "code",
   "execution_count": 46,
   "id": "44270c7a",
   "metadata": {},
   "outputs": [
    {
     "name": "stdout",
     "output_type": "stream",
     "text": [
      "[lambda] dict 정렬: key 기준 오름차순\n",
      "[('Aimy', 9778), ('Bob', 5887), ('Kelly', 7855), ('Mary', 10999), ('Michale', 27115), ('Sams', 2111), ('Tom', 20245)]\n",
      "\n",
      "[lambda] dict정렬: value 기준, 내림차순\n",
      "[('Michale', 27115), ('Tom', 20245), ('Mary', 10999), ('Aimy', 9778), ('Kelly', 7855), ('Bob', 5887), ('Sams', 2111)]\n",
      "\n",
      "[operator] dict정렬: key 기준, 오름차순\n",
      "[('Aimy', 9778), ('Bob', 5887), ('Kelly', 7855), ('Mary', 10999), ('Michale', 27115), ('Sams', 2111), ('Tom', 20245)]\n",
      "\n",
      "[operator] dict정렬: value 기준, 내림차순\n",
      "[('Michale', 27115), ('Tom', 20245), ('Mary', 10999), ('Aimy', 9778), ('Kelly', 7855), ('Bob', 5887), ('Sams', 2111)]\n"
     ]
    }
   ],
   "source": [
    "import\toperator\n",
    "\n",
    "names = {'Mary':10999, 'Sams':2111, 'Aimy':9778, 'Tom':20245, 'Michale':27115,\t'Bob':5887,\t'Kelly':7855}\n",
    "# Key를 기준으로 정렬 (기본:\t오름차순)\n",
    "print(\"[lambda] dict 정렬: key 기준 오름차순\")\n",
    "res\t= sorted(names.items(), key=(lambda x: x[0]))\n",
    "print(res)\n",
    "print()\n",
    "\n",
    "#\tValue를 기준으로 정렬,\t내림차순: reverse=True\n",
    "print(\"[lambda] dict정렬: value 기준, 내림차순\")\n",
    "res\t= sorted(names.items(), key=(lambda x: x[1]), reverse=True)\n",
    "print(res)\n",
    "print()\n",
    "\n",
    "#\tkey를 기준으로 정렬 (오름차순)\n",
    "sorted_x = sorted(names.items(), key=operator.itemgetter(0))\n",
    "print(\"[operator] dict정렬: key 기준, 오름차순\")\n",
    "print(sorted_x)\n",
    "print()\n",
    "\n",
    "# value를 기준으로 정렬 (내림차순)\n",
    "sorted_x = sorted(names.items(), key=operator.itemgetter(1), reverse=True)\n",
    "print(\"[operator] dict정렬: value 기준, 내림차순\")\n",
    "print(sorted_x)"
   ]
  },
  {
   "cell_type": "code",
   "execution_count": 47,
   "id": "703e72c5",
   "metadata": {},
   "outputs": [
    {
     "data": {
      "text/html": [
       "<div>\n",
       "<style scoped>\n",
       "    .dataframe tbody tr th:only-of-type {\n",
       "        vertical-align: middle;\n",
       "    }\n",
       "\n",
       "    .dataframe tbody tr th {\n",
       "        vertical-align: top;\n",
       "    }\n",
       "\n",
       "    .dataframe thead tr th {\n",
       "        text-align: left;\n",
       "    }\n",
       "</style>\n",
       "<table border=\"1\" class=\"dataframe\">\n",
       "  <thead>\n",
       "    <tr>\n",
       "      <th></th>\n",
       "      <th>사용월</th>\n",
       "      <th>호선명</th>\n",
       "      <th>역ID</th>\n",
       "      <th>지하철역</th>\n",
       "      <th colspan=\"2\" halign=\"left\">04:00:00~04:59:59</th>\n",
       "      <th colspan=\"2\" halign=\"left\">05:00:00~05:59:59</th>\n",
       "      <th colspan=\"2\" halign=\"left\">06:00:00~06:59:59</th>\n",
       "      <th>...</th>\n",
       "      <th>23:00:00~23:59:59</th>\n",
       "      <th colspan=\"2\" halign=\"left\">00:00:00~00:59:59</th>\n",
       "      <th colspan=\"2\" halign=\"left\">01:00:00~01:59:59</th>\n",
       "      <th colspan=\"2\" halign=\"left\">02:00:00~02:59:59</th>\n",
       "      <th colspan=\"2\" halign=\"left\">03:00:00~03:59:59</th>\n",
       "      <th>작업일시</th>\n",
       "    </tr>\n",
       "    <tr>\n",
       "      <th></th>\n",
       "      <th>Unnamed: 0_level_1</th>\n",
       "      <th>Unnamed: 1_level_1</th>\n",
       "      <th>Unnamed: 2_level_1</th>\n",
       "      <th>Unnamed: 3_level_1</th>\n",
       "      <th>승차</th>\n",
       "      <th>하차</th>\n",
       "      <th>승차</th>\n",
       "      <th>하차</th>\n",
       "      <th>승차</th>\n",
       "      <th>하차</th>\n",
       "      <th>...</th>\n",
       "      <th>하차</th>\n",
       "      <th>승차</th>\n",
       "      <th>하차</th>\n",
       "      <th>승차</th>\n",
       "      <th>하차</th>\n",
       "      <th>승차</th>\n",
       "      <th>하차</th>\n",
       "      <th>승차</th>\n",
       "      <th>하차</th>\n",
       "      <th>Unnamed: 52_level_1</th>\n",
       "    </tr>\n",
       "  </thead>\n",
       "  <tbody>\n",
       "    <tr>\n",
       "      <th>0</th>\n",
       "      <td>2022-12</td>\n",
       "      <td>1호선</td>\n",
       "      <td>150</td>\n",
       "      <td>서울역</td>\n",
       "      <td>604</td>\n",
       "      <td>24</td>\n",
       "      <td>8,028</td>\n",
       "      <td>7,918</td>\n",
       "      <td>12,137</td>\n",
       "      <td>44,148</td>\n",
       "      <td>...</td>\n",
       "      <td>15,356</td>\n",
       "      <td>2,776</td>\n",
       "      <td>3,500</td>\n",
       "      <td>43</td>\n",
       "      <td>707</td>\n",
       "      <td>1</td>\n",
       "      <td>46</td>\n",
       "      <td>0</td>\n",
       "      <td>0</td>\n",
       "      <td>2023-01-03 10:09:22</td>\n",
       "    </tr>\n",
       "    <tr>\n",
       "      <th>1</th>\n",
       "      <td>2022-12</td>\n",
       "      <td>1호선</td>\n",
       "      <td>151</td>\n",
       "      <td>시청</td>\n",
       "      <td>127</td>\n",
       "      <td>1</td>\n",
       "      <td>2,197</td>\n",
       "      <td>4,277</td>\n",
       "      <td>3,713</td>\n",
       "      <td>21,598</td>\n",
       "      <td>...</td>\n",
       "      <td>4,727</td>\n",
       "      <td>1,934</td>\n",
       "      <td>1,126</td>\n",
       "      <td>102</td>\n",
       "      <td>110</td>\n",
       "      <td>2</td>\n",
       "      <td>7</td>\n",
       "      <td>0</td>\n",
       "      <td>0</td>\n",
       "      <td>2023-01-03 10:09:22</td>\n",
       "    </tr>\n",
       "    <tr>\n",
       "      <th>2</th>\n",
       "      <td>2022-12</td>\n",
       "      <td>1호선</td>\n",
       "      <td>152</td>\n",
       "      <td>종각</td>\n",
       "      <td>134</td>\n",
       "      <td>4</td>\n",
       "      <td>3,869</td>\n",
       "      <td>4,625</td>\n",
       "      <td>4,670</td>\n",
       "      <td>21,956</td>\n",
       "      <td>...</td>\n",
       "      <td>4,615</td>\n",
       "      <td>1,575</td>\n",
       "      <td>1,058</td>\n",
       "      <td>434</td>\n",
       "      <td>81</td>\n",
       "      <td>0</td>\n",
       "      <td>2</td>\n",
       "      <td>0</td>\n",
       "      <td>0</td>\n",
       "      <td>2023-01-03 10:09:22</td>\n",
       "    </tr>\n",
       "    <tr>\n",
       "      <th>3</th>\n",
       "      <td>2022-12</td>\n",
       "      <td>1호선</td>\n",
       "      <td>153</td>\n",
       "      <td>종로3가</td>\n",
       "      <td>116</td>\n",
       "      <td>8</td>\n",
       "      <td>3,708</td>\n",
       "      <td>2,898</td>\n",
       "      <td>3,701</td>\n",
       "      <td>12,979</td>\n",
       "      <td>...</td>\n",
       "      <td>5,931</td>\n",
       "      <td>4,646</td>\n",
       "      <td>2,064</td>\n",
       "      <td>299</td>\n",
       "      <td>188</td>\n",
       "      <td>4</td>\n",
       "      <td>14</td>\n",
       "      <td>0</td>\n",
       "      <td>0</td>\n",
       "      <td>2023-01-03 10:09:22</td>\n",
       "    </tr>\n",
       "    <tr>\n",
       "      <th>4</th>\n",
       "      <td>2022-12</td>\n",
       "      <td>1호선</td>\n",
       "      <td>154</td>\n",
       "      <td>종로5가</td>\n",
       "      <td>28</td>\n",
       "      <td>1</td>\n",
       "      <td>1,617</td>\n",
       "      <td>3,511</td>\n",
       "      <td>2,609</td>\n",
       "      <td>13,764</td>\n",
       "      <td>...</td>\n",
       "      <td>3,217</td>\n",
       "      <td>461</td>\n",
       "      <td>939</td>\n",
       "      <td>14</td>\n",
       "      <td>39</td>\n",
       "      <td>0</td>\n",
       "      <td>1</td>\n",
       "      <td>0</td>\n",
       "      <td>0</td>\n",
       "      <td>2023-01-03 10:09:22</td>\n",
       "    </tr>\n",
       "    <tr>\n",
       "      <th>...</th>\n",
       "      <td>...</td>\n",
       "      <td>...</td>\n",
       "      <td>...</td>\n",
       "      <td>...</td>\n",
       "      <td>...</td>\n",
       "      <td>...</td>\n",
       "      <td>...</td>\n",
       "      <td>...</td>\n",
       "      <td>...</td>\n",
       "      <td>...</td>\n",
       "      <td>...</td>\n",
       "      <td>...</td>\n",
       "      <td>...</td>\n",
       "      <td>...</td>\n",
       "      <td>...</td>\n",
       "      <td>...</td>\n",
       "      <td>...</td>\n",
       "      <td>...</td>\n",
       "      <td>...</td>\n",
       "      <td>...</td>\n",
       "      <td>...</td>\n",
       "    </tr>\n",
       "    <tr>\n",
       "      <th>608</th>\n",
       "      <td>2022-12</td>\n",
       "      <td>신림선</td>\n",
       "      <td>4407</td>\n",
       "      <td>당곡</td>\n",
       "      <td>0</td>\n",
       "      <td>0</td>\n",
       "      <td>1,508</td>\n",
       "      <td>136</td>\n",
       "      <td>3,786</td>\n",
       "      <td>999</td>\n",
       "      <td>...</td>\n",
       "      <td>3,986</td>\n",
       "      <td>243</td>\n",
       "      <td>1,388</td>\n",
       "      <td>5</td>\n",
       "      <td>18</td>\n",
       "      <td>0</td>\n",
       "      <td>0</td>\n",
       "      <td>0</td>\n",
       "      <td>0</td>\n",
       "      <td>2023-01-03 10:09:22</td>\n",
       "    </tr>\n",
       "    <tr>\n",
       "      <th>609</th>\n",
       "      <td>2022-12</td>\n",
       "      <td>신림선</td>\n",
       "      <td>4408</td>\n",
       "      <td>신림</td>\n",
       "      <td>0</td>\n",
       "      <td>0</td>\n",
       "      <td>748</td>\n",
       "      <td>126</td>\n",
       "      <td>1,234</td>\n",
       "      <td>592</td>\n",
       "      <td>...</td>\n",
       "      <td>2,053</td>\n",
       "      <td>332</td>\n",
       "      <td>758</td>\n",
       "      <td>2</td>\n",
       "      <td>13</td>\n",
       "      <td>0</td>\n",
       "      <td>0</td>\n",
       "      <td>0</td>\n",
       "      <td>0</td>\n",
       "      <td>2023-01-03 10:09:22</td>\n",
       "    </tr>\n",
       "    <tr>\n",
       "      <th>610</th>\n",
       "      <td>2022-12</td>\n",
       "      <td>신림선</td>\n",
       "      <td>4409</td>\n",
       "      <td>서원</td>\n",
       "      <td>4</td>\n",
       "      <td>0</td>\n",
       "      <td>1,975</td>\n",
       "      <td>100</td>\n",
       "      <td>3,656</td>\n",
       "      <td>781</td>\n",
       "      <td>...</td>\n",
       "      <td>4,480</td>\n",
       "      <td>101</td>\n",
       "      <td>1,762</td>\n",
       "      <td>0</td>\n",
       "      <td>36</td>\n",
       "      <td>0</td>\n",
       "      <td>0</td>\n",
       "      <td>0</td>\n",
       "      <td>0</td>\n",
       "      <td>2023-01-03 10:09:22</td>\n",
       "    </tr>\n",
       "    <tr>\n",
       "      <th>611</th>\n",
       "      <td>2022-12</td>\n",
       "      <td>신림선</td>\n",
       "      <td>4410</td>\n",
       "      <td>서울대벤처타운</td>\n",
       "      <td>3</td>\n",
       "      <td>0</td>\n",
       "      <td>4,484</td>\n",
       "      <td>155</td>\n",
       "      <td>7,312</td>\n",
       "      <td>2,354</td>\n",
       "      <td>...</td>\n",
       "      <td>10,310</td>\n",
       "      <td>380</td>\n",
       "      <td>5,045</td>\n",
       "      <td>8</td>\n",
       "      <td>194</td>\n",
       "      <td>0</td>\n",
       "      <td>0</td>\n",
       "      <td>0</td>\n",
       "      <td>0</td>\n",
       "      <td>2023-01-03 10:09:22</td>\n",
       "    </tr>\n",
       "    <tr>\n",
       "      <th>612</th>\n",
       "      <td>2022-12</td>\n",
       "      <td>신림선</td>\n",
       "      <td>4411</td>\n",
       "      <td>관악산(서울대)</td>\n",
       "      <td>0</td>\n",
       "      <td>1</td>\n",
       "      <td>579</td>\n",
       "      <td>339</td>\n",
       "      <td>1,388</td>\n",
       "      <td>1,029</td>\n",
       "      <td>...</td>\n",
       "      <td>1,410</td>\n",
       "      <td>137</td>\n",
       "      <td>753</td>\n",
       "      <td>2</td>\n",
       "      <td>65</td>\n",
       "      <td>0</td>\n",
       "      <td>0</td>\n",
       "      <td>0</td>\n",
       "      <td>0</td>\n",
       "      <td>2023-01-03 10:09:22</td>\n",
       "    </tr>\n",
       "  </tbody>\n",
       "</table>\n",
       "<p>613 rows × 53 columns</p>\n",
       "</div>"
      ],
      "text/plain": [
       "                   사용월                호선명                역ID  \\\n",
       "    Unnamed: 0_level_1 Unnamed: 1_level_1 Unnamed: 2_level_1   \n",
       "0              2022-12                1호선                150   \n",
       "1              2022-12                1호선                151   \n",
       "2              2022-12                1호선                152   \n",
       "3              2022-12                1호선                153   \n",
       "4              2022-12                1호선                154   \n",
       "..                 ...                ...                ...   \n",
       "608            2022-12                신림선               4407   \n",
       "609            2022-12                신림선               4408   \n",
       "610            2022-12                신림선               4409   \n",
       "611            2022-12                신림선               4410   \n",
       "612            2022-12                신림선               4411   \n",
       "\n",
       "                  지하철역 04:00:00~04:59:59     05:00:00~05:59:59         \\\n",
       "    Unnamed: 3_level_1                승차  하차                승차     하차   \n",
       "0                  서울역               604  24             8,028  7,918   \n",
       "1                   시청               127   1             2,197  4,277   \n",
       "2                   종각               134   4             3,869  4,625   \n",
       "3                 종로3가               116   8             3,708  2,898   \n",
       "4                 종로5가                28   1             1,617  3,511   \n",
       "..                 ...               ...  ..               ...    ...   \n",
       "608                 당곡                 0   0             1,508    136   \n",
       "609                 신림                 0   0               748    126   \n",
       "610                 서원                 4   0             1,975    100   \n",
       "611            서울대벤처타운                 3   0             4,484    155   \n",
       "612           관악산(서울대)                 0   1               579    339   \n",
       "\n",
       "    06:00:00~06:59:59          ... 23:00:00~23:59:59 00:00:00~00:59:59         \\\n",
       "                   승차      하차  ...                하차                승차     하차   \n",
       "0              12,137  44,148  ...            15,356             2,776  3,500   \n",
       "1               3,713  21,598  ...             4,727             1,934  1,126   \n",
       "2               4,670  21,956  ...             4,615             1,575  1,058   \n",
       "3               3,701  12,979  ...             5,931             4,646  2,064   \n",
       "4               2,609  13,764  ...             3,217               461    939   \n",
       "..                ...     ...  ...               ...               ...    ...   \n",
       "608             3,786     999  ...             3,986               243  1,388   \n",
       "609             1,234     592  ...             2,053               332    758   \n",
       "610             3,656     781  ...             4,480               101  1,762   \n",
       "611             7,312   2,354  ...            10,310               380  5,045   \n",
       "612             1,388   1,029  ...             1,410               137    753   \n",
       "\n",
       "    01:00:00~01:59:59      02:00:00~02:59:59     03:00:00~03:59:59     \\\n",
       "                   승차   하차                승차  하차                승차 하차   \n",
       "0                  43  707                 1  46                 0  0   \n",
       "1                 102  110                 2   7                 0  0   \n",
       "2                 434   81                 0   2                 0  0   \n",
       "3                 299  188                 4  14                 0  0   \n",
       "4                  14   39                 0   1                 0  0   \n",
       "..                ...  ...               ...  ..               ... ..   \n",
       "608                 5   18                 0   0                 0  0   \n",
       "609                 2   13                 0   0                 0  0   \n",
       "610                 0   36                 0   0                 0  0   \n",
       "611                 8  194                 0   0                 0  0   \n",
       "612                 2   65                 0   0                 0  0   \n",
       "\n",
       "                    작업일시  \n",
       "     Unnamed: 52_level_1  \n",
       "0    2023-01-03 10:09:22  \n",
       "1    2023-01-03 10:09:22  \n",
       "2    2023-01-03 10:09:22  \n",
       "3    2023-01-03 10:09:22  \n",
       "4    2023-01-03 10:09:22  \n",
       "..                   ...  \n",
       "608  2023-01-03 10:09:22  \n",
       "609  2023-01-03 10:09:22  \n",
       "610  2023-01-03 10:09:22  \n",
       "611  2023-01-03 10:09:22  \n",
       "612  2023-01-03 10:09:22  \n",
       "\n",
       "[613 rows x 53 columns]"
      ]
     },
     "execution_count": 47,
     "metadata": {},
     "output_type": "execute_result"
    }
   ],
   "source": [
    "import pandas as pd\n",
    "#지하철 시간대별 이용현황\n",
    "df = pd.read_excel('subway.xls', sheet_name='지하철 시간대별 이용현황', header=[0,\t1])\n",
    "df"
   ]
  },
  {
   "cell_type": "code",
   "execution_count": 49,
   "id": "60a8b401",
   "metadata": {},
   "outputs": [
    {
     "data": {
      "text/plain": [
       "MultiIndex([(              '사용월',  'Unnamed: 0_level_1'),\n",
       "            (              '호선명',  'Unnamed: 1_level_1'),\n",
       "            (              '역ID',  'Unnamed: 2_level_1'),\n",
       "            (             '지하철역',  'Unnamed: 3_level_1'),\n",
       "            ('04:00:00~04:59:59',                  '승차'),\n",
       "            ('04:00:00~04:59:59',                  '하차'),\n",
       "            ('05:00:00~05:59:59',                  '승차'),\n",
       "            ('05:00:00~05:59:59',                  '하차'),\n",
       "            ('06:00:00~06:59:59',                  '승차'),\n",
       "            ('06:00:00~06:59:59',                  '하차'),\n",
       "            ('07:00:00~07:59:59',                  '승차'),\n",
       "            ('07:00:00~07:59:59',                  '하차'),\n",
       "            ('08:00:00~08:59:59',                  '승차'),\n",
       "            ('08:00:00~08:59:59',                  '하차'),\n",
       "            ('09:00:00~09:59:59',                  '승차'),\n",
       "            ('09:00:00~09:59:59',                  '하차'),\n",
       "            ('10:00:00~10:59:59',                  '승차'),\n",
       "            ('10:00:00~10:59:59',                  '하차'),\n",
       "            ('11:00:00~11:59:59',                  '승차'),\n",
       "            ('11:00:00~11:59:59',                  '하차'),\n",
       "            ('12:00:00~12:59:59',                  '승차'),\n",
       "            ('12:00:00~12:59:59',                  '하차'),\n",
       "            ('13:00:00~13:59:59',                  '승차'),\n",
       "            ('13:00:00~13:59:59',                  '하차'),\n",
       "            ('14:00:00~14:59:59',                  '승차'),\n",
       "            ('14:00:00~14:59:59',                  '하차'),\n",
       "            ('15:00:00~15:59:59',                  '승차'),\n",
       "            ('15:00:00~15:59:59',                  '하차'),\n",
       "            ('16:00:00~16:59:59',                  '승차'),\n",
       "            ('16:00:00~16:59:59',                  '하차'),\n",
       "            ('17:00:00~17:59:59',                  '승차'),\n",
       "            ('17:00:00~17:59:59',                  '하차'),\n",
       "            ('18:00:00~18:59:59',                  '승차'),\n",
       "            ('18:00:00~18:59:59',                  '하차'),\n",
       "            ('19:00:00~19:59:59',                  '승차'),\n",
       "            ('19:00:00~19:59:59',                  '하차'),\n",
       "            ('20:00:00~20:59:59',                  '승차'),\n",
       "            ('20:00:00~20:59:59',                  '하차'),\n",
       "            ('21:00:00~21:59:59',                  '승차'),\n",
       "            ('21:00:00~21:59:59',                  '하차'),\n",
       "            ('22:00:00~22:59:59',                  '승차'),\n",
       "            ('22:00:00~22:59:59',                  '하차'),\n",
       "            ('23:00:00~23:59:59',                  '승차'),\n",
       "            ('23:00:00~23:59:59',                  '하차'),\n",
       "            ('00:00:00~00:59:59',                  '승차'),\n",
       "            ('00:00:00~00:59:59',                  '하차'),\n",
       "            ('01:00:00~01:59:59',                  '승차'),\n",
       "            ('01:00:00~01:59:59',                  '하차'),\n",
       "            ('02:00:00~02:59:59',                  '승차'),\n",
       "            ('02:00:00~02:59:59',                  '하차'),\n",
       "            ('03:00:00~03:59:59',                  '승차'),\n",
       "            ('03:00:00~03:59:59',                  '하차'),\n",
       "            (             '작업일시', 'Unnamed: 52_level_1')],\n",
       "           )"
      ]
     },
     "execution_count": 49,
     "metadata": {},
     "output_type": "execute_result"
    }
   ],
   "source": [
    "df.columns"
   ]
  },
  {
   "cell_type": "code",
   "execution_count": 51,
   "id": "567c27b6",
   "metadata": {},
   "outputs": [
    {
     "data": {
      "text/plain": [
       "0      1호선\n",
       "1      1호선\n",
       "2      1호선\n",
       "3      1호선\n",
       "4      1호선\n",
       "      ... \n",
       "608    신림선\n",
       "609    신림선\n",
       "610    신림선\n",
       "611    신림선\n",
       "612    신림선\n",
       "Name: (호선명, Unnamed: 1_level_1), Length: 613, dtype: object"
      ]
     },
     "execution_count": 51,
     "metadata": {},
     "output_type": "execute_result"
    }
   ],
   "source": [
    "df[('호선명','Unnamed: 1_level_1')]"
   ]
  },
  {
   "cell_type": "code",
   "execution_count": 52,
   "id": "df4d8063",
   "metadata": {},
   "outputs": [
    {
     "data": {
      "text/plain": [
       "0           서울역\n",
       "1            시청\n",
       "2            종각\n",
       "3          종로3가\n",
       "4          종로5가\n",
       "         ...   \n",
       "608          당곡\n",
       "609          신림\n",
       "610          서원\n",
       "611     서울대벤처타운\n",
       "612    관악산(서울대)\n",
       "Name: (지하철역, Unnamed: 3_level_1), Length: 613, dtype: object"
      ]
     },
     "execution_count": 52,
     "metadata": {},
     "output_type": "execute_result"
    }
   ],
   "source": [
    "df[('지하철역','Unnamed: 3_level_1')]"
   ]
  },
  {
   "cell_type": "code",
   "execution_count": 54,
   "id": "595f2976",
   "metadata": {},
   "outputs": [
    {
     "data": {
      "text/html": [
       "<div>\n",
       "<style scoped>\n",
       "    .dataframe tbody tr th:only-of-type {\n",
       "        vertical-align: middle;\n",
       "    }\n",
       "\n",
       "    .dataframe tbody tr th {\n",
       "        vertical-align: top;\n",
       "    }\n",
       "\n",
       "    .dataframe thead tr th {\n",
       "        text-align: left;\n",
       "    }\n",
       "</style>\n",
       "<table border=\"1\" class=\"dataframe\">\n",
       "  <thead>\n",
       "    <tr>\n",
       "      <th></th>\n",
       "      <th>호선명</th>\n",
       "      <th>지하철역</th>\n",
       "      <th>07:00:00~07:59:59</th>\n",
       "      <th>08:00:00~08:59:59</th>\n",
       "      <th>09:00:00~09:59:59</th>\n",
       "    </tr>\n",
       "    <tr>\n",
       "      <th></th>\n",
       "      <th>Unnamed: 1_level_1</th>\n",
       "      <th>Unnamed: 3_level_1</th>\n",
       "      <th>승차</th>\n",
       "      <th>승차</th>\n",
       "      <th>승차</th>\n",
       "    </tr>\n",
       "  </thead>\n",
       "  <tbody>\n",
       "    <tr>\n",
       "      <th>0</th>\n",
       "      <td>1호선</td>\n",
       "      <td>서울역</td>\n",
       "      <td>38,148</td>\n",
       "      <td>66,885</td>\n",
       "      <td>57,091</td>\n",
       "    </tr>\n",
       "    <tr>\n",
       "      <th>1</th>\n",
       "      <td>1호선</td>\n",
       "      <td>시청</td>\n",
       "      <td>7,195</td>\n",
       "      <td>9,565</td>\n",
       "      <td>11,529</td>\n",
       "    </tr>\n",
       "    <tr>\n",
       "      <th>2</th>\n",
       "      <td>1호선</td>\n",
       "      <td>종각</td>\n",
       "      <td>6,369</td>\n",
       "      <td>10,271</td>\n",
       "      <td>12,959</td>\n",
       "    </tr>\n",
       "    <tr>\n",
       "      <th>3</th>\n",
       "      <td>1호선</td>\n",
       "      <td>종로3가</td>\n",
       "      <td>5,176</td>\n",
       "      <td>8,742</td>\n",
       "      <td>13,883</td>\n",
       "    </tr>\n",
       "    <tr>\n",
       "      <th>4</th>\n",
       "      <td>1호선</td>\n",
       "      <td>종로5가</td>\n",
       "      <td>4,987</td>\n",
       "      <td>8,518</td>\n",
       "      <td>12,247</td>\n",
       "    </tr>\n",
       "  </tbody>\n",
       "</table>\n",
       "</div>"
      ],
      "text/plain": [
       "                 호선명               지하철역 07:00:00~07:59:59 08:00:00~08:59:59  \\\n",
       "  Unnamed: 1_level_1 Unnamed: 3_level_1                승차                승차   \n",
       "0                1호선                서울역            38,148            66,885   \n",
       "1                1호선                 시청             7,195             9,565   \n",
       "2                1호선                 종각             6,369            10,271   \n",
       "3                1호선               종로3가             5,176             8,742   \n",
       "4                1호선               종로5가             4,987             8,518   \n",
       "\n",
       "  09:00:00~09:59:59  \n",
       "                 승차  \n",
       "0            57,091  \n",
       "1            11,529  \n",
       "2            12,959  \n",
       "3            13,883  \n",
       "4            12,247  "
      ]
     },
     "execution_count": 54,
     "metadata": {},
     "output_type": "execute_result"
    }
   ],
   "source": [
    "commute_time_df=df.iloc[:,[1,3,10,12,14]]\n",
    "commute_time_df.head()"
   ]
  },
  {
   "cell_type": "code",
   "execution_count": 56,
   "id": "9cd3a605",
   "metadata": {},
   "outputs": [
    {
     "data": {
      "text/plain": [
       "호선명                Unnamed: 1_level_1    object\n",
       "지하철역               Unnamed: 3_level_1    object\n",
       "07:00:00~07:59:59  승차                    object\n",
       "08:00:00~08:59:59  승차                    object\n",
       "09:00:00~09:59:59  승차                    object\n",
       "dtype: object"
      ]
     },
     "execution_count": 56,
     "metadata": {},
     "output_type": "execute_result"
    }
   ],
   "source": [
    "commute_time_df.dtypes"
   ]
  },
  {
   "cell_type": "code",
   "execution_count": 58,
   "id": "3ae8727f",
   "metadata": {},
   "outputs": [
    {
     "name": "stderr",
     "output_type": "stream",
     "text": [
      "C:\\Users\\y2kjd\\AppData\\Local\\Temp\\ipykernel_35400\\1244618527.py:1: SettingWithCopyWarning: \n",
      "A value is trying to be set on a copy of a slice from a DataFrame.\n",
      "Try using .loc[row_indexer,col_indexer] = value instead\n",
      "\n",
      "See the caveats in the documentation: https://pandas.pydata.org/pandas-docs/stable/user_guide/indexing.html#returning-a-view-versus-a-copy\n",
      "  commute_time_df[('07:00:00~07:59:59', '승차')] = commute_time_df[('07:00:00~07:59:59', '승차')].apply(lambda x : x.replace(',',''))\n",
      "C:\\Users\\y2kjd\\AppData\\Local\\Temp\\ipykernel_35400\\1244618527.py:3: SettingWithCopyWarning: \n",
      "A value is trying to be set on a copy of a slice from a DataFrame.\n",
      "Try using .loc[row_indexer,col_indexer] = value instead\n",
      "\n",
      "See the caveats in the documentation: https://pandas.pydata.org/pandas-docs/stable/user_guide/indexing.html#returning-a-view-versus-a-copy\n",
      "  commute_time_df[('08:00:00~08:59:59', '승차')] = commute_time_df[('08:00:00~08:59:59', '승차')].apply(lambda x : x.replace(',',''))\n",
      "C:\\Users\\y2kjd\\AppData\\Local\\Temp\\ipykernel_35400\\1244618527.py:5: SettingWithCopyWarning: \n",
      "A value is trying to be set on a copy of a slice from a DataFrame.\n",
      "Try using .loc[row_indexer,col_indexer] = value instead\n",
      "\n",
      "See the caveats in the documentation: https://pandas.pydata.org/pandas-docs/stable/user_guide/indexing.html#returning-a-view-versus-a-copy\n",
      "  commute_time_df[('09:00:00~09:59:59', '승차')] = commute_time_df[('09:00:00~09:59:59', '승차')].apply(lambda x : x.replace(',',''))\n"
     ]
    },
    {
     "data": {
      "text/html": [
       "<div>\n",
       "<style scoped>\n",
       "    .dataframe tbody tr th:only-of-type {\n",
       "        vertical-align: middle;\n",
       "    }\n",
       "\n",
       "    .dataframe tbody tr th {\n",
       "        vertical-align: top;\n",
       "    }\n",
       "\n",
       "    .dataframe thead tr th {\n",
       "        text-align: left;\n",
       "    }\n",
       "</style>\n",
       "<table border=\"1\" class=\"dataframe\">\n",
       "  <thead>\n",
       "    <tr>\n",
       "      <th></th>\n",
       "      <th>호선명</th>\n",
       "      <th>지하철역</th>\n",
       "      <th>07:00:00~07:59:59</th>\n",
       "      <th>08:00:00~08:59:59</th>\n",
       "      <th>09:00:00~09:59:59</th>\n",
       "    </tr>\n",
       "    <tr>\n",
       "      <th></th>\n",
       "      <th>Unnamed: 1_level_1</th>\n",
       "      <th>Unnamed: 3_level_1</th>\n",
       "      <th>승차</th>\n",
       "      <th>승차</th>\n",
       "      <th>승차</th>\n",
       "    </tr>\n",
       "  </thead>\n",
       "  <tbody>\n",
       "    <tr>\n",
       "      <th>0</th>\n",
       "      <td>1호선</td>\n",
       "      <td>서울역</td>\n",
       "      <td>38148</td>\n",
       "      <td>66885</td>\n",
       "      <td>57091</td>\n",
       "    </tr>\n",
       "    <tr>\n",
       "      <th>1</th>\n",
       "      <td>1호선</td>\n",
       "      <td>시청</td>\n",
       "      <td>7195</td>\n",
       "      <td>9565</td>\n",
       "      <td>11529</td>\n",
       "    </tr>\n",
       "    <tr>\n",
       "      <th>2</th>\n",
       "      <td>1호선</td>\n",
       "      <td>종각</td>\n",
       "      <td>6369</td>\n",
       "      <td>10271</td>\n",
       "      <td>12959</td>\n",
       "    </tr>\n",
       "    <tr>\n",
       "      <th>3</th>\n",
       "      <td>1호선</td>\n",
       "      <td>종로3가</td>\n",
       "      <td>5176</td>\n",
       "      <td>8742</td>\n",
       "      <td>13883</td>\n",
       "    </tr>\n",
       "    <tr>\n",
       "      <th>4</th>\n",
       "      <td>1호선</td>\n",
       "      <td>종로5가</td>\n",
       "      <td>4987</td>\n",
       "      <td>8518</td>\n",
       "      <td>12247</td>\n",
       "    </tr>\n",
       "    <tr>\n",
       "      <th>...</th>\n",
       "      <td>...</td>\n",
       "      <td>...</td>\n",
       "      <td>...</td>\n",
       "      <td>...</td>\n",
       "      <td>...</td>\n",
       "    </tr>\n",
       "    <tr>\n",
       "      <th>608</th>\n",
       "      <td>신림선</td>\n",
       "      <td>당곡</td>\n",
       "      <td>11100</td>\n",
       "      <td>16559</td>\n",
       "      <td>10619</td>\n",
       "    </tr>\n",
       "    <tr>\n",
       "      <th>609</th>\n",
       "      <td>신림선</td>\n",
       "      <td>신림</td>\n",
       "      <td>3423</td>\n",
       "      <td>6982</td>\n",
       "      <td>3568</td>\n",
       "    </tr>\n",
       "    <tr>\n",
       "      <th>610</th>\n",
       "      <td>신림선</td>\n",
       "      <td>서원</td>\n",
       "      <td>11960</td>\n",
       "      <td>19340</td>\n",
       "      <td>10960</td>\n",
       "    </tr>\n",
       "    <tr>\n",
       "      <th>611</th>\n",
       "      <td>신림선</td>\n",
       "      <td>서울대벤처타운</td>\n",
       "      <td>23275</td>\n",
       "      <td>35056</td>\n",
       "      <td>20770</td>\n",
       "    </tr>\n",
       "    <tr>\n",
       "      <th>612</th>\n",
       "      <td>신림선</td>\n",
       "      <td>관악산(서울대)</td>\n",
       "      <td>4494</td>\n",
       "      <td>5205</td>\n",
       "      <td>3296</td>\n",
       "    </tr>\n",
       "  </tbody>\n",
       "</table>\n",
       "<p>613 rows × 5 columns</p>\n",
       "</div>"
      ],
      "text/plain": [
       "                   호선명               지하철역 07:00:00~07:59:59 08:00:00~08:59:59  \\\n",
       "    Unnamed: 1_level_1 Unnamed: 3_level_1                승차                승차   \n",
       "0                  1호선                서울역             38148             66885   \n",
       "1                  1호선                 시청              7195              9565   \n",
       "2                  1호선                 종각              6369             10271   \n",
       "3                  1호선               종로3가              5176              8742   \n",
       "4                  1호선               종로5가              4987              8518   \n",
       "..                 ...                ...               ...               ...   \n",
       "608                신림선                 당곡             11100             16559   \n",
       "609                신림선                 신림              3423              6982   \n",
       "610                신림선                 서원             11960             19340   \n",
       "611                신림선            서울대벤처타운             23275             35056   \n",
       "612                신림선           관악산(서울대)              4494              5205   \n",
       "\n",
       "    09:00:00~09:59:59  \n",
       "                   승차  \n",
       "0               57091  \n",
       "1               11529  \n",
       "2               12959  \n",
       "3               13883  \n",
       "4               12247  \n",
       "..                ...  \n",
       "608             10619  \n",
       "609              3568  \n",
       "610             10960  \n",
       "611             20770  \n",
       "612              3296  \n",
       "\n",
       "[613 rows x 5 columns]"
      ]
     },
     "execution_count": 58,
     "metadata": {},
     "output_type": "execute_result"
    }
   ],
   "source": [
    "commute_time_df[('07:00:00~07:59:59', '승차')] = commute_time_df[('07:00:00~07:59:59', '승차')].apply(lambda x : x.replace(',',''))\n",
    "\n",
    "commute_time_df[('08:00:00~08:59:59', '승차')] = commute_time_df[('08:00:00~08:59:59', '승차')].apply(lambda x : x.replace(',',''))\n",
    "\n",
    "commute_time_df[('09:00:00~09:59:59', '승차')] = commute_time_df[('09:00:00~09:59:59', '승차')].apply(lambda x : x.replace(',',''))\n",
    "commute_time_df"
   ]
  },
  {
   "cell_type": "code",
   "execution_count": 59,
   "id": "6d197e53",
   "metadata": {},
   "outputs": [
    {
     "data": {
      "text/plain": [
       "호선명                Unnamed: 1_level_1    object\n",
       "지하철역               Unnamed: 3_level_1    object\n",
       "07:00:00~07:59:59  승차                     int64\n",
       "08:00:00~08:59:59  승차                     int64\n",
       "09:00:00~09:59:59  승차                     int64\n",
       "dtype: object"
      ]
     },
     "execution_count": 59,
     "metadata": {},
     "output_type": "execute_result"
    }
   ],
   "source": [
    "commute_time_df = commute_time_df.astype({('07:00:00~07:59:59', '승차'):'int64'})\n",
    "commute_time_df = commute_time_df.astype({('08:00:00~08:59:59', '승차'):'int64'})\n",
    "commute_time_df = commute_time_df.astype({('09:00:00~09:59:59', '승차'):'int64'})\n",
    "commute_time_df.dtypes"
   ]
  },
  {
   "cell_type": "code",
   "execution_count": 60,
   "id": "2290f657",
   "metadata": {},
   "outputs": [
    {
     "data": {
      "text/plain": [
       "0      162124\n",
       "1       28289\n",
       "2       29599\n",
       "3       27801\n",
       "4       25752\n",
       "        ...  \n",
       "608     38278\n",
       "609     13973\n",
       "610     42260\n",
       "611     79101\n",
       "612     12995\n",
       "Length: 613, dtype: int64"
      ]
     },
     "execution_count": 60,
     "metadata": {},
     "output_type": "execute_result"
    }
   ],
   "source": [
    "row_sum_df = commute_time_df.sum(axis=1, numeric_only=True)\n",
    "passenger_number_list = row_sum_df.to_list()\n",
    "row_sum_df"
   ]
  },
  {
   "cell_type": "code",
   "execution_count": 61,
   "id": "ad588df6",
   "metadata": {},
   "outputs": [
    {
     "data": {
      "text/plain": [
       "638249"
      ]
     },
     "execution_count": 61,
     "metadata": {},
     "output_type": "execute_result"
    }
   ],
   "source": [
    "max_number = row_sum_df.max(axis=0) # 해당 열에서 최대값 찾기\n",
    "max_number"
   ]
  },
  {
   "cell_type": "code",
   "execution_count": 62,
   "id": "9f8dee6b",
   "metadata": {},
   "outputs": [
    {
     "name": "stdout",
     "output_type": "stream",
     "text": [
      "출근 시간대 최대 승차 인원역: 2호선 신림 638,249명\n"
     ]
    }
   ],
   "source": [
    "max_index = row_sum_df.idxmax()\n",
    "max_line, max_station = df.iloc[max_index, [1, 3]]\t#최대값의 [1]:\t호선,[3]:\t지하철역명\n",
    "print('출근 시간대 최대 승차 인원역: {0} {1} {2:,}명'.format(max_line,\tmax_station,\t\n",
    "max_number))"
   ]
  },
  {
   "cell_type": "code",
   "execution_count": 63,
   "id": "04e7110b",
   "metadata": {},
   "outputs": [
    {
     "data": {
      "image/png": "[encoded data removed]",
      "text/plain": [
       "<Figure size 640x480 with 1 Axes>"
      ]
     },
     "metadata": {},
     "output_type": "display_data"
    }
   ],
   "source": [
    "import matplotlib.pyplot as plt\n",
    "passenger_number_list.sort(reverse=True)\n",
    "plt.figure(dpi=100)\n",
    "plt.bar(range(len(passenger_number_list)), passenger_number_list)\n",
    "plt.show()"
   ]
  },
  {
   "cell_type": "code",
   "execution_count": null,
   "id": "5d2c508a",
   "metadata": {},
   "outputs": [],
   "source": []
  }
 ],
 "metadata": {
  "kernelspec": {
   "display_name": "Python 3 (ipykernel)",
   "language": "python",
   "name": "python3"
  },
  "language_info": {
   "codemirror_mode": {
    "name": "ipython",
    "version": 3
   },
   "file_extension": ".py",
   "mimetype": "text/x-python",
   "name": "python",
   "nbconvert_exporter": "python",
   "pygments_lexer": "ipython3",
   "version": "3.9.13"
  }
 },
 "nbformat": 4,
 "nbformat_minor": 5
}
