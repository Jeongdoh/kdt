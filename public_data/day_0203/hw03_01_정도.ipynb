{
 "cells": [
  {
   "attachments": {},
   "cell_type": "markdown",
   "metadata": {},
   "source": [
    "### 1번"
   ]
  },
  {
   "cell_type": "code",
   "execution_count": 494,
   "metadata": {},
   "outputs": [],
   "source": [
    "import csv\n",
    "import matplotlib.pyplot as plt\n",
    "import pandas as pd\n",
    "import\tplatform\n",
    "import re\n",
    "import matplotlib.pyplot as plt\n",
    "import numpy as np\n",
    "\n",
    "df = pd.read_csv('gender.csv', encoding='utf-8-sig')"
   ]
  },
  {
   "cell_type": "code",
   "execution_count": 495,
   "metadata": {},
   "outputs": [
    {
     "data": {
      "text/html": [
       "<div>\n",
       "<style scoped>\n",
       "    .dataframe tbody tr th:only-of-type {\n",
       "        vertical-align: middle;\n",
       "    }\n",
       "\n",
       "    .dataframe tbody tr th {\n",
       "        vertical-align: top;\n",
       "    }\n",
       "\n",
       "    .dataframe thead th {\n",
       "        text-align: right;\n",
       "    }\n",
       "</style>\n",
       "<table border=\"1\" class=\"dataframe\">\n",
       "  <thead>\n",
       "    <tr style=\"text-align: right;\">\n",
       "      <th></th>\n",
       "      <th>행정구역</th>\n",
       "      <th>2023년01월_계_총인구수</th>\n",
       "      <th>2023년01월_계_연령구간인구수</th>\n",
       "      <th>2023년01월_계_0~9세</th>\n",
       "      <th>2023년01월_계_10~19세</th>\n",
       "      <th>2023년01월_계_20~29세</th>\n",
       "      <th>2023년01월_계_30~39세</th>\n",
       "      <th>2023년01월_계_40~49세</th>\n",
       "      <th>2023년01월_계_50~59세</th>\n",
       "      <th>2023년01월_계_60~69세</th>\n",
       "      <th>...</th>\n",
       "      <th>2023년01월_여_10~19세</th>\n",
       "      <th>2023년01월_여_20~29세</th>\n",
       "      <th>2023년01월_여_30~39세</th>\n",
       "      <th>2023년01월_여_40~49세</th>\n",
       "      <th>2023년01월_여_50~59세</th>\n",
       "      <th>2023년01월_여_60~69세</th>\n",
       "      <th>2023년01월_여_70~79세</th>\n",
       "      <th>2023년01월_여_80~89세</th>\n",
       "      <th>2023년01월_여_90~99세</th>\n",
       "      <th>2023년01월_여_100세 이상</th>\n",
       "    </tr>\n",
       "  </thead>\n",
       "  <tbody>\n",
       "    <tr>\n",
       "      <th>0</th>\n",
       "      <td>서울특별시  (1100000000)</td>\n",
       "      <td>9,424,873</td>\n",
       "      <td>9,424,873</td>\n",
       "      <td>541,595</td>\n",
       "      <td>748,219</td>\n",
       "      <td>1,385,210</td>\n",
       "      <td>1,424,188</td>\n",
       "      <td>1,447,594</td>\n",
       "      <td>1,493,331</td>\n",
       "      <td>1,301,366</td>\n",
       "      <td>...</td>\n",
       "      <td>365,105</td>\n",
       "      <td>723,257</td>\n",
       "      <td>712,183</td>\n",
       "      <td>731,788</td>\n",
       "      <td>757,912</td>\n",
       "      <td>686,175</td>\n",
       "      <td>390,992</td>\n",
       "      <td>193,597</td>\n",
       "      <td>31,530</td>\n",
       "      <td>1,043</td>\n",
       "    </tr>\n",
       "    <tr>\n",
       "      <th>1</th>\n",
       "      <td>서울특별시 종로구 (1111000000)</td>\n",
       "      <td>141,223</td>\n",
       "      <td>141,223</td>\n",
       "      <td>6,317</td>\n",
       "      <td>10,077</td>\n",
       "      <td>22,200</td>\n",
       "      <td>19,302</td>\n",
       "      <td>19,918</td>\n",
       "      <td>24,190</td>\n",
       "      <td>20,345</td>\n",
       "      <td>...</td>\n",
       "      <td>5,058</td>\n",
       "      <td>11,627</td>\n",
       "      <td>9,711</td>\n",
       "      <td>10,314</td>\n",
       "      <td>12,129</td>\n",
       "      <td>10,120</td>\n",
       "      <td>6,312</td>\n",
       "      <td>3,851</td>\n",
       "      <td>626</td>\n",
       "      <td>22</td>\n",
       "    </tr>\n",
       "    <tr>\n",
       "      <th>2</th>\n",
       "      <td>서울특별시 종로구 청운효자동(1111051500)</td>\n",
       "      <td>11,600</td>\n",
       "      <td>11,600</td>\n",
       "      <td>663</td>\n",
       "      <td>1,110</td>\n",
       "      <td>1,440</td>\n",
       "      <td>1,557</td>\n",
       "      <td>2,014</td>\n",
       "      <td>1,894</td>\n",
       "      <td>1,387</td>\n",
       "      <td>...</td>\n",
       "      <td>527</td>\n",
       "      <td>733</td>\n",
       "      <td>857</td>\n",
       "      <td>1,134</td>\n",
       "      <td>1,039</td>\n",
       "      <td>742</td>\n",
       "      <td>560</td>\n",
       "      <td>310</td>\n",
       "      <td>49</td>\n",
       "      <td>2</td>\n",
       "    </tr>\n",
       "    <tr>\n",
       "      <th>3</th>\n",
       "      <td>서울특별시 종로구 사직동(1111053000)</td>\n",
       "      <td>9,131</td>\n",
       "      <td>9,131</td>\n",
       "      <td>505</td>\n",
       "      <td>664</td>\n",
       "      <td>1,103</td>\n",
       "      <td>1,437</td>\n",
       "      <td>1,417</td>\n",
       "      <td>1,501</td>\n",
       "      <td>1,220</td>\n",
       "      <td>...</td>\n",
       "      <td>381</td>\n",
       "      <td>619</td>\n",
       "      <td>826</td>\n",
       "      <td>776</td>\n",
       "      <td>818</td>\n",
       "      <td>647</td>\n",
       "      <td>407</td>\n",
       "      <td>288</td>\n",
       "      <td>57</td>\n",
       "      <td>1</td>\n",
       "    </tr>\n",
       "    <tr>\n",
       "      <th>4</th>\n",
       "      <td>서울특별시 종로구 삼청동(1111054000)</td>\n",
       "      <td>2,325</td>\n",
       "      <td>2,325</td>\n",
       "      <td>85</td>\n",
       "      <td>174</td>\n",
       "      <td>275</td>\n",
       "      <td>294</td>\n",
       "      <td>333</td>\n",
       "      <td>363</td>\n",
       "      <td>387</td>\n",
       "      <td>...</td>\n",
       "      <td>72</td>\n",
       "      <td>142</td>\n",
       "      <td>155</td>\n",
       "      <td>178</td>\n",
       "      <td>183</td>\n",
       "      <td>202</td>\n",
       "      <td>127</td>\n",
       "      <td>95</td>\n",
       "      <td>12</td>\n",
       "      <td>1</td>\n",
       "    </tr>\n",
       "  </tbody>\n",
       "</table>\n",
       "<p>5 rows × 40 columns</p>\n",
       "</div>"
      ],
      "text/plain": [
       "                          행정구역 2023년01월_계_총인구수 2023년01월_계_연령구간인구수  \\\n",
       "0          서울특별시  (1100000000)       9,424,873          9,424,873   \n",
       "1       서울특별시 종로구 (1111000000)         141,223            141,223   \n",
       "2  서울특별시 종로구 청운효자동(1111051500)          11,600             11,600   \n",
       "3    서울특별시 종로구 사직동(1111053000)           9,131              9,131   \n",
       "4    서울특별시 종로구 삼청동(1111054000)           2,325              2,325   \n",
       "\n",
       "  2023년01월_계_0~9세 2023년01월_계_10~19세 2023년01월_계_20~29세 2023년01월_계_30~39세  \\\n",
       "0         541,595           748,219         1,385,210         1,424,188   \n",
       "1           6,317            10,077            22,200            19,302   \n",
       "2             663             1,110             1,440             1,557   \n",
       "3             505               664             1,103             1,437   \n",
       "4              85               174               275               294   \n",
       "\n",
       "  2023년01월_계_40~49세 2023년01월_계_50~59세 2023년01월_계_60~69세  ...  \\\n",
       "0         1,447,594         1,493,331         1,301,366  ...   \n",
       "1            19,918            24,190            20,345  ...   \n",
       "2             2,014             1,894             1,387  ...   \n",
       "3             1,417             1,501             1,220  ...   \n",
       "4               333               363               387  ...   \n",
       "\n",
       "  2023년01월_여_10~19세 2023년01월_여_20~29세 2023년01월_여_30~39세 2023년01월_여_40~49세  \\\n",
       "0           365,105           723,257           712,183           731,788   \n",
       "1             5,058            11,627             9,711            10,314   \n",
       "2               527               733               857             1,134   \n",
       "3               381               619               826               776   \n",
       "4                72               142               155               178   \n",
       "\n",
       "  2023년01월_여_50~59세 2023년01월_여_60~69세 2023년01월_여_70~79세 2023년01월_여_80~89세  \\\n",
       "0           757,912           686,175           390,992           193,597   \n",
       "1            12,129            10,120             6,312             3,851   \n",
       "2             1,039               742               560               310   \n",
       "3               818               647               407               288   \n",
       "4               183               202               127                95   \n",
       "\n",
       "  2023년01월_여_90~99세 2023년01월_여_100세 이상  \n",
       "0            31,530              1,043  \n",
       "1               626                 22  \n",
       "2                49                  2  \n",
       "3                57                  1  \n",
       "4                12                  1  \n",
       "\n",
       "[5 rows x 40 columns]"
      ]
     },
     "execution_count": 495,
     "metadata": {},
     "output_type": "execute_result"
    }
   ],
   "source": [
    "df.head()"
   ]
  },
  {
   "cell_type": "code",
   "execution_count": 496,
   "metadata": {},
   "outputs": [
    {
     "data": {
      "text/html": [
       "<div>\n",
       "<style scoped>\n",
       "    .dataframe tbody tr th:only-of-type {\n",
       "        vertical-align: middle;\n",
       "    }\n",
       "\n",
       "    .dataframe tbody tr th {\n",
       "        vertical-align: top;\n",
       "    }\n",
       "\n",
       "    .dataframe thead th {\n",
       "        text-align: right;\n",
       "    }\n",
       "</style>\n",
       "<table border=\"1\" class=\"dataframe\">\n",
       "  <thead>\n",
       "    <tr style=\"text-align: right;\">\n",
       "      <th></th>\n",
       "      <th>행정구역</th>\n",
       "      <th>2023년01월_남_총인구수</th>\n",
       "      <th>2023년01월_여_총인구수</th>\n",
       "    </tr>\n",
       "  </thead>\n",
       "  <tbody>\n",
       "    <tr>\n",
       "      <th>0</th>\n",
       "      <td>서울특별시  (1100000000)</td>\n",
       "      <td>4,567,739</td>\n",
       "      <td>4,857,134</td>\n",
       "    </tr>\n",
       "    <tr>\n",
       "      <th>1</th>\n",
       "      <td>서울특별시 종로구 (1111000000)</td>\n",
       "      <td>68,314</td>\n",
       "      <td>72,909</td>\n",
       "    </tr>\n",
       "    <tr>\n",
       "      <th>2</th>\n",
       "      <td>서울특별시 종로구 청운효자동(1111051500)</td>\n",
       "      <td>5,327</td>\n",
       "      <td>6,273</td>\n",
       "    </tr>\n",
       "    <tr>\n",
       "      <th>3</th>\n",
       "      <td>서울특별시 종로구 사직동(1111053000)</td>\n",
       "      <td>4,064</td>\n",
       "      <td>5,067</td>\n",
       "    </tr>\n",
       "    <tr>\n",
       "      <th>4</th>\n",
       "      <td>서울특별시 종로구 삼청동(1111054000)</td>\n",
       "      <td>1,110</td>\n",
       "      <td>1,215</td>\n",
       "    </tr>\n",
       "    <tr>\n",
       "      <th>...</th>\n",
       "      <td>...</td>\n",
       "      <td>...</td>\n",
       "      <td>...</td>\n",
       "    </tr>\n",
       "    <tr>\n",
       "      <th>3869</th>\n",
       "      <td>제주특별자치도 서귀포시 서홍동(5013058000)</td>\n",
       "      <td>5,539</td>\n",
       "      <td>5,674</td>\n",
       "    </tr>\n",
       "    <tr>\n",
       "      <th>3870</th>\n",
       "      <td>제주특별자치도 서귀포시 대륜동(5013059000)</td>\n",
       "      <td>7,863</td>\n",
       "      <td>7,741</td>\n",
       "    </tr>\n",
       "    <tr>\n",
       "      <th>3871</th>\n",
       "      <td>제주특별자치도 서귀포시 대천동(5013060000)</td>\n",
       "      <td>6,969</td>\n",
       "      <td>6,779</td>\n",
       "    </tr>\n",
       "    <tr>\n",
       "      <th>3872</th>\n",
       "      <td>제주특별자치도 서귀포시 중문동(5013061000)</td>\n",
       "      <td>6,242</td>\n",
       "      <td>6,066</td>\n",
       "    </tr>\n",
       "    <tr>\n",
       "      <th>3873</th>\n",
       "      <td>제주특별자치도 서귀포시 예래동(5013062000)</td>\n",
       "      <td>1,987</td>\n",
       "      <td>1,900</td>\n",
       "    </tr>\n",
       "  </tbody>\n",
       "</table>\n",
       "<p>3874 rows × 3 columns</p>\n",
       "</div>"
      ],
      "text/plain": [
       "                              행정구역 2023년01월_남_총인구수 2023년01월_여_총인구수\n",
       "0              서울특별시  (1100000000)       4,567,739       4,857,134\n",
       "1           서울특별시 종로구 (1111000000)          68,314          72,909\n",
       "2      서울특별시 종로구 청운효자동(1111051500)           5,327           6,273\n",
       "3        서울특별시 종로구 사직동(1111053000)           4,064           5,067\n",
       "4        서울특별시 종로구 삼청동(1111054000)           1,110           1,215\n",
       "...                            ...             ...             ...\n",
       "3869  제주특별자치도 서귀포시 서홍동(5013058000)           5,539           5,674\n",
       "3870  제주특별자치도 서귀포시 대륜동(5013059000)           7,863           7,741\n",
       "3871  제주특별자치도 서귀포시 대천동(5013060000)           6,969           6,779\n",
       "3872  제주특별자치도 서귀포시 중문동(5013061000)           6,242           6,066\n",
       "3873  제주특별자치도 서귀포시 예래동(5013062000)           1,987           1,900\n",
       "\n",
       "[3874 rows x 3 columns]"
      ]
     },
     "execution_count": 496,
     "metadata": {},
     "output_type": "execute_result"
    }
   ],
   "source": [
    "age_df = df.iloc[:,[0,14,27]]\n",
    "age_df"
   ]
  },
  {
   "cell_type": "code",
   "execution_count": 497,
   "metadata": {},
   "outputs": [
    {
     "data": {
      "text/html": [
       "<div>\n",
       "<style scoped>\n",
       "    .dataframe tbody tr th:only-of-type {\n",
       "        vertical-align: middle;\n",
       "    }\n",
       "\n",
       "    .dataframe tbody tr th {\n",
       "        vertical-align: top;\n",
       "    }\n",
       "\n",
       "    .dataframe thead th {\n",
       "        text-align: right;\n",
       "    }\n",
       "</style>\n",
       "<table border=\"1\" class=\"dataframe\">\n",
       "  <thead>\n",
       "    <tr style=\"text-align: right;\">\n",
       "      <th></th>\n",
       "      <th>행정구역</th>\n",
       "      <th>2023년01월_남_총인구수</th>\n",
       "      <th>2023년01월_여_총인구수</th>\n",
       "    </tr>\n",
       "  </thead>\n",
       "  <tbody>\n",
       "    <tr>\n",
       "      <th>674</th>\n",
       "      <td>대구광역시  (2700000000)</td>\n",
       "      <td>1,162,217</td>\n",
       "      <td>1,200,663</td>\n",
       "    </tr>\n",
       "    <tr>\n",
       "      <th>675</th>\n",
       "      <td>대구광역시 중구 (2711000000)</td>\n",
       "      <td>38,868</td>\n",
       "      <td>42,147</td>\n",
       "    </tr>\n",
       "    <tr>\n",
       "      <th>676</th>\n",
       "      <td>대구광역시 중구 동인동(2711051700)</td>\n",
       "      <td>3,940</td>\n",
       "      <td>3,951</td>\n",
       "    </tr>\n",
       "    <tr>\n",
       "      <th>677</th>\n",
       "      <td>대구광역시 중구 삼덕동(2711054500)</td>\n",
       "      <td>3,050</td>\n",
       "      <td>3,345</td>\n",
       "    </tr>\n",
       "    <tr>\n",
       "      <th>678</th>\n",
       "      <td>대구광역시 중구 성내1동(2711056500)</td>\n",
       "      <td>2,313</td>\n",
       "      <td>2,503</td>\n",
       "    </tr>\n",
       "    <tr>\n",
       "      <th>...</th>\n",
       "      <td>...</td>\n",
       "      <td>...</td>\n",
       "      <td>...</td>\n",
       "    </tr>\n",
       "    <tr>\n",
       "      <th>822</th>\n",
       "      <td>대구광역시 달성군 옥포읍(2771026200)</td>\n",
       "      <td>12,352</td>\n",
       "      <td>12,188</td>\n",
       "    </tr>\n",
       "    <tr>\n",
       "      <th>823</th>\n",
       "      <td>대구광역시 달성군 현풍읍(2771026500)</td>\n",
       "      <td>12,008</td>\n",
       "      <td>10,888</td>\n",
       "    </tr>\n",
       "    <tr>\n",
       "      <th>824</th>\n",
       "      <td>대구광역시 달성군 가창면(2771031000)</td>\n",
       "      <td>3,814</td>\n",
       "      <td>3,829</td>\n",
       "    </tr>\n",
       "    <tr>\n",
       "      <th>825</th>\n",
       "      <td>대구광역시 달성군 하빈면(2771033000)</td>\n",
       "      <td>1,888</td>\n",
       "      <td>1,568</td>\n",
       "    </tr>\n",
       "    <tr>\n",
       "      <th>826</th>\n",
       "      <td>대구광역시 달성군 구지면(2771038000)</td>\n",
       "      <td>10,370</td>\n",
       "      <td>9,255</td>\n",
       "    </tr>\n",
       "  </tbody>\n",
       "</table>\n",
       "<p>153 rows × 3 columns</p>\n",
       "</div>"
      ],
      "text/plain": [
       "                          행정구역 2023년01월_남_총인구수 2023년01월_여_총인구수\n",
       "674        대구광역시  (2700000000)       1,162,217       1,200,663\n",
       "675      대구광역시 중구 (2711000000)          38,868          42,147\n",
       "676   대구광역시 중구 동인동(2711051700)           3,940           3,951\n",
       "677   대구광역시 중구 삼덕동(2711054500)           3,050           3,345\n",
       "678  대구광역시 중구 성내1동(2711056500)           2,313           2,503\n",
       "..                         ...             ...             ...\n",
       "822  대구광역시 달성군 옥포읍(2771026200)          12,352          12,188\n",
       "823  대구광역시 달성군 현풍읍(2771026500)          12,008          10,888\n",
       "824  대구광역시 달성군 가창면(2771031000)           3,814           3,829\n",
       "825  대구광역시 달성군 하빈면(2771033000)           1,888           1,568\n",
       "826  대구광역시 달성군 구지면(2771038000)          10,370           9,255\n",
       "\n",
       "[153 rows x 3 columns]"
      ]
     },
     "execution_count": 497,
     "metadata": {},
     "output_type": "execute_result"
    }
   ],
   "source": [
    "mergu_df=age_df[age_df['행정구역'].str.contains('대구광역시')]\n",
    "mergu_df"
   ]
  },
  {
   "cell_type": "code",
   "execution_count": 498,
   "metadata": {},
   "outputs": [
    {
     "name": "stderr",
     "output_type": "stream",
     "text": [
      "C:\\Users\\y2kjd\\AppData\\Local\\Temp\\ipykernel_9704\\1913275192.py:1: SettingWithCopyWarning: \n",
      "A value is trying to be set on a copy of a slice from a DataFrame.\n",
      "Try using .loc[row_indexer,col_indexer] = value instead\n",
      "\n",
      "See the caveats in the documentation: https://pandas.pydata.org/pandas-docs/stable/user_guide/indexing.html#returning-a-view-versus-a-copy\n",
      "  mergu_df[('2023년01월_남_총인구수')] = mergu_df[('2023년01월_남_총인구수')].apply(lambda x : x.replace(',',''))\n",
      "C:\\Users\\y2kjd\\AppData\\Local\\Temp\\ipykernel_9704\\1913275192.py:2: SettingWithCopyWarning: \n",
      "A value is trying to be set on a copy of a slice from a DataFrame.\n",
      "Try using .loc[row_indexer,col_indexer] = value instead\n",
      "\n",
      "See the caveats in the documentation: https://pandas.pydata.org/pandas-docs/stable/user_guide/indexing.html#returning-a-view-versus-a-copy\n",
      "  mergu_df[('2023년01월_여_총인구수')] = mergu_df[('2023년01월_여_총인구수')].apply(lambda x : x.replace(',',''))\n"
     ]
    }
   ],
   "source": [
    "mergu_df[('2023년01월_남_총인구수')] = mergu_df[('2023년01월_남_총인구수')].apply(lambda x : x.replace(',',''))\n",
    "mergu_df[('2023년01월_여_총인구수')] = mergu_df[('2023년01월_여_총인구수')].apply(lambda x : x.replace(',',''))"
   ]
  },
  {
   "cell_type": "code",
   "execution_count": 499,
   "metadata": {},
   "outputs": [],
   "source": [
    "mergu_df=mergu_df.astype({('2023년01월_남_총인구수'):'int'})\n",
    "mergu_df=mergu_df.astype({('2023년01월_여_총인구수'):'int'})"
   ]
  },
  {
   "cell_type": "code",
   "execution_count": 500,
   "metadata": {},
   "outputs": [
    {
     "name": "stdout",
     "output_type": "stream",
     "text": [
      "<class 'pandas.core.frame.DataFrame'>\n",
      "Int64Index: 153 entries, 674 to 826\n",
      "Data columns (total 3 columns):\n",
      " #   Column           Non-Null Count  Dtype \n",
      "---  ------           --------------  ----- \n",
      " 0   행정구역             153 non-null    object\n",
      " 1   2023년01월_남_총인구수  153 non-null    int32 \n",
      " 2   2023년01월_여_총인구수  153 non-null    int32 \n",
      "dtypes: int32(2), object(1)\n",
      "memory usage: 3.6+ KB\n"
     ]
    }
   ],
   "source": [
    "mergu_df.info()"
   ]
  },
  {
   "cell_type": "code",
   "execution_count": 501,
   "metadata": {},
   "outputs": [
    {
     "data": {
      "text/html": [
       "<div>\n",
       "<style scoped>\n",
       "    .dataframe tbody tr th:only-of-type {\n",
       "        vertical-align: middle;\n",
       "    }\n",
       "\n",
       "    .dataframe tbody tr th {\n",
       "        vertical-align: top;\n",
       "    }\n",
       "\n",
       "    .dataframe thead th {\n",
       "        text-align: right;\n",
       "    }\n",
       "</style>\n",
       "<table border=\"1\" class=\"dataframe\">\n",
       "  <thead>\n",
       "    <tr style=\"text-align: right;\">\n",
       "      <th></th>\n",
       "      <th>행정구역</th>\n",
       "      <th>2023년01월_남_총인구수</th>\n",
       "      <th>2023년01월_여_총인구수</th>\n",
       "    </tr>\n",
       "  </thead>\n",
       "  <tbody>\n",
       "    <tr>\n",
       "      <th>675</th>\n",
       "      <td>대구광역시 중구 (2711000000)</td>\n",
       "      <td>38868</td>\n",
       "      <td>42147</td>\n",
       "    </tr>\n",
       "    <tr>\n",
       "      <th>676</th>\n",
       "      <td>대구광역시 중구 동인동(2711051700)</td>\n",
       "      <td>3940</td>\n",
       "      <td>3951</td>\n",
       "    </tr>\n",
       "    <tr>\n",
       "      <th>677</th>\n",
       "      <td>대구광역시 중구 삼덕동(2711054500)</td>\n",
       "      <td>3050</td>\n",
       "      <td>3345</td>\n",
       "    </tr>\n",
       "    <tr>\n",
       "      <th>678</th>\n",
       "      <td>대구광역시 중구 성내1동(2711056500)</td>\n",
       "      <td>2313</td>\n",
       "      <td>2503</td>\n",
       "    </tr>\n",
       "    <tr>\n",
       "      <th>679</th>\n",
       "      <td>대구광역시 중구 성내2동(2711057500)</td>\n",
       "      <td>2416</td>\n",
       "      <td>2373</td>\n",
       "    </tr>\n",
       "    <tr>\n",
       "      <th>680</th>\n",
       "      <td>대구광역시 중구 성내3동(2711058500)</td>\n",
       "      <td>2423</td>\n",
       "      <td>2426</td>\n",
       "    </tr>\n",
       "    <tr>\n",
       "      <th>681</th>\n",
       "      <td>대구광역시 중구 대신동(2711059500)</td>\n",
       "      <td>3659</td>\n",
       "      <td>3870</td>\n",
       "    </tr>\n",
       "    <tr>\n",
       "      <th>682</th>\n",
       "      <td>대구광역시 중구 남산1동(2711064000)</td>\n",
       "      <td>2122</td>\n",
       "      <td>2333</td>\n",
       "    </tr>\n",
       "    <tr>\n",
       "      <th>683</th>\n",
       "      <td>대구광역시 중구 남산2동(2711065000)</td>\n",
       "      <td>3375</td>\n",
       "      <td>3718</td>\n",
       "    </tr>\n",
       "    <tr>\n",
       "      <th>684</th>\n",
       "      <td>대구광역시 중구 남산3동(2711066000)</td>\n",
       "      <td>2971</td>\n",
       "      <td>3462</td>\n",
       "    </tr>\n",
       "    <tr>\n",
       "      <th>685</th>\n",
       "      <td>대구광역시 중구 남산4동(2711067000)</td>\n",
       "      <td>6691</td>\n",
       "      <td>7571</td>\n",
       "    </tr>\n",
       "    <tr>\n",
       "      <th>686</th>\n",
       "      <td>대구광역시 중구 대봉1동(2711068000)</td>\n",
       "      <td>3645</td>\n",
       "      <td>4146</td>\n",
       "    </tr>\n",
       "    <tr>\n",
       "      <th>687</th>\n",
       "      <td>대구광역시 중구 대봉2동(2711069000)</td>\n",
       "      <td>2263</td>\n",
       "      <td>2449</td>\n",
       "    </tr>\n",
       "  </tbody>\n",
       "</table>\n",
       "</div>"
      ],
      "text/plain": [
       "                          행정구역  2023년01월_남_총인구수  2023년01월_여_총인구수\n",
       "675      대구광역시 중구 (2711000000)            38868            42147\n",
       "676   대구광역시 중구 동인동(2711051700)             3940             3951\n",
       "677   대구광역시 중구 삼덕동(2711054500)             3050             3345\n",
       "678  대구광역시 중구 성내1동(2711056500)             2313             2503\n",
       "679  대구광역시 중구 성내2동(2711057500)             2416             2373\n",
       "680  대구광역시 중구 성내3동(2711058500)             2423             2426\n",
       "681   대구광역시 중구 대신동(2711059500)             3659             3870\n",
       "682  대구광역시 중구 남산1동(2711064000)             2122             2333\n",
       "683  대구광역시 중구 남산2동(2711065000)             3375             3718\n",
       "684  대구광역시 중구 남산3동(2711066000)             2971             3462\n",
       "685  대구광역시 중구 남산4동(2711067000)             6691             7571\n",
       "686  대구광역시 중구 대봉1동(2711068000)             3645             4146\n",
       "687  대구광역시 중구 대봉2동(2711069000)             2263             2449"
      ]
     },
     "execution_count": 501,
     "metadata": {},
     "output_type": "execute_result"
    }
   ],
   "source": [
    "mergu_df[mergu_df['행정구역'].str.contains('대구광역시 중구')]"
   ]
  },
  {
   "cell_type": "code",
   "execution_count": 502,
   "metadata": {},
   "outputs": [],
   "source": [
    "mergu1=mergu_df.iloc[1]\n",
    "mergu2=mergu_df.iloc[14]\n",
    "mergu3=mergu_df.iloc[37]\n",
    "mergu4=mergu_df.iloc[55]\n",
    "mergu5=mergu_df.iloc[69]\n",
    "mergu6=mergu_df.iloc[93]\n",
    "mergu7=mergu_df.iloc[117]\n",
    "mergu8=mergu_df.iloc[0]"
   ]
  },
  {
   "cell_type": "code",
   "execution_count": 503,
   "metadata": {},
   "outputs": [
    {
     "name": "stdout",
     "output_type": "stream",
     "text": [
      "행정구역               대구광역시 중구 (2711000000)\n",
      "2023년01월_남_총인구수                    38868\n",
      "2023년01월_여_총인구수                    42147\n",
      "Name: 675, dtype: object\n",
      "행정구역               대구광역시 동구 (2714000000)\n",
      "2023년01월_남_총인구수                   166516\n",
      "2023년01월_여_총인구수                   172720\n",
      "Name: 688, dtype: object\n",
      "행정구역               대구광역시 서구 (2717000000)\n",
      "2023년01월_남_총인구수                    79358\n",
      "2023년01월_여_총인구수                    80062\n",
      "Name: 711, dtype: object\n",
      "행정구역               대구광역시 남구 (2720000000)\n",
      "2023년01월_남_총인구수                    67809\n",
      "2023년01월_여_총인구수                    73738\n",
      "Name: 729, dtype: object\n",
      "행정구역               대구광역시 북구 (2723000000)\n",
      "2023년01월_남_총인구수                   213664\n",
      "2023년01월_여_총인구수                   216392\n",
      "Name: 743, dtype: object\n",
      "행정구역               대구광역시 수성구 (2726000000)\n",
      "2023년01월_남_총인구수                    198618\n",
      "2023년01월_여_총인구수                    212712\n",
      "Name: 767, dtype: object\n",
      "행정구역               대구광역시 달서구 (2729000000)\n",
      "2023년01월_남_총인구수                    263958\n",
      "2023년01월_여_총인구수                    273182\n",
      "Name: 791, dtype: object\n",
      "행정구역               대구광역시  (2700000000)\n",
      "2023년01월_남_총인구수                1162217\n",
      "2023년01월_여_총인구수                1200663\n",
      "Name: 674, dtype: object\n"
     ]
    }
   ],
   "source": [
    "print(mergu1)\n",
    "print(mergu2)\n",
    "print(mergu3)\n",
    "print(mergu4)\n",
    "print(mergu5)\n",
    "print(mergu6)\n",
    "print(mergu7)\n",
    "print(mergu8)"
   ]
  },
  {
   "cell_type": "code",
   "execution_count": 504,
   "metadata": {},
   "outputs": [],
   "source": [
    "mergu_df1=mergu_df.astype({('2023년01월_남_총인구수'):'int'})\n",
    "mergu_df1=mergu_df.astype({('2023년01월_여_총인구수'):'int'})\n",
    "mergu_df2=mergu_df.astype({('2023년01월_남_총인구수'):'int'})\n",
    "mergu_df2=mergu_df.astype({('2023년01월_여_총인구수'):'int'})\n",
    "mergu_df3=mergu_df.astype({('2023년01월_남_총인구수'):'int'})\n",
    "mergu_df3=mergu_df.astype({('2023년01월_여_총인구수'):'int'})\n",
    "mergu_df4=mergu_df.astype({('2023년01월_남_총인구수'):'int'})\n",
    "mergu_df4=mergu_df.astype({('2023년01월_여_총인구수'):'int'})\n",
    "mergu_df5=mergu_df.astype({('2023년01월_남_총인구수'):'int'})\n",
    "mergu_df5=mergu_df.astype({('2023년01월_여_총인구수'):'int'})\n",
    "mergu_df6=mergu_df.astype({('2023년01월_남_총인구수'):'int'})\n",
    "mergu_df6=mergu_df.astype({('2023년01월_여_총인구수'):'int'})\n",
    "mergu_df7=mergu_df.astype({('2023년01월_남_총인구수'):'int'})\n",
    "mergu_df7=mergu_df.astype({('2023년01월_여_총인구수'):'int'})\n",
    "mergu_df8=mergu_df.astype({('2023년01월_남_총인구수'):'int'})\n",
    "mergu_df8=mergu_df.astype({('2023년01월_여_총인구수'):'int'})"
   ]
  },
  {
   "cell_type": "code",
   "execution_count": 505,
   "metadata": {},
   "outputs": [
    {
     "name": "stdout",
     "output_type": "stream",
     "text": [
      "<class 'pandas.core.frame.DataFrame'>\n",
      "Int64Index: 153 entries, 674 to 826\n",
      "Data columns (total 3 columns):\n",
      " #   Column           Non-Null Count  Dtype \n",
      "---  ------           --------------  ----- \n",
      " 0   행정구역             153 non-null    object\n",
      " 1   2023년01월_남_총인구수  153 non-null    int32 \n",
      " 2   2023년01월_여_총인구수  153 non-null    int32 \n",
      "dtypes: int32(2), object(1)\n",
      "memory usage: 3.6+ KB\n"
     ]
    }
   ],
   "source": [
    "mergu_df8.info()"
   ]
  },
  {
   "cell_type": "code",
   "execution_count": 506,
   "metadata": {},
   "outputs": [
    {
     "data": {
      "text/plain": [
       "42147"
      ]
     },
     "execution_count": 506,
     "metadata": {},
     "output_type": "execute_result"
    }
   ],
   "source": [
    "mergu1.iloc[2]"
   ]
  },
  {
   "cell_type": "code",
   "execution_count": 507,
   "metadata": {},
   "outputs": [
    {
     "data": {
      "image/png": "[encoded data removed]",
      "text/plain": [
       "<Figure size 1200x800 with 8 Axes>"
      ]
     },
     "metadata": {},
     "output_type": "display_data"
    }
   ],
   "source": [
    "population1 = [mergu1.iloc[1], mergu1.iloc[2]]\n",
    "population2 = [mergu2.iloc[1], mergu2.iloc[2]]\n",
    "population3 = [mergu3.iloc[1], mergu3.iloc[2]]\n",
    "population4 = [mergu4.iloc[1], mergu4.iloc[2]]\n",
    "population5 = [mergu5.iloc[1], mergu5.iloc[2]]\n",
    "population6 = [mergu6.iloc[1], mergu6.iloc[2]]\n",
    "population7 = [mergu7.iloc[1], mergu7.iloc[2]]\n",
    "population8 = [mergu8.iloc[1], mergu8.iloc[2]]\n",
    "\n",
    "if\tplatform.system()\t==\t'Windows':\n",
    "    plt.rc('font',\tfamily='Malgun Gothic')\n",
    "else:\n",
    "    plt.rc('font',\tfamily='AppleGothic')\n",
    "\n",
    "color = ['cornflowerblue', 'tomato']\n",
    "\n",
    "plt.figure(figsize=(12,8))\n",
    "plt.subplot(2,4,1)\n",
    "plt.title(\"대구광역시 중구\")\n",
    "plt.pie(population1, labels=['남', '여'], autopct='%.1f%%', colors=color, startangle=90)\n",
    "\n",
    "\n",
    "plt.subplot(2,4,2)\n",
    "plt.title(\"대구광역시 동구\")\n",
    "plt.pie(population2, labels=['남', '여'], autopct='%.1f%%', colors=color, startangle=90)\n",
    "\n",
    "\n",
    "plt.subplot(2,4,3)\n",
    "plt.title(\"대구광역시 서구\")\n",
    "plt.pie(population3, labels=['남', '여'], autopct='%.1f%%', colors=color, startangle=90)\n",
    "\n",
    "\n",
    "plt.subplot(2,4,4)\n",
    "plt.title(\"대구광역시 남구\")\n",
    "plt.pie(population4, labels=['남', '여'], autopct='%.1f%%', colors=color, startangle=90)\n",
    "\n",
    "\n",
    "plt.subplot(2,4,5)\n",
    "plt.title(\"대구광역시 북구\")\n",
    "plt.pie(population5, labels=['남', '여'], autopct='%.1f%%', colors=color, startangle=90)\n",
    "\n",
    "\n",
    "plt.subplot(2,4,6)\n",
    "plt.title(\"대구광역시 수성구\")\n",
    "plt.pie(population6, labels=['남', '여'], autopct='%.1f%%', colors=color, startangle=90)\n",
    "\n",
    "\n",
    "plt.subplot(2,4,7)\n",
    "plt.title(\"대구광역시 달서구\")\n",
    "plt.pie(population7, labels=['남', '여'], autopct='%.1f%%', colors=color, startangle=90)\n",
    "\n",
    "\n",
    "plt.subplot(2,4,8)\n",
    "plt.title(\"대구광역시 전체\")\n",
    "plt.pie(population8, labels=['남', '여'], autopct='%.1f%%', colors=color, startangle=90)\n",
    "\n",
    "\n",
    "plt.show()"
   ]
  },
  {
   "attachments": {},
   "cell_type": "markdown",
   "metadata": {},
   "source": [
    "### 2번"
   ]
  },
  {
   "cell_type": "code",
   "execution_count": 508,
   "metadata": {},
   "outputs": [],
   "source": [
    "dict_city_a ={'0-9':80,'10-19':100,'20-29':140,'30-39':160,'40-49':200,'50-59':240,'60-69':195,'70-79':160,'80-89':80,'90-99':20}\n",
    "dict_city_b={'0-9':120,'10-19':200,'20-29':300,'30-39':360,'40-49':400,'50-59':300,'60-69':40,'70-79':25,'80-89':20,'90-99':10}"
   ]
  },
  {
   "cell_type": "code",
   "execution_count": 509,
   "metadata": {},
   "outputs": [],
   "source": [
    "citya_key_list = list(dict_city_a.keys())\n",
    "city_a_values = list(dict_city_a.values())\n",
    "city_b_values = list(dict_city_b.values())"
   ]
  },
  {
   "cell_type": "code",
   "execution_count": 510,
   "metadata": {},
   "outputs": [],
   "source": [
    "\n",
    "\n",
    "\n",
    "def draw_barchart(citya_key_list, city_a_values, city_b_values):\n",
    "\n",
    "    x = np.arange(len(city_a_values))  # the label locations\n",
    "    width = 0.35  # the width of the bars\n",
    "\n",
    "    \n",
    "    plt.bar(x - width/2, city_a_values, width, label='citya')\n",
    "    plt.bar(x + width/2, city_b_values, width, label='cityb')\n",
    "    plt.legend(['cityA','cityB'])\n",
    "    \n",
    "    plt.title('The demographics of two cities')\n",
    "    plt.xticks(x, citya_key_list)\n",
    "\n",
    "    plt.xlabel('Population')\n",
    "    plt.ylabel('age')\n",
    "\n",
    "    \n",
    "    plt.savefig('barchart01.png')\n",
    "    plt.show()"
   ]
  },
  {
   "cell_type": "code",
   "execution_count": 511,
   "metadata": {},
   "outputs": [
    {
     "data": {
      "image/png": "[encoded data removed]",
      "text/plain": [
       "<Figure size 640x480 with 1 Axes>"
      ]
     },
     "metadata": {},
     "output_type": "display_data"
    }
   ],
   "source": [
    "draw_barchart(citya_key_list, city_a_values, city_b_values)"
   ]
  },
  {
   "cell_type": "code",
   "execution_count": 512,
   "metadata": {},
   "outputs": [
    {
     "data": {
      "text/plain": [
       "80"
      ]
     },
     "execution_count": 512,
     "metadata": {},
     "output_type": "execute_result"
    }
   ],
   "source": [
    "city_a_values[0]"
   ]
  },
  {
   "cell_type": "code",
   "execution_count": 513,
   "metadata": {},
   "outputs": [],
   "source": [
    "citya_total =sum(city_a_values)\n",
    "cityb_total =sum(city_b_values)\n",
    "\n",
    "citya_value=sum(city_a_values[2:])\n",
    "cityb_value=sum(city_b_values[2:])"
   ]
  },
  {
   "cell_type": "code",
   "execution_count": 514,
   "metadata": {},
   "outputs": [
    {
     "data": {
      "text/plain": [
       "1455"
      ]
     },
     "execution_count": 514,
     "metadata": {},
     "output_type": "execute_result"
    }
   ],
   "source": [
    "citya_value\n",
    "cityb_value"
   ]
  },
  {
   "cell_type": "code",
   "execution_count": 515,
   "metadata": {},
   "outputs": [],
   "source": [
    "#plt.pie(population,\tlabels=['18세 미만',\t'투표가능인구'],\tautopct='%.1f%%’,\tcolors=color,\tstartangle=90)"
   ]
  },
  {
   "cell_type": "code",
   "execution_count": 516,
   "metadata": {},
   "outputs": [
    {
     "data": {
      "text/plain": [
       "0.18028169014084508"
      ]
     },
     "execution_count": 516,
     "metadata": {},
     "output_type": "execute_result"
    }
   ],
   "source": [
    "(citya_total-citya_value)/citya_total\n",
    "(cityb_total-cityb_value)/cityb_total\n"
   ]
  },
  {
   "cell_type": "code",
   "execution_count": 517,
   "metadata": {},
   "outputs": [],
   "source": [
    "def draw_piechart(citya_total, citya_value, cityb_total, cityb_value, title_name):\n",
    "    \n",
    "    a=(citya_total-citya_value)/citya_total\n",
    "    c=(citya_value)/citya_total\n",
    "    b=(cityb_total-cityb_value)/cityb_total\n",
    "    d=(cityb_value)/cityb_total\n",
    "    plt.figure(figsize = (8, 3))\n",
    "    plt.subplot(1,2,1)\n",
    "    plt.title(f\"City A's {title_name}\")\n",
    "    plt.pie([c,a], labels=[title_name,''], autopct='%.1f%%')\n",
    "    \n",
    "\n",
    "    plt.subplot(1,2,2)\n",
    "    plt.title(f\"City B's {title_name}\")\n",
    "    plt.pie([d,b], labels=[title_name,''], autopct='%.1f%%')\n",
    "\n",
    "    plt.savefig(\"Voting rate.png\")\n",
    "    plt.show()"
   ]
  },
  {
   "cell_type": "code",
   "execution_count": 518,
   "metadata": {},
   "outputs": [
    {
     "data": {
      "image/png": "[encoded data removed]",
      "text/plain": [
       "<Figure size 800x300 with 2 Axes>"
      ]
     },
     "metadata": {},
     "output_type": "display_data"
    }
   ],
   "source": [
    "draw_piechart(citya_total, citya_value, cityb_total, cityb_value,title_name=\"Voting rate\")"
   ]
  },
  {
   "cell_type": "code",
   "execution_count": 519,
   "metadata": {},
   "outputs": [],
   "source": [
    "# 70세 이상만 노인 위 방법이랑 같음"
   ]
  },
  {
   "cell_type": "code",
   "execution_count": 520,
   "metadata": {},
   "outputs": [],
   "source": [
    "citya_total1=sum(city_a_values)\n",
    "cityb_total1=sum(city_b_values)\n",
    "\n",
    "grand_value_a=sum(city_a_values[7:])\n",
    "grand_value_b=sum(city_b_values[7:])"
   ]
  },
  {
   "cell_type": "code",
   "execution_count": 521,
   "metadata": {},
   "outputs": [
    {
     "data": {
      "text/plain": [
       "0.9690140845070423"
      ]
     },
     "execution_count": 521,
     "metadata": {},
     "output_type": "execute_result"
    }
   ],
   "source": [
    "(citya_total1-grand_value_a)/citya_total1\n",
    "(cityb_total1-grand_value_b)/cityb_total1"
   ]
  },
  {
   "cell_type": "code",
   "execution_count": 522,
   "metadata": {},
   "outputs": [],
   "source": [
    "def draw_piechart(citya_total, citya_value, cityb_total, cityb_value, title_name):\n",
    "    \n",
    "    A=(citya_total1-grand_value_a)/citya_total1\n",
    "    C=(grand_value_a)/citya_total1\n",
    "    B=(cityb_total1-grand_value_b)/cityb_total1\n",
    "    D=(grand_value_b)/cityb_total1\n",
    "    plt.figure(figsize = (8, 3))\n",
    "    plt.subplot(1,2,1)\n",
    "    plt.title(f\"City A's {title_name}\")\n",
    "    plt.pie([C,A], labels=[title_name,''], autopct='%.1f%%')\n",
    "    \n",
    "\n",
    "    plt.subplot(1,2,2)\n",
    "    plt.title(f\"City B's {title_name}\")\n",
    "    plt.pie([D,B], labels=[title_name,''], autopct='%.1f%%')\n",
    "\n",
    "    plt.show()"
   ]
  },
  {
   "cell_type": "code",
   "execution_count": 523,
   "metadata": {},
   "outputs": [
    {
     "data": {
      "image/png": "[encoded data removed]",
      "text/plain": [
       "<Figure size 800x300 with 2 Axes>"
      ]
     },
     "metadata": {},
     "output_type": "display_data"
    }
   ],
   "source": [
    "draw_piechart(citya_total, citya_value, cityb_total, cityb_value,title_name=\"Old people rate\")"
   ]
  },
  {
   "cell_type": "code",
   "execution_count": 537,
   "metadata": {},
   "outputs": [
    {
     "name": "stdout",
     "output_type": "stream",
     "text": [
      "key['0-9', '10-19', '20-29', '30-39', '40-49', '50-59', '60-69', '70-79', '80-89', '90-99']\n",
      "City A: [80, 100, 140, 160, 200, 240, 195, 160, 80, 20]\n",
      "City B: [120, 200, 300, 360, 400, 300, 40, 25, 20, 10]\n",
      "City A Voting number: 1195, total number: 1375, voting rate: 86.9\n",
      "City B Voting number: 1455, total number: 1775, voting rate: 82.0\n",
      "City A old people number: 260, total number: 1375, old people rate: 18.9\n",
      "City B old people number: 55, total number: 1775, old people rate: 3.1%\n"
     ]
    }
   ],
   "source": [
    "print(f'key{citya_key_list}\\nCity A: {city_a_values}\\nCity B: {city_b_values}')\n",
    "print(f'City A Voting number: {citya_value}, total number: {citya_total}, voting rate: {round((citya_value)/citya_total*100,1)}')\n",
    "print(f'City B Voting number: {cityb_value}, total number: {cityb_total}, voting rate: {round((cityb_value)/cityb_total*100,1)}')\n",
    "print(f'City A old people number: {grand_value_a}, total number: {citya_total1}, old people rate: {round((grand_value_a)/citya_total1*100,1)}')\n",
    "print(f'City B old people number: {grand_value_b}, total number: {cityb_total1}, old people rate: {round((grand_value_b)/cityb_total1*100,1)}%')"
   ]
  }
 ],
 "metadata": {
  "kernelspec": {
   "display_name": "base",
   "language": "python",
   "name": "python3"
  },
  "language_info": {
   "codemirror_mode": {
    "name": "ipython",
    "version": 3
   },
   "file_extension": ".py",
   "mimetype": "text/x-python",
   "name": "python",
   "nbconvert_exporter": "python",
   "pygments_lexer": "ipython3",
   "version": "3.9.13"
  },
  "orig_nbformat": 4,
  "vscode": {
   "interpreter": {
    "hash": "eb8f946b1bed9d4c187cb5cd8c9637ed8e0cf7622b356295ec0a7b79391bc593"
   }
  }
 },
 "nbformat": 4,
 "nbformat_minor": 2
}
