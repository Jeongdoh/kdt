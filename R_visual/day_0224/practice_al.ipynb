{
 "cells": [
  {
   "cell_type": "code",
   "execution_count": 1,
   "metadata": {},
   "outputs": [
    {
     "name": "stdout",
     "output_type": "stream",
     "text": [
      "세 정수의 최댓값을 구합니다.\n",
      "최댓값은 3입니다. \n"
     ]
    }
   ],
   "source": [
    "print('세 정수의 최댓값을 구합니다.')\n",
    "a = int(input('정수 a의 값을 입력하세요.: '))\n",
    "b = int(input('정수 b의 값을 입력하세요.: '))\n",
    "c = int(input('정수c의 값을 입력하세요.: '))\n",
    "\n",
    "maximum = a     # maximum에 a의 값을 대입\n",
    "if b > maximum: maximum = b      # b의 값이 maximum보다 크면，maximum에 b의 값을 대입\n",
    "if c > maximum: maximum = c     # c의 값이 maximum보다 크면，maximum에 c의 값을 대입\n",
    "\n",
    "\n",
    "print(f'최댓값은 {maximum}입니다. ')\n"
   ]
  },
  {
   "cell_type": "code",
   "execution_count": 3,
   "metadata": {},
   "outputs": [
    {
     "name": "stdout",
     "output_type": "stream",
     "text": [
      " 학생 그룹 점수의 합계와 평균을 구합니다.\n",
      "105\n",
      "21.0\n"
     ]
    }
   ],
   "source": [
    "print(\" 학생 그룹 점수의 합계와 평균을 구합니다.\")\n",
    "\n",
    "score1=int(input('1'))\n",
    "score2=int(input('2'))\n",
    "score3=int(input('3'))\n",
    "score4=int(input('4'))\n",
    "score5=int(input('5'))\n",
    "total=0\n",
    "total+=score1\n",
    "total+=score2\n",
    "total+=score3\n",
    "total+=score4\n",
    "total+=score5\n",
    "\n",
    "print(f\"{total}\")\n",
    "print(f\"{total/5}\")\n"
   ]
  },
  {
   "cell_type": "code",
   "execution_count": null,
   "metadata": {},
   "outputs": [],
   "source": []
  }
 ],
 "metadata": {
  "kernelspec": {
   "display_name": "base",
   "language": "python",
   "name": "python3"
  },
  "language_info": {
   "codemirror_mode": {
    "name": "ipython",
    "version": 3
   },
   "file_extension": ".py",
   "mimetype": "text/x-python",
   "name": "python",
   "nbconvert_exporter": "python",
   "pygments_lexer": "ipython3",
   "version": "3.9.13"
  },
  "orig_nbformat": 4,
  "vscode": {
   "interpreter": {
    "hash": "eb8f946b1bed9d4c187cb5cd8c9637ed8e0cf7622b356295ec0a7b79391bc593"
   }
  }
 },
 "nbformat": 4,
 "nbformat_minor": 2
}
