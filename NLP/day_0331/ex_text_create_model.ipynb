{
 "cells": [
  {
   "attachments": {},
   "cell_type": "markdown",
   "metadata": {},
   "source": [
    "## 문자 & 단어 예측\n",
    "\n",
    "- 데이터셋\n",
    "    * 문장의 단어를 N-gram 기반으로 구성해서 생성\n",
    "        - 예)\"오늘은 즐거운 피자먹는 금요일입니다.\"\n",
    "        - '오늘은 즐거운', '오늘은 즐거운 피자',' 오늘은 즐거운 피자 먹는'\n",
    "        - '오늘은 즐거운 피자 먹는 금요일','오늘은 즐거운 피자 먹는 금요일 입니다.'     \n",
    "    * N-gram 기반으로 생성된 데이터셋의 마지막 요소 ==> 레이블\\\n",
    "- 정확한 텍스트 데이터가 준비된"
   ]
  },
  {
   "cell_type": "code",
   "execution_count": 20,
   "metadata": {},
   "outputs": [],
   "source": [
    "songData=\"\"\"Last Christmas I gave you my heart\n",
    "But the very next day you gave it away\n",
    "This year, to save me from tears\n",
    "I'll give it to someone special\n",
    "Last Christmas I gave you my heart\n",
    "But the very next day you gave it away\n",
    "This year, to save me from tears\n",
    "I'll give it to someone special\n",
    "Once bitten and twice shy\n",
    "I keep my distance, but you still catch my eye\n",
    "Tell me baby, do you recognize me?\n",
    "Well, it's been a year, it doesn't surprise me\n",
    "Happy Christmas, I wrapped it up and sent it\n",
    "With a note saying \"I love you\", I meant it\n",
    "Now I know what a fool I've been\n",
    "But if you kissed me now, I know you'd fool me again\n",
    "Last Christmas I gave you my heart\n",
    "But the very next day you gave it away\n",
    "This year, to save me from tears\n",
    "I'll give it to someone special\n",
    "Last Christmas I gave you my heart\n",
    "But the very next day you gave it away\n",
    "This year, to save me from tears\n",
    "I'll give it to someone special\"\"\""
   ]
  },
  {
   "cell_type": "code",
   "execution_count": 21,
   "metadata": {},
   "outputs": [
    {
     "name": "stdout",
     "output_type": "stream",
     "text": [
      "24\n"
     ]
    }
   ],
   "source": [
    "songDataList=songData.split('\\n')\n",
    "print(f'{len(songDataList)}')"
   ]
  },
  {
   "attachments": {},
   "cell_type": "markdown",
   "metadata": {},
   "source": [
    "텍스트 데이터 기반 단어 사전 생성\n",
    "\n",
    "- keras Tokenizer() 사용해서 구두점 삭제, 공백 기준으로 분할\n",
    "- 단어사전생성"
   ]
  },
  {
   "cell_type": "code",
   "execution_count": 22,
   "metadata": {},
   "outputs": [],
   "source": [
    "from tensorflow.keras.preprocessing.text import Tokenizer\n",
    "from tensorflow.keras.preprocessing.sequence import pad_sequences"
   ]
  },
  {
   "attachments": {},
   "cell_type": "markdown",
   "metadata": {},
   "source": [
    "### [1] 토큰화"
   ]
  },
  {
   "cell_type": "code",
   "execution_count": 23,
   "metadata": {},
   "outputs": [],
   "source": [
    "tk=Tokenizer()"
   ]
  },
  {
   "cell_type": "code",
   "execution_count": 24,
   "metadata": {},
   "outputs": [],
   "source": [
    "tk.fit_on_texts(songDataList)"
   ]
  },
  {
   "cell_type": "code",
   "execution_count": 25,
   "metadata": {},
   "outputs": [],
   "source": [
    "seqData1=tk.texts_to_sequences(songDataList)"
   ]
  },
  {
   "cell_type": "code",
   "execution_count": 30,
   "metadata": {},
   "outputs": [
    {
     "name": "stdout",
     "output_type": "stream",
     "text": [
      "line 0 [11, 9, 3, 5, 1, 7, 12]\n",
      "line 0 [8, 13, 14, 15, 16, 1, 5, 2, 17]\n",
      "line 0 [18, 10, 6, 19, 4, 20, 21]\n",
      "line 0 [22, 23, 2, 6, 24, 25]\n",
      "line 0 [11, 9, 3, 5, 1, 7, 12]\n",
      "line 0 [8, 13, 14, 15, 16, 1, 5, 2, 17]\n",
      "line 0 [18, 10, 6, 19, 4, 20, 21]\n",
      "line 0 [22, 23, 2, 6, 24, 25]\n",
      "line 0 [32, 33, 27, 34, 35]\n",
      "line 0 [3, 36, 7, 37, 8, 1, 38, 39, 7, 40]\n",
      "line 0 [41, 4, 42, 43, 1, 44, 4]\n",
      "line 0 [45, 46, 28, 26, 10, 2, 47, 48, 4]\n",
      "line 0 [49, 9, 3, 50, 2, 51, 27, 52, 2]\n",
      "line 0 [53, 26, 54, 55, 3, 56, 1, 3, 57, 2]\n",
      "line 0 [29, 3, 30, 58, 26, 31, 59, 28]\n",
      "line 0 [8, 60, 1, 61, 4, 29, 3, 30, 62, 31, 4, 63]\n",
      "line 0 [11, 9, 3, 5, 1, 7, 12]\n",
      "line 0 [8, 13, 14, 15, 16, 1, 5, 2, 17]\n",
      "line 0 [18, 10, 6, 19, 4, 20, 21]\n",
      "line 0 [22, 23, 2, 6, 24, 25]\n",
      "line 0 [11, 9, 3, 5, 1, 7, 12]\n",
      "line 0 [8, 13, 14, 15, 16, 1, 5, 2, 17]\n",
      "line 0 [18, 10, 6, 19, 4, 20, 21]\n",
      "line 0 [22, 23, 2, 6, 24, 25]\n"
     ]
    }
   ],
   "source": [
    "## 숫자화된 데이터를 다시 N-gram 방식으로 새롭게 생성\n",
    "seqData2=[]\n",
    "for line in seqData1:\n",
    "    print('line 0',line)\n",
    "    for idx in range(2, len(line)+1):\n",
    "        seqData2.append(line[:idx])"
   ]
  },
  {
   "cell_type": "code",
   "execution_count": 31,
   "metadata": {},
   "outputs": [
    {
     "data": {
      "text/plain": [
       "[[11, 9],\n",
       " [11, 9, 3],\n",
       " [11, 9, 3, 5],\n",
       " [11, 9, 3, 5, 1],\n",
       " [11, 9, 3, 5, 1, 7],\n",
       " [11, 9, 3, 5, 1, 7, 12],\n",
       " [8, 13],\n",
       " [8, 13, 14],\n",
       " [8, 13, 14, 15],\n",
       " [8, 13, 14, 15, 16],\n",
       " [8, 13, 14, 15, 16, 1],\n",
       " [8, 13, 14, 15, 16, 1, 5],\n",
       " [8, 13, 14, 15, 16, 1, 5, 2],\n",
       " [8, 13, 14, 15, 16, 1, 5, 2, 17],\n",
       " [18, 10],\n",
       " [18, 10, 6],\n",
       " [18, 10, 6, 19],\n",
       " [18, 10, 6, 19, 4],\n",
       " [18, 10, 6, 19, 4, 20],\n",
       " [18, 10, 6, 19, 4, 20, 21],\n",
       " [22, 23],\n",
       " [22, 23, 2],\n",
       " [22, 23, 2, 6],\n",
       " [22, 23, 2, 6, 24],\n",
       " [22, 23, 2, 6, 24, 25],\n",
       " [11, 9],\n",
       " [11, 9, 3],\n",
       " [11, 9, 3, 5],\n",
       " [11, 9, 3, 5, 1],\n",
       " [11, 9, 3, 5, 1, 7],\n",
       " [11, 9, 3, 5, 1, 7, 12],\n",
       " [8, 13],\n",
       " [8, 13, 14],\n",
       " [8, 13, 14, 15],\n",
       " [8, 13, 14, 15, 16],\n",
       " [8, 13, 14, 15, 16, 1],\n",
       " [8, 13, 14, 15, 16, 1, 5],\n",
       " [8, 13, 14, 15, 16, 1, 5, 2],\n",
       " [8, 13, 14, 15, 16, 1, 5, 2, 17],\n",
       " [18, 10],\n",
       " [18, 10, 6],\n",
       " [18, 10, 6, 19],\n",
       " [18, 10, 6, 19, 4],\n",
       " [18, 10, 6, 19, 4, 20],\n",
       " [18, 10, 6, 19, 4, 20, 21],\n",
       " [22, 23],\n",
       " [22, 23, 2],\n",
       " [22, 23, 2, 6],\n",
       " [22, 23, 2, 6, 24],\n",
       " [22, 23, 2, 6, 24, 25],\n",
       " [32, 33],\n",
       " [32, 33, 27],\n",
       " [32, 33, 27, 34],\n",
       " [32, 33, 27, 34, 35],\n",
       " [3, 36],\n",
       " [3, 36, 7],\n",
       " [3, 36, 7, 37],\n",
       " [3, 36, 7, 37, 8],\n",
       " [3, 36, 7, 37, 8, 1],\n",
       " [3, 36, 7, 37, 8, 1, 38],\n",
       " [3, 36, 7, 37, 8, 1, 38, 39],\n",
       " [3, 36, 7, 37, 8, 1, 38, 39, 7],\n",
       " [3, 36, 7, 37, 8, 1, 38, 39, 7, 40],\n",
       " [41, 4],\n",
       " [41, 4, 42],\n",
       " [41, 4, 42, 43],\n",
       " [41, 4, 42, 43, 1],\n",
       " [41, 4, 42, 43, 1, 44],\n",
       " [41, 4, 42, 43, 1, 44, 4],\n",
       " [45, 46],\n",
       " [45, 46, 28],\n",
       " [45, 46, 28, 26],\n",
       " [45, 46, 28, 26, 10],\n",
       " [45, 46, 28, 26, 10, 2],\n",
       " [45, 46, 28, 26, 10, 2, 47],\n",
       " [45, 46, 28, 26, 10, 2, 47, 48],\n",
       " [45, 46, 28, 26, 10, 2, 47, 48, 4],\n",
       " [49, 9],\n",
       " [49, 9, 3],\n",
       " [49, 9, 3, 50],\n",
       " [49, 9, 3, 50, 2],\n",
       " [49, 9, 3, 50, 2, 51],\n",
       " [49, 9, 3, 50, 2, 51, 27],\n",
       " [49, 9, 3, 50, 2, 51, 27, 52],\n",
       " [49, 9, 3, 50, 2, 51, 27, 52, 2],\n",
       " [53, 26],\n",
       " [53, 26, 54],\n",
       " [53, 26, 54, 55],\n",
       " [53, 26, 54, 55, 3],\n",
       " [53, 26, 54, 55, 3, 56],\n",
       " [53, 26, 54, 55, 3, 56, 1],\n",
       " [53, 26, 54, 55, 3, 56, 1, 3],\n",
       " [53, 26, 54, 55, 3, 56, 1, 3, 57],\n",
       " [53, 26, 54, 55, 3, 56, 1, 3, 57, 2],\n",
       " [29, 3],\n",
       " [29, 3, 30],\n",
       " [29, 3, 30, 58],\n",
       " [29, 3, 30, 58, 26],\n",
       " [29, 3, 30, 58, 26, 31],\n",
       " [29, 3, 30, 58, 26, 31, 59],\n",
       " [29, 3, 30, 58, 26, 31, 59, 28],\n",
       " [8, 60],\n",
       " [8, 60, 1],\n",
       " [8, 60, 1, 61],\n",
       " [8, 60, 1, 61, 4],\n",
       " [8, 60, 1, 61, 4, 29],\n",
       " [8, 60, 1, 61, 4, 29, 3],\n",
       " [8, 60, 1, 61, 4, 29, 3, 30],\n",
       " [8, 60, 1, 61, 4, 29, 3, 30, 62],\n",
       " [8, 60, 1, 61, 4, 29, 3, 30, 62, 31],\n",
       " [8, 60, 1, 61, 4, 29, 3, 30, 62, 31, 4],\n",
       " [8, 60, 1, 61, 4, 29, 3, 30, 62, 31, 4, 63],\n",
       " [11, 9],\n",
       " [11, 9, 3],\n",
       " [11, 9, 3, 5],\n",
       " [11, 9, 3, 5, 1],\n",
       " [11, 9, 3, 5, 1, 7],\n",
       " [11, 9, 3, 5, 1, 7, 12],\n",
       " [8, 13],\n",
       " [8, 13, 14],\n",
       " [8, 13, 14, 15],\n",
       " [8, 13, 14, 15, 16],\n",
       " [8, 13, 14, 15, 16, 1],\n",
       " [8, 13, 14, 15, 16, 1, 5],\n",
       " [8, 13, 14, 15, 16, 1, 5, 2],\n",
       " [8, 13, 14, 15, 16, 1, 5, 2, 17],\n",
       " [18, 10],\n",
       " [18, 10, 6],\n",
       " [18, 10, 6, 19],\n",
       " [18, 10, 6, 19, 4],\n",
       " [18, 10, 6, 19, 4, 20],\n",
       " [18, 10, 6, 19, 4, 20, 21],\n",
       " [22, 23],\n",
       " [22, 23, 2],\n",
       " [22, 23, 2, 6],\n",
       " [22, 23, 2, 6, 24],\n",
       " [22, 23, 2, 6, 24, 25],\n",
       " [11, 9],\n",
       " [11, 9, 3],\n",
       " [11, 9, 3, 5],\n",
       " [11, 9, 3, 5, 1],\n",
       " [11, 9, 3, 5, 1, 7],\n",
       " [11, 9, 3, 5, 1, 7, 12],\n",
       " [8, 13],\n",
       " [8, 13, 14],\n",
       " [8, 13, 14, 15],\n",
       " [8, 13, 14, 15, 16],\n",
       " [8, 13, 14, 15, 16, 1],\n",
       " [8, 13, 14, 15, 16, 1, 5],\n",
       " [8, 13, 14, 15, 16, 1, 5, 2],\n",
       " [8, 13, 14, 15, 16, 1, 5, 2, 17],\n",
       " [18, 10],\n",
       " [18, 10, 6],\n",
       " [18, 10, 6, 19],\n",
       " [18, 10, 6, 19, 4],\n",
       " [18, 10, 6, 19, 4, 20],\n",
       " [18, 10, 6, 19, 4, 20, 21],\n",
       " [22, 23],\n",
       " [22, 23, 2],\n",
       " [22, 23, 2, 6],\n",
       " [22, 23, 2, 6, 24],\n",
       " [22, 23, 2, 6, 24, 25]]"
      ]
     },
     "execution_count": 31,
     "metadata": {},
     "output_type": "execute_result"
    }
   ],
   "source": [
    "seqData2"
   ]
  },
  {
   "cell_type": "code",
   "execution_count": 32,
   "metadata": {},
   "outputs": [
    {
     "data": {
      "text/plain": [
       "162"
      ]
     },
     "execution_count": 32,
     "metadata": {},
     "output_type": "execute_result"
    }
   ],
   "source": [
    "len(seqData2)"
   ]
  },
  {
   "cell_type": "code",
   "execution_count": 36,
   "metadata": {},
   "outputs": [
    {
     "data": {
      "text/plain": [
       "12"
      ]
     },
     "execution_count": 36,
     "metadata": {},
     "output_type": "execute_result"
    }
   ],
   "source": [
    "MAX_LEN=max([len(_) for _ in seqData2 ])\n",
    "MAX_LEN"
   ]
  },
  {
   "cell_type": "code",
   "execution_count": 37,
   "metadata": {},
   "outputs": [],
   "source": [
    "## 패딩하기 => 앞부분을 0으로 채우기\n",
    "\n",
    "songData3=pad_sequences(seqData2,maxlen=MAX_LEN)"
   ]
  },
  {
   "cell_type": "code",
   "execution_count": 48,
   "metadata": {},
   "outputs": [
    {
     "data": {
      "text/plain": [
       "((162, 12), numpy.ndarray)"
      ]
     },
     "execution_count": 48,
     "metadata": {},
     "output_type": "execute_result"
    }
   ],
   "source": [
    "songData3.shape, type(songData3)"
   ]
  },
  {
   "attachments": {},
   "cell_type": "markdown",
   "metadata": {},
   "source": [
    "## [2] 학습용 데이터 준비"
   ]
  },
  {
   "attachments": {},
   "cell_type": "markdown",
   "metadata": {},
   "source": [
    "### [2-1]데이터와 라벨분리"
   ]
  },
  {
   "cell_type": "code",
   "execution_count": 40,
   "metadata": {},
   "outputs": [],
   "source": [
    "data, label=songData3[:,:-1], songData3[:,-1]"
   ]
  },
  {
   "cell_type": "code",
   "execution_count": 42,
   "metadata": {},
   "outputs": [
    {
     "data": {
      "text/plain": [
       "((162, 11), (162,))"
      ]
     },
     "execution_count": 42,
     "metadata": {},
     "output_type": "execute_result"
    }
   ],
   "source": [
    "data.shape,label.shape"
   ]
  },
  {
   "cell_type": "code",
   "execution_count": 43,
   "metadata": {},
   "outputs": [
    {
     "data": {
      "text/plain": [
       "63"
      ]
     },
     "execution_count": 43,
     "metadata": {},
     "output_type": "execute_result"
    }
   ],
   "source": [
    "len(tk.word_index)"
   ]
  },
  {
   "attachments": {},
   "cell_type": "markdown",
   "metadata": {},
   "source": [
    "### [2-2] 라벨 인코딩"
   ]
  },
  {
   "cell_type": "code",
   "execution_count": 44,
   "metadata": {},
   "outputs": [],
   "source": [
    "VOCA_NUM=len(tk.word_index)+1"
   ]
  },
  {
   "cell_type": "code",
   "execution_count": 45,
   "metadata": {},
   "outputs": [],
   "source": [
    "from tensorflow.keras.utils import to_categorical"
   ]
  },
  {
   "cell_type": "code",
   "execution_count": 46,
   "metadata": {},
   "outputs": [],
   "source": [
    "label_oh=to_categorical(label,num_classes=VOCA_NUM)"
   ]
  },
  {
   "cell_type": "code",
   "execution_count": 47,
   "metadata": {},
   "outputs": [
    {
     "data": {
      "text/plain": [
       "array([[0., 0., 0., 0., 0., 0., 0., 0., 0., 1., 0., 0., 0., 0., 0., 0.,\n",
       "        0., 0., 0., 0., 0., 0., 0., 0., 0., 0., 0., 0., 0., 0., 0., 0.,\n",
       "        0., 0., 0., 0., 0., 0., 0., 0., 0., 0., 0., 0., 0., 0., 0., 0.,\n",
       "        0., 0., 0., 0., 0., 0., 0., 0., 0., 0., 0., 0., 0., 0., 0., 0.],\n",
       "       [0., 0., 0., 1., 0., 0., 0., 0., 0., 0., 0., 0., 0., 0., 0., 0.,\n",
       "        0., 0., 0., 0., 0., 0., 0., 0., 0., 0., 0., 0., 0., 0., 0., 0.,\n",
       "        0., 0., 0., 0., 0., 0., 0., 0., 0., 0., 0., 0., 0., 0., 0., 0.,\n",
       "        0., 0., 0., 0., 0., 0., 0., 0., 0., 0., 0., 0., 0., 0., 0., 0.],\n",
       "       [0., 0., 0., 0., 0., 1., 0., 0., 0., 0., 0., 0., 0., 0., 0., 0.,\n",
       "        0., 0., 0., 0., 0., 0., 0., 0., 0., 0., 0., 0., 0., 0., 0., 0.,\n",
       "        0., 0., 0., 0., 0., 0., 0., 0., 0., 0., 0., 0., 0., 0., 0., 0.,\n",
       "        0., 0., 0., 0., 0., 0., 0., 0., 0., 0., 0., 0., 0., 0., 0., 0.]],\n",
       "      dtype=float32)"
      ]
     },
     "execution_count": 47,
     "metadata": {},
     "output_type": "execute_result"
    }
   ],
   "source": [
    "label_oh[:3]"
   ]
  },
  {
   "cell_type": "code",
   "execution_count": null,
   "metadata": {},
   "outputs": [],
   "source": []
  }
 ],
 "metadata": {
  "kernelspec": {
   "display_name": "base",
   "language": "python",
   "name": "python3"
  },
  "language_info": {
   "codemirror_mode": {
    "name": "ipython",
    "version": 3
   },
   "file_extension": ".py",
   "mimetype": "text/x-python",
   "name": "python",
   "nbconvert_exporter": "python",
   "pygments_lexer": "ipython3",
   "version": "3.9.13"
  },
  "orig_nbformat": 4
 },
 "nbformat": 4,
 "nbformat_minor": 2
}
