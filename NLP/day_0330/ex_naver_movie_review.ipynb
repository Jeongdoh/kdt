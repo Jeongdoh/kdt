{
 "cells": [
  {
   "cell_type": "markdown",
   "id": "f0ef7c53",
   "metadata": {},
   "source": [
    "##### 감성 분류(Sentiment Analysis)\n",
    "\n",
    "- 고객의 리뷰를 바탕으로 긍정 / 부정  분류\n",
    "- 데이터 셋 : 네이버 영화 리뷰 \n",
    "- 데이터 수 : 200,000개"
   ]
  },
  {
   "cell_type": "markdown",
   "id": "3e00a29c",
   "metadata": {},
   "source": [
    "## [1] 데이터 준비 및 확인"
   ]
  },
  {
   "cell_type": "code",
   "execution_count": 4,
   "id": "aa144d11",
   "metadata": {},
   "outputs": [],
   "source": [
    "#모듈 로딩 --------------------------------------------------------------------\n",
    "import pandas as pd,  numpy as np\n",
    "from tensorflow.keras.preprocessing.text import Tokenizer\n",
    "from tensorflow.keras.preprocessing.sequence import pad_sequences"
   ]
  },
  {
   "cell_type": "code",
   "execution_count": 5,
   "id": "d6026587",
   "metadata": {},
   "outputs": [],
   "source": [
    "TEST_FILE='./data/ratings_test.txt'\n",
    "TRAIN_FILE='./data/ratings_train.txt'"
   ]
  },
  {
   "cell_type": "markdown",
   "id": "38c29a76",
   "metadata": {},
   "source": [
    "### [1-1] 데이터 준비"
   ]
  },
  {
   "cell_type": "code",
   "execution_count": 6,
   "id": "ebed9b54",
   "metadata": {},
   "outputs": [],
   "source": [
    "trainDF = pd.read_table(TRAIN_FILE)\n",
    "testDF = pd.read_table(TEST_FILE)"
   ]
  },
  {
   "cell_type": "code",
   "execution_count": 7,
   "id": "aa1415a0",
   "metadata": {},
   "outputs": [
    {
     "name": "stdout",
     "output_type": "stream",
     "text": [
      "학습용 리뷰 수 : 150000, 테스트용 리뷰 수 : 50000\n"
     ]
    }
   ],
   "source": [
    "print(f'학습용 리뷰 수 : {len(trainDF)}, 테스트용 리뷰 수 : {len(testDF)}')"
   ]
  },
  {
   "cell_type": "markdown",
   "id": "6727963e",
   "metadata": {},
   "source": [
    "### [1-2] 데이터 확인"
   ]
  },
  {
   "cell_type": "markdown",
   "id": "52775f6f",
   "metadata": {},
   "source": [
    "- 학습용 데이터 확인 =================================================================="
   ]
  },
  {
   "cell_type": "code",
   "execution_count": 8,
   "id": "c7e91793",
   "metadata": {},
   "outputs": [],
   "source": [
    "def checkDataInfo(df, df_name):\n",
    "    print(f'[{df_name} 기본 정보]====================')\n",
    "    df.info()\n",
    "    print(f'\\ncolumns : {df.columns}\\n')"
   ]
  },
  {
   "cell_type": "code",
   "execution_count": 9,
   "id": "b4f69710",
   "metadata": {},
   "outputs": [
    {
     "name": "stdout",
     "output_type": "stream",
     "text": [
      "[trainDF 기본 정보]====================\n",
      "<class 'pandas.core.frame.DataFrame'>\n",
      "RangeIndex: 150000 entries, 0 to 149999\n",
      "Data columns (total 3 columns):\n",
      " #   Column    Non-Null Count   Dtype \n",
      "---  ------    --------------   ----- \n",
      " 0   id        150000 non-null  int64 \n",
      " 1   document  149995 non-null  object\n",
      " 2   label     150000 non-null  int64 \n",
      "dtypes: int64(2), object(1)\n",
      "memory usage: 3.4+ MB\n",
      "\n",
      "columns : Index(['id', 'document', 'label'], dtype='object')\n",
      "\n"
     ]
    }
   ],
   "source": [
    "checkDataInfo(trainDF, 'trainDF')"
   ]
  },
  {
   "cell_type": "code",
   "execution_count": 10,
   "id": "8ad57088",
   "metadata": {},
   "outputs": [
    {
     "data": {
      "text/html": [
       "<div>\n",
       "<style scoped>\n",
       "    .dataframe tbody tr th:only-of-type {\n",
       "        vertical-align: middle;\n",
       "    }\n",
       "\n",
       "    .dataframe tbody tr th {\n",
       "        vertical-align: top;\n",
       "    }\n",
       "\n",
       "    .dataframe thead th {\n",
       "        text-align: right;\n",
       "    }\n",
       "</style>\n",
       "<table border=\"1\" class=\"dataframe\">\n",
       "  <thead>\n",
       "    <tr style=\"text-align: right;\">\n",
       "      <th></th>\n",
       "      <th>id</th>\n",
       "      <th>document</th>\n",
       "      <th>label</th>\n",
       "    </tr>\n",
       "  </thead>\n",
       "  <tbody>\n",
       "    <tr>\n",
       "      <th>0</th>\n",
       "      <td>9976970</td>\n",
       "      <td>아 더빙.. 진짜 짜증나네요 목소리</td>\n",
       "      <td>0</td>\n",
       "    </tr>\n",
       "    <tr>\n",
       "      <th>1</th>\n",
       "      <td>3819312</td>\n",
       "      <td>흠...포스터보고 초딩영화줄....오버연기조차 가볍지 않구나</td>\n",
       "      <td>1</td>\n",
       "    </tr>\n",
       "    <tr>\n",
       "      <th>2</th>\n",
       "      <td>10265843</td>\n",
       "      <td>너무재밓었다그래서보는것을추천한다</td>\n",
       "      <td>0</td>\n",
       "    </tr>\n",
       "    <tr>\n",
       "      <th>3</th>\n",
       "      <td>9045019</td>\n",
       "      <td>교도소 이야기구먼 ..솔직히 재미는 없다..평점 조정</td>\n",
       "      <td>0</td>\n",
       "    </tr>\n",
       "    <tr>\n",
       "      <th>4</th>\n",
       "      <td>6483659</td>\n",
       "      <td>사이몬페그의 익살스런 연기가 돋보였던 영화!스파이더맨에서 늙어보이기만 했던 커스틴 ...</td>\n",
       "      <td>1</td>\n",
       "    </tr>\n",
       "  </tbody>\n",
       "</table>\n",
       "</div>"
      ],
      "text/plain": [
       "         id                                           document  label\n",
       "0   9976970                                아 더빙.. 진짜 짜증나네요 목소리      0\n",
       "1   3819312                  흠...포스터보고 초딩영화줄....오버연기조차 가볍지 않구나      1\n",
       "2  10265843                                  너무재밓었다그래서보는것을추천한다      0\n",
       "3   9045019                      교도소 이야기구먼 ..솔직히 재미는 없다..평점 조정      0\n",
       "4   6483659  사이몬페그의 익살스런 연기가 돋보였던 영화!스파이더맨에서 늙어보이기만 했던 커스틴 ...      1"
      ]
     },
     "execution_count": 10,
     "metadata": {},
     "output_type": "execute_result"
    }
   ],
   "source": [
    "trainDF.head()"
   ]
  },
  {
   "cell_type": "markdown",
   "id": "e9a7da33",
   "metadata": {},
   "source": [
    "- 테스트용 데이터 확인"
   ]
  },
  {
   "cell_type": "code",
   "execution_count": 11,
   "id": "198551d3",
   "metadata": {},
   "outputs": [
    {
     "name": "stdout",
     "output_type": "stream",
     "text": [
      "[testDF 기본 정보]====================\n",
      "<class 'pandas.core.frame.DataFrame'>\n",
      "RangeIndex: 50000 entries, 0 to 49999\n",
      "Data columns (total 3 columns):\n",
      " #   Column    Non-Null Count  Dtype \n",
      "---  ------    --------------  ----- \n",
      " 0   id        50000 non-null  int64 \n",
      " 1   document  49997 non-null  object\n",
      " 2   label     50000 non-null  int64 \n",
      "dtypes: int64(2), object(1)\n",
      "memory usage: 1.1+ MB\n",
      "\n",
      "columns : Index(['id', 'document', 'label'], dtype='object')\n",
      "\n"
     ]
    }
   ],
   "source": [
    "checkDataInfo(testDF, 'testDF')"
   ]
  },
  {
   "cell_type": "code",
   "execution_count": 12,
   "id": "2f2e56e6",
   "metadata": {},
   "outputs": [
    {
     "data": {
      "text/html": [
       "<div>\n",
       "<style scoped>\n",
       "    .dataframe tbody tr th:only-of-type {\n",
       "        vertical-align: middle;\n",
       "    }\n",
       "\n",
       "    .dataframe tbody tr th {\n",
       "        vertical-align: top;\n",
       "    }\n",
       "\n",
       "    .dataframe thead th {\n",
       "        text-align: right;\n",
       "    }\n",
       "</style>\n",
       "<table border=\"1\" class=\"dataframe\">\n",
       "  <thead>\n",
       "    <tr style=\"text-align: right;\">\n",
       "      <th></th>\n",
       "      <th>id</th>\n",
       "      <th>document</th>\n",
       "      <th>label</th>\n",
       "    </tr>\n",
       "  </thead>\n",
       "  <tbody>\n",
       "    <tr>\n",
       "      <th>0</th>\n",
       "      <td>6270596</td>\n",
       "      <td>굳 ㅋ</td>\n",
       "      <td>1</td>\n",
       "    </tr>\n",
       "    <tr>\n",
       "      <th>1</th>\n",
       "      <td>9274899</td>\n",
       "      <td>GDNTOPCLASSINTHECLUB</td>\n",
       "      <td>0</td>\n",
       "    </tr>\n",
       "    <tr>\n",
       "      <th>2</th>\n",
       "      <td>8544678</td>\n",
       "      <td>뭐야 이 평점들은.... 나쁘진 않지만 10점 짜리는 더더욱 아니잖아</td>\n",
       "      <td>0</td>\n",
       "    </tr>\n",
       "    <tr>\n",
       "      <th>3</th>\n",
       "      <td>6825595</td>\n",
       "      <td>지루하지는 않은데 완전 막장임... 돈주고 보기에는....</td>\n",
       "      <td>0</td>\n",
       "    </tr>\n",
       "    <tr>\n",
       "      <th>4</th>\n",
       "      <td>6723715</td>\n",
       "      <td>3D만 아니었어도 별 다섯 개 줬을텐데.. 왜 3D로 나와서 제 심기를 불편하게 하죠??</td>\n",
       "      <td>0</td>\n",
       "    </tr>\n",
       "  </tbody>\n",
       "</table>\n",
       "</div>"
      ],
      "text/plain": [
       "        id                                           document  label\n",
       "0  6270596                                                굳 ㅋ      1\n",
       "1  9274899                               GDNTOPCLASSINTHECLUB      0\n",
       "2  8544678             뭐야 이 평점들은.... 나쁘진 않지만 10점 짜리는 더더욱 아니잖아      0\n",
       "3  6825595                   지루하지는 않은데 완전 막장임... 돈주고 보기에는....      0\n",
       "4  6723715  3D만 아니었어도 별 다섯 개 줬을텐데.. 왜 3D로 나와서 제 심기를 불편하게 하죠??      0"
      ]
     },
     "execution_count": 12,
     "metadata": {},
     "output_type": "execute_result"
    }
   ],
   "source": [
    "testDF.head()"
   ]
  },
  {
   "cell_type": "markdown",
   "id": "b3f0663b",
   "metadata": {},
   "source": [
    "## [2] 데이터 전처리\n",
    "\n",
    "- 기본 데이터 전처리\n",
    "    * 컬럼 정리\n",
    "    * 결측치\n",
    "    * 중복데이터\n",
    "- 텍스트 데이터 전처리\n",
    "    * 특정 언어(한글: ㄱ ~ ㅎ, ㅏ ~ ㅣ, 영어 : a ~ z)\n",
    "    * 구두점\n",
    "    * 불용어=> 커스터마이징 \n",
    "    * 맞춤법, 띄어쓰기"
   ]
  },
  {
   "cell_type": "markdown",
   "id": "353224b6",
   "metadata": {},
   "source": [
    "#### [2-1] 기본 데이터 전처리 "
   ]
  },
  {
   "cell_type": "markdown",
   "id": "f13960f2",
   "metadata": {},
   "source": [
    "- 컬럼 정리 =================================================\n",
    ": id 컬럼 제거"
   ]
  },
  {
   "cell_type": "code",
   "execution_count": 13,
   "id": "32b458a7",
   "metadata": {},
   "outputs": [],
   "source": [
    "train_data = trainDF.drop('id', axis=1)\n",
    "test_data = testDF.drop('id', axis=1)"
   ]
  },
  {
   "cell_type": "code",
   "execution_count": 14,
   "id": "b491bc80",
   "metadata": {},
   "outputs": [
    {
     "data": {
      "text/plain": [
       "(Index(['document', 'label'], dtype='object'),\n",
       " Index(['document', 'label'], dtype='object'))"
      ]
     },
     "execution_count": 14,
     "metadata": {},
     "output_type": "execute_result"
    }
   ],
   "source": [
    "train_data.columns, test_data.columns"
   ]
  },
  {
   "cell_type": "markdown",
   "id": "28beb7dc",
   "metadata": {},
   "source": [
    "- 결측치 체크 ==============================================="
   ]
  },
  {
   "cell_type": "code",
   "execution_count": 15,
   "id": "2ab2d1f4",
   "metadata": {},
   "outputs": [],
   "source": [
    "def checkNullData(data, col, do=False):\n",
    "    print(f\"결측 데이터 수 :{data.isnull().sum()}\")\n",
    "    \n",
    "    if do == True:\n",
    "        print(f\"삭제 전 :{data.shape}\")\n",
    "        data.dropna(inplace=True)\n",
    "        print(f\"삭제 후 :{data.shape}\\n\")\n",
    "    elif do == False:\n",
    "        pass\n",
    "    else:\n",
    "        print(f\"치환 전 :{data.shape}\")\n",
    "        data[col].fillna(do, inplace=True)\n",
    "        print(f\"치환 후 :{data.shape}\\n\")        "
   ]
  },
  {
   "cell_type": "code",
   "execution_count": 16,
   "id": "9ec987f2",
   "metadata": {},
   "outputs": [
    {
     "name": "stdout",
     "output_type": "stream",
     "text": [
      "결측 데이터 수 :document    5\n",
      "label       0\n",
      "dtype: int64\n",
      "삭제 전 :(150000, 2)\n",
      "삭제 후 :(149995, 2)\n",
      "\n"
     ]
    }
   ],
   "source": [
    "checkNullData(train_data, 'document', True)"
   ]
  },
  {
   "cell_type": "code",
   "execution_count": 17,
   "id": "38f4db82",
   "metadata": {},
   "outputs": [
    {
     "name": "stdout",
     "output_type": "stream",
     "text": [
      "결측 데이터 수 :document    3\n",
      "label       0\n",
      "dtype: int64\n",
      "삭제 전 :(50000, 2)\n",
      "삭제 후 :(49997, 2)\n",
      "\n"
     ]
    }
   ],
   "source": [
    "checkNullData(test_data, 'document', True)"
   ]
  },
  {
   "cell_type": "markdown",
   "id": "c36041fc",
   "metadata": {},
   "source": [
    "- 중복 데이터 즉, 행 삭제 ==================================="
   ]
  },
  {
   "cell_type": "code",
   "execution_count": 18,
   "id": "e7bdc81f",
   "metadata": {},
   "outputs": [],
   "source": [
    "def checkDuplicate(data, col, remove=True):\n",
    "    print(f\"중복 데이터 수 :{data.duplicated(subset=[col]).sum()}\")\n",
    "    \n",
    "    if remove:\n",
    "        print(f\"처리 전 :{data.shape}\")\n",
    "        data.drop_duplicates(subset=[col], inplace=True)\n",
    "        print(f\"삭제 후 :{data.shape}\\n\")"
   ]
  },
  {
   "cell_type": "code",
   "execution_count": 19,
   "id": "4d4e8631",
   "metadata": {},
   "outputs": [
    {
     "name": "stdout",
     "output_type": "stream",
     "text": [
      "중복 데이터 수 :3813\n",
      "처리 전 :(149995, 2)\n",
      "삭제 후 :(146182, 2)\n",
      "\n",
      "중복 데이터 수 :840\n",
      "처리 전 :(49997, 2)\n",
      "삭제 후 :(49157, 2)\n",
      "\n"
     ]
    }
   ],
   "source": [
    "# 중복 데이터 존재 여부 체크\n",
    "checkDuplicate(train_data, 'document')\n",
    "checkDuplicate(test_data, 'document')"
   ]
  },
  {
   "cell_type": "markdown",
   "id": "1ca8c089",
   "metadata": {},
   "source": [
    "- 라벨/클래스별 데이터 분포 확인 ========================="
   ]
  },
  {
   "cell_type": "code",
   "execution_count": 20,
   "id": "9ad86d5e",
   "metadata": {},
   "outputs": [],
   "source": [
    "import matplotlib.pyplot as plt"
   ]
  },
  {
   "cell_type": "code",
   "execution_count": 21,
   "id": "f13fb1c4",
   "metadata": {},
   "outputs": [],
   "source": [
    "def displayDataDistribution(data, title):\n",
    "    labelsSR=data.value_counts()\n",
    "    nums = labelsSR.index\n",
    "    \n",
    "    plt.figure(figsize=(4,5))\n",
    "    plt.title(title)\n",
    "    plt.bar(labelsSR.index, labelsSR)\n",
    "    plt.xticks([0, 1], [\"N\", \"P\"])\n",
    "    for x, y in zip(nums, labelsSR):\n",
    "        label=f'{y} volume'\n",
    "        plt.text(x, y, label,color='red',  \n",
    "                 horizontalalignment='center',  # horizontalalignment (left, center, right)\n",
    "                 verticalalignment='center')    # verticalalignment (top, center, bottom)\n",
    "        "
   ]
  },
  {
   "cell_type": "code",
   "execution_count": 22,
   "id": "1fff5350",
   "metadata": {},
   "outputs": [
    {
     "data": {
      "image/png": "[encoded data removed]",
      "text/plain": [
       "<Figure size 400x500 with 1 Axes>"
      ]
     },
     "metadata": {},
     "output_type": "display_data"
    },
    {
     "data": {
      "image/png": "[encoded data removed]",
      "text/plain": [
       "<Figure size 400x500 with 1 Axes>"
      ]
     },
     "metadata": {},
     "output_type": "display_data"
    }
   ],
   "source": [
    "displayDataDistribution(train_data.label, '[ Train Data Distribution ]')\n",
    "\n",
    "displayDataDistribution(test_data.label, '[ Test Data Distribution ]')"
   ]
  },
  {
   "cell_type": "markdown",
   "id": "fbf45288",
   "metadata": {},
   "source": [
    "#### [2-2] 텍스트 데이터 전처리"
   ]
  },
  {
   "cell_type": "markdown",
   "id": "32de58bf",
   "metadata": {},
   "source": [
    "- 텍스트 데이터 정제(CLEANING) : 한글, 공백 제외한 나머지 문자 제거\n",
    "    * 정규표현식 : \"[^ㄱ-ㅎㅏ-ㅣ가-힣 ]\""
   ]
  },
  {
   "cell_type": "code",
   "execution_count": 23,
   "id": "935027d0",
   "metadata": {},
   "outputs": [],
   "source": [
    "def checkAlphaSpace(data, regText):\n",
    "    data.document.str.replace(\"[^ㄱ-ㅎㅏ-ㅣ가-힣 ]\",\"\", regex=True)"
   ]
  },
  {
   "cell_type": "code",
   "execution_count": 24,
   "id": "6e79b94c",
   "metadata": {},
   "outputs": [
    {
     "data": {
      "text/plain": [
       "(146182, 2)"
      ]
     },
     "execution_count": 24,
     "metadata": {},
     "output_type": "execute_result"
    }
   ],
   "source": [
    "train_data.shape"
   ]
  },
  {
   "cell_type": "code",
   "execution_count": 25,
   "id": "a7278c02",
   "metadata": {},
   "outputs": [
    {
     "data": {
      "text/plain": [
       "0                                         아 더빙 진짜 짜증나네요 목소리\n",
       "1                                흠포스터보고 초딩영화줄오버연기조차 가볍지 않구나\n",
       "2                                         너무재밓었다그래서보는것을추천한다\n",
       "3                                 교도소 이야기구먼 솔직히 재미는 없다평점 조정\n",
       "4         사이몬페그의 익살스런 연기가 돋보였던 영화스파이더맨에서 늙어보이기만 했던 커스틴 던...\n",
       "                                ...                        \n",
       "149995                                      인간이 문제지 소는 뭔죄인가\n",
       "149996                                           평점이 너무 낮아서\n",
       "149997                        이게 뭐요 한국인은 거들먹거리고 필리핀 혼혈은 착하다\n",
       "149998                           청춘 영화의 최고봉방황과 우울했던 날들의 자화상\n",
       "149999                             한국 영화 최초로 수간하는 내용이 담긴 영화\n",
       "Name: document, Length: 146182, dtype: object"
      ]
     },
     "execution_count": 25,
     "metadata": {},
     "output_type": "execute_result"
    }
   ],
   "source": [
    "train_data.document.str.replace(\"[^ㄱ-ㅎㅏ-ㅣ가-힣 ]\",\"\", regex=True)"
   ]
  },
  {
   "cell_type": "code",
   "execution_count": 26,
   "id": "fad7eb7c",
   "metadata": {},
   "outputs": [
    {
     "data": {
      "text/plain": [
       "document    0\n",
       "label       0\n",
       "dtype: int64"
      ]
     },
     "execution_count": 26,
     "metadata": {},
     "output_type": "execute_result"
    }
   ],
   "source": [
    "train_data.isnull().sum()"
   ]
  },
  {
   "cell_type": "markdown",
   "id": "8e4be26a",
   "metadata": {},
   "source": [
    "#### 토큰화 "
   ]
  },
  {
   "cell_type": "code",
   "execution_count": 27,
   "id": "b44c6b2f",
   "metadata": {},
   "outputs": [],
   "source": [
    "from tensorflow.keras.preprocessing.text import Tokenizer\n",
    "import string"
   ]
  },
  {
   "cell_type": "code",
   "execution_count": 28,
   "id": "efd7ff53",
   "metadata": {},
   "outputs": [],
   "source": [
    "NUM_WORDS=5000\n",
    "FILTER=string.punctuation"
   ]
  },
  {
   "cell_type": "code",
   "execution_count": 29,
   "id": "5b44d19a",
   "metadata": {},
   "outputs": [],
   "source": [
    "tokenizer = Tokenizer(num_words=NUM_WORDS, filters=FILTER)"
   ]
  },
  {
   "cell_type": "code",
   "execution_count": 30,
   "id": "567ccf92",
   "metadata": {},
   "outputs": [],
   "source": [
    "tokenizer.fit_on_texts(train_data.document)"
   ]
  },
  {
   "cell_type": "code",
   "execution_count": 31,
   "id": "7a651c9e",
   "metadata": {},
   "outputs": [
    {
     "data": {
      "text/plain": [
       "295179"
      ]
     },
     "execution_count": 31,
     "metadata": {},
     "output_type": "execute_result"
    }
   ],
   "source": [
    "# 토큰 단어 수 확인\n",
    "len(tokenizer.word_counts)"
   ]
  },
  {
   "cell_type": "code",
   "execution_count": 32,
   "id": "b821219b",
   "metadata": {},
   "outputs": [],
   "source": [
    "wordCounts=tokenizer.word_counts"
   ]
  },
  {
   "cell_type": "code",
   "execution_count": 33,
   "id": "0ff10a5a",
   "metadata": {},
   "outputs": [
    {
     "data": {
      "text/plain": [
       "collections.OrderedDict"
      ]
     },
     "execution_count": 33,
     "metadata": {},
     "output_type": "execute_result"
    }
   ],
   "source": [
    "type(wordCounts)"
   ]
  },
  {
   "cell_type": "markdown",
   "id": "15242cb5",
   "metadata": {},
   "source": [
    "- 불용어 제거 -------------------------------------------------------------"
   ]
  },
  {
   "cell_type": "code",
   "execution_count": 38,
   "id": "b6143356",
   "metadata": {},
   "outputs": [],
   "source": [
    "SW='./data/stopwords_kor.txt'"
   ]
  },
  {
   "cell_type": "code",
   "execution_count": 39,
   "id": "c7a5b63b",
   "metadata": {},
   "outputs": [],
   "source": [
    "with open(SW, mode='r', encoding='UTF-8') as f:\n",
    "    stopWords=f.read()"
   ]
  },
  {
   "cell_type": "code",
   "execution_count": 40,
   "id": "48736fbf",
   "metadata": {},
   "outputs": [],
   "source": [
    "stopWords=stopWords.replace('\\n',',')"
   ]
  },
  {
   "cell_type": "code",
   "execution_count": 41,
   "id": "af820ae5",
   "metadata": {},
   "outputs": [
    {
     "data": {
      "text/plain": [
       "2891"
      ]
     },
     "execution_count": 41,
     "metadata": {},
     "output_type": "execute_result"
    }
   ],
   "source": [
    "len(stopWords)"
   ]
  },
  {
   "cell_type": "code",
   "execution_count": null,
   "id": "8de2e47d",
   "metadata": {},
   "outputs": [],
   "source": []
  }
 ],
 "metadata": {
  "kernelspec": {
   "display_name": "base",
   "language": "python",
   "name": "python3"
  },
  "language_info": {
   "codemirror_mode": {
    "name": "ipython",
    "version": 3
   },
   "file_extension": ".py",
   "mimetype": "text/x-python",
   "name": "python",
   "nbconvert_exporter": "python",
   "pygments_lexer": "ipython3",
   "version": "3.9.13"
  },
  "vscode": {
   "interpreter": {
    "hash": "eb8f946b1bed9d4c187cb5cd8c9637ed8e0cf7622b356295ec0a7b79391bc593"
   }
  }
 },
 "nbformat": 4,
 "nbformat_minor": 5
}
