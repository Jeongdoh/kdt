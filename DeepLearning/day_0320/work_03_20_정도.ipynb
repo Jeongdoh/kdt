{
 "cells": [
  {
   "cell_type": "code",
   "execution_count": 161,
   "metadata": {},
   "outputs": [],
   "source": [
    "# digit 데이터셋\n",
    "# 사이킷런의 0~9 숫자 이미지 데이터 중 1,3,9  3가지 이미지만 사용"
   ]
  },
  {
   "cell_type": "code",
   "execution_count": 162,
   "metadata": {},
   "outputs": [],
   "source": [
    "# 숫자이미지데이터 중 1, 3, 9 숫자 이미지\n",
    "# 주성분 추출에 따른 지도학습 분류 학습"
   ]
  },
  {
   "cell_type": "code",
   "execution_count": 163,
   "metadata": {},
   "outputs": [],
   "source": [
    "# 숫자 이미지 데이터 중 1, 3, 9 숫자 이미지\n",
    "# 비지도 학습에 따른 분류"
   ]
  },
  {
   "cell_type": "code",
   "execution_count": 164,
   "metadata": {},
   "outputs": [],
   "source": [
    "from sklearn.datasets import load_digits\n",
    "from sklearn.decomposition import PCA\n",
    "import matplotlib.pyplot as plt\n",
    "from sklearn.model_selection import train_test_split\n",
    "from sklearn.neighbors import KNeighborsClassifier\n",
    "from sklearn.metrics import classification_report, confusion_matrix\n",
    "from sklearn.preprocessing import StandardScaler\n",
    "import pandas as pd"
   ]
  },
  {
   "cell_type": "code",
   "execution_count": 165,
   "metadata": {},
   "outputs": [],
   "source": [
    "digitData=load_digits()"
   ]
  },
  {
   "cell_type": "code",
   "execution_count": 166,
   "metadata": {},
   "outputs": [
    {
     "data": {
      "text/plain": [
       "array([0, 1, 2, ..., 8, 9, 8])"
      ]
     },
     "execution_count": 166,
     "metadata": {},
     "output_type": "execute_result"
    }
   ],
   "source": [
    "digitData.target"
   ]
  },
  {
   "cell_type": "code",
   "execution_count": 167,
   "metadata": {},
   "outputs": [],
   "source": [
    "data=digitData.data[:,:2],digitData.data[:,3:4],digitData.data[:,9:10],digitData.target"
   ]
  },
  {
   "cell_type": "code",
   "execution_count": 168,
   "metadata": {},
   "outputs": [],
   "source": [
    "df=pd.DataFrame(digitData.data, columns = digitData.feature_names)"
   ]
  },
  {
   "cell_type": "code",
   "execution_count": 169,
   "metadata": {},
   "outputs": [],
   "source": [
    "df['target']=digitData['target']"
   ]
  },
  {
   "cell_type": "code",
   "execution_count": 170,
   "metadata": {},
   "outputs": [],
   "source": [
    "df= df[df.target.isin([1, 3, 9])]"
   ]
  },
  {
   "cell_type": "code",
   "execution_count": 171,
   "metadata": {},
   "outputs": [
    {
     "data": {
      "text/html": [
       "<div>\n",
       "<style scoped>\n",
       "    .dataframe tbody tr th:only-of-type {\n",
       "        vertical-align: middle;\n",
       "    }\n",
       "\n",
       "    .dataframe tbody tr th {\n",
       "        vertical-align: top;\n",
       "    }\n",
       "\n",
       "    .dataframe thead th {\n",
       "        text-align: right;\n",
       "    }\n",
       "</style>\n",
       "<table border=\"1\" class=\"dataframe\">\n",
       "  <thead>\n",
       "    <tr style=\"text-align: right;\">\n",
       "      <th></th>\n",
       "      <th>pixel_0_0</th>\n",
       "      <th>pixel_0_1</th>\n",
       "      <th>pixel_0_2</th>\n",
       "      <th>pixel_0_3</th>\n",
       "      <th>pixel_0_4</th>\n",
       "      <th>pixel_0_5</th>\n",
       "      <th>pixel_0_6</th>\n",
       "      <th>pixel_0_7</th>\n",
       "      <th>pixel_1_0</th>\n",
       "      <th>pixel_1_1</th>\n",
       "      <th>...</th>\n",
       "      <th>pixel_6_7</th>\n",
       "      <th>pixel_7_0</th>\n",
       "      <th>pixel_7_1</th>\n",
       "      <th>pixel_7_2</th>\n",
       "      <th>pixel_7_3</th>\n",
       "      <th>pixel_7_4</th>\n",
       "      <th>pixel_7_5</th>\n",
       "      <th>pixel_7_6</th>\n",
       "      <th>pixel_7_7</th>\n",
       "      <th>target</th>\n",
       "    </tr>\n",
       "  </thead>\n",
       "  <tbody>\n",
       "    <tr>\n",
       "      <th>1</th>\n",
       "      <td>0.0</td>\n",
       "      <td>0.0</td>\n",
       "      <td>0.0</td>\n",
       "      <td>12.0</td>\n",
       "      <td>13.0</td>\n",
       "      <td>5.0</td>\n",
       "      <td>0.0</td>\n",
       "      <td>0.0</td>\n",
       "      <td>0.0</td>\n",
       "      <td>0.0</td>\n",
       "      <td>...</td>\n",
       "      <td>0.0</td>\n",
       "      <td>0.0</td>\n",
       "      <td>0.0</td>\n",
       "      <td>0.0</td>\n",
       "      <td>11.0</td>\n",
       "      <td>16.0</td>\n",
       "      <td>10.0</td>\n",
       "      <td>0.0</td>\n",
       "      <td>0.0</td>\n",
       "      <td>1</td>\n",
       "    </tr>\n",
       "    <tr>\n",
       "      <th>3</th>\n",
       "      <td>0.0</td>\n",
       "      <td>0.0</td>\n",
       "      <td>7.0</td>\n",
       "      <td>15.0</td>\n",
       "      <td>13.0</td>\n",
       "      <td>1.0</td>\n",
       "      <td>0.0</td>\n",
       "      <td>0.0</td>\n",
       "      <td>0.0</td>\n",
       "      <td>8.0</td>\n",
       "      <td>...</td>\n",
       "      <td>0.0</td>\n",
       "      <td>0.0</td>\n",
       "      <td>0.0</td>\n",
       "      <td>7.0</td>\n",
       "      <td>13.0</td>\n",
       "      <td>13.0</td>\n",
       "      <td>9.0</td>\n",
       "      <td>0.0</td>\n",
       "      <td>0.0</td>\n",
       "      <td>3</td>\n",
       "    </tr>\n",
       "    <tr>\n",
       "      <th>9</th>\n",
       "      <td>0.0</td>\n",
       "      <td>0.0</td>\n",
       "      <td>11.0</td>\n",
       "      <td>12.0</td>\n",
       "      <td>0.0</td>\n",
       "      <td>0.0</td>\n",
       "      <td>0.0</td>\n",
       "      <td>0.0</td>\n",
       "      <td>0.0</td>\n",
       "      <td>2.0</td>\n",
       "      <td>...</td>\n",
       "      <td>0.0</td>\n",
       "      <td>0.0</td>\n",
       "      <td>0.0</td>\n",
       "      <td>9.0</td>\n",
       "      <td>12.0</td>\n",
       "      <td>13.0</td>\n",
       "      <td>3.0</td>\n",
       "      <td>0.0</td>\n",
       "      <td>0.0</td>\n",
       "      <td>9</td>\n",
       "    </tr>\n",
       "    <tr>\n",
       "      <th>11</th>\n",
       "      <td>0.0</td>\n",
       "      <td>0.0</td>\n",
       "      <td>0.0</td>\n",
       "      <td>0.0</td>\n",
       "      <td>14.0</td>\n",
       "      <td>13.0</td>\n",
       "      <td>1.0</td>\n",
       "      <td>0.0</td>\n",
       "      <td>0.0</td>\n",
       "      <td>0.0</td>\n",
       "      <td>...</td>\n",
       "      <td>0.0</td>\n",
       "      <td>0.0</td>\n",
       "      <td>0.0</td>\n",
       "      <td>0.0</td>\n",
       "      <td>1.0</td>\n",
       "      <td>13.0</td>\n",
       "      <td>16.0</td>\n",
       "      <td>1.0</td>\n",
       "      <td>0.0</td>\n",
       "      <td>1</td>\n",
       "    </tr>\n",
       "    <tr>\n",
       "      <th>13</th>\n",
       "      <td>0.0</td>\n",
       "      <td>2.0</td>\n",
       "      <td>9.0</td>\n",
       "      <td>15.0</td>\n",
       "      <td>14.0</td>\n",
       "      <td>9.0</td>\n",
       "      <td>3.0</td>\n",
       "      <td>0.0</td>\n",
       "      <td>0.0</td>\n",
       "      <td>4.0</td>\n",
       "      <td>...</td>\n",
       "      <td>0.0</td>\n",
       "      <td>0.0</td>\n",
       "      <td>2.0</td>\n",
       "      <td>12.0</td>\n",
       "      <td>12.0</td>\n",
       "      <td>13.0</td>\n",
       "      <td>11.0</td>\n",
       "      <td>0.0</td>\n",
       "      <td>0.0</td>\n",
       "      <td>3</td>\n",
       "    </tr>\n",
       "    <tr>\n",
       "      <th>...</th>\n",
       "      <td>...</td>\n",
       "      <td>...</td>\n",
       "      <td>...</td>\n",
       "      <td>...</td>\n",
       "      <td>...</td>\n",
       "      <td>...</td>\n",
       "      <td>...</td>\n",
       "      <td>...</td>\n",
       "      <td>...</td>\n",
       "      <td>...</td>\n",
       "      <td>...</td>\n",
       "      <td>...</td>\n",
       "      <td>...</td>\n",
       "      <td>...</td>\n",
       "      <td>...</td>\n",
       "      <td>...</td>\n",
       "      <td>...</td>\n",
       "      <td>...</td>\n",
       "      <td>...</td>\n",
       "      <td>...</td>\n",
       "      <td>...</td>\n",
       "    </tr>\n",
       "    <tr>\n",
       "      <th>1772</th>\n",
       "      <td>0.0</td>\n",
       "      <td>0.0</td>\n",
       "      <td>5.0</td>\n",
       "      <td>14.0</td>\n",
       "      <td>11.0</td>\n",
       "      <td>8.0</td>\n",
       "      <td>0.0</td>\n",
       "      <td>0.0</td>\n",
       "      <td>0.0</td>\n",
       "      <td>4.0</td>\n",
       "      <td>...</td>\n",
       "      <td>0.0</td>\n",
       "      <td>0.0</td>\n",
       "      <td>0.0</td>\n",
       "      <td>7.0</td>\n",
       "      <td>15.0</td>\n",
       "      <td>12.0</td>\n",
       "      <td>5.0</td>\n",
       "      <td>0.0</td>\n",
       "      <td>0.0</td>\n",
       "      <td>9</td>\n",
       "    </tr>\n",
       "    <tr>\n",
       "      <th>1774</th>\n",
       "      <td>0.0</td>\n",
       "      <td>0.0</td>\n",
       "      <td>6.0</td>\n",
       "      <td>12.0</td>\n",
       "      <td>12.0</td>\n",
       "      <td>6.0</td>\n",
       "      <td>0.0</td>\n",
       "      <td>0.0</td>\n",
       "      <td>0.0</td>\n",
       "      <td>0.0</td>\n",
       "      <td>...</td>\n",
       "      <td>0.0</td>\n",
       "      <td>0.0</td>\n",
       "      <td>0.0</td>\n",
       "      <td>2.0</td>\n",
       "      <td>11.0</td>\n",
       "      <td>10.0</td>\n",
       "      <td>4.0</td>\n",
       "      <td>0.0</td>\n",
       "      <td>0.0</td>\n",
       "      <td>1</td>\n",
       "    </tr>\n",
       "    <tr>\n",
       "      <th>1786</th>\n",
       "      <td>0.0</td>\n",
       "      <td>0.0</td>\n",
       "      <td>4.0</td>\n",
       "      <td>14.0</td>\n",
       "      <td>15.0</td>\n",
       "      <td>6.0</td>\n",
       "      <td>0.0</td>\n",
       "      <td>0.0</td>\n",
       "      <td>0.0</td>\n",
       "      <td>5.0</td>\n",
       "      <td>...</td>\n",
       "      <td>0.0</td>\n",
       "      <td>0.0</td>\n",
       "      <td>0.0</td>\n",
       "      <td>4.0</td>\n",
       "      <td>13.0</td>\n",
       "      <td>15.0</td>\n",
       "      <td>9.0</td>\n",
       "      <td>0.0</td>\n",
       "      <td>0.0</td>\n",
       "      <td>9</td>\n",
       "    </tr>\n",
       "    <tr>\n",
       "      <th>1792</th>\n",
       "      <td>0.0</td>\n",
       "      <td>0.0</td>\n",
       "      <td>4.0</td>\n",
       "      <td>10.0</td>\n",
       "      <td>13.0</td>\n",
       "      <td>6.0</td>\n",
       "      <td>0.0</td>\n",
       "      <td>0.0</td>\n",
       "      <td>0.0</td>\n",
       "      <td>1.0</td>\n",
       "      <td>...</td>\n",
       "      <td>0.0</td>\n",
       "      <td>0.0</td>\n",
       "      <td>0.0</td>\n",
       "      <td>2.0</td>\n",
       "      <td>14.0</td>\n",
       "      <td>15.0</td>\n",
       "      <td>9.0</td>\n",
       "      <td>0.0</td>\n",
       "      <td>0.0</td>\n",
       "      <td>9</td>\n",
       "    </tr>\n",
       "    <tr>\n",
       "      <th>1795</th>\n",
       "      <td>0.0</td>\n",
       "      <td>0.0</td>\n",
       "      <td>2.0</td>\n",
       "      <td>10.0</td>\n",
       "      <td>7.0</td>\n",
       "      <td>0.0</td>\n",
       "      <td>0.0</td>\n",
       "      <td>0.0</td>\n",
       "      <td>0.0</td>\n",
       "      <td>0.0</td>\n",
       "      <td>...</td>\n",
       "      <td>0.0</td>\n",
       "      <td>0.0</td>\n",
       "      <td>0.0</td>\n",
       "      <td>5.0</td>\n",
       "      <td>12.0</td>\n",
       "      <td>16.0</td>\n",
       "      <td>12.0</td>\n",
       "      <td>0.0</td>\n",
       "      <td>0.0</td>\n",
       "      <td>9</td>\n",
       "    </tr>\n",
       "  </tbody>\n",
       "</table>\n",
       "<p>545 rows × 65 columns</p>\n",
       "</div>"
      ],
      "text/plain": [
       "      pixel_0_0  pixel_0_1  pixel_0_2  pixel_0_3  pixel_0_4  pixel_0_5  \\\n",
       "1           0.0        0.0        0.0       12.0       13.0        5.0   \n",
       "3           0.0        0.0        7.0       15.0       13.0        1.0   \n",
       "9           0.0        0.0       11.0       12.0        0.0        0.0   \n",
       "11          0.0        0.0        0.0        0.0       14.0       13.0   \n",
       "13          0.0        2.0        9.0       15.0       14.0        9.0   \n",
       "...         ...        ...        ...        ...        ...        ...   \n",
       "1772        0.0        0.0        5.0       14.0       11.0        8.0   \n",
       "1774        0.0        0.0        6.0       12.0       12.0        6.0   \n",
       "1786        0.0        0.0        4.0       14.0       15.0        6.0   \n",
       "1792        0.0        0.0        4.0       10.0       13.0        6.0   \n",
       "1795        0.0        0.0        2.0       10.0        7.0        0.0   \n",
       "\n",
       "      pixel_0_6  pixel_0_7  pixel_1_0  pixel_1_1  ...  pixel_6_7  pixel_7_0  \\\n",
       "1           0.0        0.0        0.0        0.0  ...        0.0        0.0   \n",
       "3           0.0        0.0        0.0        8.0  ...        0.0        0.0   \n",
       "9           0.0        0.0        0.0        2.0  ...        0.0        0.0   \n",
       "11          1.0        0.0        0.0        0.0  ...        0.0        0.0   \n",
       "13          3.0        0.0        0.0        4.0  ...        0.0        0.0   \n",
       "...         ...        ...        ...        ...  ...        ...        ...   \n",
       "1772        0.0        0.0        0.0        4.0  ...        0.0        0.0   \n",
       "1774        0.0        0.0        0.0        0.0  ...        0.0        0.0   \n",
       "1786        0.0        0.0        0.0        5.0  ...        0.0        0.0   \n",
       "1792        0.0        0.0        0.0        1.0  ...        0.0        0.0   \n",
       "1795        0.0        0.0        0.0        0.0  ...        0.0        0.0   \n",
       "\n",
       "      pixel_7_1  pixel_7_2  pixel_7_3  pixel_7_4  pixel_7_5  pixel_7_6  \\\n",
       "1           0.0        0.0       11.0       16.0       10.0        0.0   \n",
       "3           0.0        7.0       13.0       13.0        9.0        0.0   \n",
       "9           0.0        9.0       12.0       13.0        3.0        0.0   \n",
       "11          0.0        0.0        1.0       13.0       16.0        1.0   \n",
       "13          2.0       12.0       12.0       13.0       11.0        0.0   \n",
       "...         ...        ...        ...        ...        ...        ...   \n",
       "1772        0.0        7.0       15.0       12.0        5.0        0.0   \n",
       "1774        0.0        2.0       11.0       10.0        4.0        0.0   \n",
       "1786        0.0        4.0       13.0       15.0        9.0        0.0   \n",
       "1792        0.0        2.0       14.0       15.0        9.0        0.0   \n",
       "1795        0.0        5.0       12.0       16.0       12.0        0.0   \n",
       "\n",
       "      pixel_7_7  target  \n",
       "1           0.0       1  \n",
       "3           0.0       3  \n",
       "9           0.0       9  \n",
       "11          0.0       1  \n",
       "13          0.0       3  \n",
       "...         ...     ...  \n",
       "1772        0.0       9  \n",
       "1774        0.0       1  \n",
       "1786        0.0       9  \n",
       "1792        0.0       9  \n",
       "1795        0.0       9  \n",
       "\n",
       "[545 rows x 65 columns]"
      ]
     },
     "execution_count": 171,
     "metadata": {},
     "output_type": "execute_result"
    }
   ],
   "source": [
    "df"
   ]
  },
  {
   "cell_type": "code",
   "execution_count": 172,
   "metadata": {},
   "outputs": [
    {
     "data": {
      "text/plain": [
       "StandardScaler()"
      ]
     },
     "execution_count": 172,
     "metadata": {},
     "output_type": "execute_result"
    }
   ],
   "source": [
    "ss=StandardScaler()\n",
    "ss.fit(df.iloc[:, :-1])"
   ]
  },
  {
   "cell_type": "code",
   "execution_count": 173,
   "metadata": {},
   "outputs": [],
   "source": [
    "scaled_data=ss.transform(df.iloc[:, :-1])"
   ]
  },
  {
   "cell_type": "code",
   "execution_count": 174,
   "metadata": {},
   "outputs": [],
   "source": [
    "data=df.iloc[:, :-1] / 255"
   ]
  },
  {
   "cell_type": "code",
   "execution_count": 175,
   "metadata": {},
   "outputs": [
    {
     "name": "stdout",
     "output_type": "stream",
     "text": [
      "[4.34050475e-03 2.26695465e-03 1.45311730e-03 1.15997237e-03\n",
      " 8.51488883e-04 6.77133452e-04 6.14692274e-04 5.57119486e-04\n",
      " 4.95087300e-04 4.22613803e-04 3.94241771e-04 3.15832506e-04\n",
      " 2.75584629e-04 2.51701527e-04 1.90642442e-04 1.66750167e-04\n",
      " 1.57948292e-04 1.46784376e-04 1.32916198e-04 1.24122671e-04\n",
      " 9.81976962e-05 9.49766569e-05 9.01625403e-05 8.47568266e-05\n",
      " 7.78954938e-05 7.39582419e-05 6.75836796e-05 5.82065523e-05\n",
      " 5.73149598e-05 5.01348188e-05 4.68317690e-05 4.36419496e-05\n",
      " 3.99485487e-05 3.73643899e-05 3.34351454e-05 3.04160770e-05\n",
      " 2.75447712e-05 2.72944418e-05 2.62154263e-05 2.42856632e-05\n",
      " 1.99783906e-05 1.71858853e-05 1.48476973e-05 1.42902021e-05\n",
      " 1.34604019e-05 1.09516246e-05 8.37681515e-06 8.20697615e-06\n",
      " 6.93155860e-06 6.03105359e-06 1.52298148e-06 6.14225421e-07\n",
      " 3.86106014e-07 1.58590021e-07 1.44740491e-07 4.73585237e-08\n",
      " 2.28255904e-09 3.19020043e-35 3.19020043e-35 3.19020043e-35\n",
      " 3.19020043e-35 3.19020043e-35 3.19020043e-35 2.96384142e-35]\n",
      "[2.67791696e-01 1.39861990e-01 8.96514962e-02 7.15656324e-02\n",
      " 5.25334414e-02 4.17764122e-02 3.79240425e-02 3.43720329e-02\n",
      " 3.05448964e-02 2.60735729e-02 2.43231326e-02 1.94855961e-02\n",
      " 1.70024639e-02 1.55289725e-02 1.17618724e-02 1.02878151e-02\n",
      " 9.74477471e-03 9.05600596e-03 8.20039516e-03 7.65786990e-03\n",
      " 6.05840314e-03 5.85967796e-03 5.56266632e-03 5.22915551e-03\n",
      " 4.80583886e-03 4.56292624e-03 4.16964137e-03 3.59111031e-03\n",
      " 3.53610263e-03 3.09311680e-03 2.88933190e-03 2.69253287e-03\n",
      " 2.46466487e-03 2.30523267e-03 2.06281408e-03 1.87654969e-03\n",
      " 1.69940166e-03 1.68395735e-03 1.61738643e-03 1.49832780e-03\n",
      " 1.23258640e-03 1.06030004e-03 9.16043239e-04 8.81648029e-04\n",
      " 8.30452693e-04 6.75671219e-04 5.16815823e-04 5.06337440e-04\n",
      " 4.27649303e-04 3.72091764e-04 9.39618352e-05 3.78952395e-05\n",
      " 2.38211890e-05 9.78436680e-06 8.92990649e-06 2.92183055e-06\n",
      " 1.40824718e-07 1.96822543e-33 1.96822543e-33 1.96822543e-33\n",
      " 1.96822543e-33 1.96822543e-33 1.96822543e-33 1.82857102e-33]\n"
     ]
    }
   ],
   "source": [
    "pca = PCA(n_components= 64)\n",
    "pca.fit(data)\n",
    "print(pca.explained_variance_)\n",
    "print(pca.explained_variance_ratio_)"
   ]
  },
  {
   "cell_type": "code",
   "execution_count": 176,
   "metadata": {},
   "outputs": [
    {
     "data": {
      "text/plain": [
       "PCA(n_components=64)"
      ]
     },
     "execution_count": 176,
     "metadata": {},
     "output_type": "execute_result"
    }
   ],
   "source": [
    "pca.fit(scaled_data)"
   ]
  },
  {
   "cell_type": "code",
   "execution_count": 177,
   "metadata": {},
   "outputs": [],
   "source": [
    "pca_data=pca.transform(scaled_data)"
   ]
  },
  {
   "cell_type": "code",
   "execution_count": 178,
   "metadata": {},
   "outputs": [
    {
     "data": {
      "text/plain": [
       "array([[ 5.31187430e-18, -8.40191132e-02, -1.62841403e-01, ...,\n",
       "        -1.01434155e-01, -9.35125710e-03,  4.95206431e-02],\n",
       "       [-5.21593004e-19, -8.38200055e-02, -1.99421280e-01, ...,\n",
       "        -2.11846986e-02, -8.94962084e-02, -1.07563975e-01],\n",
       "       [-6.40243506e-19, -2.17732858e-01, -1.20409294e-01, ...,\n",
       "         2.59651274e-01,  3.48917326e-01,  2.66397042e-01],\n",
       "       ...,\n",
       "       [-0.00000000e+00,  2.08166817e-16, -4.49817692e-17, ...,\n",
       "        -7.63278329e-17,  1.80411242e-16,  4.16333634e-17],\n",
       "       [-0.00000000e+00,  9.71445147e-17,  4.28427176e-17, ...,\n",
       "         9.54097912e-17,  1.52655666e-16, -0.00000000e+00],\n",
       "       [ 1.00000000e+00,  7.79269405e-18,  3.64541355e-17, ...,\n",
       "        -5.38247091e-17,  2.35014150e-17, -2.32866810e-19]])"
      ]
     },
     "execution_count": 178,
     "metadata": {},
     "output_type": "execute_result"
    }
   ],
   "source": [
    "pca.components_"
   ]
  },
  {
   "cell_type": "code",
   "execution_count": 179,
   "metadata": {},
   "outputs": [
    {
     "data": {
      "text/plain": [
       "array([1.00629837e+01, 6.97069259e+00, 4.60768318e+00, 3.37254668e+00,\n",
       "       3.08607846e+00, 2.65442648e+00, 2.06075286e+00, 1.89282005e+00,\n",
       "       1.79101159e+00, 1.55925869e+00, 1.45808546e+00, 1.32911048e+00,\n",
       "       1.18709232e+00, 1.10663505e+00, 1.05455235e+00, 9.74238221e-01,\n",
       "       9.41148230e-01, 9.21877129e-01, 8.41140268e-01, 7.38877650e-01,\n",
       "       7.13383269e-01, 6.60189322e-01, 6.02530843e-01, 5.58422417e-01,\n",
       "       4.70994093e-01, 4.51753511e-01, 4.19737272e-01, 3.83966976e-01,\n",
       "       3.61722923e-01, 3.38933422e-01, 2.89801640e-01, 2.67696307e-01,\n",
       "       2.59758983e-01, 2.50147992e-01, 2.09345961e-01, 2.01096036e-01,\n",
       "       1.89357568e-01, 1.76358979e-01, 1.69843109e-01, 1.50668992e-01,\n",
       "       1.44793764e-01, 1.31831942e-01, 1.11955850e-01, 1.07642837e-01,\n",
       "       1.05006414e-01, 9.43978575e-02, 8.66870384e-02, 8.16844979e-02,\n",
       "       7.43097393e-02, 6.79116920e-02, 6.76297160e-02, 6.10836398e-02,\n",
       "       5.37545469e-02, 5.05328358e-02, 4.63928732e-02, 4.33704696e-02,\n",
       "       3.90726111e-02, 1.88387142e-31, 6.38340517e-32, 6.38340517e-32,\n",
       "       6.38340517e-32, 6.38340517e-32, 6.38340517e-32, 5.93047398e-32])"
      ]
     },
     "execution_count": 179,
     "metadata": {},
     "output_type": "execute_result"
    }
   ],
   "source": [
    "pca.explained_variance_"
   ]
  },
  {
   "cell_type": "code",
   "execution_count": 180,
   "metadata": {},
   "outputs": [
    {
     "data": {
      "text/plain": [
       "array([1.76219641e-01, 1.22068462e-01, 8.06882231e-02, 5.90589213e-02,\n",
       "       5.40423848e-02, 4.64834381e-02, 3.60872221e-02, 3.31464384e-02,\n",
       "       3.13636023e-02, 2.73052221e-02, 2.55335101e-02, 2.32749429e-02,\n",
       "       2.07879678e-02, 1.93790268e-02, 1.84669718e-02, 1.70605373e-02,\n",
       "       1.64810764e-02, 1.61436072e-02, 1.47297700e-02, 1.29389809e-02,\n",
       "       1.24925317e-02, 1.15610169e-02, 1.05513207e-02, 9.77890858e-03,\n",
       "       8.24789270e-03, 7.91095798e-03, 7.35030021e-03, 6.72390263e-03,\n",
       "       6.33437212e-03, 5.93528992e-03, 5.07491042e-03, 4.68780915e-03,\n",
       "       4.54881334e-03, 4.38050886e-03, 3.66599720e-03, 3.52152724e-03,\n",
       "       3.31596706e-03, 3.08834008e-03, 2.97423632e-03, 2.63846553e-03,\n",
       "       2.53558048e-03, 2.30859735e-03, 1.96053379e-03, 1.88500574e-03,\n",
       "       1.83883757e-03, 1.65306404e-03, 1.51803473e-03, 1.43043190e-03,\n",
       "       1.30128756e-03, 1.18924708e-03, 1.18430921e-03, 1.06967649e-03,\n",
       "       9.41331837e-04, 8.84914298e-04, 8.12416643e-04, 7.59489311e-04,\n",
       "       6.84226636e-04, 3.29897330e-33, 1.11784079e-33, 1.11784079e-33,\n",
       "       1.11784079e-33, 1.11784079e-33, 1.11784079e-33, 1.03852498e-33])"
      ]
     },
     "execution_count": 180,
     "metadata": {},
     "output_type": "execute_result"
    }
   ],
   "source": [
    "pca.explained_variance_ratio_"
   ]
  },
  {
   "cell_type": "code",
   "execution_count": 181,
   "metadata": {},
   "outputs": [
    {
     "data": {
      "text/plain": [
       "[<matplotlib.lines.Line2D at 0x195d742ad60>]"
      ]
     },
     "execution_count": 181,
     "metadata": {},
     "output_type": "execute_result"
    },
    {
     "data": {
      "image/png": "[encoded data removed]",
      "text/plain": [
       "<Figure size 640x480 with 1 Axes>"
      ]
     },
     "metadata": {},
     "output_type": "display_data"
    }
   ],
   "source": [
    "plt.plot(pca.explained_variance_ratio_, 'o-')"
   ]
  },
  {
   "cell_type": "code",
   "execution_count": 182,
   "metadata": {},
   "outputs": [
    {
     "data": {
      "text/plain": [
       "array([[ 0.11032263,  0.00548512,  0.0081741 , ..., -0.02166798,\n",
       "        -0.0193114 ,  0.00291085],\n",
       "       [-0.02332243, -0.05641037,  0.00347491, ...,  0.01069293,\n",
       "         0.00566619,  0.00119081],\n",
       "       [-0.02321316,  0.01433734, -0.03848654, ..., -0.00851461,\n",
       "         0.01547076,  0.00057743],\n",
       "       ...,\n",
       "       [-0.04964733,  0.02367006,  0.0017016 , ..., -0.01736614,\n",
       "         0.01159246,  0.00059924],\n",
       "       [-0.06276247,  0.03555679, -0.03379333, ..., -0.02414514,\n",
       "         0.00450964,  0.00887631],\n",
       "       [-0.0329133 ,  0.03761893, -0.03966885, ..., -0.03803147,\n",
       "         0.00994014,  0.02225727]])"
      ]
     },
     "execution_count": 182,
     "metadata": {},
     "output_type": "execute_result"
    }
   ],
   "source": [
    "pca_model = PCA(n_components= 16)\n",
    "z = pca_model.fit_transform(data)\n",
    "z"
   ]
  },
  {
   "cell_type": "code",
   "execution_count": 183,
   "metadata": {},
   "outputs": [
    {
     "data": {
      "text/plain": [
       "((408, 16), (137, 16), (408,), (137,))"
      ]
     },
     "execution_count": 183,
     "metadata": {},
     "output_type": "execute_result"
    }
   ],
   "source": [
    "target = df.iloc[:, -1]\n",
    "x_tr, x_te, y_tr, y_te = train_test_split(z, target, random_state= 111)\n",
    "x_tr.shape, x_te.shape, y_tr.shape, y_te.shape"
   ]
  },
  {
   "cell_type": "code",
   "execution_count": 184,
   "metadata": {},
   "outputs": [
    {
     "data": {
      "text/plain": [
       "0.9635036496350365"
      ]
     },
     "execution_count": 184,
     "metadata": {},
     "output_type": "execute_result"
    }
   ],
   "source": [
    "from sklearn.ensemble import RandomForestClassifier\n",
    "clf = RandomForestClassifier()\n",
    "clf.fit(x_tr, y_tr)\n",
    "clf.score(x_te, y_te)"
   ]
  },
  {
   "attachments": {},
   "cell_type": "markdown",
   "metadata": {},
   "source": [
    "# 2"
   ]
  },
  {
   "cell_type": "code",
   "execution_count": 199,
   "metadata": {},
   "outputs": [],
   "source": [
    "from sklearn.datasets import load_digits\n",
    "from sklearn.cluster import KMeans\n",
    "import pandas as pd\n",
    "import matplotlib.pyplot as plt"
   ]
  },
  {
   "cell_type": "code",
   "execution_count": 202,
   "metadata": {},
   "outputs": [],
   "source": [
    "arr_inertial=[]\n",
    "for n in range(2,50):\n",
    "    model = KMeans(n_clusters=n,random_state=10)\n",
    "    model.fit(data)\n",
    "    arr_inertial.append(model.inertia_)"
   ]
  },
  {
   "cell_type": "code",
   "execution_count": 203,
   "metadata": {},
   "outputs": [
    {
     "data": {
      "text/plain": [
       "Text(0, 0.5, 'inertial_value')"
      ]
     },
     "execution_count": 203,
     "metadata": {},
     "output_type": "execute_result"
    },
    {
     "data": {
      "image/png": "[encoded data removed]",
      "text/plain": [
       "<Figure size 640x480 with 1 Axes>"
      ]
     },
     "metadata": {},
     "output_type": "display_data"
    }
   ],
   "source": [
    "plt.plot(arr_inertial,'bo-')\n",
    "plt.xlabel('n_clusters_count')\n",
    "plt.ylabel('inertial_value')"
   ]
  },
  {
   "cell_type": "code",
   "execution_count": 205,
   "metadata": {},
   "outputs": [],
   "source": [
    "from sklearn.metrics import davies_bouldin_score"
   ]
  },
  {
   "cell_type": "code",
   "execution_count": 208,
   "metadata": {},
   "outputs": [],
   "source": [
    "db_score=[]\n",
    "for n in range(2,50):\n",
    "    model=KMeans(n_clusters=n,random_state=10)\n",
    "    model.fit(data)\n",
    "\n",
    "    sc=davies_bouldin_score(data,model.labels_)\n",
    "    db_score.append(sc)"
   ]
  },
  {
   "cell_type": "code",
   "execution_count": 209,
   "metadata": {},
   "outputs": [
    {
     "data": {
      "text/plain": [
       "Text(0, 0.5, 'davies_bouldin_score')"
      ]
     },
     "execution_count": 209,
     "metadata": {},
     "output_type": "execute_result"
    },
    {
     "data": {
      "image/png": "[encoded data removed]",
      "text/plain": [
       "<Figure size 640x480 with 1 Axes>"
      ]
     },
     "metadata": {},
     "output_type": "display_data"
    }
   ],
   "source": [
    "plt.plot(db_score,'bo-')\n",
    "plt.xlabel('n_clusters count')\n",
    "plt.ylabel('davies_bouldin_score')"
   ]
  },
  {
   "cell_type": "code",
   "execution_count": null,
   "metadata": {},
   "outputs": [],
   "source": []
  }
 ],
 "metadata": {
  "kernelspec": {
   "display_name": "ML",
   "language": "python",
   "name": "python3"
  },
  "language_info": {
   "codemirror_mode": {
    "name": "ipython",
    "version": 3
   },
   "file_extension": ".py",
   "mimetype": "text/x-python",
   "name": "python",
   "nbconvert_exporter": "python",
   "pygments_lexer": "ipython3",
   "version": "3.8.1"
  },
  "orig_nbformat": 4
 },
 "nbformat": 4,
 "nbformat_minor": 2
}
