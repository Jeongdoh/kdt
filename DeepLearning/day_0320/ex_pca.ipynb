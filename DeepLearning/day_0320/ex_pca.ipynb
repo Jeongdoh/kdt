{
 "cells": [
  {
   "attachments": {},
   "cell_type": "markdown",
   "metadata": {},
   "source": [
    "# 피쳐 추출 ==> 주성분(pca)\n",
    "\n",
    "* 데이터의 피쳐 (특성)들에서 주요 측성을 추출해내는 것\n",
    "\n",
    "* 기존에 없던 데이터가 추출"
   ]
  },
  {
   "cell_type": "code",
   "execution_count": 126,
   "metadata": {},
   "outputs": [],
   "source": [
    "# 모듈로딩 -----\n",
    "from sklearn.datasets import load_iris\n",
    "from sklearn.decomposition import pca\n",
    "import matplotlib.pyplot as plt"
   ]
  },
  {
   "cell_type": "code",
   "execution_count": 127,
   "metadata": {},
   "outputs": [],
   "source": [
    "irisData=load_iris()"
   ]
  },
  {
   "cell_type": "code",
   "execution_count": 128,
   "metadata": {},
   "outputs": [
    {
     "data": {
      "text/plain": [
       "{'data': array([[5.1, 3.5, 1.4, 0.2],\n",
       "        [4.9, 3. , 1.4, 0.2],\n",
       "        [4.7, 3.2, 1.3, 0.2],\n",
       "        [4.6, 3.1, 1.5, 0.2],\n",
       "        [5. , 3.6, 1.4, 0.2],\n",
       "        [5.4, 3.9, 1.7, 0.4],\n",
       "        [4.6, 3.4, 1.4, 0.3],\n",
       "        [5. , 3.4, 1.5, 0.2],\n",
       "        [4.4, 2.9, 1.4, 0.2],\n",
       "        [4.9, 3.1, 1.5, 0.1],\n",
       "        [5.4, 3.7, 1.5, 0.2],\n",
       "        [4.8, 3.4, 1.6, 0.2],\n",
       "        [4.8, 3. , 1.4, 0.1],\n",
       "        [4.3, 3. , 1.1, 0.1],\n",
       "        [5.8, 4. , 1.2, 0.2],\n",
       "        [5.7, 4.4, 1.5, 0.4],\n",
       "        [5.4, 3.9, 1.3, 0.4],\n",
       "        [5.1, 3.5, 1.4, 0.3],\n",
       "        [5.7, 3.8, 1.7, 0.3],\n",
       "        [5.1, 3.8, 1.5, 0.3],\n",
       "        [5.4, 3.4, 1.7, 0.2],\n",
       "        [5.1, 3.7, 1.5, 0.4],\n",
       "        [4.6, 3.6, 1. , 0.2],\n",
       "        [5.1, 3.3, 1.7, 0.5],\n",
       "        [4.8, 3.4, 1.9, 0.2],\n",
       "        [5. , 3. , 1.6, 0.2],\n",
       "        [5. , 3.4, 1.6, 0.4],\n",
       "        [5.2, 3.5, 1.5, 0.2],\n",
       "        [5.2, 3.4, 1.4, 0.2],\n",
       "        [4.7, 3.2, 1.6, 0.2],\n",
       "        [4.8, 3.1, 1.6, 0.2],\n",
       "        [5.4, 3.4, 1.5, 0.4],\n",
       "        [5.2, 4.1, 1.5, 0.1],\n",
       "        [5.5, 4.2, 1.4, 0.2],\n",
       "        [4.9, 3.1, 1.5, 0.2],\n",
       "        [5. , 3.2, 1.2, 0.2],\n",
       "        [5.5, 3.5, 1.3, 0.2],\n",
       "        [4.9, 3.6, 1.4, 0.1],\n",
       "        [4.4, 3. , 1.3, 0.2],\n",
       "        [5.1, 3.4, 1.5, 0.2],\n",
       "        [5. , 3.5, 1.3, 0.3],\n",
       "        [4.5, 2.3, 1.3, 0.3],\n",
       "        [4.4, 3.2, 1.3, 0.2],\n",
       "        [5. , 3.5, 1.6, 0.6],\n",
       "        [5.1, 3.8, 1.9, 0.4],\n",
       "        [4.8, 3. , 1.4, 0.3],\n",
       "        [5.1, 3.8, 1.6, 0.2],\n",
       "        [4.6, 3.2, 1.4, 0.2],\n",
       "        [5.3, 3.7, 1.5, 0.2],\n",
       "        [5. , 3.3, 1.4, 0.2],\n",
       "        [7. , 3.2, 4.7, 1.4],\n",
       "        [6.4, 3.2, 4.5, 1.5],\n",
       "        [6.9, 3.1, 4.9, 1.5],\n",
       "        [5.5, 2.3, 4. , 1.3],\n",
       "        [6.5, 2.8, 4.6, 1.5],\n",
       "        [5.7, 2.8, 4.5, 1.3],\n",
       "        [6.3, 3.3, 4.7, 1.6],\n",
       "        [4.9, 2.4, 3.3, 1. ],\n",
       "        [6.6, 2.9, 4.6, 1.3],\n",
       "        [5.2, 2.7, 3.9, 1.4],\n",
       "        [5. , 2. , 3.5, 1. ],\n",
       "        [5.9, 3. , 4.2, 1.5],\n",
       "        [6. , 2.2, 4. , 1. ],\n",
       "        [6.1, 2.9, 4.7, 1.4],\n",
       "        [5.6, 2.9, 3.6, 1.3],\n",
       "        [6.7, 3.1, 4.4, 1.4],\n",
       "        [5.6, 3. , 4.5, 1.5],\n",
       "        [5.8, 2.7, 4.1, 1. ],\n",
       "        [6.2, 2.2, 4.5, 1.5],\n",
       "        [5.6, 2.5, 3.9, 1.1],\n",
       "        [5.9, 3.2, 4.8, 1.8],\n",
       "        [6.1, 2.8, 4. , 1.3],\n",
       "        [6.3, 2.5, 4.9, 1.5],\n",
       "        [6.1, 2.8, 4.7, 1.2],\n",
       "        [6.4, 2.9, 4.3, 1.3],\n",
       "        [6.6, 3. , 4.4, 1.4],\n",
       "        [6.8, 2.8, 4.8, 1.4],\n",
       "        [6.7, 3. , 5. , 1.7],\n",
       "        [6. , 2.9, 4.5, 1.5],\n",
       "        [5.7, 2.6, 3.5, 1. ],\n",
       "        [5.5, 2.4, 3.8, 1.1],\n",
       "        [5.5, 2.4, 3.7, 1. ],\n",
       "        [5.8, 2.7, 3.9, 1.2],\n",
       "        [6. , 2.7, 5.1, 1.6],\n",
       "        [5.4, 3. , 4.5, 1.5],\n",
       "        [6. , 3.4, 4.5, 1.6],\n",
       "        [6.7, 3.1, 4.7, 1.5],\n",
       "        [6.3, 2.3, 4.4, 1.3],\n",
       "        [5.6, 3. , 4.1, 1.3],\n",
       "        [5.5, 2.5, 4. , 1.3],\n",
       "        [5.5, 2.6, 4.4, 1.2],\n",
       "        [6.1, 3. , 4.6, 1.4],\n",
       "        [5.8, 2.6, 4. , 1.2],\n",
       "        [5. , 2.3, 3.3, 1. ],\n",
       "        [5.6, 2.7, 4.2, 1.3],\n",
       "        [5.7, 3. , 4.2, 1.2],\n",
       "        [5.7, 2.9, 4.2, 1.3],\n",
       "        [6.2, 2.9, 4.3, 1.3],\n",
       "        [5.1, 2.5, 3. , 1.1],\n",
       "        [5.7, 2.8, 4.1, 1.3],\n",
       "        [6.3, 3.3, 6. , 2.5],\n",
       "        [5.8, 2.7, 5.1, 1.9],\n",
       "        [7.1, 3. , 5.9, 2.1],\n",
       "        [6.3, 2.9, 5.6, 1.8],\n",
       "        [6.5, 3. , 5.8, 2.2],\n",
       "        [7.6, 3. , 6.6, 2.1],\n",
       "        [4.9, 2.5, 4.5, 1.7],\n",
       "        [7.3, 2.9, 6.3, 1.8],\n",
       "        [6.7, 2.5, 5.8, 1.8],\n",
       "        [7.2, 3.6, 6.1, 2.5],\n",
       "        [6.5, 3.2, 5.1, 2. ],\n",
       "        [6.4, 2.7, 5.3, 1.9],\n",
       "        [6.8, 3. , 5.5, 2.1],\n",
       "        [5.7, 2.5, 5. , 2. ],\n",
       "        [5.8, 2.8, 5.1, 2.4],\n",
       "        [6.4, 3.2, 5.3, 2.3],\n",
       "        [6.5, 3. , 5.5, 1.8],\n",
       "        [7.7, 3.8, 6.7, 2.2],\n",
       "        [7.7, 2.6, 6.9, 2.3],\n",
       "        [6. , 2.2, 5. , 1.5],\n",
       "        [6.9, 3.2, 5.7, 2.3],\n",
       "        [5.6, 2.8, 4.9, 2. ],\n",
       "        [7.7, 2.8, 6.7, 2. ],\n",
       "        [6.3, 2.7, 4.9, 1.8],\n",
       "        [6.7, 3.3, 5.7, 2.1],\n",
       "        [7.2, 3.2, 6. , 1.8],\n",
       "        [6.2, 2.8, 4.8, 1.8],\n",
       "        [6.1, 3. , 4.9, 1.8],\n",
       "        [6.4, 2.8, 5.6, 2.1],\n",
       "        [7.2, 3. , 5.8, 1.6],\n",
       "        [7.4, 2.8, 6.1, 1.9],\n",
       "        [7.9, 3.8, 6.4, 2. ],\n",
       "        [6.4, 2.8, 5.6, 2.2],\n",
       "        [6.3, 2.8, 5.1, 1.5],\n",
       "        [6.1, 2.6, 5.6, 1.4],\n",
       "        [7.7, 3. , 6.1, 2.3],\n",
       "        [6.3, 3.4, 5.6, 2.4],\n",
       "        [6.4, 3.1, 5.5, 1.8],\n",
       "        [6. , 3. , 4.8, 1.8],\n",
       "        [6.9, 3.1, 5.4, 2.1],\n",
       "        [6.7, 3.1, 5.6, 2.4],\n",
       "        [6.9, 3.1, 5.1, 2.3],\n",
       "        [5.8, 2.7, 5.1, 1.9],\n",
       "        [6.8, 3.2, 5.9, 2.3],\n",
       "        [6.7, 3.3, 5.7, 2.5],\n",
       "        [6.7, 3. , 5.2, 2.3],\n",
       "        [6.3, 2.5, 5. , 1.9],\n",
       "        [6.5, 3. , 5.2, 2. ],\n",
       "        [6.2, 3.4, 5.4, 2.3],\n",
       "        [5.9, 3. , 5.1, 1.8]]),\n",
       " 'target': array([0, 0, 0, 0, 0, 0, 0, 0, 0, 0, 0, 0, 0, 0, 0, 0, 0, 0, 0, 0, 0, 0,\n",
       "        0, 0, 0, 0, 0, 0, 0, 0, 0, 0, 0, 0, 0, 0, 0, 0, 0, 0, 0, 0, 0, 0,\n",
       "        0, 0, 0, 0, 0, 0, 1, 1, 1, 1, 1, 1, 1, 1, 1, 1, 1, 1, 1, 1, 1, 1,\n",
       "        1, 1, 1, 1, 1, 1, 1, 1, 1, 1, 1, 1, 1, 1, 1, 1, 1, 1, 1, 1, 1, 1,\n",
       "        1, 1, 1, 1, 1, 1, 1, 1, 1, 1, 1, 1, 2, 2, 2, 2, 2, 2, 2, 2, 2, 2,\n",
       "        2, 2, 2, 2, 2, 2, 2, 2, 2, 2, 2, 2, 2, 2, 2, 2, 2, 2, 2, 2, 2, 2,\n",
       "        2, 2, 2, 2, 2, 2, 2, 2, 2, 2, 2, 2, 2, 2, 2, 2, 2, 2]),\n",
       " 'frame': None,\n",
       " 'target_names': array(['setosa', 'versicolor', 'virginica'], dtype='<U10'),\n",
       " 'DESCR': '.. _iris_dataset:\\n\\nIris plants dataset\\n--------------------\\n\\n**Data Set Characteristics:**\\n\\n    :Number of Instances: 150 (50 in each of three classes)\\n    :Number of Attributes: 4 numeric, predictive attributes and the class\\n    :Attribute Information:\\n        - sepal length in cm\\n        - sepal width in cm\\n        - petal length in cm\\n        - petal width in cm\\n        - class:\\n                - Iris-Setosa\\n                - Iris-Versicolour\\n                - Iris-Virginica\\n                \\n    :Summary Statistics:\\n\\n    ============== ==== ==== ======= ===== ====================\\n                    Min  Max   Mean    SD   Class Correlation\\n    ============== ==== ==== ======= ===== ====================\\n    sepal length:   4.3  7.9   5.84   0.83    0.7826\\n    sepal width:    2.0  4.4   3.05   0.43   -0.4194\\n    petal length:   1.0  6.9   3.76   1.76    0.9490  (high!)\\n    petal width:    0.1  2.5   1.20   0.76    0.9565  (high!)\\n    ============== ==== ==== ======= ===== ====================\\n\\n    :Missing Attribute Values: None\\n    :Class Distribution: 33.3% for each of 3 classes.\\n    :Creator: R.A. Fisher\\n    :Donor: Michael Marshall (MARSHALL%PLU@io.arc.nasa.gov)\\n    :Date: July, 1988\\n\\nThe famous Iris database, first used by Sir R.A. Fisher. The dataset is taken\\nfrom Fisher\\'s paper. Note that it\\'s the same as in R, but not as in the UCI\\nMachine Learning Repository, which has two wrong data points.\\n\\nThis is perhaps the best known database to be found in the\\npattern recognition literature.  Fisher\\'s paper is a classic in the field and\\nis referenced frequently to this day.  (See Duda & Hart, for example.)  The\\ndata set contains 3 classes of 50 instances each, where each class refers to a\\ntype of iris plant.  One class is linearly separable from the other 2; the\\nlatter are NOT linearly separable from each other.\\n\\n.. topic:: References\\n\\n   - Fisher, R.A. \"The use of multiple measurements in taxonomic problems\"\\n     Annual Eugenics, 7, Part II, 179-188 (1936); also in \"Contributions to\\n     Mathematical Statistics\" (John Wiley, NY, 1950).\\n   - Duda, R.O., & Hart, P.E. (1973) Pattern Classification and Scene Analysis.\\n     (Q327.D83) John Wiley & Sons.  ISBN 0-471-22361-1.  See page 218.\\n   - Dasarathy, B.V. (1980) \"Nosing Around the Neighborhood: A New System\\n     Structure and Classification Rule for Recognition in Partially Exposed\\n     Environments\".  IEEE Transactions on Pattern Analysis and Machine\\n     Intelligence, Vol. PAMI-2, No. 1, 67-71.\\n   - Gates, G.W. (1972) \"The Reduced Nearest Neighbor Rule\".  IEEE Transactions\\n     on Information Theory, May 1972, 431-433.\\n   - See also: 1988 MLC Proceedings, 54-64.  Cheeseman et al\"s AUTOCLASS II\\n     conceptual clustering system finds 3 classes in the data.\\n   - Many, many more ...',\n",
       " 'feature_names': ['sepal length (cm)',\n",
       "  'sepal width (cm)',\n",
       "  'petal length (cm)',\n",
       "  'petal width (cm)'],\n",
       " 'filename': 'c:\\\\Users\\\\y2kjd\\\\anaconda3\\\\envs\\\\ML\\\\lib\\\\site-packages\\\\sklearn\\\\datasets\\\\data\\\\iris.csv'}"
      ]
     },
     "execution_count": 128,
     "metadata": {},
     "output_type": "execute_result"
    }
   ],
   "source": [
    "irisData"
   ]
  },
  {
   "cell_type": "code",
   "execution_count": 129,
   "metadata": {},
   "outputs": [],
   "source": [
    "# 꽃받침의 길이, 너비\n",
    "data=irisData.data[:,:2]"
   ]
  },
  {
   "cell_type": "code",
   "execution_count": 130,
   "metadata": {},
   "outputs": [
    {
     "data": {
      "text/plain": [
       "array([[5.1, 3.5],\n",
       "       [4.9, 3. ],\n",
       "       [4.7, 3.2],\n",
       "       [4.6, 3.1],\n",
       "       [5. , 3.6],\n",
       "       [5.4, 3.9],\n",
       "       [4.6, 3.4],\n",
       "       [5. , 3.4],\n",
       "       [4.4, 2.9],\n",
       "       [4.9, 3.1],\n",
       "       [5.4, 3.7],\n",
       "       [4.8, 3.4],\n",
       "       [4.8, 3. ],\n",
       "       [4.3, 3. ],\n",
       "       [5.8, 4. ],\n",
       "       [5.7, 4.4],\n",
       "       [5.4, 3.9],\n",
       "       [5.1, 3.5],\n",
       "       [5.7, 3.8],\n",
       "       [5.1, 3.8],\n",
       "       [5.4, 3.4],\n",
       "       [5.1, 3.7],\n",
       "       [4.6, 3.6],\n",
       "       [5.1, 3.3],\n",
       "       [4.8, 3.4],\n",
       "       [5. , 3. ],\n",
       "       [5. , 3.4],\n",
       "       [5.2, 3.5],\n",
       "       [5.2, 3.4],\n",
       "       [4.7, 3.2],\n",
       "       [4.8, 3.1],\n",
       "       [5.4, 3.4],\n",
       "       [5.2, 4.1],\n",
       "       [5.5, 4.2],\n",
       "       [4.9, 3.1],\n",
       "       [5. , 3.2],\n",
       "       [5.5, 3.5],\n",
       "       [4.9, 3.6],\n",
       "       [4.4, 3. ],\n",
       "       [5.1, 3.4],\n",
       "       [5. , 3.5],\n",
       "       [4.5, 2.3],\n",
       "       [4.4, 3.2],\n",
       "       [5. , 3.5],\n",
       "       [5.1, 3.8],\n",
       "       [4.8, 3. ],\n",
       "       [5.1, 3.8],\n",
       "       [4.6, 3.2],\n",
       "       [5.3, 3.7],\n",
       "       [5. , 3.3],\n",
       "       [7. , 3.2],\n",
       "       [6.4, 3.2],\n",
       "       [6.9, 3.1],\n",
       "       [5.5, 2.3],\n",
       "       [6.5, 2.8],\n",
       "       [5.7, 2.8],\n",
       "       [6.3, 3.3],\n",
       "       [4.9, 2.4],\n",
       "       [6.6, 2.9],\n",
       "       [5.2, 2.7],\n",
       "       [5. , 2. ],\n",
       "       [5.9, 3. ],\n",
       "       [6. , 2.2],\n",
       "       [6.1, 2.9],\n",
       "       [5.6, 2.9],\n",
       "       [6.7, 3.1],\n",
       "       [5.6, 3. ],\n",
       "       [5.8, 2.7],\n",
       "       [6.2, 2.2],\n",
       "       [5.6, 2.5],\n",
       "       [5.9, 3.2],\n",
       "       [6.1, 2.8],\n",
       "       [6.3, 2.5],\n",
       "       [6.1, 2.8],\n",
       "       [6.4, 2.9],\n",
       "       [6.6, 3. ],\n",
       "       [6.8, 2.8],\n",
       "       [6.7, 3. ],\n",
       "       [6. , 2.9],\n",
       "       [5.7, 2.6],\n",
       "       [5.5, 2.4],\n",
       "       [5.5, 2.4],\n",
       "       [5.8, 2.7],\n",
       "       [6. , 2.7],\n",
       "       [5.4, 3. ],\n",
       "       [6. , 3.4],\n",
       "       [6.7, 3.1],\n",
       "       [6.3, 2.3],\n",
       "       [5.6, 3. ],\n",
       "       [5.5, 2.5],\n",
       "       [5.5, 2.6],\n",
       "       [6.1, 3. ],\n",
       "       [5.8, 2.6],\n",
       "       [5. , 2.3],\n",
       "       [5.6, 2.7],\n",
       "       [5.7, 3. ],\n",
       "       [5.7, 2.9],\n",
       "       [6.2, 2.9],\n",
       "       [5.1, 2.5],\n",
       "       [5.7, 2.8],\n",
       "       [6.3, 3.3],\n",
       "       [5.8, 2.7],\n",
       "       [7.1, 3. ],\n",
       "       [6.3, 2.9],\n",
       "       [6.5, 3. ],\n",
       "       [7.6, 3. ],\n",
       "       [4.9, 2.5],\n",
       "       [7.3, 2.9],\n",
       "       [6.7, 2.5],\n",
       "       [7.2, 3.6],\n",
       "       [6.5, 3.2],\n",
       "       [6.4, 2.7],\n",
       "       [6.8, 3. ],\n",
       "       [5.7, 2.5],\n",
       "       [5.8, 2.8],\n",
       "       [6.4, 3.2],\n",
       "       [6.5, 3. ],\n",
       "       [7.7, 3.8],\n",
       "       [7.7, 2.6],\n",
       "       [6. , 2.2],\n",
       "       [6.9, 3.2],\n",
       "       [5.6, 2.8],\n",
       "       [7.7, 2.8],\n",
       "       [6.3, 2.7],\n",
       "       [6.7, 3.3],\n",
       "       [7.2, 3.2],\n",
       "       [6.2, 2.8],\n",
       "       [6.1, 3. ],\n",
       "       [6.4, 2.8],\n",
       "       [7.2, 3. ],\n",
       "       [7.4, 2.8],\n",
       "       [7.9, 3.8],\n",
       "       [6.4, 2.8],\n",
       "       [6.3, 2.8],\n",
       "       [6.1, 2.6],\n",
       "       [7.7, 3. ],\n",
       "       [6.3, 3.4],\n",
       "       [6.4, 3.1],\n",
       "       [6. , 3. ],\n",
       "       [6.9, 3.1],\n",
       "       [6.7, 3.1],\n",
       "       [6.9, 3.1],\n",
       "       [5.8, 2.7],\n",
       "       [6.8, 3.2],\n",
       "       [6.7, 3.3],\n",
       "       [6.7, 3. ],\n",
       "       [6.3, 2.5],\n",
       "       [6.5, 3. ],\n",
       "       [6.2, 3.4],\n",
       "       [5.9, 3. ]])"
      ]
     },
     "execution_count": 130,
     "metadata": {},
     "output_type": "execute_result"
    }
   ],
   "source": [
    "data"
   ]
  },
  {
   "cell_type": "code",
   "execution_count": 131,
   "metadata": {},
   "outputs": [],
   "source": [
    "# 품종\n",
    "target=irisData.target"
   ]
  },
  {
   "cell_type": "code",
   "execution_count": 132,
   "metadata": {},
   "outputs": [],
   "source": [
    "# 컬럼명\n",
    "colname=irisData.feature_names[:2]"
   ]
  },
  {
   "cell_type": "code",
   "execution_count": 133,
   "metadata": {},
   "outputs": [],
   "source": [
    "import pandas as pd"
   ]
  },
  {
   "cell_type": "code",
   "execution_count": 134,
   "metadata": {},
   "outputs": [],
   "source": [
    "irisDF=pd.DataFrame(data, columns=colname)"
   ]
  },
  {
   "cell_type": "code",
   "execution_count": 135,
   "metadata": {},
   "outputs": [],
   "source": [
    "irisDF['target']=target"
   ]
  },
  {
   "cell_type": "code",
   "execution_count": 136,
   "metadata": {},
   "outputs": [
    {
     "data": {
      "text/html": [
       "<div>\n",
       "<style scoped>\n",
       "    .dataframe tbody tr th:only-of-type {\n",
       "        vertical-align: middle;\n",
       "    }\n",
       "\n",
       "    .dataframe tbody tr th {\n",
       "        vertical-align: top;\n",
       "    }\n",
       "\n",
       "    .dataframe thead th {\n",
       "        text-align: right;\n",
       "    }\n",
       "</style>\n",
       "<table border=\"1\" class=\"dataframe\">\n",
       "  <thead>\n",
       "    <tr style=\"text-align: right;\">\n",
       "      <th></th>\n",
       "      <th>sepal length (cm)</th>\n",
       "      <th>sepal width (cm)</th>\n",
       "      <th>target</th>\n",
       "    </tr>\n",
       "  </thead>\n",
       "  <tbody>\n",
       "    <tr>\n",
       "      <th>0</th>\n",
       "      <td>5.1</td>\n",
       "      <td>3.5</td>\n",
       "      <td>0</td>\n",
       "    </tr>\n",
       "    <tr>\n",
       "      <th>1</th>\n",
       "      <td>4.9</td>\n",
       "      <td>3.0</td>\n",
       "      <td>0</td>\n",
       "    </tr>\n",
       "    <tr>\n",
       "      <th>2</th>\n",
       "      <td>4.7</td>\n",
       "      <td>3.2</td>\n",
       "      <td>0</td>\n",
       "    </tr>\n",
       "  </tbody>\n",
       "</table>\n",
       "</div>"
      ],
      "text/plain": [
       "   sepal length (cm)  sepal width (cm)  target\n",
       "0                5.1               3.5       0\n",
       "1                4.9               3.0       0\n",
       "2                4.7               3.2       0"
      ]
     },
     "execution_count": 136,
     "metadata": {},
     "output_type": "execute_result"
    }
   ],
   "source": [
    "irisDF.head(3)"
   ]
  },
  {
   "attachments": {},
   "cell_type": "markdown",
   "metadata": {},
   "source": [
    "* 데이터 분포 확인 ==> 산점도"
   ]
  },
  {
   "cell_type": "code",
   "execution_count": 137,
   "metadata": {},
   "outputs": [
    {
     "data": {
      "text/plain": [
       "<matplotlib.legend.Legend at 0x26622657520>"
      ]
     },
     "execution_count": 137,
     "metadata": {},
     "output_type": "execute_result"
    },
    {
     "data": {
      "image/png": "[encoded data removed]",
      "text/plain": [
       "<Figure size 640x480 with 1 Axes>"
      ]
     },
     "metadata": {},
     "output_type": "display_data"
    }
   ],
   "source": [
    "plt.scatter((irisDF['sepal length (cm)']),irisDF['sepal width (cm)'],c=irisDF.target)\n",
    "plt.xlabel('sepal length')\n",
    "plt.ylabel('sepal width')\n",
    "plt.title('iris')\n",
    "plt.legend(['setosa','ver'])"
   ]
  },
  {
   "attachments": {},
   "cell_type": "markdown",
   "metadata": {},
   "source": [
    "## [주성분 추출]\n",
    "\n",
    "- (1) 스케일링\n",
    "- (2) 주성분 추출"
   ]
  },
  {
   "cell_type": "code",
   "execution_count": 138,
   "metadata": {},
   "outputs": [],
   "source": [
    "from sklearn.preprocessing import StandardScaler\n",
    "from sklearn.decomposition import PCA"
   ]
  },
  {
   "attachments": {},
   "cell_type": "markdown",
   "metadata": {},
   "source": [
    "* 스케일링"
   ]
  },
  {
   "cell_type": "code",
   "execution_count": 139,
   "metadata": {},
   "outputs": [],
   "source": [
    "# iris 4개 피쳐 설정\n",
    "irisDF4=pd.DataFrame(irisData.data, columns=irisData.feature_names)"
   ]
  },
  {
   "cell_type": "code",
   "execution_count": 140,
   "metadata": {},
   "outputs": [],
   "source": [
    "irisDF4['target']=irisData.target"
   ]
  },
  {
   "cell_type": "code",
   "execution_count": 155,
   "metadata": {},
   "outputs": [
    {
     "data": {
      "text/html": [
       "<div>\n",
       "<style scoped>\n",
       "    .dataframe tbody tr th:only-of-type {\n",
       "        vertical-align: middle;\n",
       "    }\n",
       "\n",
       "    .dataframe tbody tr th {\n",
       "        vertical-align: top;\n",
       "    }\n",
       "\n",
       "    .dataframe thead th {\n",
       "        text-align: right;\n",
       "    }\n",
       "</style>\n",
       "<table border=\"1\" class=\"dataframe\">\n",
       "  <thead>\n",
       "    <tr style=\"text-align: right;\">\n",
       "      <th></th>\n",
       "      <th>sepal length (cm)</th>\n",
       "      <th>sepal width (cm)</th>\n",
       "      <th>petal length (cm)</th>\n",
       "      <th>petal width (cm)</th>\n",
       "    </tr>\n",
       "  </thead>\n",
       "  <tbody>\n",
       "    <tr>\n",
       "      <th>0</th>\n",
       "      <td>5.1</td>\n",
       "      <td>3.5</td>\n",
       "      <td>1.4</td>\n",
       "      <td>0.2</td>\n",
       "    </tr>\n",
       "    <tr>\n",
       "      <th>1</th>\n",
       "      <td>4.9</td>\n",
       "      <td>3.0</td>\n",
       "      <td>1.4</td>\n",
       "      <td>0.2</td>\n",
       "    </tr>\n",
       "    <tr>\n",
       "      <th>2</th>\n",
       "      <td>4.7</td>\n",
       "      <td>3.2</td>\n",
       "      <td>1.3</td>\n",
       "      <td>0.2</td>\n",
       "    </tr>\n",
       "    <tr>\n",
       "      <th>3</th>\n",
       "      <td>4.6</td>\n",
       "      <td>3.1</td>\n",
       "      <td>1.5</td>\n",
       "      <td>0.2</td>\n",
       "    </tr>\n",
       "    <tr>\n",
       "      <th>4</th>\n",
       "      <td>5.0</td>\n",
       "      <td>3.6</td>\n",
       "      <td>1.4</td>\n",
       "      <td>0.2</td>\n",
       "    </tr>\n",
       "    <tr>\n",
       "      <th>...</th>\n",
       "      <td>...</td>\n",
       "      <td>...</td>\n",
       "      <td>...</td>\n",
       "      <td>...</td>\n",
       "    </tr>\n",
       "    <tr>\n",
       "      <th>145</th>\n",
       "      <td>6.7</td>\n",
       "      <td>3.0</td>\n",
       "      <td>5.2</td>\n",
       "      <td>2.3</td>\n",
       "    </tr>\n",
       "    <tr>\n",
       "      <th>146</th>\n",
       "      <td>6.3</td>\n",
       "      <td>2.5</td>\n",
       "      <td>5.0</td>\n",
       "      <td>1.9</td>\n",
       "    </tr>\n",
       "    <tr>\n",
       "      <th>147</th>\n",
       "      <td>6.5</td>\n",
       "      <td>3.0</td>\n",
       "      <td>5.2</td>\n",
       "      <td>2.0</td>\n",
       "    </tr>\n",
       "    <tr>\n",
       "      <th>148</th>\n",
       "      <td>6.2</td>\n",
       "      <td>3.4</td>\n",
       "      <td>5.4</td>\n",
       "      <td>2.3</td>\n",
       "    </tr>\n",
       "    <tr>\n",
       "      <th>149</th>\n",
       "      <td>5.9</td>\n",
       "      <td>3.0</td>\n",
       "      <td>5.1</td>\n",
       "      <td>1.8</td>\n",
       "    </tr>\n",
       "  </tbody>\n",
       "</table>\n",
       "<p>150 rows × 4 columns</p>\n",
       "</div>"
      ],
      "text/plain": [
       "     sepal length (cm)  sepal width (cm)  petal length (cm)  petal width (cm)\n",
       "0                  5.1               3.5                1.4               0.2\n",
       "1                  4.9               3.0                1.4               0.2\n",
       "2                  4.7               3.2                1.3               0.2\n",
       "3                  4.6               3.1                1.5               0.2\n",
       "4                  5.0               3.6                1.4               0.2\n",
       "..                 ...               ...                ...               ...\n",
       "145                6.7               3.0                5.2               2.3\n",
       "146                6.3               2.5                5.0               1.9\n",
       "147                6.5               3.0                5.2               2.0\n",
       "148                6.2               3.4                5.4               2.3\n",
       "149                5.9               3.0                5.1               1.8\n",
       "\n",
       "[150 rows x 4 columns]"
      ]
     },
     "execution_count": 155,
     "metadata": {},
     "output_type": "execute_result"
    }
   ],
   "source": [
    "irisDF4.iloc[:, :-1]"
   ]
  },
  {
   "cell_type": "code",
   "execution_count": 156,
   "metadata": {},
   "outputs": [
    {
     "data": {
      "text/plain": [
       "StandardScaler()"
      ]
     },
     "execution_count": 156,
     "metadata": {},
     "output_type": "execute_result"
    }
   ],
   "source": [
    "ss=StandardScaler()\n",
    "ss.fit(irisDF4.iloc[:, :-1])"
   ]
  },
  {
   "cell_type": "code",
   "execution_count": 157,
   "metadata": {},
   "outputs": [],
   "source": [
    "scaled_data=ss.transform(irisDF4.iloc[:, :-1])"
   ]
  },
  {
   "attachments": {},
   "cell_type": "markdown",
   "metadata": {},
   "source": [
    "- (2) 주성분 추출"
   ]
  },
  {
   "cell_type": "code",
   "execution_count": 158,
   "metadata": {},
   "outputs": [],
   "source": [
    "# 피쳐 4개 ==> 2개만 추출\n",
    "pca=PCA(n_components=2)"
   ]
  },
  {
   "cell_type": "code",
   "execution_count": 159,
   "metadata": {},
   "outputs": [],
   "source": [
    "# 피쳐 4개 ==> 2개만 추출\n",
    "pca=PCA(n_components=2)"
   ]
  },
  {
   "cell_type": "code",
   "execution_count": 160,
   "metadata": {},
   "outputs": [
    {
     "data": {
      "text/plain": [
       "PCA(n_components=2)"
      ]
     },
     "execution_count": 160,
     "metadata": {},
     "output_type": "execute_result"
    }
   ],
   "source": [
    "pca.fit(scaled_data)"
   ]
  },
  {
   "attachments": {},
   "cell_type": "markdown",
   "metadata": {},
   "source": [
    "- 주성분 추출 속성 확인"
   ]
  },
  {
   "cell_type": "code",
   "execution_count": 161,
   "metadata": {},
   "outputs": [
    {
     "data": {
      "text/plain": [
       "array([[ 0.52106591, -0.26934744,  0.5804131 ,  0.56485654],\n",
       "       [ 0.37741762,  0.92329566,  0.02449161,  0.06694199]])"
      ]
     },
     "execution_count": 161,
     "metadata": {},
     "output_type": "execute_result"
    }
   ],
   "source": [
    "pca.components_"
   ]
  },
  {
   "cell_type": "code",
   "execution_count": 162,
   "metadata": {},
   "outputs": [
    {
     "data": {
      "text/plain": [
       "array([2.93808505, 0.9201649 ])"
      ]
     },
     "execution_count": 162,
     "metadata": {},
     "output_type": "execute_result"
    }
   ],
   "source": [
    "pca.explained_variance_"
   ]
  },
  {
   "cell_type": "code",
   "execution_count": 163,
   "metadata": {},
   "outputs": [
    {
     "data": {
      "text/plain": [
       "array([0.72962445, 0.22850762])"
      ]
     },
     "execution_count": 163,
     "metadata": {},
     "output_type": "execute_result"
    }
   ],
   "source": [
    "pca.explained_variance_ratio_"
   ]
  },
  {
   "attachments": {},
   "cell_type": "markdown",
   "metadata": {},
   "source": [
    "- 주성분 변환"
   ]
  },
  {
   "cell_type": "code",
   "execution_count": 164,
   "metadata": {},
   "outputs": [],
   "source": [
    "pca_data=pca.transform(scaled_data)"
   ]
  },
  {
   "cell_type": "code",
   "execution_count": 165,
   "metadata": {},
   "outputs": [
    {
     "data": {
      "text/plain": [
       "array([[-2.26470281,  0.4800266 ],\n",
       "       [-2.08096115, -0.67413356],\n",
       "       [-2.36422905, -0.34190802],\n",
       "       [-2.29938422, -0.59739451],\n",
       "       [-2.38984217,  0.64683538],\n",
       "       [-2.07563095,  1.48917752],\n",
       "       [-2.44402884,  0.0476442 ],\n",
       "       [-2.23284716,  0.22314807],\n",
       "       [-2.33464048, -1.11532768],\n",
       "       [-2.18432817, -0.46901356],\n",
       "       [-2.1663101 ,  1.04369065],\n",
       "       [-2.32613087,  0.13307834],\n",
       "       [-2.2184509 , -0.72867617],\n",
       "       [-2.6331007 , -0.96150673],\n",
       "       [-2.1987406 ,  1.86005711],\n",
       "       [-2.26221453,  2.68628449],\n",
       "       [-2.2075877 ,  1.48360936],\n",
       "       [-2.19034951,  0.48883832],\n",
       "       [-1.898572  ,  1.40501879],\n",
       "       [-2.34336905,  1.12784938],\n",
       "       [-1.914323  ,  0.40885571],\n",
       "       [-2.20701284,  0.92412143],\n",
       "       [-2.7743447 ,  0.45834367],\n",
       "       [-1.81866953,  0.08555853],\n",
       "       [-2.22716331,  0.13725446],\n",
       "       [-1.95184633, -0.62561859],\n",
       "       [-2.05115137,  0.24216355],\n",
       "       [-2.16857717,  0.52714953],\n",
       "       [-2.13956345,  0.31321781],\n",
       "       [-2.26526149, -0.3377319 ],\n",
       "       [-2.14012214, -0.50454069],\n",
       "       [-1.83159477,  0.42369507],\n",
       "       [-2.61494794,  1.79357586],\n",
       "       [-2.44617739,  2.15072788],\n",
       "       [-2.10997488, -0.46020184],\n",
       "       [-2.2078089 , -0.2061074 ],\n",
       "       [-2.04514621,  0.66155811],\n",
       "       [-2.52733191,  0.59229277],\n",
       "       [-2.42963258, -0.90418004],\n",
       "       [-2.16971071,  0.26887896],\n",
       "       [-2.28647514,  0.44171539],\n",
       "       [-1.85812246, -2.33741516],\n",
       "       [-2.5536384 , -0.47910069],\n",
       "       [-1.96444768,  0.47232667],\n",
       "       [-2.13705901,  1.14222926],\n",
       "       [-2.0697443 , -0.71105273],\n",
       "       [-2.38473317,  1.1204297 ],\n",
       "       [-2.39437631, -0.38624687],\n",
       "       [-2.22944655,  0.99795976],\n",
       "       [-2.20383344,  0.00921636],\n",
       "       [ 1.10178118,  0.86297242],\n",
       "       [ 0.73133743,  0.59461473],\n",
       "       [ 1.24097932,  0.61629765],\n",
       "       [ 0.40748306, -1.75440399],\n",
       "       [ 1.0754747 , -0.20842105],\n",
       "       [ 0.38868734, -0.59328364],\n",
       "       [ 0.74652974,  0.77301931],\n",
       "       [-0.48732274, -1.85242909],\n",
       "       [ 0.92790164,  0.03222608],\n",
       "       [ 0.01142619, -1.03401828],\n",
       "       [-0.11019628, -2.65407282],\n",
       "       [ 0.44069345, -0.06329519],\n",
       "       [ 0.56210831, -1.76472438],\n",
       "       [ 0.71956189, -0.18622461],\n",
       "       [-0.0333547 , -0.43900321],\n",
       "       [ 0.87540719,  0.50906396],\n",
       "       [ 0.35025167, -0.19631173],\n",
       "       [ 0.15881005, -0.79209574],\n",
       "       [ 1.22509363, -1.6222438 ],\n",
       "       [ 0.1649179 , -1.30260923],\n",
       "       [ 0.73768265,  0.39657156],\n",
       "       [ 0.47628719, -0.41732028],\n",
       "       [ 1.2341781 , -0.93332573],\n",
       "       [ 0.6328582 , -0.41638772],\n",
       "       [ 0.70266118, -0.06341182],\n",
       "       [ 0.87427365,  0.25079339],\n",
       "       [ 1.25650912, -0.07725602],\n",
       "       [ 1.35840512,  0.33131168],\n",
       "       [ 0.66480037, -0.22592785],\n",
       "       [-0.04025861, -1.05871855],\n",
       "       [ 0.13079518, -1.56227183],\n",
       "       [ 0.02345269, -1.57247559],\n",
       "       [ 0.24153827, -0.77725638],\n",
       "       [ 1.06109461, -0.63384324],\n",
       "       [ 0.22397877, -0.28777351],\n",
       "       [ 0.42913912,  0.84558224],\n",
       "       [ 1.04872805,  0.5220518 ],\n",
       "       [ 1.04453138, -1.38298872],\n",
       "       [ 0.06958832, -0.21950333],\n",
       "       [ 0.28347724, -1.32932464],\n",
       "       [ 0.27907778, -1.12002852],\n",
       "       [ 0.62456979,  0.02492303],\n",
       "       [ 0.33653037, -0.98840402],\n",
       "       [-0.36218338, -2.01923787],\n",
       "       [ 0.28858624, -0.85573032],\n",
       "       [ 0.09136066, -0.18119213],\n",
       "       [ 0.22771687, -0.38492008],\n",
       "       [ 0.57638829, -0.1548736 ],\n",
       "       [-0.44766702, -1.54379203],\n",
       "       [ 0.25673059, -0.5988518 ],\n",
       "       [ 1.84456887,  0.87042131],\n",
       "       [ 1.15788161, -0.69886986],\n",
       "       [ 2.20526679,  0.56201048],\n",
       "       [ 1.44015066, -0.04698759],\n",
       "       [ 1.86781222,  0.29504482],\n",
       "       [ 2.75187334,  0.8004092 ],\n",
       "       [ 0.36701769, -1.56150289],\n",
       "       [ 2.30243944,  0.42006558],\n",
       "       [ 2.00668647, -0.71143865],\n",
       "       [ 2.25977735,  1.92101038],\n",
       "       [ 1.36417549,  0.69275645],\n",
       "       [ 1.60267867, -0.42170045],\n",
       "       [ 1.8839007 ,  0.41924965],\n",
       "       [ 1.2601151 , -1.16226042],\n",
       "       [ 1.4676452 , -0.44227159],\n",
       "       [ 1.59007732,  0.67624481],\n",
       "       [ 1.47143146,  0.25562182],\n",
       "       [ 2.42632899,  2.55666125],\n",
       "       [ 3.31069558,  0.01778095],\n",
       "       [ 1.26376667, -1.70674538],\n",
       "       [ 2.0377163 ,  0.91046741],\n",
       "       [ 0.97798073, -0.57176432],\n",
       "       [ 2.89765149,  0.41364106],\n",
       "       [ 1.33323218, -0.48181122],\n",
       "       [ 1.7007339 ,  1.01392187],\n",
       "       [ 1.95432671,  1.0077776 ],\n",
       "       [ 1.17510363, -0.31639447],\n",
       "       [ 1.02095055,  0.06434603],\n",
       "       [ 1.78834992, -0.18736121],\n",
       "       [ 1.86364755,  0.56229073],\n",
       "       [ 2.43595373,  0.25928443],\n",
       "       [ 2.30492772,  2.62632347],\n",
       "       [ 1.86270322, -0.17854949],\n",
       "       [ 1.11414774, -0.29292262],\n",
       "       [ 1.2024733 , -0.81131527],\n",
       "       [ 2.79877045,  0.85680333],\n",
       "       [ 1.57625591,  1.06858111],\n",
       "       [ 1.3462921 ,  0.42243061],\n",
       "       [ 0.92482492,  0.0172231 ],\n",
       "       [ 1.85204505,  0.67612817],\n",
       "       [ 2.01481043,  0.61388564],\n",
       "       [ 1.90178409,  0.68957549],\n",
       "       [ 1.15788161, -0.69886986],\n",
       "       [ 2.04055823,  0.8675206 ],\n",
       "       [ 1.9981471 ,  1.04916875],\n",
       "       [ 1.87050329,  0.38696608],\n",
       "       [ 1.56458048, -0.89668681],\n",
       "       [ 1.5211705 ,  0.26906914],\n",
       "       [ 1.37278779,  1.01125442],\n",
       "       [ 0.96065603, -0.02433167]])"
      ]
     },
     "execution_count": 165,
     "metadata": {},
     "output_type": "execute_result"
    }
   ],
   "source": [
    "pca_data"
   ]
  },
  {
   "attachments": {},
   "cell_type": "markdown",
   "metadata": {},
   "source": [
    "- 2개의 주성분으로 3가지 품종 분류"
   ]
  },
  {
   "cell_type": "code",
   "execution_count": 166,
   "metadata": {},
   "outputs": [
    {
     "data": {
      "text/plain": [
       "(array([-2.26470281, -2.08096115, -2.36422905, -2.29938422, -2.38984217,\n",
       "        -2.07563095, -2.44402884, -2.23284716, -2.33464048, -2.18432817,\n",
       "        -2.1663101 , -2.32613087, -2.2184509 , -2.6331007 , -2.1987406 ,\n",
       "        -2.26221453, -2.2075877 , -2.19034951, -1.898572  , -2.34336905,\n",
       "        -1.914323  , -2.20701284, -2.7743447 , -1.81866953, -2.22716331,\n",
       "        -1.95184633, -2.05115137, -2.16857717, -2.13956345, -2.26526149,\n",
       "        -2.14012214, -1.83159477, -2.61494794, -2.44617739, -2.10997488,\n",
       "        -2.2078089 , -2.04514621, -2.52733191, -2.42963258, -2.16971071,\n",
       "        -2.28647514, -1.85812246, -2.5536384 , -1.96444768, -2.13705901,\n",
       "        -2.0697443 , -2.38473317, -2.39437631, -2.22944655, -2.20383344,\n",
       "         1.10178118,  0.73133743,  1.24097932,  0.40748306,  1.0754747 ,\n",
       "         0.38868734,  0.74652974, -0.48732274,  0.92790164,  0.01142619,\n",
       "        -0.11019628,  0.44069345,  0.56210831,  0.71956189, -0.0333547 ,\n",
       "         0.87540719,  0.35025167,  0.15881005,  1.22509363,  0.1649179 ,\n",
       "         0.73768265,  0.47628719,  1.2341781 ,  0.6328582 ,  0.70266118,\n",
       "         0.87427365,  1.25650912,  1.35840512,  0.66480037, -0.04025861,\n",
       "         0.13079518,  0.02345269,  0.24153827,  1.06109461,  0.22397877,\n",
       "         0.42913912,  1.04872805,  1.04453138,  0.06958832,  0.28347724,\n",
       "         0.27907778,  0.62456979,  0.33653037, -0.36218338,  0.28858624,\n",
       "         0.09136066,  0.22771687,  0.57638829, -0.44766702,  0.25673059,\n",
       "         1.84456887,  1.15788161,  2.20526679,  1.44015066,  1.86781222,\n",
       "         2.75187334,  0.36701769,  2.30243944,  2.00668647,  2.25977735,\n",
       "         1.36417549,  1.60267867,  1.8839007 ,  1.2601151 ,  1.4676452 ,\n",
       "         1.59007732,  1.47143146,  2.42632899,  3.31069558,  1.26376667,\n",
       "         2.0377163 ,  0.97798073,  2.89765149,  1.33323218,  1.7007339 ,\n",
       "         1.95432671,  1.17510363,  1.02095055,  1.78834992,  1.86364755,\n",
       "         2.43595373,  2.30492772,  1.86270322,  1.11414774,  1.2024733 ,\n",
       "         2.79877045,  1.57625591,  1.3462921 ,  0.92482492,  1.85204505,\n",
       "         2.01481043,  1.90178409,  1.15788161,  2.04055823,  1.9981471 ,\n",
       "         1.87050329,  1.56458048,  1.5211705 ,  1.37278779,  0.96065603]),\n",
       " array([ 0.4800266 , -0.67413356, -0.34190802, -0.59739451,  0.64683538,\n",
       "         1.48917752,  0.0476442 ,  0.22314807, -1.11532768, -0.46901356,\n",
       "         1.04369065,  0.13307834, -0.72867617, -0.96150673,  1.86005711,\n",
       "         2.68628449,  1.48360936,  0.48883832,  1.40501879,  1.12784938,\n",
       "         0.40885571,  0.92412143,  0.45834367,  0.08555853,  0.13725446,\n",
       "        -0.62561859,  0.24216355,  0.52714953,  0.31321781, -0.3377319 ,\n",
       "        -0.50454069,  0.42369507,  1.79357586,  2.15072788, -0.46020184,\n",
       "        -0.2061074 ,  0.66155811,  0.59229277, -0.90418004,  0.26887896,\n",
       "         0.44171539, -2.33741516, -0.47910069,  0.47232667,  1.14222926,\n",
       "        -0.71105273,  1.1204297 , -0.38624687,  0.99795976,  0.00921636,\n",
       "         0.86297242,  0.59461473,  0.61629765, -1.75440399, -0.20842105,\n",
       "        -0.59328364,  0.77301931, -1.85242909,  0.03222608, -1.03401828,\n",
       "        -2.65407282, -0.06329519, -1.76472438, -0.18622461, -0.43900321,\n",
       "         0.50906396, -0.19631173, -0.79209574, -1.6222438 , -1.30260923,\n",
       "         0.39657156, -0.41732028, -0.93332573, -0.41638772, -0.06341182,\n",
       "         0.25079339, -0.07725602,  0.33131168, -0.22592785, -1.05871855,\n",
       "        -1.56227183, -1.57247559, -0.77725638, -0.63384324, -0.28777351,\n",
       "         0.84558224,  0.5220518 , -1.38298872, -0.21950333, -1.32932464,\n",
       "        -1.12002852,  0.02492303, -0.98840402, -2.01923787, -0.85573032,\n",
       "        -0.18119213, -0.38492008, -0.1548736 , -1.54379203, -0.5988518 ,\n",
       "         0.87042131, -0.69886986,  0.56201048, -0.04698759,  0.29504482,\n",
       "         0.8004092 , -1.56150289,  0.42006558, -0.71143865,  1.92101038,\n",
       "         0.69275645, -0.42170045,  0.41924965, -1.16226042, -0.44227159,\n",
       "         0.67624481,  0.25562182,  2.55666125,  0.01778095, -1.70674538,\n",
       "         0.91046741, -0.57176432,  0.41364106, -0.48181122,  1.01392187,\n",
       "         1.0077776 , -0.31639447,  0.06434603, -0.18736121,  0.56229073,\n",
       "         0.25928443,  2.62632347, -0.17854949, -0.29292262, -0.81131527,\n",
       "         0.85680333,  1.06858111,  0.42243061,  0.0172231 ,  0.67612817,\n",
       "         0.61388564,  0.68957549, -0.69886986,  0.8675206 ,  1.04916875,\n",
       "         0.38696608, -0.89668681,  0.26906914,  1.01125442, -0.02433167]))"
      ]
     },
     "execution_count": 166,
     "metadata": {},
     "output_type": "execute_result"
    }
   ],
   "source": [
    "pca_data[:,0], pca_data[:,1]"
   ]
  },
  {
   "cell_type": "code",
   "execution_count": 167,
   "metadata": {},
   "outputs": [],
   "source": [
    "pca_data=pca.transform(scaled_data)"
   ]
  },
  {
   "cell_type": "code",
   "execution_count": 169,
   "metadata": {},
   "outputs": [
    {
     "data": {
      "text/plain": [
       "Text(0, 0.5, 'pca_component2')"
      ]
     },
     "execution_count": 169,
     "metadata": {},
     "output_type": "execute_result"
    },
    {
     "data": {
      "image/png": "[encoded data removed]",
      "text/plain": [
       "<Figure size 640x480 with 1 Axes>"
      ]
     },
     "metadata": {},
     "output_type": "display_data"
    }
   ],
   "source": [
    "plt.scatter(pca_data[:,0], pca_data[:,1],c=irisDF4.target)\n",
    "plt.xlabel('pca_component1')\n",
    "plt.ylabel('pca_component2')"
   ]
  },
  {
   "cell_type": "code",
   "execution_count": null,
   "metadata": {},
   "outputs": [],
   "source": []
  }
 ],
 "metadata": {
  "kernelspec": {
   "display_name": "ML",
   "language": "python",
   "name": "python3"
  },
  "language_info": {
   "codemirror_mode": {
    "name": "ipython",
    "version": 3
   },
   "file_extension": ".py",
   "mimetype": "text/x-python",
   "name": "python",
   "nbconvert_exporter": "python",
   "pygments_lexer": "ipython3",
   "version": "3.8.1"
  },
  "orig_nbformat": 4
 },
 "nbformat": 4,
 "nbformat_minor": 2
}
