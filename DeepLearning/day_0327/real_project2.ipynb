{
 "cells": [
  {
   "cell_type": "code",
   "execution_count": 2,
   "metadata": {},
   "outputs": [],
   "source": [
    "import tensorflow as tf\n",
    "from tensorflow import keras\n",
    "from tensorflow.keras import layers\n",
    "import numpy as np\n",
    "import pandas as pd\n",
    "import matplotlib.pyplot as plt"
   ]
  },
  {
   "cell_type": "code",
   "execution_count": 3,
   "metadata": {},
   "outputs": [],
   "source": [
    "# 데이터 불러오기\n",
    "train_data = pd.read_csv('./data/sign_mnist_train.csv')\n",
    "test_data = pd.read_csv('./data/sign_mnist_test.csv')\n",
    "\n",
    "# 라벨 분리하기\n",
    "train_label = train_data['label']\n",
    "test_label = test_data['label']\n",
    "\n",
    "# 이미지 데이터 분리하기\n",
    "train_data = train_data.drop('label', axis=1)\n",
    "test_data = test_data.drop('label', axis=1)\n",
    "\n",
    "# numpy 배열로 변환하기\n",
    "train_data = np.array(train_data)\n",
    "test_data = np.array(test_data)\n",
    "train_label = np.array(train_label)\n",
    "test_label = np.array(test_label)"
   ]
  },
  {
   "cell_type": "code",
   "execution_count": 4,
   "metadata": {},
   "outputs": [],
   "source": [
    "# 클래스 개수\n",
    "num_classes = 25\n",
    "\n",
    "# 입력 이미지 크기\n",
    "input_shape = (28, 28, 1)\n",
    "\n",
    "# 이미지 데이터 정규화\n",
    "train_data = train_data.reshape(train_data.shape[0], *input_shape) / 255.0\n",
    "test_data = test_data.reshape(test_data.shape[0], *input_shape) / 255.0\n",
    "\n",
    "# 라벨 데이터 one-hot encoding\n",
    "train_label = tf.keras.utils.to_categorical(train_label, num_classes)\n",
    "test_label = tf.keras.utils.to_categorical(test_label, num_classes)\n"
   ]
  },
  {
   "cell_type": "code",
   "execution_count": 5,
   "metadata": {},
   "outputs": [
    {
     "name": "stdout",
     "output_type": "stream",
     "text": [
      "Model: \"sequential\"\n",
      "_________________________________________________________________\n",
      " Layer (type)                Output Shape              Param #   \n",
      "=================================================================\n",
      " conv2d (Conv2D)             (None, 26, 26, 32)        320       \n",
      "                                                                 \n",
      " max_pooling2d (MaxPooling2D  (None, 13, 13, 32)       0         \n",
      " )                                                               \n",
      "                                                                 \n",
      " conv2d_1 (Conv2D)           (None, 11, 11, 64)        18496     \n",
      "                                                                 \n",
      " max_pooling2d_1 (MaxPooling  (None, 5, 5, 64)         0         \n",
      " 2D)                                                             \n",
      "                                                                 \n",
      " flatten (Flatten)           (None, 1600)              0         \n",
      "                                                                 \n",
      " dropout (Dropout)           (None, 1600)              0         \n",
      "                                                                 \n",
      " dense (Dense)               (None, 25)                40025     \n",
      "                                                                 \n",
      "=================================================================\n",
      "Total params: 58,841\n",
      "Trainable params: 58,841\n",
      "Non-trainable params: 0\n",
      "_________________________________________________________________\n"
     ]
    }
   ],
   "source": [
    "model = keras.Sequential(\n",
    "    [\n",
    "        layers.Conv2D(32, kernel_size=(3, 3), activation=\"relu\", input_shape=input_shape),\n",
    "        layers.MaxPooling2D(pool_size=(2, 2)),\n",
    "        layers.Conv2D(64, kernel_size=(3, 3), activation=\"relu\"),\n",
    "        layers.MaxPooling2D(pool_size=(2, 2)),\n",
    "        layers.Flatten(),\n",
    "        layers.Dropout(0.5),\n",
    "        layers.Dense(num_classes, activation=\"softmax\")\n",
    "]\n",
    ")\n",
    "\n",
    "model.summary()\n"
   ]
  },
  {
   "cell_type": "code",
   "execution_count": 6,
   "metadata": {},
   "outputs": [
    {
     "name": "stdout",
     "output_type": "stream",
     "text": [
      "Epoch 1/20\n",
      "194/194 [==============================] - 6s 27ms/step - loss: 2.0284 - accuracy: 0.4149 - val_loss: 0.7535 - val_accuracy: 0.8015\n",
      "Epoch 2/20\n",
      "194/194 [==============================] - 6s 30ms/step - loss: 0.6712 - accuracy: 0.7915 - val_loss: 0.3361 - val_accuracy: 0.9144\n",
      "Epoch 3/20\n",
      "194/194 [==============================] - 6s 30ms/step - loss: 0.3719 - accuracy: 0.8828 - val_loss: 0.1560 - val_accuracy: 0.9818\n",
      "Epoch 4/20\n",
      "194/194 [==============================] - 6s 29ms/step - loss: 0.2405 - accuracy: 0.9249 - val_loss: 0.0837 - val_accuracy: 0.9931\n",
      "Epoch 5/20\n",
      "194/194 [==============================] - 6s 32ms/step - loss: 0.1671 - accuracy: 0.9494 - val_loss: 0.0517 - val_accuracy: 0.9960\n",
      "Epoch 6/20\n",
      "194/194 [==============================] - 6s 32ms/step - loss: 0.1273 - accuracy: 0.9613 - val_loss: 0.0293 - val_accuracy: 0.9993\n",
      "Epoch 7/20\n",
      "194/194 [==============================] - 6s 31ms/step - loss: 0.0980 - accuracy: 0.9714 - val_loss: 0.0257 - val_accuracy: 0.9993\n",
      "Epoch 8/20\n",
      "194/194 [==============================] - 6s 31ms/step - loss: 0.0833 - accuracy: 0.9756 - val_loss: 0.0190 - val_accuracy: 0.9996\n",
      "Epoch 9/20\n",
      "194/194 [==============================] - 6s 31ms/step - loss: 0.0707 - accuracy: 0.9795 - val_loss: 0.0116 - val_accuracy: 1.0000\n",
      "Epoch 10/20\n",
      "194/194 [==============================] - 6s 33ms/step - loss: 0.0589 - accuracy: 0.9827 - val_loss: 0.0115 - val_accuracy: 1.0000\n",
      "Epoch 11/20\n",
      "194/194 [==============================] - 6s 31ms/step - loss: 0.0533 - accuracy: 0.9850 - val_loss: 0.0081 - val_accuracy: 1.0000\n",
      "Epoch 12/20\n",
      "194/194 [==============================] - 6s 31ms/step - loss: 0.0495 - accuracy: 0.9860 - val_loss: 0.0059 - val_accuracy: 1.0000\n",
      "Epoch 13/20\n",
      "194/194 [==============================] - 6s 33ms/step - loss: 0.0418 - accuracy: 0.9885 - val_loss: 0.0070 - val_accuracy: 1.0000\n",
      "Epoch 14/20\n",
      "194/194 [==============================] - 6s 31ms/step - loss: 0.0395 - accuracy: 0.9893 - val_loss: 0.0037 - val_accuracy: 1.0000\n",
      "Epoch 15/20\n",
      "194/194 [==============================] - 7s 35ms/step - loss: 0.0360 - accuracy: 0.9895 - val_loss: 0.0048 - val_accuracy: 1.0000\n",
      "Epoch 16/20\n",
      "194/194 [==============================] - 9s 48ms/step - loss: 0.0314 - accuracy: 0.9910 - val_loss: 0.0026 - val_accuracy: 1.0000\n",
      "Epoch 17/20\n",
      "194/194 [==============================] - 7s 37ms/step - loss: 0.0265 - accuracy: 0.9926 - val_loss: 0.0024 - val_accuracy: 1.0000\n",
      "Epoch 18/20\n",
      "194/194 [==============================] - 7s 38ms/step - loss: 0.0263 - accuracy: 0.9928 - val_loss: 0.0043 - val_accuracy: 1.0000\n",
      "Epoch 19/20\n",
      "194/194 [==============================] - 7s 37ms/step - loss: 0.0421 - accuracy: 0.9873 - val_loss: 0.0028 - val_accuracy: 1.0000\n",
      "Epoch 20/20\n",
      "194/194 [==============================] - 7s 37ms/step - loss: 0.0255 - accuracy: 0.9930 - val_loss: 0.0021 - val_accuracy: 1.0000\n"
     ]
    }
   ],
   "source": [
    "# 위 코드에서는 총 5개의 레이어를 사용하여 모델을 만들었습니다. \n",
    "# 첫 번째 레이어는 3x3 크기의 커널을 가지는 32개의 필터를 사용하고, \n",
    "# 입력 이미지의 크기를 (28, 28, 1)로 지정합니다. \n",
    "# 이후에는 MaxPooling 레이어를 사용하여 이미지를 줄여나갑니다. \n",
    "# 이어서 3x3 크기의 커널을 가지는 64개의 필터를 사용하는 Conv2D 레이어를 추가합니다. \n",
    "# 다시 한 번 MaxPooling 레이어를 사용하여 이미지를 줄입니다. \n",
    "# 그리고 Flatten 레이어를 사용하여 2차원 이미지를 1차원으로 바꾼 후에 Dropout 레이어를 추가합니다. \n",
    "# 마지막으로 Dense 레이어를 사용하여 출력을 생성합니다.\n",
    "\n",
    "# 이제 모델을 컴파일하고 학습시켜보겠습니다.\n",
    "\n",
    "\n",
    "model.compile(loss=\"categorical_crossentropy\", optimizer=\"adam\", metrics=[\"accuracy\"])\n",
    "history = model.fit(train_data, train_label, batch_size=128, epochs=20, validation_split=0.1)\n"
   ]
  },
  {
   "cell_type": "code",
   "execution_count": 7,
   "metadata": {},
   "outputs": [
    {
     "name": "stdout",
     "output_type": "stream",
     "text": [
      "225/225 [==============================] - 1s 4ms/step - loss: 0.2306 - accuracy: 0.9396\n",
      "Test accuracy: 0.9396263360977173\n"
     ]
    }
   ],
   "source": [
    "# 학습이 완료되면, 테스트 데이터를 사용하여 모델의 정확도를 평가.\n",
    "test_loss, test_acc = model.evaluate(test_data, test_label)\n",
    "print(\"Test accuracy:\", test_acc)"
   ]
  },
  {
   "cell_type": "code",
   "execution_count": 8,
   "metadata": {},
   "outputs": [],
   "source": [
    "from PIL import Image"
   ]
  },
  {
   "cell_type": "code",
   "execution_count": 9,
   "metadata": {},
   "outputs": [],
   "source": [
    "x_img=Image.open('./data//O.jpg')"
   ]
  },
  {
   "cell_type": "code",
   "execution_count": 10,
   "metadata": {},
   "outputs": [
    {
     "data": {
      "text/plain": [
       "(4000, 3000)"
      ]
     },
     "execution_count": 10,
     "metadata": {},
     "output_type": "execute_result"
    }
   ],
   "source": [
    "x_img.size"
   ]
  },
  {
   "cell_type": "code",
   "execution_count": 11,
   "metadata": {},
   "outputs": [],
   "source": [
    "x_img=x_img.resize((28,28))"
   ]
  },
  {
   "cell_type": "code",
   "execution_count": 12,
   "metadata": {},
   "outputs": [],
   "source": [
    "x_img=x_img.convert('L')"
   ]
  },
  {
   "cell_type": "code",
   "execution_count": 13,
   "metadata": {},
   "outputs": [],
   "source": [
    "x_img=x_img.rotate(angle=-90)"
   ]
  },
  {
   "cell_type": "code",
   "execution_count": 14,
   "metadata": {},
   "outputs": [
    {
     "data": {
      "image/png": "[encoded data removed]",
      "text/plain": [
       "<PIL.Image.Image image mode=L size=28x28>"
      ]
     },
     "execution_count": 14,
     "metadata": {},
     "output_type": "execute_result"
    }
   ],
   "source": [
    "x_img"
   ]
  },
  {
   "cell_type": "code",
   "execution_count": 15,
   "metadata": {},
   "outputs": [],
   "source": [
    "x_array=np.array(x_img)"
   ]
  },
  {
   "cell_type": "code",
   "execution_count": 16,
   "metadata": {},
   "outputs": [],
   "source": [
    "x_img.close()"
   ]
  },
  {
   "cell_type": "code",
   "execution_count": 17,
   "metadata": {},
   "outputs": [
    {
     "data": {
      "text/plain": [
       "(28, 28)"
      ]
     },
     "execution_count": 17,
     "metadata": {},
     "output_type": "execute_result"
    }
   ],
   "source": [
    "x_array.shape"
   ]
  },
  {
   "cell_type": "code",
   "execution_count": 18,
   "metadata": {},
   "outputs": [],
   "source": [
    "x_array= x_array.reshape(1,28,28,1)"
   ]
  },
  {
   "cell_type": "code",
   "execution_count": 19,
   "metadata": {},
   "outputs": [
    {
     "name": "stdout",
     "output_type": "stream",
     "text": [
      "1/1 [==============================] - 0s 99ms/step\n"
     ]
    }
   ],
   "source": [
    "result=model.predict(x_array)"
   ]
  },
  {
   "cell_type": "code",
   "execution_count": 20,
   "metadata": {},
   "outputs": [
    {
     "data": {
      "text/plain": [
       "(1, 25)"
      ]
     },
     "execution_count": 20,
     "metadata": {},
     "output_type": "execute_result"
    }
   ],
   "source": [
    "result.shape"
   ]
  },
  {
   "cell_type": "code",
   "execution_count": 21,
   "metadata": {},
   "outputs": [
    {
     "data": {
      "text/plain": [
       "array([[0., 0., 0., 0., 0., 0., 1., 0., 0., 0., 0., 0., 0., 0., 0., 0.,\n",
       "        0., 0., 0., 0., 0., 0., 0., 0., 0.]], dtype=float32)"
      ]
     },
     "execution_count": 21,
     "metadata": {},
     "output_type": "execute_result"
    }
   ],
   "source": [
    "result"
   ]
  },
  {
   "cell_type": "code",
   "execution_count": 22,
   "metadata": {},
   "outputs": [
    {
     "data": {
      "text/plain": [
       "array([6], dtype=int64)"
      ]
     },
     "execution_count": 22,
     "metadata": {},
     "output_type": "execute_result"
    }
   ],
   "source": [
    "result.argmax(-1)"
   ]
  },
  {
   "cell_type": "code",
   "execution_count": 23,
   "metadata": {},
   "outputs": [
    {
     "data": {
      "text/plain": [
       "<matplotlib.image.AxesImage at 0x2d780e76130>"
      ]
     },
     "execution_count": 23,
     "metadata": {},
     "output_type": "execute_result"
    },
    {
     "data": {
      "image/png": "[encoded data removed]",
      "text/plain": [
       "<Figure size 640x480 with 1 Axes>"
      ]
     },
     "metadata": {},
     "output_type": "display_data"
    }
   ],
   "source": [
    "plt.imshow(x_array.reshape(28,28,1),cmap='gray')"
   ]
  },
  {
   "cell_type": "code",
   "execution_count": 24,
   "metadata": {},
   "outputs": [
    {
     "data": {
      "text/plain": [
       "<matplotlib.image.AxesImage at 0x2d781063af0>"
      ]
     },
     "execution_count": 24,
     "metadata": {},
     "output_type": "execute_result"
    },
    {
     "data": {
      "image/png": "[encoded data removed]",
      "text/plain": [
       "<Figure size 640x480 with 1 Axes>"
      ]
     },
     "metadata": {},
     "output_type": "display_data"
    }
   ],
   "source": [
    "df = pd.read_csv('./data/sign_mnist_train.csv')\n",
    "sample = df[df['label']==0]\n",
    "len(sample)\n",
    "sample_array = sample.iloc[0,1:].values\n",
    "sample_array = sample_array.reshape(28,28,1)\n",
    "plt.imshow(sample_array,cmap='gray')"
   ]
  },
  {
   "cell_type": "code",
   "execution_count": null,
   "metadata": {},
   "outputs": [],
   "source": []
  }
 ],
 "metadata": {
  "kernelspec": {
   "display_name": "base",
   "language": "python",
   "name": "python3"
  },
  "language_info": {
   "codemirror_mode": {
    "name": "ipython",
    "version": 3
   },
   "file_extension": ".py",
   "mimetype": "text/x-python",
   "name": "python",
   "nbconvert_exporter": "python",
   "pygments_lexer": "ipython3",
   "version": "3.9.13"
  },
  "orig_nbformat": 4
 },
 "nbformat": 4,
 "nbformat_minor": 2
}
