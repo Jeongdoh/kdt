{
 "cells": [
  {
   "cell_type": "code",
   "execution_count": 41,
   "metadata": {},
   "outputs": [],
   "source": [
    "# 타이타닉 생존 예측\n",
    "# Survival: 0: 사망 / 1: 생존"
   ]
  },
  {
   "cell_type": "code",
   "execution_count": 42,
   "metadata": {},
   "outputs": [],
   "source": [
    "import pandas as pd\n",
    "import numpy as np\n",
    "from sklearn.linear_model import LinearRegression"
   ]
  },
  {
   "cell_type": "code",
   "execution_count": 54,
   "metadata": {},
   "outputs": [],
   "source": [
    "lr = LinearRegression()"
   ]
  },
  {
   "cell_type": "code",
   "execution_count": 43,
   "metadata": {},
   "outputs": [],
   "source": [
    "train = pd.read_csv('data\\\\train.csv')\n",
    "test = pd.read_csv('data\\\\test.csv')"
   ]
  },
  {
   "cell_type": "code",
   "execution_count": 44,
   "metadata": {},
   "outputs": [],
   "source": [
    "# train = train.drop('PassengerId', axis = 1)\n",
    "train = train.drop('Name', axis = 1)\n",
    "train = train.drop('Sex', axis = 1)\n",
    "train = train.drop('Ticket', axis = 1)\n",
    "train = train.drop('Cabin', axis = 1)\n",
    "train = train.drop('Embarked', axis = 1)"
   ]
  },
  {
   "cell_type": "code",
   "execution_count": 45,
   "metadata": {},
   "outputs": [],
   "source": [
    "# test = test.drop('PassengerId', axis = 1)\n",
    "test = test.drop('Name', axis = 1)\n",
    "test = test.drop('Sex', axis = 1)\n",
    "test = test.drop('Ticket', axis = 1)\n",
    "test = test.drop('Cabin', axis = 1)\n",
    "test = test.drop('Embarked', axis = 1)"
   ]
  },
  {
   "cell_type": "code",
   "execution_count": 46,
   "metadata": {},
   "outputs": [],
   "source": [
    "train['Age'] = train['Age'].fillna(train['Age'].mean())"
   ]
  },
  {
   "cell_type": "code",
   "execution_count": 47,
   "metadata": {},
   "outputs": [],
   "source": [
    "test['Age'] = test['Age'].fillna(test['Age'].mean())"
   ]
  },
  {
   "cell_type": "code",
   "execution_count": 48,
   "metadata": {},
   "outputs": [],
   "source": [
    "test['Fare'] = test['Fare'].fillna(test['Fare'].mean())"
   ]
  },
  {
   "cell_type": "code",
   "execution_count": 49,
   "metadata": {},
   "outputs": [
    {
     "name": "stdout",
     "output_type": "stream",
     "text": [
      "<class 'pandas.core.frame.DataFrame'>\n",
      "RangeIndex: 891 entries, 0 to 890\n",
      "Data columns (total 7 columns):\n",
      " #   Column       Non-Null Count  Dtype  \n",
      "---  ------       --------------  -----  \n",
      " 0   PassengerId  891 non-null    int64  \n",
      " 1   Survived     891 non-null    int64  \n",
      " 2   Pclass       891 non-null    int64  \n",
      " 3   Age          891 non-null    float64\n",
      " 4   SibSp        891 non-null    int64  \n",
      " 5   Parch        891 non-null    int64  \n",
      " 6   Fare         891 non-null    float64\n",
      "dtypes: float64(2), int64(5)\n",
      "memory usage: 48.9 KB\n"
     ]
    }
   ],
   "source": [
    "train.info()"
   ]
  },
  {
   "cell_type": "code",
   "execution_count": 50,
   "metadata": {},
   "outputs": [
    {
     "name": "stdout",
     "output_type": "stream",
     "text": [
      "<class 'pandas.core.frame.DataFrame'>\n",
      "RangeIndex: 418 entries, 0 to 417\n",
      "Data columns (total 6 columns):\n",
      " #   Column       Non-Null Count  Dtype  \n",
      "---  ------       --------------  -----  \n",
      " 0   PassengerId  418 non-null    int64  \n",
      " 1   Pclass       418 non-null    int64  \n",
      " 2   Age          418 non-null    float64\n",
      " 3   SibSp        418 non-null    int64  \n",
      " 4   Parch        418 non-null    int64  \n",
      " 5   Fare         418 non-null    float64\n",
      "dtypes: float64(2), int64(4)\n",
      "memory usage: 19.7 KB\n"
     ]
    }
   ],
   "source": [
    "test.info()"
   ]
  },
  {
   "cell_type": "code",
   "execution_count": 51,
   "metadata": {},
   "outputs": [],
   "source": [
    "train_X = train[['PassengerId', 'Pclass', 'Age', 'SibSp', 'Parch', 'Fare']]\n",
    "train_y = train['Survived']"
   ]
  },
  {
   "cell_type": "code",
   "execution_count": 52,
   "metadata": {},
   "outputs": [],
   "source": [
    "test = test[['PassengerId', 'Pclass', 'Age', 'SibSp', 'Parch', 'Fare']]"
   ]
  },
  {
   "cell_type": "code",
   "execution_count": 55,
   "metadata": {},
   "outputs": [
    {
     "data": {
      "text/html": [
       "<style>#sk-container-id-1 {color: black;background-color: white;}#sk-container-id-1 pre{padding: 0;}#sk-container-id-1 div.sk-toggleable {background-color: white;}#sk-container-id-1 label.sk-toggleable__label {cursor: pointer;display: block;width: 100%;margin-bottom: 0;padding: 0.3em;box-sizing: border-box;text-align: center;}#sk-container-id-1 label.sk-toggleable__label-arrow:before {content: \"▸\";float: left;margin-right: 0.25em;color: #696969;}#sk-container-id-1 label.sk-toggleable__label-arrow:hover:before {color: black;}#sk-container-id-1 div.sk-estimator:hover label.sk-toggleable__label-arrow:before {color: black;}#sk-container-id-1 div.sk-toggleable__content {max-height: 0;max-width: 0;overflow: hidden;text-align: left;background-color: #f0f8ff;}#sk-container-id-1 div.sk-toggleable__content pre {margin: 0.2em;color: black;border-radius: 0.25em;background-color: #f0f8ff;}#sk-container-id-1 input.sk-toggleable__control:checked~div.sk-toggleable__content {max-height: 200px;max-width: 100%;overflow: auto;}#sk-container-id-1 input.sk-toggleable__control:checked~label.sk-toggleable__label-arrow:before {content: \"▾\";}#sk-container-id-1 div.sk-estimator input.sk-toggleable__control:checked~label.sk-toggleable__label {background-color: #d4ebff;}#sk-container-id-1 div.sk-label input.sk-toggleable__control:checked~label.sk-toggleable__label {background-color: #d4ebff;}#sk-container-id-1 input.sk-hidden--visually {border: 0;clip: rect(1px 1px 1px 1px);clip: rect(1px, 1px, 1px, 1px);height: 1px;margin: -1px;overflow: hidden;padding: 0;position: absolute;width: 1px;}#sk-container-id-1 div.sk-estimator {font-family: monospace;background-color: #f0f8ff;border: 1px dotted black;border-radius: 0.25em;box-sizing: border-box;margin-bottom: 0.5em;}#sk-container-id-1 div.sk-estimator:hover {background-color: #d4ebff;}#sk-container-id-1 div.sk-parallel-item::after {content: \"\";width: 100%;border-bottom: 1px solid gray;flex-grow: 1;}#sk-container-id-1 div.sk-label:hover label.sk-toggleable__label {background-color: #d4ebff;}#sk-container-id-1 div.sk-serial::before {content: \"\";position: absolute;border-left: 1px solid gray;box-sizing: border-box;top: 0;bottom: 0;left: 50%;z-index: 0;}#sk-container-id-1 div.sk-serial {display: flex;flex-direction: column;align-items: center;background-color: white;padding-right: 0.2em;padding-left: 0.2em;position: relative;}#sk-container-id-1 div.sk-item {position: relative;z-index: 1;}#sk-container-id-1 div.sk-parallel {display: flex;align-items: stretch;justify-content: center;background-color: white;position: relative;}#sk-container-id-1 div.sk-item::before, #sk-container-id-1 div.sk-parallel-item::before {content: \"\";position: absolute;border-left: 1px solid gray;box-sizing: border-box;top: 0;bottom: 0;left: 50%;z-index: -1;}#sk-container-id-1 div.sk-parallel-item {display: flex;flex-direction: column;z-index: 1;position: relative;background-color: white;}#sk-container-id-1 div.sk-parallel-item:first-child::after {align-self: flex-end;width: 50%;}#sk-container-id-1 div.sk-parallel-item:last-child::after {align-self: flex-start;width: 50%;}#sk-container-id-1 div.sk-parallel-item:only-child::after {width: 0;}#sk-container-id-1 div.sk-dashed-wrapped {border: 1px dashed gray;margin: 0 0.4em 0.5em 0.4em;box-sizing: border-box;padding-bottom: 0.4em;background-color: white;}#sk-container-id-1 div.sk-label label {font-family: monospace;font-weight: bold;display: inline-block;line-height: 1.2em;}#sk-container-id-1 div.sk-label-container {text-align: center;}#sk-container-id-1 div.sk-container {/* jupyter's `normalize.less` sets `[hidden] { display: none; }` but bootstrap.min.css set `[hidden] { display: none !important; }` so we also need the `!important` here to be able to override the default hidden behavior on the sphinx rendered scikit-learn.org. See: https://github.com/scikit-learn/scikit-learn/issues/21755 */display: inline-block !important;position: relative;}#sk-container-id-1 div.sk-text-repr-fallback {display: none;}</style><div id=\"sk-container-id-1\" class=\"sk-top-container\"><div class=\"sk-text-repr-fallback\"><pre>LinearRegression()</pre><b>In a Jupyter environment, please rerun this cell to show the HTML representation or trust the notebook. <br />On GitHub, the HTML representation is unable to render, please try loading this page with nbviewer.org.</b></div><div class=\"sk-container\" hidden><div class=\"sk-item\"><div class=\"sk-estimator sk-toggleable\"><input class=\"sk-toggleable__control sk-hidden--visually\" id=\"sk-estimator-id-1\" type=\"checkbox\" checked><label for=\"sk-estimator-id-1\" class=\"sk-toggleable__label sk-toggleable__label-arrow\">LinearRegression</label><div class=\"sk-toggleable__content\"><pre>LinearRegression()</pre></div></div></div></div></div>"
      ],
      "text/plain": [
       "LinearRegression()"
      ]
     },
     "execution_count": 55,
     "metadata": {},
     "output_type": "execute_result"
    }
   ],
   "source": [
    "lr.fit(train_X, train_y)"
   ]
  },
  {
   "cell_type": "code",
   "execution_count": 56,
   "metadata": {},
   "outputs": [
    {
     "data": {
      "text/plain": [
       "array([ 0.17569782,  0.03637694,  0.1744012 ,  0.23347121,  0.27642862,\n",
       "        0.33302472,  0.20967575,  0.46603067,  0.30084542,  0.20464518,\n",
       "        0.20767455,  0.51607471,  0.69235934,  0.13593018,  0.49265678,\n",
       "        0.43474747,  0.38201633,  0.27766099,  0.18912816,  0.09449832,\n",
       "        0.43003641,  0.41117661,  0.64015748,  0.77943002,  0.77831068,\n",
       "        0.01858728,  0.77217349,  0.26589077,  0.55719356,  0.13131323,\n",
       "        0.23455263,  0.3939137 ,  0.24337027,  0.26639971,  0.61901161,\n",
       "        0.29614898,  0.20694623,  0.27813499,  0.24824286,  0.24483894,\n",
       "        0.18971906,  0.6355114 ,  0.1247534 ,  0.41978942,  0.50017464,\n",
       "        0.24677912,  0.52546205,  0.20635167,  0.44749762,  0.2595365 ,\n",
       "        0.66602775,  0.44400977,  0.46235525,  0.79860829,  0.41937309,\n",
       "        0.24969096,  0.17010636,  0.2461715 ,  0.1692656 ,  0.77616029,\n",
       "        0.30729871,  0.40433546,  0.29949   ,  0.2689215 ,  0.95546947,\n",
       "        0.42326473,  0.29946066,  0.51947721,  0.63063861,  0.73105915,\n",
       "        0.25345435,  0.27642319,  0.21538098,  0.64890749,  0.74340374,\n",
       "        0.76244371,  0.20563969,  0.35847264,  0.41864619,  0.25316038,\n",
       "        0.39833096,  0.46383139,  0.49086844,  0.20529012,  0.41457348,\n",
       "        0.16709306,  0.23014589,  0.29890867,  0.20501247,  0.64174447,\n",
       "        0.2296072 ,  0.20493408,  0.72604894,  0.20508441,  0.67357381,\n",
       "        0.24504463,  0.28259631,  0.21456439,  0.28313771,  0.18408087,\n",
       "        0.51586795,  0.40770181,  0.20455518,  0.23713795,  0.31597959,\n",
       "        0.23338131,  0.27522116,  0.20439186,  0.20511398,  0.50536777,\n",
       "        0.33528564,  0.20428411,  0.59351983,  0.29364365,  0.49326972,\n",
       "        0.25974144,  0.20306864,  0.43640806,  0.62748512,  0.39185575,\n",
       "        0.55675386,  0.16065981,  0.57799194,  0.22081487,  0.20383658,\n",
       "        0.35688611,  0.26691923,  0.12934401,  0.32546435,  0.25176247,\n",
       "        0.19069736,  0.46071218,  0.39857601,  0.1592386 ,  0.10652616,\n",
       "        0.25141294,  0.23181422,  0.44723527,  0.25909755,  0.38822316,\n",
       "        0.26285565,  0.70946122,  0.67527867,  0.44197565,  0.542678  ,\n",
       "        0.07581486,  0.65193154,  0.26643263,  0.6320164 ,  0.42852366,\n",
       "        0.7771026 ,  0.203069  , -0.00582358,  0.2532249 ,  0.27062121,\n",
       "        0.25052112,  0.79456051,  0.2583234 ,  0.54222071,  0.33056767,\n",
       "        0.2026476 ,  0.38805616,  0.44681078,  0.20197457,  0.33191752,\n",
       "        0.24828963,  0.51496312,  0.3209436 ,  0.63228126,  0.26642961,\n",
       "        0.20217723,  0.22685648,  0.21929974,  0.20182767,  0.32963833,\n",
       "        0.64085635,  0.51036024,  0.42943325,  0.52582505,  0.50864093,\n",
       "        0.41531452,  0.62600849,  0.7020796 ,  0.20190944,  0.83109245,\n",
       "        0.34121321,  0.53533043,  0.21672185, -0.00543531,  0.33872999,\n",
       "        0.35139137,  0.63018057,  0.352128  ,  0.17787944,  0.6885419 ,\n",
       "        0.18079163,  0.99083253,  0.29510003,  0.46616949,  0.20167109,\n",
       "        0.20743163,  0.52552379,  0.61696602,  0.59459906,  0.4507154 ,\n",
       "        0.62952073,  0.16509251,  0.45824647,  0.61016717,  0.24139941,\n",
       "        0.19943543,  0.20044593,  0.5608905 ,  0.15228466,  0.05941832,\n",
       "        0.55286672,  0.20093286,  0.53632638,  0.62626647,  0.20096881,\n",
       "        0.37140629,  0.27164459,  0.47301463,  0.27137993,  0.45684778,\n",
       "        0.29696944,  0.25602382,  0.20047225,  0.1281779 ,  0.36793968,\n",
       "        0.57652411,  0.70004645,  0.22679175,  0.20037758,  0.55443009,\n",
       "        0.27866282,  0.36674901,  0.27810408,  0.50697082,  0.51316303,\n",
       "        0.44128271,  0.40277118,  0.6032452 ,  0.20005746,  0.25950772,\n",
       "        0.52358308,  0.4804647 ,  0.33887121,  0.38764217,  0.16173625,\n",
       "        0.6937268 ,  0.27819572,  0.69675203,  0.24871204,  0.18396963,\n",
       "        0.19940083,  0.19952501,  0.21706532,  0.49668638,  0.27018773,\n",
       "        0.11617776,  0.27018451,  0.51866081,  0.42809724,  0.41236494,\n",
       "        0.19934537,  0.60734188,  0.19900887,  0.1993683 ,  0.30107329,\n",
       "        0.54622971,  0.19903505,  0.70372782,  0.16177244,  0.19852536,\n",
       "        0.45542175,  0.42547646,  0.30277531,  0.37511226,  0.47115281,\n",
       "        0.25493965,  0.43066476,  0.19867576,  0.36881311,  0.42607867,\n",
       "        0.15449094,  0.19815301,  0.67574783,  0.19807137,  0.19868237,\n",
       "        0.63761187,  0.19983404,  0.19794071,  0.49926584,  0.1559614 ,\n",
       "        0.2309613 ,  0.70245867,  0.12255941,  0.64405689,  0.20791085,\n",
       "        0.18492891,  0.41088693,  0.36370224,  0.24655934,  0.19795716,\n",
       "        0.37158205,  0.77423789,  0.46900991,  0.49264707,  0.04714896,\n",
       "        0.29210503,  0.26042887,  0.19755862,  0.1463394 ,  0.52348949,\n",
       "        0.2988421 ,  0.47342916,  0.49279877,  0.22254836,  0.39976473,\n",
       "        0.23004998,  0.23721836,  0.44119253,  0.60549274,  0.70459421,\n",
       "        0.25220529,  0.52698494,  0.54747195,  0.38502909,  0.47910917,\n",
       "        0.38227024,  0.56192729,  0.19663088,  0.29127826,  0.22205836,\n",
       "        0.62755664,  0.39496091,  0.2204427 ,  0.46280648,  0.19640553,\n",
       "        0.49967656,  0.18343617,  0.60939593,  0.84033304,  0.20394601,\n",
       "        0.30542593,  0.44040861,  0.13719138,  0.45599349,  0.40843886,\n",
       "        0.58720372,  0.44591387,  0.54868856,  0.35276852,  0.48331454,\n",
       "        0.47432225,  0.33905909,  0.19632731,  0.19619333,  0.16108219,\n",
       "        0.10927655,  0.47600272,  0.40801423,  0.22171236,  0.6445678 ,\n",
       "        0.60864467,  0.15791784,  0.28405648,  0.58351171,  0.41744325,\n",
       "        0.43331892,  0.70383629,  0.46100709,  0.30220369,  0.48899104,\n",
       "        0.69717713,  0.17288349,  0.47636504,  0.45424627,  0.32430438,\n",
       "        0.19547473,  0.22813922,  0.20070269,  0.24464919,  0.40647354,\n",
       "        0.54244969,  0.2431523 ,  0.20256867,  0.26595454,  0.30625962,\n",
       "        0.73209635,  0.52130232,  0.42721244,  0.27670278,  0.131373  ,\n",
       "        0.70053319,  0.24241397,  0.5319295 ,  0.25801845,  0.18929158,\n",
       "        0.73433137,  0.3100622 ,  0.75786944,  0.74105965,  0.4841998 ,\n",
       "        0.48493216,  0.41610073,  0.62009307,  0.19453726,  0.40931846,\n",
       "        0.19449483,  0.57858421,  0.21178683,  0.1946321 ,  0.62132406,\n",
       "        0.13117205,  0.19453411,  0.20772397])"
      ]
     },
     "execution_count": 56,
     "metadata": {},
     "output_type": "execute_result"
    }
   ],
   "source": [
    "final = lr.predict(test)\n",
    "final"
   ]
  },
  {
   "cell_type": "code",
   "execution_count": 57,
   "metadata": {},
   "outputs": [
    {
     "data": {
      "text/html": [
       "<div>\n",
       "<style scoped>\n",
       "    .dataframe tbody tr th:only-of-type {\n",
       "        vertical-align: middle;\n",
       "    }\n",
       "\n",
       "    .dataframe tbody tr th {\n",
       "        vertical-align: top;\n",
       "    }\n",
       "\n",
       "    .dataframe thead th {\n",
       "        text-align: right;\n",
       "    }\n",
       "</style>\n",
       "<table border=\"1\" class=\"dataframe\">\n",
       "  <thead>\n",
       "    <tr style=\"text-align: right;\">\n",
       "      <th></th>\n",
       "      <th>PassengerId</th>\n",
       "      <th>Survived</th>\n",
       "    </tr>\n",
       "  </thead>\n",
       "  <tbody>\n",
       "    <tr>\n",
       "      <th>0</th>\n",
       "      <td>892</td>\n",
       "      <td>0.175698</td>\n",
       "    </tr>\n",
       "    <tr>\n",
       "      <th>1</th>\n",
       "      <td>893</td>\n",
       "      <td>0.036377</td>\n",
       "    </tr>\n",
       "    <tr>\n",
       "      <th>2</th>\n",
       "      <td>894</td>\n",
       "      <td>0.174401</td>\n",
       "    </tr>\n",
       "    <tr>\n",
       "      <th>3</th>\n",
       "      <td>895</td>\n",
       "      <td>0.233471</td>\n",
       "    </tr>\n",
       "    <tr>\n",
       "      <th>4</th>\n",
       "      <td>896</td>\n",
       "      <td>0.276429</td>\n",
       "    </tr>\n",
       "    <tr>\n",
       "      <th>...</th>\n",
       "      <td>...</td>\n",
       "      <td>...</td>\n",
       "    </tr>\n",
       "    <tr>\n",
       "      <th>413</th>\n",
       "      <td>1305</td>\n",
       "      <td>0.194632</td>\n",
       "    </tr>\n",
       "    <tr>\n",
       "      <th>414</th>\n",
       "      <td>1306</td>\n",
       "      <td>0.621324</td>\n",
       "    </tr>\n",
       "    <tr>\n",
       "      <th>415</th>\n",
       "      <td>1307</td>\n",
       "      <td>0.131172</td>\n",
       "    </tr>\n",
       "    <tr>\n",
       "      <th>416</th>\n",
       "      <td>1308</td>\n",
       "      <td>0.194534</td>\n",
       "    </tr>\n",
       "    <tr>\n",
       "      <th>417</th>\n",
       "      <td>1309</td>\n",
       "      <td>0.207724</td>\n",
       "    </tr>\n",
       "  </tbody>\n",
       "</table>\n",
       "<p>418 rows × 2 columns</p>\n",
       "</div>"
      ],
      "text/plain": [
       "     PassengerId  Survived\n",
       "0            892  0.175698\n",
       "1            893  0.036377\n",
       "2            894  0.174401\n",
       "3            895  0.233471\n",
       "4            896  0.276429\n",
       "..           ...       ...\n",
       "413         1305  0.194632\n",
       "414         1306  0.621324\n",
       "415         1307  0.131172\n",
       "416         1308  0.194534\n",
       "417         1309  0.207724\n",
       "\n",
       "[418 rows x 2 columns]"
      ]
     },
     "execution_count": 57,
     "metadata": {},
     "output_type": "execute_result"
    }
   ],
   "source": [
    "submit = pd.read_csv('data\\\\submission.csv')\n",
    "submit['Survived'] = final\n",
    "submit.to_csv('submission_lr.csv', index = False)\n",
    "submit"
   ]
  }
 ],
 "metadata": {
  "kernelspec": {
   "display_name": "base",
   "language": "python",
   "name": "python3"
  },
  "language_info": {
   "codemirror_mode": {
    "name": "ipython",
    "version": 3
   },
   "file_extension": ".py",
   "mimetype": "text/x-python",
   "name": "python",
   "nbconvert_exporter": "python",
   "pygments_lexer": "ipython3",
   "version": "3.9.15"
  },
  "orig_nbformat": 4
 },
 "nbformat": 4,
 "nbformat_minor": 2
}
