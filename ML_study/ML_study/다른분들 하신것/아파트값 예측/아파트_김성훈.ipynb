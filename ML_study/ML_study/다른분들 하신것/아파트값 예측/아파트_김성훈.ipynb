{
 "cells": [
  {
   "cell_type": "code",
   "execution_count": 1,
   "id": "20ec51ef",
   "metadata": {},
   "outputs": [],
   "source": [
    "import pandas as pd \n",
    "import matplotlib.pyplot as plt\n",
    "import matplotlib as mpl\n",
    "import seaborn as sns\n",
    "import numpy as np \n",
    "from tqdm import tqdm\n",
    "import optuna\n",
    "from sklearn.preprocessing import  LabelEncoder\n",
    "from sklearn.linear_model import LinearRegression, ElasticNet, Lasso, Ridge\n",
    "from sklearn.tree import DecisionTreeRegressor\n",
    "from sklearn.ensemble import RandomForestRegressor\n",
    "from sklearn.model_selection import TimeSeriesSplit\n",
    "from sklearn.metrics import mean_squared_error\n",
    "import re\n",
    "import xgboost as xgb\n",
    "import lightgbm as lgb\n",
    "import warnings \n",
    "from optuna.integration import XGBoostPruningCallback\n",
    "warnings.filterwarnings('ignore')\n",
    "plt.rc('font', family='NanumGothic')\n",
    "mpl.rcParams['axes.unicode_minus'] = False"
   ]
  },
  {
   "cell_type": "code",
   "execution_count": 2,
   "id": "56dd9bfe",
   "metadata": {},
   "outputs": [],
   "source": [
    "train = pd.read_csv('train.csv')\n",
    "test = pd.read_csv('test.csv')"
   ]
  },
  {
   "cell_type": "code",
   "execution_count": 3,
   "id": "1e243673",
   "metadata": {
    "scrolled": false
   },
   "outputs": [
    {
     "data": {
      "text/html": [
       "<div>\n",
       "<style scoped>\n",
       "    .dataframe tbody tr th:only-of-type {\n",
       "        vertical-align: middle;\n",
       "    }\n",
       "\n",
       "    .dataframe tbody tr th {\n",
       "        vertical-align: top;\n",
       "    }\n",
       "\n",
       "    .dataframe thead th {\n",
       "        text-align: right;\n",
       "    }\n",
       "</style>\n",
       "<table border=\"1\" class=\"dataframe\">\n",
       "  <thead>\n",
       "    <tr style=\"text-align: right;\">\n",
       "      <th></th>\n",
       "      <th>transaction_id</th>\n",
       "      <th>apartment_id</th>\n",
       "      <th>city</th>\n",
       "      <th>dong</th>\n",
       "      <th>jibun</th>\n",
       "      <th>apt</th>\n",
       "      <th>addr_kr</th>\n",
       "      <th>exclusive_use_area</th>\n",
       "      <th>year_of_completion</th>\n",
       "      <th>transaction_year_month</th>\n",
       "      <th>transaction_date</th>\n",
       "      <th>floor</th>\n",
       "      <th>transaction_real_price</th>\n",
       "    </tr>\n",
       "  </thead>\n",
       "  <tbody>\n",
       "    <tr>\n",
       "      <th>0</th>\n",
       "      <td>0</td>\n",
       "      <td>7622</td>\n",
       "      <td>서울특별시</td>\n",
       "      <td>신교동</td>\n",
       "      <td>6-13</td>\n",
       "      <td>신현(101동)</td>\n",
       "      <td>신교동 6-13 신현(101동)</td>\n",
       "      <td>84.82</td>\n",
       "      <td>2002</td>\n",
       "      <td>200801</td>\n",
       "      <td>21~31</td>\n",
       "      <td>2</td>\n",
       "      <td>37500</td>\n",
       "    </tr>\n",
       "    <tr>\n",
       "      <th>1</th>\n",
       "      <td>1</td>\n",
       "      <td>5399</td>\n",
       "      <td>서울특별시</td>\n",
       "      <td>필운동</td>\n",
       "      <td>142</td>\n",
       "      <td>사직파크맨션</td>\n",
       "      <td>필운동 142 사직파크맨션</td>\n",
       "      <td>99.17</td>\n",
       "      <td>1973</td>\n",
       "      <td>200801</td>\n",
       "      <td>1~10</td>\n",
       "      <td>6</td>\n",
       "      <td>20000</td>\n",
       "    </tr>\n",
       "    <tr>\n",
       "      <th>2</th>\n",
       "      <td>2</td>\n",
       "      <td>3578</td>\n",
       "      <td>서울특별시</td>\n",
       "      <td>필운동</td>\n",
       "      <td>174-1</td>\n",
       "      <td>두레엘리시안</td>\n",
       "      <td>필운동 174-1 두레엘리시안</td>\n",
       "      <td>84.74</td>\n",
       "      <td>2007</td>\n",
       "      <td>200801</td>\n",
       "      <td>1~10</td>\n",
       "      <td>6</td>\n",
       "      <td>38500</td>\n",
       "    </tr>\n",
       "    <tr>\n",
       "      <th>3</th>\n",
       "      <td>3</td>\n",
       "      <td>10957</td>\n",
       "      <td>서울특별시</td>\n",
       "      <td>내수동</td>\n",
       "      <td>95</td>\n",
       "      <td>파크팰리스</td>\n",
       "      <td>내수동 95 파크팰리스</td>\n",
       "      <td>146.39</td>\n",
       "      <td>2003</td>\n",
       "      <td>200801</td>\n",
       "      <td>11~20</td>\n",
       "      <td>15</td>\n",
       "      <td>118000</td>\n",
       "    </tr>\n",
       "    <tr>\n",
       "      <th>4</th>\n",
       "      <td>4</td>\n",
       "      <td>10639</td>\n",
       "      <td>서울특별시</td>\n",
       "      <td>내수동</td>\n",
       "      <td>110-15</td>\n",
       "      <td>킹스매너</td>\n",
       "      <td>내수동 110-15 킹스매너</td>\n",
       "      <td>194.43</td>\n",
       "      <td>2004</td>\n",
       "      <td>200801</td>\n",
       "      <td>21~31</td>\n",
       "      <td>3</td>\n",
       "      <td>120000</td>\n",
       "    </tr>\n",
       "  </tbody>\n",
       "</table>\n",
       "</div>"
      ],
      "text/plain": [
       "   transaction_id  apartment_id   city dong   jibun       apt  \\\n",
       "0               0          7622  서울특별시  신교동    6-13  신현(101동)   \n",
       "1               1          5399  서울특별시  필운동     142    사직파크맨션   \n",
       "2               2          3578  서울특별시  필운동   174-1    두레엘리시안   \n",
       "3               3         10957  서울특별시  내수동      95     파크팰리스   \n",
       "4               4         10639  서울특별시  내수동  110-15      킹스매너   \n",
       "\n",
       "             addr_kr  exclusive_use_area  year_of_completion  \\\n",
       "0  신교동 6-13 신현(101동)               84.82                2002   \n",
       "1     필운동 142 사직파크맨션               99.17                1973   \n",
       "2   필운동 174-1 두레엘리시안               84.74                2007   \n",
       "3       내수동 95 파크팰리스              146.39                2003   \n",
       "4    내수동 110-15 킹스매너              194.43                2004   \n",
       "\n",
       "   transaction_year_month transaction_date  floor  transaction_real_price  \n",
       "0                  200801            21~31      2                   37500  \n",
       "1                  200801             1~10      6                   20000  \n",
       "2                  200801             1~10      6                   38500  \n",
       "3                  200801            11~20     15                  118000  \n",
       "4                  200801            21~31      3                  120000  "
      ]
     },
     "execution_count": 3,
     "metadata": {},
     "output_type": "execute_result"
    }
   ],
   "source": [
    "train.head()"
   ]
  },
  {
   "cell_type": "markdown",
   "id": "4e2e90d7",
   "metadata": {},
   "source": [
    "# 불필요 특성 제거\n",
    "transaction_id : 인덱스 번호 \\\n",
    "apartment_id : 아파트 ID \\\n",
    "jibun : 지번 \\\n",
    "addr_kr : 주소 \\\n",
    "transaction_date : 거래날짜(일 단위)"
   ]
  },
  {
   "cell_type": "code",
   "execution_count": 4,
   "id": "f14bc615",
   "metadata": {},
   "outputs": [],
   "source": [
    "train= train.drop(['transaction_id','apartment_id',\n",
    "                   'jibun', 'addr_kr','transaction_date',], axis=1)\n",
    "test= test.drop(['transaction_id','apartment_id',\n",
    "                 'jibun', 'addr_kr','transaction_date'], axis=1)"
   ]
  },
  {
   "cell_type": "code",
   "execution_count": 5,
   "id": "d21261b6",
   "metadata": {},
   "outputs": [
    {
     "data": {
      "text/html": [
       "<div>\n",
       "<style scoped>\n",
       "    .dataframe tbody tr th:only-of-type {\n",
       "        vertical-align: middle;\n",
       "    }\n",
       "\n",
       "    .dataframe tbody tr th {\n",
       "        vertical-align: top;\n",
       "    }\n",
       "\n",
       "    .dataframe thead th {\n",
       "        text-align: right;\n",
       "    }\n",
       "</style>\n",
       "<table border=\"1\" class=\"dataframe\">\n",
       "  <thead>\n",
       "    <tr style=\"text-align: right;\">\n",
       "      <th></th>\n",
       "      <th>city</th>\n",
       "      <th>dong</th>\n",
       "      <th>apt</th>\n",
       "      <th>exclusive_use_area</th>\n",
       "      <th>year_of_completion</th>\n",
       "      <th>transaction_year_month</th>\n",
       "      <th>floor</th>\n",
       "      <th>transaction_real_price</th>\n",
       "    </tr>\n",
       "  </thead>\n",
       "  <tbody>\n",
       "    <tr>\n",
       "      <th>0</th>\n",
       "      <td>서울특별시</td>\n",
       "      <td>신교동</td>\n",
       "      <td>신현(101동)</td>\n",
       "      <td>84.82</td>\n",
       "      <td>2002</td>\n",
       "      <td>200801</td>\n",
       "      <td>2</td>\n",
       "      <td>37500</td>\n",
       "    </tr>\n",
       "    <tr>\n",
       "      <th>1</th>\n",
       "      <td>서울특별시</td>\n",
       "      <td>필운동</td>\n",
       "      <td>사직파크맨션</td>\n",
       "      <td>99.17</td>\n",
       "      <td>1973</td>\n",
       "      <td>200801</td>\n",
       "      <td>6</td>\n",
       "      <td>20000</td>\n",
       "    </tr>\n",
       "    <tr>\n",
       "      <th>2</th>\n",
       "      <td>서울특별시</td>\n",
       "      <td>필운동</td>\n",
       "      <td>두레엘리시안</td>\n",
       "      <td>84.74</td>\n",
       "      <td>2007</td>\n",
       "      <td>200801</td>\n",
       "      <td>6</td>\n",
       "      <td>38500</td>\n",
       "    </tr>\n",
       "    <tr>\n",
       "      <th>3</th>\n",
       "      <td>서울특별시</td>\n",
       "      <td>내수동</td>\n",
       "      <td>파크팰리스</td>\n",
       "      <td>146.39</td>\n",
       "      <td>2003</td>\n",
       "      <td>200801</td>\n",
       "      <td>15</td>\n",
       "      <td>118000</td>\n",
       "    </tr>\n",
       "    <tr>\n",
       "      <th>4</th>\n",
       "      <td>서울특별시</td>\n",
       "      <td>내수동</td>\n",
       "      <td>킹스매너</td>\n",
       "      <td>194.43</td>\n",
       "      <td>2004</td>\n",
       "      <td>200801</td>\n",
       "      <td>3</td>\n",
       "      <td>120000</td>\n",
       "    </tr>\n",
       "  </tbody>\n",
       "</table>\n",
       "</div>"
      ],
      "text/plain": [
       "    city dong       apt  exclusive_use_area  year_of_completion  \\\n",
       "0  서울특별시  신교동  신현(101동)               84.82                2002   \n",
       "1  서울특별시  필운동    사직파크맨션               99.17                1973   \n",
       "2  서울특별시  필운동    두레엘리시안               84.74                2007   \n",
       "3  서울특별시  내수동     파크팰리스              146.39                2003   \n",
       "4  서울특별시  내수동      킹스매너              194.43                2004   \n",
       "\n",
       "   transaction_year_month  floor  transaction_real_price  \n",
       "0                  200801      2                   37500  \n",
       "1                  200801      6                   20000  \n",
       "2                  200801      6                   38500  \n",
       "3                  200801     15                  118000  \n",
       "4                  200801      3                  120000  "
      ]
     },
     "execution_count": 5,
     "metadata": {},
     "output_type": "execute_result"
    }
   ],
   "source": [
    "train.head()"
   ]
  },
  {
   "cell_type": "markdown",
   "id": "4da3460a",
   "metadata": {},
   "source": [
    "# train, test 데이터 확인\n",
    "df.describe() \\\n",
    "df.info()"
   ]
  },
  {
   "cell_type": "code",
   "execution_count": 6,
   "id": "e4db0de2",
   "metadata": {},
   "outputs": [
    {
     "data": {
      "text/html": [
       "<div>\n",
       "<style scoped>\n",
       "    .dataframe tbody tr th:only-of-type {\n",
       "        vertical-align: middle;\n",
       "    }\n",
       "\n",
       "    .dataframe tbody tr th {\n",
       "        vertical-align: top;\n",
       "    }\n",
       "\n",
       "    .dataframe thead th {\n",
       "        text-align: right;\n",
       "    }\n",
       "</style>\n",
       "<table border=\"1\" class=\"dataframe\">\n",
       "  <thead>\n",
       "    <tr style=\"text-align: right;\">\n",
       "      <th></th>\n",
       "      <th>exclusive_use_area</th>\n",
       "      <th>year_of_completion</th>\n",
       "      <th>transaction_year_month</th>\n",
       "      <th>floor</th>\n",
       "      <th>transaction_real_price</th>\n",
       "    </tr>\n",
       "  </thead>\n",
       "  <tbody>\n",
       "    <tr>\n",
       "      <th>count</th>\n",
       "      <td>1.216553e+06</td>\n",
       "      <td>1.216553e+06</td>\n",
       "      <td>1.216553e+06</td>\n",
       "      <td>1.216553e+06</td>\n",
       "      <td>1.216553e+06</td>\n",
       "    </tr>\n",
       "    <tr>\n",
       "      <th>mean</th>\n",
       "      <td>7.816549e+01</td>\n",
       "      <td>1.998297e+03</td>\n",
       "      <td>2.012984e+05</td>\n",
       "      <td>9.343291e+00</td>\n",
       "      <td>3.822769e+04</td>\n",
       "    </tr>\n",
       "    <tr>\n",
       "      <th>std</th>\n",
       "      <td>2.915113e+01</td>\n",
       "      <td>8.941347e+00</td>\n",
       "      <td>2.905732e+02</td>\n",
       "      <td>6.606500e+00</td>\n",
       "      <td>3.104898e+04</td>\n",
       "    </tr>\n",
       "    <tr>\n",
       "      <th>min</th>\n",
       "      <td>9.260000e+00</td>\n",
       "      <td>1.961000e+03</td>\n",
       "      <td>2.008010e+05</td>\n",
       "      <td>-4.000000e+00</td>\n",
       "      <td>1.000000e+02</td>\n",
       "    </tr>\n",
       "    <tr>\n",
       "      <th>25%</th>\n",
       "      <td>5.976000e+01</td>\n",
       "      <td>1.993000e+03</td>\n",
       "      <td>2.010100e+05</td>\n",
       "      <td>4.000000e+00</td>\n",
       "      <td>1.900000e+04</td>\n",
       "    </tr>\n",
       "    <tr>\n",
       "      <th>50%</th>\n",
       "      <td>8.241000e+01</td>\n",
       "      <td>1.999000e+03</td>\n",
       "      <td>2.013120e+05</td>\n",
       "      <td>8.000000e+00</td>\n",
       "      <td>3.090000e+04</td>\n",
       "    </tr>\n",
       "    <tr>\n",
       "      <th>75%</th>\n",
       "      <td>8.497000e+01</td>\n",
       "      <td>2.005000e+03</td>\n",
       "      <td>2.015110e+05</td>\n",
       "      <td>1.300000e+01</td>\n",
       "      <td>4.700000e+04</td>\n",
       "    </tr>\n",
       "    <tr>\n",
       "      <th>max</th>\n",
       "      <td>4.243200e+02</td>\n",
       "      <td>2.017000e+03</td>\n",
       "      <td>2.017110e+05</td>\n",
       "      <td>8.000000e+01</td>\n",
       "      <td>8.200000e+05</td>\n",
       "    </tr>\n",
       "  </tbody>\n",
       "</table>\n",
       "</div>"
      ],
      "text/plain": [
       "       exclusive_use_area  year_of_completion  transaction_year_month  \\\n",
       "count        1.216553e+06        1.216553e+06            1.216553e+06   \n",
       "mean         7.816549e+01        1.998297e+03            2.012984e+05   \n",
       "std          2.915113e+01        8.941347e+00            2.905732e+02   \n",
       "min          9.260000e+00        1.961000e+03            2.008010e+05   \n",
       "25%          5.976000e+01        1.993000e+03            2.010100e+05   \n",
       "50%          8.241000e+01        1.999000e+03            2.013120e+05   \n",
       "75%          8.497000e+01        2.005000e+03            2.015110e+05   \n",
       "max          4.243200e+02        2.017000e+03            2.017110e+05   \n",
       "\n",
       "              floor  transaction_real_price  \n",
       "count  1.216553e+06            1.216553e+06  \n",
       "mean   9.343291e+00            3.822769e+04  \n",
       "std    6.606500e+00            3.104898e+04  \n",
       "min   -4.000000e+00            1.000000e+02  \n",
       "25%    4.000000e+00            1.900000e+04  \n",
       "50%    8.000000e+00            3.090000e+04  \n",
       "75%    1.300000e+01            4.700000e+04  \n",
       "max    8.000000e+01            8.200000e+05  "
      ]
     },
     "execution_count": 6,
     "metadata": {},
     "output_type": "execute_result"
    }
   ],
   "source": [
    "train.describe() "
   ]
  },
  {
   "cell_type": "code",
   "execution_count": 7,
   "id": "b06da9de",
   "metadata": {},
   "outputs": [
    {
     "data": {
      "text/html": [
       "<div>\n",
       "<style scoped>\n",
       "    .dataframe tbody tr th:only-of-type {\n",
       "        vertical-align: middle;\n",
       "    }\n",
       "\n",
       "    .dataframe tbody tr th {\n",
       "        vertical-align: top;\n",
       "    }\n",
       "\n",
       "    .dataframe thead th {\n",
       "        text-align: right;\n",
       "    }\n",
       "</style>\n",
       "<table border=\"1\" class=\"dataframe\">\n",
       "  <thead>\n",
       "    <tr style=\"text-align: right;\">\n",
       "      <th></th>\n",
       "      <th>exclusive_use_area</th>\n",
       "      <th>year_of_completion</th>\n",
       "      <th>transaction_year_month</th>\n",
       "      <th>floor</th>\n",
       "    </tr>\n",
       "  </thead>\n",
       "  <tbody>\n",
       "    <tr>\n",
       "      <th>count</th>\n",
       "      <td>5463.000000</td>\n",
       "      <td>5463.000000</td>\n",
       "      <td>5463.000000</td>\n",
       "      <td>5463.000000</td>\n",
       "    </tr>\n",
       "    <tr>\n",
       "      <th>mean</th>\n",
       "      <td>79.495250</td>\n",
       "      <td>2000.431082</td>\n",
       "      <td>201710.228446</td>\n",
       "      <td>8.266886</td>\n",
       "    </tr>\n",
       "    <tr>\n",
       "      <th>std</th>\n",
       "      <td>32.935434</td>\n",
       "      <td>9.982040</td>\n",
       "      <td>2.798195</td>\n",
       "      <td>6.082475</td>\n",
       "    </tr>\n",
       "    <tr>\n",
       "      <th>min</th>\n",
       "      <td>10.321500</td>\n",
       "      <td>1961.000000</td>\n",
       "      <td>201701.000000</td>\n",
       "      <td>-1.000000</td>\n",
       "    </tr>\n",
       "    <tr>\n",
       "      <th>25%</th>\n",
       "      <td>59.760000</td>\n",
       "      <td>1995.000000</td>\n",
       "      <td>201709.000000</td>\n",
       "      <td>4.000000</td>\n",
       "    </tr>\n",
       "    <tr>\n",
       "      <th>50%</th>\n",
       "      <td>81.720000</td>\n",
       "      <td>2002.000000</td>\n",
       "      <td>201712.000000</td>\n",
       "      <td>7.000000</td>\n",
       "    </tr>\n",
       "    <tr>\n",
       "      <th>75%</th>\n",
       "      <td>84.970000</td>\n",
       "      <td>2007.000000</td>\n",
       "      <td>201712.000000</td>\n",
       "      <td>11.000000</td>\n",
       "    </tr>\n",
       "    <tr>\n",
       "      <th>max</th>\n",
       "      <td>273.860000</td>\n",
       "      <td>2017.000000</td>\n",
       "      <td>201712.000000</td>\n",
       "      <td>55.000000</td>\n",
       "    </tr>\n",
       "  </tbody>\n",
       "</table>\n",
       "</div>"
      ],
      "text/plain": [
       "       exclusive_use_area  year_of_completion  transaction_year_month  \\\n",
       "count         5463.000000         5463.000000             5463.000000   \n",
       "mean            79.495250         2000.431082           201710.228446   \n",
       "std             32.935434            9.982040                2.798195   \n",
       "min             10.321500         1961.000000           201701.000000   \n",
       "25%             59.760000         1995.000000           201709.000000   \n",
       "50%             81.720000         2002.000000           201712.000000   \n",
       "75%             84.970000         2007.000000           201712.000000   \n",
       "max            273.860000         2017.000000           201712.000000   \n",
       "\n",
       "             floor  \n",
       "count  5463.000000  \n",
       "mean      8.266886  \n",
       "std       6.082475  \n",
       "min      -1.000000  \n",
       "25%       4.000000  \n",
       "50%       7.000000  \n",
       "75%      11.000000  \n",
       "max      55.000000  "
      ]
     },
     "execution_count": 7,
     "metadata": {},
     "output_type": "execute_result"
    }
   ],
   "source": [
    "test.describe()"
   ]
  },
  {
   "cell_type": "code",
   "execution_count": 8,
   "id": "b75cd7fa",
   "metadata": {},
   "outputs": [
    {
     "name": "stdout",
     "output_type": "stream",
     "text": [
      "<class 'pandas.core.frame.DataFrame'>\n",
      "RangeIndex: 1216553 entries, 0 to 1216552\n",
      "Data columns (total 8 columns):\n",
      " #   Column                  Non-Null Count    Dtype  \n",
      "---  ------                  --------------    -----  \n",
      " 0   city                    1216553 non-null  object \n",
      " 1   dong                    1216553 non-null  object \n",
      " 2   apt                     1216553 non-null  object \n",
      " 3   exclusive_use_area      1216553 non-null  float64\n",
      " 4   year_of_completion      1216553 non-null  int64  \n",
      " 5   transaction_year_month  1216553 non-null  int64  \n",
      " 6   floor                   1216553 non-null  int64  \n",
      " 7   transaction_real_price  1216553 non-null  int64  \n",
      "dtypes: float64(1), int64(4), object(3)\n",
      "memory usage: 74.3+ MB\n"
     ]
    }
   ],
   "source": [
    "train.info()"
   ]
  },
  {
   "cell_type": "code",
   "execution_count": 9,
   "id": "4ea62239",
   "metadata": {},
   "outputs": [
    {
     "name": "stdout",
     "output_type": "stream",
     "text": [
      "<class 'pandas.core.frame.DataFrame'>\n",
      "RangeIndex: 5463 entries, 0 to 5462\n",
      "Data columns (total 7 columns):\n",
      " #   Column                  Non-Null Count  Dtype  \n",
      "---  ------                  --------------  -----  \n",
      " 0   city                    5463 non-null   object \n",
      " 1   dong                    5463 non-null   object \n",
      " 2   apt                     5463 non-null   object \n",
      " 3   exclusive_use_area      5463 non-null   float64\n",
      " 4   year_of_completion      5463 non-null   int64  \n",
      " 5   transaction_year_month  5463 non-null   int64  \n",
      " 6   floor                   5463 non-null   int64  \n",
      "dtypes: float64(1), int64(3), object(3)\n",
      "memory usage: 298.9+ KB\n"
     ]
    }
   ],
   "source": [
    "test.info()"
   ]
  },
  {
   "cell_type": "markdown",
   "id": "224bfb00",
   "metadata": {},
   "source": [
    "# 컬럼명 변경"
   ]
  },
  {
   "cell_type": "code",
   "execution_count": 10,
   "id": "a02e6730",
   "metadata": {},
   "outputs": [],
   "source": [
    "train.columns = ['도시','동','아파트','면적','설립일자','거래 년/월','층수','실 거래가']\n",
    "test.columns = ['도시','동','아파트','면적','설립일자','거래 년/월','층수']"
   ]
  },
  {
   "cell_type": "code",
   "execution_count": 11,
   "id": "adf5eb73",
   "metadata": {},
   "outputs": [
    {
     "data": {
      "text/html": [
       "<div>\n",
       "<style scoped>\n",
       "    .dataframe tbody tr th:only-of-type {\n",
       "        vertical-align: middle;\n",
       "    }\n",
       "\n",
       "    .dataframe tbody tr th {\n",
       "        vertical-align: top;\n",
       "    }\n",
       "\n",
       "    .dataframe thead th {\n",
       "        text-align: right;\n",
       "    }\n",
       "</style>\n",
       "<table border=\"1\" class=\"dataframe\">\n",
       "  <thead>\n",
       "    <tr style=\"text-align: right;\">\n",
       "      <th></th>\n",
       "      <th>도시</th>\n",
       "      <th>동</th>\n",
       "      <th>아파트</th>\n",
       "      <th>면적</th>\n",
       "      <th>설립일자</th>\n",
       "      <th>거래 년/월</th>\n",
       "      <th>층수</th>\n",
       "      <th>실 거래가</th>\n",
       "    </tr>\n",
       "  </thead>\n",
       "  <tbody>\n",
       "    <tr>\n",
       "      <th>0</th>\n",
       "      <td>서울특별시</td>\n",
       "      <td>신교동</td>\n",
       "      <td>신현(101동)</td>\n",
       "      <td>84.82</td>\n",
       "      <td>2002</td>\n",
       "      <td>200801</td>\n",
       "      <td>2</td>\n",
       "      <td>37500</td>\n",
       "    </tr>\n",
       "    <tr>\n",
       "      <th>1</th>\n",
       "      <td>서울특별시</td>\n",
       "      <td>필운동</td>\n",
       "      <td>사직파크맨션</td>\n",
       "      <td>99.17</td>\n",
       "      <td>1973</td>\n",
       "      <td>200801</td>\n",
       "      <td>6</td>\n",
       "      <td>20000</td>\n",
       "    </tr>\n",
       "    <tr>\n",
       "      <th>2</th>\n",
       "      <td>서울특별시</td>\n",
       "      <td>필운동</td>\n",
       "      <td>두레엘리시안</td>\n",
       "      <td>84.74</td>\n",
       "      <td>2007</td>\n",
       "      <td>200801</td>\n",
       "      <td>6</td>\n",
       "      <td>38500</td>\n",
       "    </tr>\n",
       "    <tr>\n",
       "      <th>3</th>\n",
       "      <td>서울특별시</td>\n",
       "      <td>내수동</td>\n",
       "      <td>파크팰리스</td>\n",
       "      <td>146.39</td>\n",
       "      <td>2003</td>\n",
       "      <td>200801</td>\n",
       "      <td>15</td>\n",
       "      <td>118000</td>\n",
       "    </tr>\n",
       "    <tr>\n",
       "      <th>4</th>\n",
       "      <td>서울특별시</td>\n",
       "      <td>내수동</td>\n",
       "      <td>킹스매너</td>\n",
       "      <td>194.43</td>\n",
       "      <td>2004</td>\n",
       "      <td>200801</td>\n",
       "      <td>3</td>\n",
       "      <td>120000</td>\n",
       "    </tr>\n",
       "  </tbody>\n",
       "</table>\n",
       "</div>"
      ],
      "text/plain": [
       "      도시    동       아파트      면적  설립일자  거래 년/월  층수   실 거래가\n",
       "0  서울특별시  신교동  신현(101동)   84.82  2002  200801   2   37500\n",
       "1  서울특별시  필운동    사직파크맨션   99.17  1973  200801   6   20000\n",
       "2  서울특별시  필운동    두레엘리시안   84.74  2007  200801   6   38500\n",
       "3  서울특별시  내수동     파크팰리스  146.39  2003  200801  15  118000\n",
       "4  서울특별시  내수동      킹스매너  194.43  2004  200801   3  120000"
      ]
     },
     "execution_count": 11,
     "metadata": {},
     "output_type": "execute_result"
    }
   ],
   "source": [
    "train.head()"
   ]
  },
  {
   "cell_type": "markdown",
   "id": "01095f6b",
   "metadata": {},
   "source": [
    "# 전처리"
   ]
  },
  {
   "cell_type": "markdown",
   "id": "f8774ac3",
   "metadata": {},
   "source": [
    "## 1. 도시, 동"
   ]
  },
  {
   "cell_type": "markdown",
   "id": "6ac67897",
   "metadata": {},
   "source": [
    "#### 서울, 부산 같은 이름의 동 확인"
   ]
  },
  {
   "cell_type": "code",
   "execution_count": 12,
   "id": "a90e2dde",
   "metadata": {},
   "outputs": [
    {
     "name": "stdout",
     "output_type": "stream",
     "text": [
      "['송정동', '중동', '사직동', '부암동']\n",
      "['송정동', '중동', '사직동', '부암동']\n"
     ]
    }
   ],
   "source": [
    "seoul = set(train.loc[train['도시']=='서울특별시', '동'])\n",
    "busan = set(train.loc[train['도시']=='부산광역시', '동'])\n",
    "l = list(seoul & busan)\n",
    "print(l)\n",
    "\n",
    "seoul = set(test.loc[test['도시']=='서울특별시', '동'])\n",
    "busan = set(test.loc[test['도시']=='부산광역시', '동'])\n",
    "l = list(seoul & busan)\n",
    "print(l)"
   ]
  },
  {
   "cell_type": "markdown",
   "id": "7b134159",
   "metadata": {},
   "source": [
    "#### 서울 + 동, 부산 + 동\n",
    "ex) 부암동 = > 서울 부암동"
   ]
  },
  {
   "cell_type": "code",
   "execution_count": 13,
   "id": "7ddf67d5",
   "metadata": {},
   "outputs": [],
   "source": [
    "for i in l:\n",
    "    train.loc[(train['도시'] == '서울특별시') & (train['동'] == i), '동'] = '서울' + i\n",
    "    train.loc[(train['도시'] == '부산광역시') & (train['동'] == i), '동'] = '부산' + i\n",
    "    test.loc[(test['도시'] == '서울특별시') & (test['동'] == i), '동'] = '서울' + i\n",
    "    test.loc[(test['도시'] == '부산광역시') & (test['동'] == i), '동'] = '부산' + i"
   ]
  },
  {
   "cell_type": "markdown",
   "id": "29d16908",
   "metadata": {},
   "source": [
    "#### 같은 동, 같은 도로 끼리 가격차이"
   ]
  },
  {
   "cell_type": "code",
   "execution_count": 14,
   "id": "fa6f7788",
   "metadata": {},
   "outputs": [],
   "source": [
    "dong_price = train.groupby('동')['실 거래가'].agg('mean')\\\n",
    "            .sort_values(ascending=False)"
   ]
  },
  {
   "cell_type": "code",
   "execution_count": 15,
   "id": "bb37e212",
   "metadata": {
    "scrolled": false
   },
   "outputs": [
    {
     "data": {
      "text/plain": [
       "동\n",
       "장충동1가    269888.888889\n",
       "장충동2가      6628.421053\n",
       "Name: 실 거래가, dtype: float64"
      ]
     },
     "execution_count": 15,
     "metadata": {},
     "output_type": "execute_result"
    }
   ],
   "source": [
    "dong_price[dong_price.index.str.contains('장충동')]"
   ]
  },
  {
   "cell_type": "code",
   "execution_count": 15,
   "id": "c56cc2c5",
   "metadata": {},
   "outputs": [
    {
     "data": {
      "text/plain": [
       "동\n",
       "장충동1가      269888.888889\n",
       "압구정동       164534.722914\n",
       "청암동        161403.700000\n",
       "용산동5가      153497.331633\n",
       "회현동2가      139906.140351\n",
       "               ...      \n",
       "중앙동4가        6312.500000\n",
       "봉래동5가        5732.546012\n",
       "신창동2가        5531.250000\n",
       "장안읍 명례리      5508.333333\n",
       "신선동3가        5500.000000\n",
       "Name: 실 거래가, Length: 477, dtype: float64"
      ]
     },
     "execution_count": 15,
     "metadata": {},
     "output_type": "execute_result"
    }
   ],
   "source": [
    "dong_price"
   ]
  },
  {
   "cell_type": "markdown",
   "id": "c97bfcdd",
   "metadata": {},
   "source": [
    "#### 동 컬럼 인코딩"
   ]
  },
  {
   "cell_type": "code",
   "execution_count": 16,
   "id": "95282627",
   "metadata": {},
   "outputs": [
    {
     "name": "stderr",
     "output_type": "stream",
     "text": [
      "100%|██████████| 477/477 [00:37<00:00, 12.85it/s]\n"
     ]
    },
    {
     "data": {
      "text/html": [
       "<div>\n",
       "<style scoped>\n",
       "    .dataframe tbody tr th:only-of-type {\n",
       "        vertical-align: middle;\n",
       "    }\n",
       "\n",
       "    .dataframe tbody tr th {\n",
       "        vertical-align: top;\n",
       "    }\n",
       "\n",
       "    .dataframe thead th {\n",
       "        text-align: right;\n",
       "    }\n",
       "</style>\n",
       "<table border=\"1\" class=\"dataframe\">\n",
       "  <thead>\n",
       "    <tr style=\"text-align: right;\">\n",
       "      <th></th>\n",
       "      <th>도시</th>\n",
       "      <th>동</th>\n",
       "      <th>아파트</th>\n",
       "      <th>면적</th>\n",
       "      <th>설립일자</th>\n",
       "      <th>거래 년/월</th>\n",
       "      <th>층수</th>\n",
       "      <th>실 거래가</th>\n",
       "    </tr>\n",
       "  </thead>\n",
       "  <tbody>\n",
       "    <tr>\n",
       "      <th>0</th>\n",
       "      <td>서울특별시</td>\n",
       "      <td>138</td>\n",
       "      <td>신현(101동)</td>\n",
       "      <td>84.82</td>\n",
       "      <td>2002</td>\n",
       "      <td>200801</td>\n",
       "      <td>2</td>\n",
       "      <td>37500</td>\n",
       "    </tr>\n",
       "    <tr>\n",
       "      <th>1</th>\n",
       "      <td>서울특별시</td>\n",
       "      <td>65</td>\n",
       "      <td>사직파크맨션</td>\n",
       "      <td>99.17</td>\n",
       "      <td>1973</td>\n",
       "      <td>200801</td>\n",
       "      <td>6</td>\n",
       "      <td>20000</td>\n",
       "    </tr>\n",
       "    <tr>\n",
       "      <th>2</th>\n",
       "      <td>서울특별시</td>\n",
       "      <td>65</td>\n",
       "      <td>두레엘리시안</td>\n",
       "      <td>84.74</td>\n",
       "      <td>2007</td>\n",
       "      <td>200801</td>\n",
       "      <td>6</td>\n",
       "      <td>38500</td>\n",
       "    </tr>\n",
       "    <tr>\n",
       "      <th>3</th>\n",
       "      <td>서울특별시</td>\n",
       "      <td>13</td>\n",
       "      <td>파크팰리스</td>\n",
       "      <td>146.39</td>\n",
       "      <td>2003</td>\n",
       "      <td>200801</td>\n",
       "      <td>15</td>\n",
       "      <td>118000</td>\n",
       "    </tr>\n",
       "    <tr>\n",
       "      <th>4</th>\n",
       "      <td>서울특별시</td>\n",
       "      <td>13</td>\n",
       "      <td>킹스매너</td>\n",
       "      <td>194.43</td>\n",
       "      <td>2004</td>\n",
       "      <td>200801</td>\n",
       "      <td>3</td>\n",
       "      <td>120000</td>\n",
       "    </tr>\n",
       "  </tbody>\n",
       "</table>\n",
       "</div>"
      ],
      "text/plain": [
       "      도시    동       아파트      면적  설립일자  거래 년/월  층수   실 거래가\n",
       "0  서울특별시  138  신현(101동)   84.82  2002  200801   2   37500\n",
       "1  서울특별시   65    사직파크맨션   99.17  1973  200801   6   20000\n",
       "2  서울특별시   65    두레엘리시안   84.74  2007  200801   6   38500\n",
       "3  서울특별시   13     파크팰리스  146.39  2003  200801  15  118000\n",
       "4  서울특별시   13      킹스매너  194.43  2004  200801   3  120000"
      ]
     },
     "execution_count": 16,
     "metadata": {},
     "output_type": "execute_result"
    }
   ],
   "source": [
    "for i, d in tqdm(enumerate(list(dong_price.index)), total = len(dong_price)):\n",
    "    train.loc[train['동'] == d, '동'] = i\n",
    "    test.loc[test['동'] == d, '동'] = i\n",
    "train.head()"
   ]
  },
  {
   "cell_type": "markdown",
   "id": "592dae8d",
   "metadata": {},
   "source": [
    "#### 도시 컬럼 인코딩"
   ]
  },
  {
   "cell_type": "code",
   "execution_count": 17,
   "id": "1f8e2a0f",
   "metadata": {},
   "outputs": [],
   "source": [
    "train['도시'] = train['도시'].map(lambda x: 1 if x == '서울특별시' else 0)\n",
    "test['도시'] = test['도시'].map(lambda x: 1 if x == '서울특별시' else 0)"
   ]
  },
  {
   "cell_type": "markdown",
   "id": "6705a5cd",
   "metadata": {},
   "source": [
    "## 2. 아파트"
   ]
  },
  {
   "cell_type": "markdown",
   "id": "c32840ed",
   "metadata": {},
   "source": [
    "#### 괄호 제거"
   ]
  },
  {
   "cell_type": "code",
   "execution_count": 18,
   "id": "44906dd4",
   "metadata": {},
   "outputs": [
    {
     "data": {
      "text/html": [
       "<div>\n",
       "<style scoped>\n",
       "    .dataframe tbody tr th:only-of-type {\n",
       "        vertical-align: middle;\n",
       "    }\n",
       "\n",
       "    .dataframe tbody tr th {\n",
       "        vertical-align: top;\n",
       "    }\n",
       "\n",
       "    .dataframe thead th {\n",
       "        text-align: right;\n",
       "    }\n",
       "</style>\n",
       "<table border=\"1\" class=\"dataframe\">\n",
       "  <thead>\n",
       "    <tr style=\"text-align: right;\">\n",
       "      <th></th>\n",
       "      <th>도시</th>\n",
       "      <th>동</th>\n",
       "      <th>아파트</th>\n",
       "      <th>면적</th>\n",
       "      <th>설립일자</th>\n",
       "      <th>거래 년/월</th>\n",
       "      <th>층수</th>\n",
       "      <th>실 거래가</th>\n",
       "    </tr>\n",
       "  </thead>\n",
       "  <tbody>\n",
       "    <tr>\n",
       "      <th>0</th>\n",
       "      <td>1</td>\n",
       "      <td>138</td>\n",
       "      <td>신현(101동)</td>\n",
       "      <td>84.82</td>\n",
       "      <td>2002</td>\n",
       "      <td>200801</td>\n",
       "      <td>2</td>\n",
       "      <td>37500</td>\n",
       "    </tr>\n",
       "    <tr>\n",
       "      <th>98</th>\n",
       "      <td>1</td>\n",
       "      <td>138</td>\n",
       "      <td>신현(102동)</td>\n",
       "      <td>84.82</td>\n",
       "      <td>2002</td>\n",
       "      <td>200803</td>\n",
       "      <td>2</td>\n",
       "      <td>39300</td>\n",
       "    </tr>\n",
       "    <tr>\n",
       "      <th>511</th>\n",
       "      <td>1</td>\n",
       "      <td>138</td>\n",
       "      <td>신현(101동)</td>\n",
       "      <td>84.82</td>\n",
       "      <td>2002</td>\n",
       "      <td>200903</td>\n",
       "      <td>3</td>\n",
       "      <td>40200</td>\n",
       "    </tr>\n",
       "  </tbody>\n",
       "</table>\n",
       "</div>"
      ],
      "text/plain": [
       "     도시    동       아파트     면적  설립일자  거래 년/월  층수  실 거래가\n",
       "0     1  138  신현(101동)  84.82  2002  200801   2  37500\n",
       "98    1  138  신현(102동)  84.82  2002  200803   2  39300\n",
       "511   1  138  신현(101동)  84.82  2002  200903   3  40200"
      ]
     },
     "execution_count": 18,
     "metadata": {},
     "output_type": "execute_result"
    }
   ],
   "source": [
    "train[train['아파트'].str.contains('신현')][:3]"
   ]
  },
  {
   "cell_type": "markdown",
   "id": "2286f042",
   "metadata": {},
   "source": [
    "문자열 처리하는 여러가지 방법\n",
    "1. 함수\n",
    "2. df.loc\n",
    "3. df.at"
   ]
  },
  {
   "cell_type": "code",
   "execution_count": 19,
   "id": "a02f2904",
   "metadata": {},
   "outputs": [],
   "source": [
    "regex = \"\\(.*\\)|\\s-\\s.*\"\n",
    "def dong(x):\n",
    "    x = re.sub(regex, '', x)\n",
    "    return x"
   ]
  },
  {
   "cell_type": "code",
   "execution_count": 20,
   "id": "8ccc7dff",
   "metadata": {},
   "outputs": [],
   "source": [
    "train['아파트'] = train['아파트'].apply(dong)"
   ]
  },
  {
   "cell_type": "code",
   "execution_count": 21,
   "id": "518ef140",
   "metadata": {},
   "outputs": [],
   "source": [
    "# regex = \"\\(.*\\)|\\s-\\s.*\"\n",
    "# for i in tqdm(range(len(train))):\n",
    "#    train.at[i, '아파트'] = re.sub(regex, '', train.at[i, '아파트'])\n",
    "# for i in tqdm(range(len(test))):\n",
    "#    test.at[i, '아파트'] = re.sub(regex, '', test.at[i, '아파트'])"
   ]
  },
  {
   "cell_type": "markdown",
   "id": "3c58a157",
   "metadata": {},
   "source": [
    "#### top 10 시공사"
   ]
  },
  {
   "cell_type": "code",
   "execution_count": 22,
   "id": "2fbfc1ad",
   "metadata": {},
   "outputs": [],
   "source": [
    "train['top10'] = 0\n",
    "test['top10'] = 0\n",
    "top10 = ['자이', '푸르지오', '더샵', '롯데캐슬', '이편한|e편한|e-편한',\n",
    "         '힐스테이트', '아이파크|I-PARK', '래미안', 'sk|SK|에스케이', '데시앙']\n",
    "\n",
    "# top 10 시공사면 1, 아니면 0\n",
    "for i, brand in enumerate(top10):\n",
    "    train.loc[train['아파트'].str.contains(brand), 'top10'] = 1\n",
    "    test.loc[test['아파트'].str.contains(brand), 'top10'] = 1"
   ]
  },
  {
   "cell_type": "code",
   "execution_count": 23,
   "id": "e0a8b8cc",
   "metadata": {},
   "outputs": [
    {
     "data": {
      "text/html": [
       "<div>\n",
       "<style scoped>\n",
       "    .dataframe tbody tr th:only-of-type {\n",
       "        vertical-align: middle;\n",
       "    }\n",
       "\n",
       "    .dataframe tbody tr th {\n",
       "        vertical-align: top;\n",
       "    }\n",
       "\n",
       "    .dataframe thead th {\n",
       "        text-align: right;\n",
       "    }\n",
       "</style>\n",
       "<table border=\"1\" class=\"dataframe\">\n",
       "  <thead>\n",
       "    <tr style=\"text-align: right;\">\n",
       "      <th></th>\n",
       "      <th>도시</th>\n",
       "      <th>동</th>\n",
       "      <th>아파트</th>\n",
       "      <th>면적</th>\n",
       "      <th>설립일자</th>\n",
       "      <th>거래 년/월</th>\n",
       "      <th>층수</th>\n",
       "      <th>실 거래가</th>\n",
       "      <th>top10</th>\n",
       "    </tr>\n",
       "  </thead>\n",
       "  <tbody>\n",
       "    <tr>\n",
       "      <th>0</th>\n",
       "      <td>1</td>\n",
       "      <td>138</td>\n",
       "      <td>신현</td>\n",
       "      <td>84.8200</td>\n",
       "      <td>2002</td>\n",
       "      <td>200801</td>\n",
       "      <td>2</td>\n",
       "      <td>37500</td>\n",
       "      <td>0</td>\n",
       "    </tr>\n",
       "    <tr>\n",
       "      <th>1</th>\n",
       "      <td>1</td>\n",
       "      <td>65</td>\n",
       "      <td>사직파크맨션</td>\n",
       "      <td>99.1700</td>\n",
       "      <td>1973</td>\n",
       "      <td>200801</td>\n",
       "      <td>6</td>\n",
       "      <td>20000</td>\n",
       "      <td>0</td>\n",
       "    </tr>\n",
       "    <tr>\n",
       "      <th>2</th>\n",
       "      <td>1</td>\n",
       "      <td>65</td>\n",
       "      <td>두레엘리시안</td>\n",
       "      <td>84.7400</td>\n",
       "      <td>2007</td>\n",
       "      <td>200801</td>\n",
       "      <td>6</td>\n",
       "      <td>38500</td>\n",
       "      <td>0</td>\n",
       "    </tr>\n",
       "    <tr>\n",
       "      <th>3</th>\n",
       "      <td>1</td>\n",
       "      <td>13</td>\n",
       "      <td>파크팰리스</td>\n",
       "      <td>146.3900</td>\n",
       "      <td>2003</td>\n",
       "      <td>200801</td>\n",
       "      <td>15</td>\n",
       "      <td>118000</td>\n",
       "      <td>0</td>\n",
       "    </tr>\n",
       "    <tr>\n",
       "      <th>4</th>\n",
       "      <td>1</td>\n",
       "      <td>13</td>\n",
       "      <td>킹스매너</td>\n",
       "      <td>194.4300</td>\n",
       "      <td>2004</td>\n",
       "      <td>200801</td>\n",
       "      <td>3</td>\n",
       "      <td>120000</td>\n",
       "      <td>0</td>\n",
       "    </tr>\n",
       "    <tr>\n",
       "      <th>...</th>\n",
       "      <td>...</td>\n",
       "      <td>...</td>\n",
       "      <td>...</td>\n",
       "      <td>...</td>\n",
       "      <td>...</td>\n",
       "      <td>...</td>\n",
       "      <td>...</td>\n",
       "      <td>...</td>\n",
       "      <td>...</td>\n",
       "    </tr>\n",
       "    <tr>\n",
       "      <th>1216548</th>\n",
       "      <td>0</td>\n",
       "      <td>305</td>\n",
       "      <td>정관 동일스위트1차</td>\n",
       "      <td>59.8245</td>\n",
       "      <td>2012</td>\n",
       "      <td>201711</td>\n",
       "      <td>3</td>\n",
       "      <td>22000</td>\n",
       "      <td>0</td>\n",
       "    </tr>\n",
       "    <tr>\n",
       "      <th>1216549</th>\n",
       "      <td>0</td>\n",
       "      <td>305</td>\n",
       "      <td>정관 동일스위트1차</td>\n",
       "      <td>84.9923</td>\n",
       "      <td>2012</td>\n",
       "      <td>201711</td>\n",
       "      <td>7</td>\n",
       "      <td>30750</td>\n",
       "      <td>0</td>\n",
       "    </tr>\n",
       "    <tr>\n",
       "      <th>1216550</th>\n",
       "      <td>0</td>\n",
       "      <td>305</td>\n",
       "      <td>정관 동일스위트1차</td>\n",
       "      <td>84.9923</td>\n",
       "      <td>2012</td>\n",
       "      <td>201711</td>\n",
       "      <td>9</td>\n",
       "      <td>29500</td>\n",
       "      <td>0</td>\n",
       "    </tr>\n",
       "    <tr>\n",
       "      <th>1216551</th>\n",
       "      <td>0</td>\n",
       "      <td>305</td>\n",
       "      <td>정관신도시롯데캐슬</td>\n",
       "      <td>101.7400</td>\n",
       "      <td>2008</td>\n",
       "      <td>201711</td>\n",
       "      <td>7</td>\n",
       "      <td>26700</td>\n",
       "      <td>1</td>\n",
       "    </tr>\n",
       "    <tr>\n",
       "      <th>1216552</th>\n",
       "      <td>0</td>\n",
       "      <td>305</td>\n",
       "      <td>정관 동일스위트1차</td>\n",
       "      <td>84.9923</td>\n",
       "      <td>2012</td>\n",
       "      <td>201711</td>\n",
       "      <td>16</td>\n",
       "      <td>28800</td>\n",
       "      <td>0</td>\n",
       "    </tr>\n",
       "  </tbody>\n",
       "</table>\n",
       "<p>1216553 rows × 9 columns</p>\n",
       "</div>"
      ],
      "text/plain": [
       "         도시    동         아파트        면적  설립일자  거래 년/월  층수   실 거래가  top10\n",
       "0         1  138          신현   84.8200  2002  200801   2   37500      0\n",
       "1         1   65      사직파크맨션   99.1700  1973  200801   6   20000      0\n",
       "2         1   65      두레엘리시안   84.7400  2007  200801   6   38500      0\n",
       "3         1   13       파크팰리스  146.3900  2003  200801  15  118000      0\n",
       "4         1   13        킹스매너  194.4300  2004  200801   3  120000      0\n",
       "...      ..  ...         ...       ...   ...     ...  ..     ...    ...\n",
       "1216548   0  305  정관 동일스위트1차   59.8245  2012  201711   3   22000      0\n",
       "1216549   0  305  정관 동일스위트1차   84.9923  2012  201711   7   30750      0\n",
       "1216550   0  305  정관 동일스위트1차   84.9923  2012  201711   9   29500      0\n",
       "1216551   0  305   정관신도시롯데캐슬  101.7400  2008  201711   7   26700      1\n",
       "1216552   0  305  정관 동일스위트1차   84.9923  2012  201711  16   28800      0\n",
       "\n",
       "[1216553 rows x 9 columns]"
      ]
     },
     "execution_count": 23,
     "metadata": {},
     "output_type": "execute_result"
    }
   ],
   "source": [
    "train"
   ]
  },
  {
   "cell_type": "markdown",
   "id": "922d67cf",
   "metadata": {},
   "source": [
    "#### 데이터에 많은 아파트 이름들"
   ]
  },
  {
   "cell_type": "code",
   "execution_count": 24,
   "id": "75b129b0",
   "metadata": {},
   "outputs": [
    {
     "data": {
      "text/plain": [
       "현대        17716\n",
       "한신        10135\n",
       "삼성         6771\n",
       "대우         6390\n",
       "신동아        6386\n",
       "두산         5801\n",
       "우성         5781\n",
       "주공2        5669\n",
       "삼성래미안      5483\n",
       "벽산         4651\n",
       "대림         4582\n",
       "동원로얄듀크     4430\n",
       "경남         4030\n",
       "삼환         3896\n",
       "극동         3771\n",
       "삼익         3583\n",
       "롯데캐슬       3570\n",
       "쌍용         3409\n",
       "코오롱        3320\n",
       "한양         3231\n",
       "Name: 아파트, dtype: int64"
      ]
     },
     "execution_count": 24,
     "metadata": {},
     "output_type": "execute_result"
    }
   ],
   "source": [
    "train['아파트'].value_counts()[:20]"
   ]
  },
  {
   "cell_type": "code",
   "execution_count": 25,
   "id": "fa33fb18",
   "metadata": {},
   "outputs": [
    {
     "name": "stderr",
     "output_type": "stream",
     "text": [
      "100%|██████████| 35/35 [00:26<00:00,  1.33it/s]\n",
      "100%|██████████| 25/25 [00:00<00:00, 56.80it/s]\n"
     ]
    }
   ],
   "source": [
    "apt_names = ['그레이스', '양지', '쌍용', '현대', '한신', '삼성', '대우', '신동아', '두산', '주공',\n",
    "             '우성', '벽산', '동원로얄듀크','경남', '삼환', '쌍용', '삼익', '대림', '코오롱', '파크리오',\n",
    "             '엘지', '성원', '잠실', '동궁리치웰', '동성']\n",
    "\n",
    "apt_names_list = top10 + apt_names\n",
    "\n",
    "train['네임드'] = 0\n",
    "test['네임드'] = 0\n",
    "\n",
    "for a in tqdm(apt_names_list):\n",
    "    train.loc[train['아파트'].str.contains(a), '아파트'] = a\n",
    "    test.loc[test['아파트'].str.contains(a), '아파트'] = a\n",
    "    train.loc[train['아파트'].str.contains(a), '네임드'] = 1\n",
    "    test.loc[test['아파트'].str.contains(a), '네임드'] = 1\n",
    "\n",
    "for a in tqdm(apt_names):\n",
    "    train.loc[train['네임드'] == 0, '아파트'] = 'others'\n",
    "    test.loc[test['네임드'] == 0, '아파트'] = 'others'"
   ]
  },
  {
   "cell_type": "code",
   "execution_count": 26,
   "id": "e411587f",
   "metadata": {},
   "outputs": [
    {
     "data": {
      "text/plain": [
       "others          653489\n",
       "현대               81153\n",
       "주공               65937\n",
       "래미안              32743\n",
       "한신               27481\n",
       "벽산               26968\n",
       "우성               24524\n",
       "롯데캐슬             24053\n",
       "삼성               20067\n",
       "sk|SK|에스케이       19709\n",
       "두산               19501\n",
       "삼익               18708\n",
       "푸르지오             18416\n",
       "쌍용               18256\n",
       "대림               18194\n",
       "대우               17786\n",
       "이편한|e편한|e-편한     14337\n",
       "신동아              14049\n",
       "힐스테이트            11985\n",
       "자이               11719\n",
       "엘지               10938\n",
       "경남               10875\n",
       "아이파크|I-PARK       8674\n",
       "코오롱               8602\n",
       "성원                7601\n",
       "더샵                6977\n",
       "삼환                6073\n",
       "동원로얄듀크            6070\n",
       "파크리오              3094\n",
       "잠실                2606\n",
       "동성                2228\n",
       "데시앙               2222\n",
       "양지                1033\n",
       "그레이스               393\n",
       "동궁리치웰               92\n",
       "Name: 아파트, dtype: int64"
      ]
     },
     "execution_count": 26,
     "metadata": {},
     "output_type": "execute_result"
    }
   ],
   "source": [
    "train['아파트'].value_counts()"
   ]
  },
  {
   "cell_type": "markdown",
   "id": "6a3dd06e",
   "metadata": {},
   "source": [
    "#### 아파트 인코딩"
   ]
  },
  {
   "cell_type": "code",
   "execution_count": 27,
   "id": "c1d048b5",
   "metadata": {},
   "outputs": [
    {
     "name": "stdout",
     "output_type": "stream",
     "text": [
      "변환전\n",
      " 아파트\n",
      "잠실             91273.525326\n",
      "파크리오           88739.646736\n",
      "자이             79838.112467\n",
      "래미안            64184.531289\n",
      "아이파크|I-PARK    62474.842633\n",
      "Name: 실 거래가, dtype: float64\n",
      "변환후\n",
      " 아파트\n",
      "0    91273.525326\n",
      "1    88739.646736\n",
      "2    79838.112467\n",
      "3    64184.531289\n",
      "4    62474.842633\n",
      "Name: 실 거래가, dtype: float64\n"
     ]
    }
   ],
   "source": [
    "apt_price = train.groupby('아파트')['실 거래가'].agg('mean')\\\n",
    "            .sort_values(ascending=False)\n",
    "print('변환전\\n', apt_price[:5])\n",
    "\n",
    "for i, a in enumerate(list(apt_price.index)):\n",
    "    train.loc[train['아파트'] == a, '아파트'] = i\n",
    "    test.loc[test['아파트'] == a, '아파트'] = i\n",
    "apt_price = train.groupby('아파트')['실 거래가'].agg('mean')\\\n",
    "            .sort_values(ascending=False)\n",
    "\n",
    "print('변환후\\n', apt_price[:5])"
   ]
  },
  {
   "cell_type": "code",
   "execution_count": 28,
   "id": "613d1f87",
   "metadata": {},
   "outputs": [
    {
     "data": {
      "text/html": [
       "<div>\n",
       "<style scoped>\n",
       "    .dataframe tbody tr th:only-of-type {\n",
       "        vertical-align: middle;\n",
       "    }\n",
       "\n",
       "    .dataframe tbody tr th {\n",
       "        vertical-align: top;\n",
       "    }\n",
       "\n",
       "    .dataframe thead th {\n",
       "        text-align: right;\n",
       "    }\n",
       "</style>\n",
       "<table border=\"1\" class=\"dataframe\">\n",
       "  <thead>\n",
       "    <tr style=\"text-align: right;\">\n",
       "      <th></th>\n",
       "      <th>도시</th>\n",
       "      <th>동</th>\n",
       "      <th>아파트</th>\n",
       "      <th>면적</th>\n",
       "      <th>설립일자</th>\n",
       "      <th>거래 년/월</th>\n",
       "      <th>층수</th>\n",
       "      <th>실 거래가</th>\n",
       "      <th>top10</th>\n",
       "      <th>네임드</th>\n",
       "    </tr>\n",
       "  </thead>\n",
       "  <tbody>\n",
       "    <tr>\n",
       "      <th>0</th>\n",
       "      <td>1</td>\n",
       "      <td>138</td>\n",
       "      <td>23</td>\n",
       "      <td>84.8200</td>\n",
       "      <td>2002</td>\n",
       "      <td>200801</td>\n",
       "      <td>2</td>\n",
       "      <td>37500</td>\n",
       "      <td>0</td>\n",
       "      <td>0</td>\n",
       "    </tr>\n",
       "    <tr>\n",
       "      <th>1</th>\n",
       "      <td>1</td>\n",
       "      <td>65</td>\n",
       "      <td>23</td>\n",
       "      <td>99.1700</td>\n",
       "      <td>1973</td>\n",
       "      <td>200801</td>\n",
       "      <td>6</td>\n",
       "      <td>20000</td>\n",
       "      <td>0</td>\n",
       "      <td>0</td>\n",
       "    </tr>\n",
       "    <tr>\n",
       "      <th>2</th>\n",
       "      <td>1</td>\n",
       "      <td>65</td>\n",
       "      <td>23</td>\n",
       "      <td>84.7400</td>\n",
       "      <td>2007</td>\n",
       "      <td>200801</td>\n",
       "      <td>6</td>\n",
       "      <td>38500</td>\n",
       "      <td>0</td>\n",
       "      <td>0</td>\n",
       "    </tr>\n",
       "    <tr>\n",
       "      <th>3</th>\n",
       "      <td>1</td>\n",
       "      <td>13</td>\n",
       "      <td>23</td>\n",
       "      <td>146.3900</td>\n",
       "      <td>2003</td>\n",
       "      <td>200801</td>\n",
       "      <td>15</td>\n",
       "      <td>118000</td>\n",
       "      <td>0</td>\n",
       "      <td>0</td>\n",
       "    </tr>\n",
       "    <tr>\n",
       "      <th>4</th>\n",
       "      <td>1</td>\n",
       "      <td>13</td>\n",
       "      <td>23</td>\n",
       "      <td>194.4300</td>\n",
       "      <td>2004</td>\n",
       "      <td>200801</td>\n",
       "      <td>3</td>\n",
       "      <td>120000</td>\n",
       "      <td>0</td>\n",
       "      <td>0</td>\n",
       "    </tr>\n",
       "    <tr>\n",
       "      <th>...</th>\n",
       "      <td>...</td>\n",
       "      <td>...</td>\n",
       "      <td>...</td>\n",
       "      <td>...</td>\n",
       "      <td>...</td>\n",
       "      <td>...</td>\n",
       "      <td>...</td>\n",
       "      <td>...</td>\n",
       "      <td>...</td>\n",
       "      <td>...</td>\n",
       "    </tr>\n",
       "    <tr>\n",
       "      <th>1216548</th>\n",
       "      <td>0</td>\n",
       "      <td>305</td>\n",
       "      <td>23</td>\n",
       "      <td>59.8245</td>\n",
       "      <td>2012</td>\n",
       "      <td>201711</td>\n",
       "      <td>3</td>\n",
       "      <td>22000</td>\n",
       "      <td>0</td>\n",
       "      <td>0</td>\n",
       "    </tr>\n",
       "    <tr>\n",
       "      <th>1216549</th>\n",
       "      <td>0</td>\n",
       "      <td>305</td>\n",
       "      <td>23</td>\n",
       "      <td>84.9923</td>\n",
       "      <td>2012</td>\n",
       "      <td>201711</td>\n",
       "      <td>7</td>\n",
       "      <td>30750</td>\n",
       "      <td>0</td>\n",
       "      <td>0</td>\n",
       "    </tr>\n",
       "    <tr>\n",
       "      <th>1216550</th>\n",
       "      <td>0</td>\n",
       "      <td>305</td>\n",
       "      <td>23</td>\n",
       "      <td>84.9923</td>\n",
       "      <td>2012</td>\n",
       "      <td>201711</td>\n",
       "      <td>9</td>\n",
       "      <td>29500</td>\n",
       "      <td>0</td>\n",
       "      <td>0</td>\n",
       "    </tr>\n",
       "    <tr>\n",
       "      <th>1216551</th>\n",
       "      <td>0</td>\n",
       "      <td>305</td>\n",
       "      <td>10</td>\n",
       "      <td>101.7400</td>\n",
       "      <td>2008</td>\n",
       "      <td>201711</td>\n",
       "      <td>7</td>\n",
       "      <td>26700</td>\n",
       "      <td>1</td>\n",
       "      <td>1</td>\n",
       "    </tr>\n",
       "    <tr>\n",
       "      <th>1216552</th>\n",
       "      <td>0</td>\n",
       "      <td>305</td>\n",
       "      <td>23</td>\n",
       "      <td>84.9923</td>\n",
       "      <td>2012</td>\n",
       "      <td>201711</td>\n",
       "      <td>16</td>\n",
       "      <td>28800</td>\n",
       "      <td>0</td>\n",
       "      <td>0</td>\n",
       "    </tr>\n",
       "  </tbody>\n",
       "</table>\n",
       "<p>1216553 rows × 10 columns</p>\n",
       "</div>"
      ],
      "text/plain": [
       "         도시    동 아파트        면적  설립일자  거래 년/월  층수   실 거래가  top10  네임드\n",
       "0         1  138  23   84.8200  2002  200801   2   37500      0    0\n",
       "1         1   65  23   99.1700  1973  200801   6   20000      0    0\n",
       "2         1   65  23   84.7400  2007  200801   6   38500      0    0\n",
       "3         1   13  23  146.3900  2003  200801  15  118000      0    0\n",
       "4         1   13  23  194.4300  2004  200801   3  120000      0    0\n",
       "...      ..  ...  ..       ...   ...     ...  ..     ...    ...  ...\n",
       "1216548   0  305  23   59.8245  2012  201711   3   22000      0    0\n",
       "1216549   0  305  23   84.9923  2012  201711   7   30750      0    0\n",
       "1216550   0  305  23   84.9923  2012  201711   9   29500      0    0\n",
       "1216551   0  305  10  101.7400  2008  201711   7   26700      1    1\n",
       "1216552   0  305  23   84.9923  2012  201711  16   28800      0    0\n",
       "\n",
       "[1216553 rows x 10 columns]"
      ]
     },
     "execution_count": 28,
     "metadata": {},
     "output_type": "execute_result"
    }
   ],
   "source": [
    "train"
   ]
  },
  {
   "cell_type": "code",
   "execution_count": 29,
   "id": "c743e172",
   "metadata": {},
   "outputs": [],
   "source": [
    "del train['네임드']\n",
    "del test['네임드']"
   ]
  },
  {
   "cell_type": "markdown",
   "id": "7de37bd3",
   "metadata": {},
   "source": [
    "## 날짜 관련 컬럼들"
   ]
  },
  {
   "cell_type": "markdown",
   "id": "b0231cfb",
   "metadata": {},
   "source": [
    "#### 거래 년/월\n",
    "test (201701 - 201712) \\\n",
    "train (200801 - 201711)\\\n",
    "기준이 서로 다름"
   ]
  },
  {
   "cell_type": "code",
   "execution_count": 30,
   "id": "56af1ca2",
   "metadata": {},
   "outputs": [
    {
     "name": "stdout",
     "output_type": "stream",
     "text": [
      "train 변환전\n",
      " [200801 200802 200803 200804 200805]\n",
      "test 변환전\n",
      " [201711 201708 201710 201707 201712]\n"
     ]
    }
   ],
   "source": [
    "print('train 변환전\\n', train['거래 년/월'].unique()[:5])\n",
    "print('test 변환전\\n', test['거래 년/월'].unique()[:5])"
   ]
  },
  {
   "cell_type": "code",
   "execution_count": 31,
   "id": "59d75d71",
   "metadata": {},
   "outputs": [],
   "source": [
    "le = LabelEncoder()\n",
    "test_start = train.loc[train['거래 년/월'] == 201701, '거래 년/월'].index[0]\n",
    "\n",
    "train['거래 년/월'] = le.fit_transform(train['거래 년/월'])\n",
    "\n",
    "min_test = test['거래 년/월'].min()\n",
    "plus_test = train.at[test_start, '거래 년/월']\n",
    "\n",
    "test['거래 년/월'] = test['거래 년/월'] - min_test + plus_test"
   ]
  },
  {
   "cell_type": "markdown",
   "id": "b715ec33",
   "metadata": {},
   "source": [
    "#### 설립일자"
   ]
  },
  {
   "cell_type": "code",
   "execution_count": 32,
   "id": "edae48aa",
   "metadata": {},
   "outputs": [
    {
     "name": "stdout",
     "output_type": "stream",
     "text": [
      "변환전\n",
      " [2002 1973 2007 2003 2004]\n"
     ]
    }
   ],
   "source": [
    "print('변환전\\n', train['설립일자'].unique()[:5])"
   ]
  },
  {
   "cell_type": "code",
   "execution_count": 33,
   "id": "0028c6d4",
   "metadata": {},
   "outputs": [],
   "source": [
    "train['설립일자'] = train['설립일자'] - train['설립일자'].min()\n",
    "test['설립일자'] = test['설립일자'] - test['설립일자'].min()"
   ]
  },
  {
   "cell_type": "code",
   "execution_count": 34,
   "id": "ddb2cbdc",
   "metadata": {},
   "outputs": [
    {
     "name": "stdout",
     "output_type": "stream",
     "text": [
      "변환후\n",
      " [41 12 46 42 43]\n"
     ]
    }
   ],
   "source": [
    "print('변환후\\n', train['설립일자'].unique()[:5])"
   ]
  },
  {
   "cell_type": "code",
   "execution_count": 35,
   "id": "abc09a73",
   "metadata": {},
   "outputs": [
    {
     "data": {
      "text/html": [
       "<div>\n",
       "<style scoped>\n",
       "    .dataframe tbody tr th:only-of-type {\n",
       "        vertical-align: middle;\n",
       "    }\n",
       "\n",
       "    .dataframe tbody tr th {\n",
       "        vertical-align: top;\n",
       "    }\n",
       "\n",
       "    .dataframe thead th {\n",
       "        text-align: right;\n",
       "    }\n",
       "</style>\n",
       "<table border=\"1\" class=\"dataframe\">\n",
       "  <thead>\n",
       "    <tr style=\"text-align: right;\">\n",
       "      <th></th>\n",
       "      <th>도시</th>\n",
       "      <th>동</th>\n",
       "      <th>아파트</th>\n",
       "      <th>면적</th>\n",
       "      <th>설립일자</th>\n",
       "      <th>거래 년/월</th>\n",
       "      <th>층수</th>\n",
       "      <th>실 거래가</th>\n",
       "      <th>top10</th>\n",
       "    </tr>\n",
       "  </thead>\n",
       "  <tbody>\n",
       "    <tr>\n",
       "      <th>0</th>\n",
       "      <td>1</td>\n",
       "      <td>138</td>\n",
       "      <td>23</td>\n",
       "      <td>84.8200</td>\n",
       "      <td>41</td>\n",
       "      <td>0</td>\n",
       "      <td>2</td>\n",
       "      <td>37500</td>\n",
       "      <td>0</td>\n",
       "    </tr>\n",
       "    <tr>\n",
       "      <th>1</th>\n",
       "      <td>1</td>\n",
       "      <td>65</td>\n",
       "      <td>23</td>\n",
       "      <td>99.1700</td>\n",
       "      <td>12</td>\n",
       "      <td>0</td>\n",
       "      <td>6</td>\n",
       "      <td>20000</td>\n",
       "      <td>0</td>\n",
       "    </tr>\n",
       "    <tr>\n",
       "      <th>2</th>\n",
       "      <td>1</td>\n",
       "      <td>65</td>\n",
       "      <td>23</td>\n",
       "      <td>84.7400</td>\n",
       "      <td>46</td>\n",
       "      <td>0</td>\n",
       "      <td>6</td>\n",
       "      <td>38500</td>\n",
       "      <td>0</td>\n",
       "    </tr>\n",
       "    <tr>\n",
       "      <th>3</th>\n",
       "      <td>1</td>\n",
       "      <td>13</td>\n",
       "      <td>23</td>\n",
       "      <td>146.3900</td>\n",
       "      <td>42</td>\n",
       "      <td>0</td>\n",
       "      <td>15</td>\n",
       "      <td>118000</td>\n",
       "      <td>0</td>\n",
       "    </tr>\n",
       "    <tr>\n",
       "      <th>4</th>\n",
       "      <td>1</td>\n",
       "      <td>13</td>\n",
       "      <td>23</td>\n",
       "      <td>194.4300</td>\n",
       "      <td>43</td>\n",
       "      <td>0</td>\n",
       "      <td>3</td>\n",
       "      <td>120000</td>\n",
       "      <td>0</td>\n",
       "    </tr>\n",
       "    <tr>\n",
       "      <th>...</th>\n",
       "      <td>...</td>\n",
       "      <td>...</td>\n",
       "      <td>...</td>\n",
       "      <td>...</td>\n",
       "      <td>...</td>\n",
       "      <td>...</td>\n",
       "      <td>...</td>\n",
       "      <td>...</td>\n",
       "      <td>...</td>\n",
       "    </tr>\n",
       "    <tr>\n",
       "      <th>1216548</th>\n",
       "      <td>0</td>\n",
       "      <td>305</td>\n",
       "      <td>23</td>\n",
       "      <td>59.8245</td>\n",
       "      <td>51</td>\n",
       "      <td>118</td>\n",
       "      <td>3</td>\n",
       "      <td>22000</td>\n",
       "      <td>0</td>\n",
       "    </tr>\n",
       "    <tr>\n",
       "      <th>1216549</th>\n",
       "      <td>0</td>\n",
       "      <td>305</td>\n",
       "      <td>23</td>\n",
       "      <td>84.9923</td>\n",
       "      <td>51</td>\n",
       "      <td>118</td>\n",
       "      <td>7</td>\n",
       "      <td>30750</td>\n",
       "      <td>0</td>\n",
       "    </tr>\n",
       "    <tr>\n",
       "      <th>1216550</th>\n",
       "      <td>0</td>\n",
       "      <td>305</td>\n",
       "      <td>23</td>\n",
       "      <td>84.9923</td>\n",
       "      <td>51</td>\n",
       "      <td>118</td>\n",
       "      <td>9</td>\n",
       "      <td>29500</td>\n",
       "      <td>0</td>\n",
       "    </tr>\n",
       "    <tr>\n",
       "      <th>1216551</th>\n",
       "      <td>0</td>\n",
       "      <td>305</td>\n",
       "      <td>10</td>\n",
       "      <td>101.7400</td>\n",
       "      <td>47</td>\n",
       "      <td>118</td>\n",
       "      <td>7</td>\n",
       "      <td>26700</td>\n",
       "      <td>1</td>\n",
       "    </tr>\n",
       "    <tr>\n",
       "      <th>1216552</th>\n",
       "      <td>0</td>\n",
       "      <td>305</td>\n",
       "      <td>23</td>\n",
       "      <td>84.9923</td>\n",
       "      <td>51</td>\n",
       "      <td>118</td>\n",
       "      <td>16</td>\n",
       "      <td>28800</td>\n",
       "      <td>0</td>\n",
       "    </tr>\n",
       "  </tbody>\n",
       "</table>\n",
       "<p>1216553 rows × 9 columns</p>\n",
       "</div>"
      ],
      "text/plain": [
       "         도시    동 아파트        면적  설립일자  거래 년/월  층수   실 거래가  top10\n",
       "0         1  138  23   84.8200    41       0   2   37500      0\n",
       "1         1   65  23   99.1700    12       0   6   20000      0\n",
       "2         1   65  23   84.7400    46       0   6   38500      0\n",
       "3         1   13  23  146.3900    42       0  15  118000      0\n",
       "4         1   13  23  194.4300    43       0   3  120000      0\n",
       "...      ..  ...  ..       ...   ...     ...  ..     ...    ...\n",
       "1216548   0  305  23   59.8245    51     118   3   22000      0\n",
       "1216549   0  305  23   84.9923    51     118   7   30750      0\n",
       "1216550   0  305  23   84.9923    51     118   9   29500      0\n",
       "1216551   0  305  10  101.7400    47     118   7   26700      1\n",
       "1216552   0  305  23   84.9923    51     118  16   28800      0\n",
       "\n",
       "[1216553 rows x 9 columns]"
      ]
     },
     "execution_count": 35,
     "metadata": {},
     "output_type": "execute_result"
    }
   ],
   "source": [
    "train"
   ]
  },
  {
   "cell_type": "markdown",
   "id": "9b6014b0",
   "metadata": {},
   "source": [
    "## 층수\n",
    "train 최소 층 : -4\\\n",
    "test 최소 층 : -1"
   ]
  },
  {
   "cell_type": "code",
   "execution_count": 36,
   "id": "4ca386d3",
   "metadata": {},
   "outputs": [
    {
     "name": "stdout",
     "output_type": "stream",
     "text": [
      "변환전\n",
      " [ 2  6  6 15  3]\n"
     ]
    }
   ],
   "source": [
    "print('변환전\\n', train['층수'].values[:5])"
   ]
  },
  {
   "cell_type": "code",
   "execution_count": 37,
   "id": "651aa254",
   "metadata": {},
   "outputs": [],
   "source": [
    "train['층수'] = train['층수'].map(lambda x: x+4)\n",
    "test['층수'] = test['층수'].map(lambda x: x+4)\n",
    "# test['층수'] = test['층수'].map(lambda x: x+1)"
   ]
  },
  {
   "cell_type": "code",
   "execution_count": 38,
   "id": "22a69001",
   "metadata": {},
   "outputs": [
    {
     "name": "stdout",
     "output_type": "stream",
     "text": [
      "변환후\n",
      " [ 6 10 10 19  7]\n"
     ]
    }
   ],
   "source": [
    "print('변환후\\n', train['층수'].values[:5])"
   ]
  },
  {
   "cell_type": "markdown",
   "id": "41b2bbb8",
   "metadata": {},
   "source": [
    "## 면적, 실거래가"
   ]
  },
  {
   "cell_type": "code",
   "execution_count": 39,
   "id": "f638333a",
   "metadata": {},
   "outputs": [
    {
     "data": {
      "text/plain": [
       "<seaborn.axisgrid.FacetGrid at 0x1d20fb8a070>"
      ]
     },
     "execution_count": 39,
     "metadata": {},
     "output_type": "execute_result"
    },
    {
     "data": {
      "text/plain": [
       "<Figure size 640x480 with 0 Axes>"
      ]
     },
     "metadata": {},
     "output_type": "display_data"
    },
    {
     "data": {
      "image/png": "[encoded data removed]",
      "text/plain": [
       "<Figure size 500x500 with 1 Axes>"
      ]
     },
     "metadata": {},
     "output_type": "display_data"
    }
   ],
   "source": [
    "plt.figure()\n",
    "sns.displot(train['실 거래가'], bins=30)"
   ]
  },
  {
   "cell_type": "markdown",
   "id": "af3af6c7",
   "metadata": {},
   "source": [
    "#### 1. 이상치 제거"
   ]
  },
  {
   "cell_type": "code",
   "execution_count": null,
   "id": "343fde42",
   "metadata": {},
   "outputs": [],
   "source": [
    "IQR=train['실 거래가'].quantile(0.75)-train['실 거래가'].quantile(0.25)\n",
    "train1=train[train['실 거래가']<=(train['실 거래가'].quantile(0.75)+(1.5*IQR))]\n",
    "train1=train1[train1['실 거래가']>=(train1['실 거래가'].quantile(0.25)-(1.5*IQR))]\n",
    "\n",
    "train1 = train1.reset_index()\n",
    "del train1['index']\n",
    "train1"
   ]
  },
  {
   "cell_type": "code",
   "execution_count": null,
   "id": "465a9f84",
   "metadata": {},
   "outputs": [],
   "source": [
    "plt.figure()\n",
    "sns.displot(train1['실 거래가'], bins=30)"
   ]
  },
  {
   "cell_type": "code",
   "execution_count": null,
   "id": "ca774922",
   "metadata": {},
   "outputs": [],
   "source": [
    "plt.figure()\n",
    "sns.displot(train['면적'], bins=30)"
   ]
  },
  {
   "cell_type": "code",
   "execution_count": null,
   "id": "24a45c40",
   "metadata": {},
   "outputs": [],
   "source": [
    "IQR=abs(train1['면적'].quantile(0.75)-train1['면적'].quantile(0.25))\n",
    "train1=train1[train1['면적']<=(train1['면적'].quantile(0.75)+(1.5*IQR))]\n",
    "train1=train1[train1['면적']>=(train1['면적'].quantile(0.25)-(1.5*IQR))]\n",
    "\n",
    "train1 = train1.reset_index()\n",
    "del train1['index']\n",
    "train1"
   ]
  },
  {
   "cell_type": "code",
   "execution_count": null,
   "id": "c8f44429",
   "metadata": {},
   "outputs": [],
   "source": [
    "plt.figure()\n",
    "sns.displot(train1['면적'], bins=30)"
   ]
  },
  {
   "cell_type": "markdown",
   "id": "9eaa4910",
   "metadata": {},
   "source": [
    "#### 2. 로그 스케일링"
   ]
  },
  {
   "cell_type": "code",
   "execution_count": 40,
   "id": "34af41ee",
   "metadata": {},
   "outputs": [
    {
     "data": {
      "text/html": [
       "<div>\n",
       "<style scoped>\n",
       "    .dataframe tbody tr th:only-of-type {\n",
       "        vertical-align: middle;\n",
       "    }\n",
       "\n",
       "    .dataframe tbody tr th {\n",
       "        vertical-align: top;\n",
       "    }\n",
       "\n",
       "    .dataframe thead th {\n",
       "        text-align: right;\n",
       "    }\n",
       "</style>\n",
       "<table border=\"1\" class=\"dataframe\">\n",
       "  <thead>\n",
       "    <tr style=\"text-align: right;\">\n",
       "      <th></th>\n",
       "      <th>도시</th>\n",
       "      <th>동</th>\n",
       "      <th>아파트</th>\n",
       "      <th>면적</th>\n",
       "      <th>설립일자</th>\n",
       "      <th>거래 년/월</th>\n",
       "      <th>층수</th>\n",
       "      <th>top10</th>\n",
       "      <th>log_price</th>\n",
       "    </tr>\n",
       "  </thead>\n",
       "  <tbody>\n",
       "    <tr>\n",
       "      <th>0</th>\n",
       "      <td>1</td>\n",
       "      <td>138</td>\n",
       "      <td>23</td>\n",
       "      <td>84.8200</td>\n",
       "      <td>41</td>\n",
       "      <td>0</td>\n",
       "      <td>6</td>\n",
       "      <td>0</td>\n",
       "      <td>10.532123</td>\n",
       "    </tr>\n",
       "    <tr>\n",
       "      <th>1</th>\n",
       "      <td>1</td>\n",
       "      <td>65</td>\n",
       "      <td>23</td>\n",
       "      <td>99.1700</td>\n",
       "      <td>12</td>\n",
       "      <td>0</td>\n",
       "      <td>10</td>\n",
       "      <td>0</td>\n",
       "      <td>9.903538</td>\n",
       "    </tr>\n",
       "    <tr>\n",
       "      <th>2</th>\n",
       "      <td>1</td>\n",
       "      <td>65</td>\n",
       "      <td>23</td>\n",
       "      <td>84.7400</td>\n",
       "      <td>46</td>\n",
       "      <td>0</td>\n",
       "      <td>10</td>\n",
       "      <td>0</td>\n",
       "      <td>10.558439</td>\n",
       "    </tr>\n",
       "    <tr>\n",
       "      <th>3</th>\n",
       "      <td>1</td>\n",
       "      <td>13</td>\n",
       "      <td>23</td>\n",
       "      <td>146.3900</td>\n",
       "      <td>42</td>\n",
       "      <td>0</td>\n",
       "      <td>19</td>\n",
       "      <td>0</td>\n",
       "      <td>11.678448</td>\n",
       "    </tr>\n",
       "    <tr>\n",
       "      <th>4</th>\n",
       "      <td>1</td>\n",
       "      <td>13</td>\n",
       "      <td>23</td>\n",
       "      <td>194.4300</td>\n",
       "      <td>43</td>\n",
       "      <td>0</td>\n",
       "      <td>7</td>\n",
       "      <td>0</td>\n",
       "      <td>11.695255</td>\n",
       "    </tr>\n",
       "    <tr>\n",
       "      <th>...</th>\n",
       "      <td>...</td>\n",
       "      <td>...</td>\n",
       "      <td>...</td>\n",
       "      <td>...</td>\n",
       "      <td>...</td>\n",
       "      <td>...</td>\n",
       "      <td>...</td>\n",
       "      <td>...</td>\n",
       "      <td>...</td>\n",
       "    </tr>\n",
       "    <tr>\n",
       "      <th>1216548</th>\n",
       "      <td>0</td>\n",
       "      <td>305</td>\n",
       "      <td>23</td>\n",
       "      <td>59.8245</td>\n",
       "      <td>51</td>\n",
       "      <td>118</td>\n",
       "      <td>7</td>\n",
       "      <td>0</td>\n",
       "      <td>9.998843</td>\n",
       "    </tr>\n",
       "    <tr>\n",
       "      <th>1216549</th>\n",
       "      <td>0</td>\n",
       "      <td>305</td>\n",
       "      <td>23</td>\n",
       "      <td>84.9923</td>\n",
       "      <td>51</td>\n",
       "      <td>118</td>\n",
       "      <td>11</td>\n",
       "      <td>0</td>\n",
       "      <td>10.333678</td>\n",
       "    </tr>\n",
       "    <tr>\n",
       "      <th>1216550</th>\n",
       "      <td>0</td>\n",
       "      <td>305</td>\n",
       "      <td>23</td>\n",
       "      <td>84.9923</td>\n",
       "      <td>51</td>\n",
       "      <td>118</td>\n",
       "      <td>13</td>\n",
       "      <td>0</td>\n",
       "      <td>10.292179</td>\n",
       "    </tr>\n",
       "    <tr>\n",
       "      <th>1216551</th>\n",
       "      <td>0</td>\n",
       "      <td>305</td>\n",
       "      <td>10</td>\n",
       "      <td>101.7400</td>\n",
       "      <td>47</td>\n",
       "      <td>118</td>\n",
       "      <td>11</td>\n",
       "      <td>1</td>\n",
       "      <td>10.192456</td>\n",
       "    </tr>\n",
       "    <tr>\n",
       "      <th>1216552</th>\n",
       "      <td>0</td>\n",
       "      <td>305</td>\n",
       "      <td>23</td>\n",
       "      <td>84.9923</td>\n",
       "      <td>51</td>\n",
       "      <td>118</td>\n",
       "      <td>20</td>\n",
       "      <td>0</td>\n",
       "      <td>10.268165</td>\n",
       "    </tr>\n",
       "  </tbody>\n",
       "</table>\n",
       "<p>1216553 rows × 9 columns</p>\n",
       "</div>"
      ],
      "text/plain": [
       "         도시    동 아파트        면적  설립일자  거래 년/월  층수  top10  log_price\n",
       "0         1  138  23   84.8200    41       0   6      0  10.532123\n",
       "1         1   65  23   99.1700    12       0  10      0   9.903538\n",
       "2         1   65  23   84.7400    46       0  10      0  10.558439\n",
       "3         1   13  23  146.3900    42       0  19      0  11.678448\n",
       "4         1   13  23  194.4300    43       0   7      0  11.695255\n",
       "...      ..  ...  ..       ...   ...     ...  ..    ...        ...\n",
       "1216548   0  305  23   59.8245    51     118   7      0   9.998843\n",
       "1216549   0  305  23   84.9923    51     118  11      0  10.333678\n",
       "1216550   0  305  23   84.9923    51     118  13      0  10.292179\n",
       "1216551   0  305  10  101.7400    47     118  11      1  10.192456\n",
       "1216552   0  305  23   84.9923    51     118  20      0  10.268165\n",
       "\n",
       "[1216553 rows x 9 columns]"
      ]
     },
     "execution_count": 40,
     "metadata": {},
     "output_type": "execute_result"
    }
   ],
   "source": [
    "train['log_price'] = np.log1p(train['실 거래가'])\n",
    "real_price = train['실 거래가'] # 원래 가격\n",
    "del train['실 거래가']\n",
    "train"
   ]
  },
  {
   "cell_type": "code",
   "execution_count": 41,
   "id": "ec768004",
   "metadata": {},
   "outputs": [
    {
     "data": {
      "text/plain": [
       "<seaborn.axisgrid.FacetGrid at 0x1d201052310>"
      ]
     },
     "execution_count": 41,
     "metadata": {},
     "output_type": "execute_result"
    },
    {
     "data": {
      "text/plain": [
       "<Figure size 640x480 with 0 Axes>"
      ]
     },
     "metadata": {},
     "output_type": "display_data"
    },
    {
     "data": {
      "image/png": "[encoded data removed]",
      "text/plain": [
       "<Figure size 500x500 with 1 Axes>"
      ]
     },
     "metadata": {},
     "output_type": "display_data"
    }
   ],
   "source": [
    "plt.figure()\n",
    "sns.displot(train['log_price'], bins=30)"
   ]
  },
  {
   "cell_type": "code",
   "execution_count": 42,
   "id": "4baf0808",
   "metadata": {},
   "outputs": [],
   "source": [
    "train['log_area'] = np.log1p(train['면적'])\n",
    "test['log_area'] = np.log1p(test['면적'])\n",
    "del train['면적']\n",
    "del test['면적']"
   ]
  },
  {
   "cell_type": "code",
   "execution_count": 43,
   "id": "54fdbadd",
   "metadata": {},
   "outputs": [
    {
     "data": {
      "text/plain": [
       "<seaborn.axisgrid.FacetGrid at 0x1d2001c33a0>"
      ]
     },
     "execution_count": 43,
     "metadata": {},
     "output_type": "execute_result"
    },
    {
     "data": {
      "text/plain": [
       "<Figure size 640x480 with 0 Axes>"
      ]
     },
     "metadata": {},
     "output_type": "display_data"
    },
    {
     "data": {
      "image/png": "[encoded data removed]",
      "text/plain": [
       "<Figure size 500x500 with 1 Axes>"
      ]
     },
     "metadata": {},
     "output_type": "display_data"
    }
   ],
   "source": [
    "plt.figure()\n",
    "sns.displot(train['log_area'], bins=30)"
   ]
  },
  {
   "cell_type": "code",
   "execution_count": 44,
   "id": "2a151992",
   "metadata": {},
   "outputs": [
    {
     "data": {
      "text/html": [
       "<div>\n",
       "<style scoped>\n",
       "    .dataframe tbody tr th:only-of-type {\n",
       "        vertical-align: middle;\n",
       "    }\n",
       "\n",
       "    .dataframe tbody tr th {\n",
       "        vertical-align: top;\n",
       "    }\n",
       "\n",
       "    .dataframe thead th {\n",
       "        text-align: right;\n",
       "    }\n",
       "</style>\n",
       "<table border=\"1\" class=\"dataframe\">\n",
       "  <thead>\n",
       "    <tr style=\"text-align: right;\">\n",
       "      <th></th>\n",
       "      <th>도시</th>\n",
       "      <th>동</th>\n",
       "      <th>아파트</th>\n",
       "      <th>설립일자</th>\n",
       "      <th>거래 년/월</th>\n",
       "      <th>층수</th>\n",
       "      <th>top10</th>\n",
       "      <th>log_price</th>\n",
       "      <th>log_area</th>\n",
       "    </tr>\n",
       "  </thead>\n",
       "  <tbody>\n",
       "    <tr>\n",
       "      <th>0</th>\n",
       "      <td>1</td>\n",
       "      <td>138</td>\n",
       "      <td>23</td>\n",
       "      <td>41</td>\n",
       "      <td>0</td>\n",
       "      <td>6</td>\n",
       "      <td>0</td>\n",
       "      <td>10.532123</td>\n",
       "      <td>4.452252</td>\n",
       "    </tr>\n",
       "    <tr>\n",
       "      <th>1</th>\n",
       "      <td>1</td>\n",
       "      <td>65</td>\n",
       "      <td>23</td>\n",
       "      <td>12</td>\n",
       "      <td>0</td>\n",
       "      <td>10</td>\n",
       "      <td>0</td>\n",
       "      <td>9.903538</td>\n",
       "      <td>4.606869</td>\n",
       "    </tr>\n",
       "    <tr>\n",
       "      <th>2</th>\n",
       "      <td>1</td>\n",
       "      <td>65</td>\n",
       "      <td>23</td>\n",
       "      <td>46</td>\n",
       "      <td>0</td>\n",
       "      <td>10</td>\n",
       "      <td>0</td>\n",
       "      <td>10.558439</td>\n",
       "      <td>4.451319</td>\n",
       "    </tr>\n",
       "    <tr>\n",
       "      <th>3</th>\n",
       "      <td>1</td>\n",
       "      <td>13</td>\n",
       "      <td>23</td>\n",
       "      <td>42</td>\n",
       "      <td>0</td>\n",
       "      <td>19</td>\n",
       "      <td>0</td>\n",
       "      <td>11.678448</td>\n",
       "      <td>4.993082</td>\n",
       "    </tr>\n",
       "    <tr>\n",
       "      <th>4</th>\n",
       "      <td>1</td>\n",
       "      <td>13</td>\n",
       "      <td>23</td>\n",
       "      <td>43</td>\n",
       "      <td>0</td>\n",
       "      <td>7</td>\n",
       "      <td>0</td>\n",
       "      <td>11.695255</td>\n",
       "      <td>5.275202</td>\n",
       "    </tr>\n",
       "    <tr>\n",
       "      <th>...</th>\n",
       "      <td>...</td>\n",
       "      <td>...</td>\n",
       "      <td>...</td>\n",
       "      <td>...</td>\n",
       "      <td>...</td>\n",
       "      <td>...</td>\n",
       "      <td>...</td>\n",
       "      <td>...</td>\n",
       "      <td>...</td>\n",
       "    </tr>\n",
       "    <tr>\n",
       "      <th>1216548</th>\n",
       "      <td>0</td>\n",
       "      <td>305</td>\n",
       "      <td>23</td>\n",
       "      <td>51</td>\n",
       "      <td>118</td>\n",
       "      <td>7</td>\n",
       "      <td>0</td>\n",
       "      <td>9.998843</td>\n",
       "      <td>4.107993</td>\n",
       "    </tr>\n",
       "    <tr>\n",
       "      <th>1216549</th>\n",
       "      <td>0</td>\n",
       "      <td>305</td>\n",
       "      <td>23</td>\n",
       "      <td>51</td>\n",
       "      <td>118</td>\n",
       "      <td>11</td>\n",
       "      <td>0</td>\n",
       "      <td>10.333678</td>\n",
       "      <td>4.454258</td>\n",
       "    </tr>\n",
       "    <tr>\n",
       "      <th>1216550</th>\n",
       "      <td>0</td>\n",
       "      <td>305</td>\n",
       "      <td>23</td>\n",
       "      <td>51</td>\n",
       "      <td>118</td>\n",
       "      <td>13</td>\n",
       "      <td>0</td>\n",
       "      <td>10.292179</td>\n",
       "      <td>4.454258</td>\n",
       "    </tr>\n",
       "    <tr>\n",
       "      <th>1216551</th>\n",
       "      <td>0</td>\n",
       "      <td>305</td>\n",
       "      <td>10</td>\n",
       "      <td>47</td>\n",
       "      <td>118</td>\n",
       "      <td>11</td>\n",
       "      <td>1</td>\n",
       "      <td>10.192456</td>\n",
       "      <td>4.632202</td>\n",
       "    </tr>\n",
       "    <tr>\n",
       "      <th>1216552</th>\n",
       "      <td>0</td>\n",
       "      <td>305</td>\n",
       "      <td>23</td>\n",
       "      <td>51</td>\n",
       "      <td>118</td>\n",
       "      <td>20</td>\n",
       "      <td>0</td>\n",
       "      <td>10.268165</td>\n",
       "      <td>4.454258</td>\n",
       "    </tr>\n",
       "  </tbody>\n",
       "</table>\n",
       "<p>1216553 rows × 9 columns</p>\n",
       "</div>"
      ],
      "text/plain": [
       "         도시    동 아파트  설립일자  거래 년/월  층수  top10  log_price  log_area\n",
       "0         1  138  23    41       0   6      0  10.532123  4.452252\n",
       "1         1   65  23    12       0  10      0   9.903538  4.606869\n",
       "2         1   65  23    46       0  10      0  10.558439  4.451319\n",
       "3         1   13  23    42       0  19      0  11.678448  4.993082\n",
       "4         1   13  23    43       0   7      0  11.695255  5.275202\n",
       "...      ..  ...  ..   ...     ...  ..    ...        ...       ...\n",
       "1216548   0  305  23    51     118   7      0   9.998843  4.107993\n",
       "1216549   0  305  23    51     118  11      0  10.333678  4.454258\n",
       "1216550   0  305  23    51     118  13      0  10.292179  4.454258\n",
       "1216551   0  305  10    47     118  11      1  10.192456  4.632202\n",
       "1216552   0  305  23    51     118  20      0  10.268165  4.454258\n",
       "\n",
       "[1216553 rows x 9 columns]"
      ]
     },
     "execution_count": 44,
     "metadata": {},
     "output_type": "execute_result"
    }
   ],
   "source": [
    "train"
   ]
  },
  {
   "cell_type": "markdown",
   "id": "d7f6d9a5",
   "metadata": {},
   "source": [
    "## 모델링 전 타입 확인"
   ]
  },
  {
   "cell_type": "code",
   "execution_count": 45,
   "id": "2677e9ce",
   "metadata": {},
   "outputs": [
    {
     "name": "stdout",
     "output_type": "stream",
     "text": [
      "<class 'pandas.core.frame.DataFrame'>\n",
      "RangeIndex: 1216553 entries, 0 to 1216552\n",
      "Data columns (total 9 columns):\n",
      " #   Column     Non-Null Count    Dtype  \n",
      "---  ------     --------------    -----  \n",
      " 0   도시         1216553 non-null  int64  \n",
      " 1   동          1216553 non-null  object \n",
      " 2   아파트        1216553 non-null  object \n",
      " 3   설립일자       1216553 non-null  int64  \n",
      " 4   거래 년/월     1216553 non-null  int64  \n",
      " 5   층수         1216553 non-null  int64  \n",
      " 6   top10      1216553 non-null  int64  \n",
      " 7   log_price  1216553 non-null  float64\n",
      " 8   log_area   1216553 non-null  float64\n",
      "dtypes: float64(2), int64(5), object(2)\n",
      "memory usage: 83.5+ MB\n"
     ]
    }
   ],
   "source": [
    "train.info()"
   ]
  },
  {
   "cell_type": "code",
   "execution_count": 46,
   "id": "0c046235",
   "metadata": {},
   "outputs": [
    {
     "ename": "NameError",
     "evalue": "name 'train1' is not defined",
     "output_type": "error",
     "traceback": [
      "\u001b[1;31m---------------------------------------------------------------------------\u001b[0m",
      "\u001b[1;31mNameError\u001b[0m                                 Traceback (most recent call last)",
      "Cell \u001b[1;32mIn[46], line 1\u001b[0m\n\u001b[1;32m----> 1\u001b[0m \u001b[43mtrain1\u001b[49m\u001b[38;5;241m.\u001b[39minfo()\n",
      "\u001b[1;31mNameError\u001b[0m: name 'train1' is not defined"
     ]
    }
   ],
   "source": [
    "train1.info()"
   ]
  },
  {
   "cell_type": "code",
   "execution_count": 47,
   "id": "fe75e51a",
   "metadata": {},
   "outputs": [],
   "source": [
    "train['동'] = train['동'].astype('int64')\n",
    "train['아파트'] = train['아파트'].astype('int64')\n",
    "# train1['동'] = train1['동'].astype('int')\n",
    "# train1['아파트'] = train1['아파트'].astype('int')\n",
    "test['동'] = test['동'].astype('int64')\n",
    "test['아파트'] = test['아파트'].astype('int64')"
   ]
  },
  {
   "cell_type": "code",
   "execution_count": null,
   "id": "635c863b",
   "metadata": {},
   "outputs": [],
   "source": [
    "train.info()"
   ]
  },
  {
   "cell_type": "code",
   "execution_count": null,
   "id": "cfe84b45",
   "metadata": {},
   "outputs": [],
   "source": [
    "train1.info()"
   ]
  },
  {
   "cell_type": "markdown",
   "id": "c12ced6b",
   "metadata": {},
   "source": [
    "# 모델링"
   ]
  },
  {
   "cell_type": "markdown",
   "id": "c9d90f1a",
   "metadata": {},
   "source": [
    "#### 특성, 타겟 분리"
   ]
  },
  {
   "cell_type": "code",
   "execution_count": 48,
   "id": "73c9bba7",
   "metadata": {},
   "outputs": [],
   "source": [
    "train_X, train_y = train .drop('log_price', axis=1), train['log_price']"
   ]
  },
  {
   "cell_type": "code",
   "execution_count": 82,
   "id": "699e5754",
   "metadata": {},
   "outputs": [],
   "source": [
    "train1_X, train1_y = train1 .drop('실 거래가', axis=1), train1['실 거래가']"
   ]
  },
  {
   "cell_type": "markdown",
   "id": "07a3cc08",
   "metadata": {},
   "source": [
    "RMSE 점수 함수"
   ]
  },
  {
   "cell_type": "code",
   "execution_count": 78,
   "id": "489b7e7c",
   "metadata": {},
   "outputs": [],
   "source": [
    "def RMSE(y, y_pred):\n",
    "    rmse = mean_squared_error(y, y_pred) ** 0.5\n",
    "    return rmse"
   ]
  },
  {
   "cell_type": "markdown",
   "id": "9d36cd3b",
   "metadata": {},
   "source": [
    "cross validation 함수"
   ]
  },
  {
   "cell_type": "code",
   "execution_count": 55,
   "id": "80ed59b7",
   "metadata": {},
   "outputs": [],
   "source": [
    "def rmse_cv(model, train_X, train_y):\n",
    "    # cv별로 학습하는 함수\n",
    "    tscv = TimeSeriesSplit(n_splits=10)\n",
    "    rmse_list = []\n",
    "    model_name = model.__class__.__name__\n",
    "    for _, (train_index, test_index) in tqdm(enumerate(tscv.split(train_X), start=1), desc=f'{model_name} Cross Validations...', total=10):\n",
    "        X_train, X_test = train_X.iloc[train_index], train_X.iloc[test_index]\n",
    "        y_train, y_test = train_y.iloc[train_index], train_y.iloc[test_index]\n",
    "        clf = model.fit(X_train, y_train)\n",
    "        pred = clf.predict(X_test)\n",
    "        rmse = RMSE(y_test, pred) \n",
    "        rmse_list.append(rmse)\n",
    "    return model_name, rmse_list"
   ]
  },
  {
   "attachments": {
    "image.png": {
     "image/png": "[encoded data removed]"
    }
   },
   "cell_type": "markdown",
   "id": "35ab5e34",
   "metadata": {},
   "source": [
    "![image.png](attachment:image.png)"
   ]
  },
  {
   "cell_type": "markdown",
   "id": "af0c6a69",
   "metadata": {},
   "source": [
    "결과 출력 함수"
   ]
  },
  {
   "cell_type": "code",
   "execution_count": 56,
   "id": "d1816f88",
   "metadata": {},
   "outputs": [],
   "source": [
    "def print_rmse_score(model, train_X, train_y):\n",
    "    # cv별 프린팅, 평균 저장\n",
    "    model_name, score = rmse_cv(model, train_X, train_y)\n",
    "    for i, r in enumerate(score, start=1):\n",
    "        print(f'{i} FOLDS: {model_name} RMSLE: {r:.4f}')\n",
    "    print(f'\\n{model_name} mean RMSLE: {np.mean(score):.4f}')\n",
    "    print('='*40)\n",
    "    return model_name, np.mean(score)"
   ]
  },
  {
   "cell_type": "markdown",
   "id": "109c75fd",
   "metadata": {},
   "source": [
    "#### 모델 불러오기"
   ]
  },
  {
   "cell_type": "code",
   "execution_count": 49,
   "id": "b3ad5745",
   "metadata": {},
   "outputs": [],
   "source": [
    "reg = LinearRegression(n_jobs=-1)\n",
    "ridge = Ridge(alpha=0.8, random_state=1)\n",
    "lasso = Lasso(alpha = 0.01, random_state=1)\n",
    "Enet = ElasticNet(alpha=0.03, l1_ratio=0.01, random_state=1)\n",
    "DTree = DecisionTreeRegressor(max_depth=6, min_samples_split=10, min_samples_leaf=15, random_state=1)\n",
    "rf = RandomForestRegressor(n_estimators=500, criterion='mse', max_depth=9, min_samples_split=50,\n",
    "                           min_samples_leaf=5, random_state=1, n_jobs=-1)\n",
    "model_xgb = xgb.XGBRegressor(n_estimators=500, max_depth=9, min_child_weight=5, gamma=0.1, n_jobs=-1)\n",
    "model_lgb = lgb.LGBMRegressor(n_estimators=500, max_depth=9, min_child_weight=5, n_jobs=-1)"
   ]
  },
  {
   "cell_type": "markdown",
   "id": "059d1abc",
   "metadata": {},
   "source": [
    "## 로그스케일링 데이터"
   ]
  },
  {
   "cell_type": "code",
   "execution_count": 86,
   "id": "e70bf05c",
   "metadata": {},
   "outputs": [
    {
     "name": "stderr",
     "output_type": "stream",
     "text": [
      "LinearRegression Cross Validations...: 100%|██████████| 10/10 [00:01<00:00,  8.61it/s]\n"
     ]
    },
    {
     "name": "stdout",
     "output_type": "stream",
     "text": [
      "1 FOLDS: LinearRegression RMSLE: 0.1970\n",
      "2 FOLDS: LinearRegression RMSLE: 0.2510\n",
      "3 FOLDS: LinearRegression RMSLE: 0.2142\n",
      "4 FOLDS: LinearRegression RMSLE: 0.3584\n",
      "5 FOLDS: LinearRegression RMSLE: 0.3423\n",
      "6 FOLDS: LinearRegression RMSLE: 0.3490\n",
      "7 FOLDS: LinearRegression RMSLE: 0.3382\n",
      "8 FOLDS: LinearRegression RMSLE: 0.2910\n",
      "9 FOLDS: LinearRegression RMSLE: 0.2621\n",
      "10 FOLDS: LinearRegression RMSLE: 0.2850\n",
      "\n",
      "LinearRegression mean RMSLE: 0.2888\n",
      "========================================\n"
     ]
    },
    {
     "name": "stderr",
     "output_type": "stream",
     "text": [
      "Ridge Cross Validations...: 100%|██████████| 10/10 [00:00<00:00, 15.55it/s]\n"
     ]
    },
    {
     "name": "stdout",
     "output_type": "stream",
     "text": [
      "1 FOLDS: Ridge RMSLE: 0.1970\n",
      "2 FOLDS: Ridge RMSLE: 0.2510\n",
      "3 FOLDS: Ridge RMSLE: 0.2142\n",
      "4 FOLDS: Ridge RMSLE: 0.3584\n",
      "5 FOLDS: Ridge RMSLE: 0.3423\n",
      "6 FOLDS: Ridge RMSLE: 0.3490\n",
      "7 FOLDS: Ridge RMSLE: 0.3382\n",
      "8 FOLDS: Ridge RMSLE: 0.2910\n",
      "9 FOLDS: Ridge RMSLE: 0.2621\n",
      "10 FOLDS: Ridge RMSLE: 0.2850\n",
      "\n",
      "Ridge mean RMSLE: 0.2888\n",
      "========================================\n"
     ]
    },
    {
     "name": "stderr",
     "output_type": "stream",
     "text": [
      "Lasso Cross Validations...: 100%|██████████| 10/10 [00:01<00:00,  6.61it/s]\n"
     ]
    },
    {
     "name": "stdout",
     "output_type": "stream",
     "text": [
      "1 FOLDS: Lasso RMSLE: 0.1993\n",
      "2 FOLDS: Lasso RMSLE: 0.2505\n",
      "3 FOLDS: Lasso RMSLE: 0.2149\n",
      "4 FOLDS: Lasso RMSLE: 0.3628\n",
      "5 FOLDS: Lasso RMSLE: 0.3374\n",
      "6 FOLDS: Lasso RMSLE: 0.4183\n",
      "7 FOLDS: Lasso RMSLE: 0.3587\n",
      "8 FOLDS: Lasso RMSLE: 0.3056\n",
      "9 FOLDS: Lasso RMSLE: 0.2639\n",
      "10 FOLDS: Lasso RMSLE: 0.2792\n",
      "\n",
      "Lasso mean RMSLE: 0.2990\n",
      "========================================\n"
     ]
    },
    {
     "name": "stderr",
     "output_type": "stream",
     "text": [
      "ElasticNet Cross Validations...: 100%|██████████| 10/10 [00:01<00:00,  6.55it/s]\n"
     ]
    },
    {
     "name": "stdout",
     "output_type": "stream",
     "text": [
      "1 FOLDS: ElasticNet RMSLE: 0.2063\n",
      "2 FOLDS: ElasticNet RMSLE: 0.2533\n",
      "3 FOLDS: ElasticNet RMSLE: 0.2177\n",
      "4 FOLDS: ElasticNet RMSLE: 0.3680\n",
      "5 FOLDS: ElasticNet RMSLE: 0.3344\n",
      "6 FOLDS: ElasticNet RMSLE: 0.3820\n",
      "7 FOLDS: ElasticNet RMSLE: 0.3596\n",
      "8 FOLDS: ElasticNet RMSLE: 0.3062\n",
      "9 FOLDS: ElasticNet RMSLE: 0.2677\n",
      "10 FOLDS: ElasticNet RMSLE: 0.2798\n",
      "\n",
      "ElasticNet mean RMSLE: 0.2975\n",
      "========================================\n"
     ]
    },
    {
     "name": "stderr",
     "output_type": "stream",
     "text": [
      "DecisionTreeRegressor Cross Validations...: 100%|██████████| 10/10 [00:06<00:00,  1.43it/s]\n"
     ]
    },
    {
     "name": "stdout",
     "output_type": "stream",
     "text": [
      "1 FOLDS: DecisionTreeRegressor RMSLE: 0.1892\n",
      "2 FOLDS: DecisionTreeRegressor RMSLE: 0.2700\n",
      "3 FOLDS: DecisionTreeRegressor RMSLE: 0.2172\n",
      "4 FOLDS: DecisionTreeRegressor RMSLE: 0.3592\n",
      "5 FOLDS: DecisionTreeRegressor RMSLE: 0.3873\n",
      "6 FOLDS: DecisionTreeRegressor RMSLE: 0.3512\n",
      "7 FOLDS: DecisionTreeRegressor RMSLE: 0.3719\n",
      "8 FOLDS: DecisionTreeRegressor RMSLE: 0.3128\n",
      "9 FOLDS: DecisionTreeRegressor RMSLE: 0.2985\n",
      "10 FOLDS: DecisionTreeRegressor RMSLE: 0.3348\n",
      "\n",
      "DecisionTreeRegressor mean RMSLE: 0.3092\n",
      "========================================\n"
     ]
    },
    {
     "name": "stderr",
     "output_type": "stream",
     "text": [
      "RandomForestRegressor Cross Validations...: 100%|██████████| 10/10 [09:52<00:00, 59.25s/it]\n"
     ]
    },
    {
     "name": "stdout",
     "output_type": "stream",
     "text": [
      "1 FOLDS: RandomForestRegressor RMSLE: 0.1730\n",
      "2 FOLDS: RandomForestRegressor RMSLE: 0.2497\n",
      "3 FOLDS: RandomForestRegressor RMSLE: 0.2105\n",
      "4 FOLDS: RandomForestRegressor RMSLE: 0.3587\n",
      "5 FOLDS: RandomForestRegressor RMSLE: 0.3608\n",
      "6 FOLDS: RandomForestRegressor RMSLE: 0.2969\n",
      "7 FOLDS: RandomForestRegressor RMSLE: 0.3206\n",
      "8 FOLDS: RandomForestRegressor RMSLE: 0.2675\n",
      "9 FOLDS: RandomForestRegressor RMSLE: 0.2708\n",
      "10 FOLDS: RandomForestRegressor RMSLE: 0.2517\n",
      "\n",
      "RandomForestRegressor mean RMSLE: 0.2760\n",
      "========================================\n"
     ]
    },
    {
     "name": "stderr",
     "output_type": "stream",
     "text": [
      "XGBRegressor Cross Validations...: 100%|██████████| 10/10 [09:07<00:00, 54.78s/it]\n"
     ]
    },
    {
     "name": "stdout",
     "output_type": "stream",
     "text": [
      "1 FOLDS: XGBRegressor RMSLE: 0.1873\n",
      "2 FOLDS: XGBRegressor RMSLE: 0.2346\n",
      "3 FOLDS: XGBRegressor RMSLE: 0.1970\n",
      "4 FOLDS: XGBRegressor RMSLE: 0.3818\n",
      "5 FOLDS: XGBRegressor RMSLE: 0.3558\n",
      "6 FOLDS: XGBRegressor RMSLE: 0.2820\n",
      "7 FOLDS: XGBRegressor RMSLE: 0.2804\n",
      "8 FOLDS: XGBRegressor RMSLE: 0.2052\n",
      "9 FOLDS: XGBRegressor RMSLE: 0.2423\n",
      "10 FOLDS: XGBRegressor RMSLE: 0.1109\n",
      "\n",
      "XGBRegressor mean RMSLE: 0.2477\n",
      "========================================\n"
     ]
    },
    {
     "name": "stderr",
     "output_type": "stream",
     "text": [
      "LGBMRegressor Cross Validations...: 100%|██████████| 10/10 [00:27<00:00,  2.74s/it]"
     ]
    },
    {
     "name": "stdout",
     "output_type": "stream",
     "text": [
      "1 FOLDS: LGBMRegressor RMSLE: 0.1821\n",
      "2 FOLDS: LGBMRegressor RMSLE: 0.2260\n",
      "3 FOLDS: LGBMRegressor RMSLE: 0.1879\n",
      "4 FOLDS: LGBMRegressor RMSLE: 0.3589\n",
      "5 FOLDS: LGBMRegressor RMSLE: 0.3205\n",
      "6 FOLDS: LGBMRegressor RMSLE: 0.2635\n",
      "7 FOLDS: LGBMRegressor RMSLE: 0.2631\n",
      "8 FOLDS: LGBMRegressor RMSLE: 0.2088\n",
      "9 FOLDS: LGBMRegressor RMSLE: 0.2396\n",
      "10 FOLDS: LGBMRegressor RMSLE: 0.1454\n",
      "\n",
      "LGBMRegressor mean RMSLE: 0.2396\n",
      "========================================\n"
     ]
    },
    {
     "name": "stderr",
     "output_type": "stream",
     "text": [
      "\n"
     ]
    }
   ],
   "source": [
    "models = []\n",
    "scores = []\n",
    "for model in [reg, ridge, lasso, Enet, DTree, rf, model_xgb, model_lgb]:\n",
    "    model_name, mean_score = print_rmse_score(model, train_X, train_y)\n",
    "    models.append(model_name)\n",
    "    scores.append(mean_score)"
   ]
  },
  {
   "cell_type": "markdown",
   "id": "35419b27",
   "metadata": {},
   "source": [
    "## 이상치 제거 데이터"
   ]
  },
  {
   "cell_type": "code",
   "execution_count": 85,
   "id": "80c7139d",
   "metadata": {
    "scrolled": true
   },
   "outputs": [
    {
     "name": "stderr",
     "output_type": "stream",
     "text": [
      "LinearRegression Cross Validations...: 100%|██████████| 10/10 [00:00<00:00, 10.19it/s]\n"
     ]
    },
    {
     "name": "stdout",
     "output_type": "stream",
     "text": [
      "1 FOLDS: LinearRegression RMSLE: 7395.7136\n",
      "2 FOLDS: LinearRegression RMSLE: 7897.0678\n",
      "3 FOLDS: LinearRegression RMSLE: 8636.4402\n",
      "4 FOLDS: LinearRegression RMSLE: 11441.5246\n",
      "5 FOLDS: LinearRegression RMSLE: 13272.7000\n",
      "6 FOLDS: LinearRegression RMSLE: 7566.6620\n",
      "7 FOLDS: LinearRegression RMSLE: 7711.4172\n",
      "8 FOLDS: LinearRegression RMSLE: 6720.9810\n",
      "9 FOLDS: LinearRegression RMSLE: 6996.9542\n",
      "10 FOLDS: LinearRegression RMSLE: 9562.8727\n",
      "\n",
      "LinearRegression mean RMSLE: 8720.2333\n",
      "========================================\n"
     ]
    },
    {
     "name": "stderr",
     "output_type": "stream",
     "text": [
      "Ridge Cross Validations...: 100%|██████████| 10/10 [00:00<00:00, 15.83it/s]\n"
     ]
    },
    {
     "name": "stdout",
     "output_type": "stream",
     "text": [
      "1 FOLDS: Ridge RMSLE: 7395.7107\n",
      "2 FOLDS: Ridge RMSLE: 7897.0686\n",
      "3 FOLDS: Ridge RMSLE: 8636.4446\n",
      "4 FOLDS: Ridge RMSLE: 11441.5273\n",
      "5 FOLDS: Ridge RMSLE: 13272.6994\n",
      "6 FOLDS: Ridge RMSLE: 7566.6536\n",
      "7 FOLDS: Ridge RMSLE: 7711.4185\n",
      "8 FOLDS: Ridge RMSLE: 6720.9854\n",
      "9 FOLDS: Ridge RMSLE: 6996.9555\n",
      "10 FOLDS: Ridge RMSLE: 9562.8724\n",
      "\n",
      "Ridge mean RMSLE: 8720.2336\n",
      "========================================\n"
     ]
    },
    {
     "name": "stderr",
     "output_type": "stream",
     "text": [
      "Lasso Cross Validations...: 100%|██████████| 10/10 [00:02<00:00,  4.14it/s]\n"
     ]
    },
    {
     "name": "stdout",
     "output_type": "stream",
     "text": [
      "1 FOLDS: Lasso RMSLE: 7395.7110\n",
      "2 FOLDS: Lasso RMSLE: 7897.0725\n",
      "3 FOLDS: Lasso RMSLE: 8636.4482\n",
      "4 FOLDS: Lasso RMSLE: 11441.5284\n",
      "5 FOLDS: Lasso RMSLE: 13272.6998\n",
      "6 FOLDS: Lasso RMSLE: 7566.6111\n",
      "7 FOLDS: Lasso RMSLE: 7711.4360\n",
      "8 FOLDS: Lasso RMSLE: 6720.9955\n",
      "9 FOLDS: Lasso RMSLE: 6996.9588\n",
      "10 FOLDS: Lasso RMSLE: 9562.8718\n",
      "\n",
      "Lasso mean RMSLE: 8720.2333\n",
      "========================================\n"
     ]
    },
    {
     "name": "stderr",
     "output_type": "stream",
     "text": [
      "ElasticNet Cross Validations...: 100%|██████████| 10/10 [00:02<00:00,  4.31it/s]\n"
     ]
    },
    {
     "name": "stdout",
     "output_type": "stream",
     "text": [
      "1 FOLDS: ElasticNet RMSLE: 7390.3530\n",
      "2 FOLDS: ElasticNet RMSLE: 7901.2259\n",
      "3 FOLDS: ElasticNet RMSLE: 8667.8989\n",
      "4 FOLDS: ElasticNet RMSLE: 11470.1994\n",
      "5 FOLDS: ElasticNet RMSLE: 13272.7394\n",
      "6 FOLDS: ElasticNet RMSLE: 7510.1230\n",
      "7 FOLDS: ElasticNet RMSLE: 7743.9340\n",
      "8 FOLDS: ElasticNet RMSLE: 6824.3210\n",
      "9 FOLDS: ElasticNet RMSLE: 7045.7287\n",
      "10 FOLDS: ElasticNet RMSLE: 9561.8629\n",
      "\n",
      "ElasticNet mean RMSLE: 8738.8386\n",
      "========================================\n"
     ]
    },
    {
     "name": "stderr",
     "output_type": "stream",
     "text": [
      "DecisionTreeRegressor Cross Validations...: 100%|██████████| 10/10 [00:05<00:00,  1.72it/s]\n"
     ]
    },
    {
     "name": "stdout",
     "output_type": "stream",
     "text": [
      "1 FOLDS: DecisionTreeRegressor RMSLE: 5950.7025\n",
      "2 FOLDS: DecisionTreeRegressor RMSLE: 8327.3520\n",
      "3 FOLDS: DecisionTreeRegressor RMSLE: 8652.1721\n",
      "4 FOLDS: DecisionTreeRegressor RMSLE: 11317.6288\n",
      "5 FOLDS: DecisionTreeRegressor RMSLE: 14022.2369\n",
      "6 FOLDS: DecisionTreeRegressor RMSLE: 6702.0088\n",
      "7 FOLDS: DecisionTreeRegressor RMSLE: 6963.8360\n",
      "8 FOLDS: DecisionTreeRegressor RMSLE: 6210.9950\n",
      "9 FOLDS: DecisionTreeRegressor RMSLE: 7608.9090\n",
      "10 FOLDS: DecisionTreeRegressor RMSLE: 10972.1673\n",
      "\n",
      "DecisionTreeRegressor mean RMSLE: 8672.8008\n",
      "========================================\n"
     ]
    },
    {
     "name": "stderr",
     "output_type": "stream",
     "text": [
      "RandomForestRegressor Cross Validations...: 100%|██████████| 10/10 [08:19<00:00, 49.95s/it]\n"
     ]
    },
    {
     "name": "stdout",
     "output_type": "stream",
     "text": [
      "1 FOLDS: RandomForestRegressor RMSLE: 5581.2037\n",
      "2 FOLDS: RandomForestRegressor RMSLE: 7946.1981\n",
      "3 FOLDS: RandomForestRegressor RMSLE: 7642.5390\n",
      "4 FOLDS: RandomForestRegressor RMSLE: 11173.8178\n",
      "5 FOLDS: RandomForestRegressor RMSLE: 13027.4843\n",
      "6 FOLDS: RandomForestRegressor RMSLE: 5494.2976\n",
      "7 FOLDS: RandomForestRegressor RMSLE: 6274.8664\n",
      "8 FOLDS: RandomForestRegressor RMSLE: 5225.2541\n",
      "9 FOLDS: RandomForestRegressor RMSLE: 6381.0731\n",
      "10 FOLDS: RandomForestRegressor RMSLE: 8387.7705\n",
      "\n",
      "RandomForestRegressor mean RMSLE: 7713.4505\n",
      "========================================\n"
     ]
    },
    {
     "name": "stderr",
     "output_type": "stream",
     "text": [
      "XGBRegressor Cross Validations...: 100%|██████████| 10/10 [08:32<00:00, 51.21s/it]\n"
     ]
    },
    {
     "name": "stdout",
     "output_type": "stream",
     "text": [
      "1 FOLDS: XGBRegressor RMSLE: 6334.9870\n",
      "2 FOLDS: XGBRegressor RMSLE: 7645.2619\n",
      "3 FOLDS: XGBRegressor RMSLE: 6961.0583\n",
      "4 FOLDS: XGBRegressor RMSLE: 11271.5235\n",
      "5 FOLDS: XGBRegressor RMSLE: 12523.4859\n",
      "6 FOLDS: XGBRegressor RMSLE: 4852.4779\n",
      "7 FOLDS: XGBRegressor RMSLE: 5050.7748\n",
      "8 FOLDS: XGBRegressor RMSLE: 3994.8191\n",
      "9 FOLDS: XGBRegressor RMSLE: 5331.3184\n",
      "10 FOLDS: XGBRegressor RMSLE: 4709.0422\n",
      "\n",
      "XGBRegressor mean RMSLE: 6867.4749\n",
      "========================================\n"
     ]
    },
    {
     "name": "stderr",
     "output_type": "stream",
     "text": [
      "LGBMRegressor Cross Validations...: 100%|██████████| 10/10 [00:24<00:00,  2.44s/it]"
     ]
    },
    {
     "name": "stdout",
     "output_type": "stream",
     "text": [
      "1 FOLDS: LGBMRegressor RMSLE: 5875.0704\n",
      "2 FOLDS: LGBMRegressor RMSLE: 6821.9717\n",
      "3 FOLDS: LGBMRegressor RMSLE: 7004.4607\n",
      "4 FOLDS: LGBMRegressor RMSLE: 9902.9103\n",
      "5 FOLDS: LGBMRegressor RMSLE: 11031.7712\n",
      "6 FOLDS: LGBMRegressor RMSLE: 4569.3867\n",
      "7 FOLDS: LGBMRegressor RMSLE: 4800.6099\n",
      "8 FOLDS: LGBMRegressor RMSLE: 4071.7380\n",
      "9 FOLDS: LGBMRegressor RMSLE: 5640.6930\n",
      "10 FOLDS: LGBMRegressor RMSLE: 5444.7948\n",
      "\n",
      "LGBMRegressor mean RMSLE: 6516.3407\n",
      "========================================\n"
     ]
    },
    {
     "name": "stderr",
     "output_type": "stream",
     "text": [
      "\n"
     ]
    }
   ],
   "source": [
    "models = []\n",
    "scores = []\n",
    "for model in [reg, ridge, lasso, Enet, DTree, rf, model_xgb, model_lgb]:\n",
    "    model_name, mean_score = print_rmse_score(model, train1_X, train1_y)\n",
    "    models.append(model_name)\n",
    "    scores.append(mean_score)"
   ]
  },
  {
   "cell_type": "markdown",
   "id": "fa51765a",
   "metadata": {},
   "source": [
    "#### 모델별 점수 확인 및 시각화"
   ]
  },
  {
   "cell_type": "code",
   "execution_count": 87,
   "id": "f2d98881",
   "metadata": {
    "scrolled": true
   },
   "outputs": [
    {
     "data": {
      "text/html": [
       "<div>\n",
       "<style scoped>\n",
       "    .dataframe tbody tr th:only-of-type {\n",
       "        vertical-align: middle;\n",
       "    }\n",
       "\n",
       "    .dataframe tbody tr th {\n",
       "        vertical-align: top;\n",
       "    }\n",
       "\n",
       "    .dataframe thead th {\n",
       "        text-align: right;\n",
       "    }\n",
       "</style>\n",
       "<table border=\"1\" class=\"dataframe\">\n",
       "  <thead>\n",
       "    <tr style=\"text-align: right;\">\n",
       "      <th></th>\n",
       "      <th>Model</th>\n",
       "      <th>Score</th>\n",
       "    </tr>\n",
       "  </thead>\n",
       "  <tbody>\n",
       "    <tr>\n",
       "      <th>0</th>\n",
       "      <td>LinearRegression</td>\n",
       "      <td>0.288831</td>\n",
       "    </tr>\n",
       "    <tr>\n",
       "      <th>1</th>\n",
       "      <td>Ridge</td>\n",
       "      <td>0.288831</td>\n",
       "    </tr>\n",
       "    <tr>\n",
       "      <th>2</th>\n",
       "      <td>Lasso</td>\n",
       "      <td>0.299037</td>\n",
       "    </tr>\n",
       "    <tr>\n",
       "      <th>3</th>\n",
       "      <td>ElasticNet</td>\n",
       "      <td>0.297490</td>\n",
       "    </tr>\n",
       "    <tr>\n",
       "      <th>4</th>\n",
       "      <td>DecisionTreeRegressor</td>\n",
       "      <td>0.309212</td>\n",
       "    </tr>\n",
       "    <tr>\n",
       "      <th>5</th>\n",
       "      <td>RandomForestRegressor</td>\n",
       "      <td>0.276022</td>\n",
       "    </tr>\n",
       "    <tr>\n",
       "      <th>6</th>\n",
       "      <td>XGBRegressor</td>\n",
       "      <td>0.247727</td>\n",
       "    </tr>\n",
       "    <tr>\n",
       "      <th>7</th>\n",
       "      <td>LGBMRegressor</td>\n",
       "      <td>0.239578</td>\n",
       "    </tr>\n",
       "  </tbody>\n",
       "</table>\n",
       "</div>"
      ],
      "text/plain": [
       "                   Model     Score\n",
       "0       LinearRegression  0.288831\n",
       "1                  Ridge  0.288831\n",
       "2                  Lasso  0.299037\n",
       "3             ElasticNet  0.297490\n",
       "4  DecisionTreeRegressor  0.309212\n",
       "5  RandomForestRegressor  0.276022\n",
       "6           XGBRegressor  0.247727\n",
       "7          LGBMRegressor  0.239578"
      ]
     },
     "execution_count": 87,
     "metadata": {},
     "output_type": "execute_result"
    }
   ],
   "source": [
    "result = pd.DataFrame({'Model': models, 'Score': scores}).reset_index(drop=True)\n",
    "result"
   ]
  },
  {
   "cell_type": "code",
   "execution_count": 90,
   "id": "dfa843d2",
   "metadata": {},
   "outputs": [
    {
     "data": {
      "image/png": "[encoded data removed]",
      "text/plain": [
       "<Figure size 1000x600 with 1 Axes>"
      ]
     },
     "metadata": {},
     "output_type": "display_data"
    }
   ],
   "source": [
    "f, ax = plt.subplots(figsize=(10, 6))\n",
    "plt.xticks(rotation=90)\n",
    "sns.barplot(x=result['Model'], y=result['Score'])\n",
    "plt.xlabel('Models', fontsize=15)\n",
    "plt.ylabel('Model Performance', fontsize=15)\n",
    "plt.ylim(0.22, 0.32)\n",
    "plt.title('RMSLE', fontsize=15)\n",
    "plt.show()"
   ]
  },
  {
   "cell_type": "markdown",
   "id": "5a6f1441",
   "metadata": {},
   "source": [
    "## 특성 중요도 확인"
   ]
  },
  {
   "cell_type": "code",
   "execution_count": 58,
   "id": "66fdc56d",
   "metadata": {},
   "outputs": [],
   "source": [
    "clf = model_lgb.fit(train_X, train_y)"
   ]
  },
  {
   "cell_type": "code",
   "execution_count": 59,
   "id": "95fcbe20",
   "metadata": {
    "scrolled": false
   },
   "outputs": [
    {
     "data": {
      "text/plain": [
       "<BarContainer object of 8 artists>"
      ]
     },
     "execution_count": 59,
     "metadata": {},
     "output_type": "execute_result"
    },
    {
     "data": {
      "image/png": "[encoded data removed]",
      "text/plain": [
       "<Figure size 640x480 with 1 Axes>"
      ]
     },
     "metadata": {},
     "output_type": "display_data"
    }
   ],
   "source": [
    "plt.barh(train_X.columns, clf.feature_importances_)"
   ]
  },
  {
   "cell_type": "markdown",
   "id": "f4cd9831",
   "metadata": {},
   "source": [
    "## 하이퍼 파라미터 튜닝"
   ]
  },
  {
   "cell_type": "code",
   "execution_count": 69,
   "id": "2ca7cffb",
   "metadata": {},
   "outputs": [
    {
     "name": "stdout",
     "output_type": "stream",
     "text": [
      "(973242, 8) (973242,) (243311, 8) (243311,)\n"
     ]
    }
   ],
   "source": [
    "cut = int(len(train)*0.8)\n",
    "h_train = train[:cut]\n",
    "h_valid = train[cut:]\n",
    "\n",
    "h_train_X = h_train.drop(['log_price'], axis=1)\n",
    "h_train_y = h_train['log_price']\n",
    "h_valid_X = h_valid.drop(['log_price'], axis=1)\n",
    "h_valid_y = h_valid['log_price']\n",
    "print(h_train_X.shape, h_train_y.shape, h_valid_X.shape, h_valid_y.shape)"
   ]
  },
  {
   "cell_type": "code",
   "execution_count": 63,
   "id": "49485d08",
   "metadata": {
    "scrolled": true
   },
   "outputs": [
    {
     "name": "stderr",
     "output_type": "stream",
     "text": [
      "\u001b[32m[I 2023-02-21 14:43:17,902]\u001b[0m A new study created in memory with name: no-name-bb4a2498-fe51-4bae-8a81-b2e2af7afc09\u001b[0m\n",
      "\u001b[32m[I 2023-02-21 14:43:40,433]\u001b[0m Trial 0 finished with value: 0.7371358593423419 and parameters: {'max_depth': 13, 'learning_rate': 1.3320229150659043e-08, 'n_estimators': 1938, 'min_child_samples': 76, 'subsample': 0.6315909175774905}. Best is trial 0 with value: 0.7371358593423419.\u001b[0m\n",
      "\u001b[32m[I 2023-02-21 14:44:08,827]\u001b[0m Trial 1 finished with value: 0.7369466723386557 and parameters: {'max_depth': 5, 'learning_rate': 1.5430400149097381e-07, 'n_estimators': 2306, 'min_child_samples': 21, 'subsample': 0.4337244827306443}. Best is trial 1 with value: 0.7369466723386557.\u001b[0m\n",
      "\u001b[32m[I 2023-02-21 14:44:10,676]\u001b[0m Trial 2 finished with value: 0.4896851906391399 and parameters: {'max_depth': 11, 'learning_rate': 0.005252427629146827, 'n_estimators': 111, 'min_child_samples': 54, 'subsample': 0.8422371309477078}. Best is trial 2 with value: 0.4896851906391399.\u001b[0m\n",
      "\u001b[32m[I 2023-02-21 14:44:23,523]\u001b[0m Trial 3 finished with value: 0.6315410593916503 and parameters: {'max_depth': 10, 'learning_rate': 0.00021405821746591817, 'n_estimators': 946, 'min_child_samples': 93, 'subsample': 0.7698715745641292}. Best is trial 2 with value: 0.4896851906391399.\u001b[0m\n",
      "\u001b[32m[I 2023-02-21 14:44:39,820]\u001b[0m Trial 4 finished with value: 0.7371017082253294 and parameters: {'max_depth': 10, 'learning_rate': 7.128863277996207e-08, 'n_estimators': 1183, 'min_child_samples': 69, 'subsample': 0.5996296351455978}. Best is trial 2 with value: 0.4896851906391399.\u001b[0m\n",
      "\u001b[32m[I 2023-02-21 14:45:02,071]\u001b[0m Trial 5 finished with value: 0.6919865752671256 and parameters: {'max_depth': 8, 'learning_rate': 5.08864167992051e-05, 'n_estimators': 1588, 'min_child_samples': 67, 'subsample': 0.6938050197112922}. Best is trial 2 with value: 0.4896851906391399.\u001b[0m\n",
      "\u001b[32m[I 2023-02-21 14:45:42,658]\u001b[0m Trial 6 finished with value: 0.7160268702809097 and parameters: {'max_depth': 13, 'learning_rate': 1.3485992516968212e-05, 'n_estimators': 2735, 'min_child_samples': 35, 'subsample': 0.4345676420333751}. Best is trial 2 with value: 0.4896851906391399.\u001b[0m\n",
      "\u001b[32m[I 2023-02-21 14:46:18,703]\u001b[0m Trial 7 finished with value: 0.7370801293492011 and parameters: {'max_depth': 6, 'learning_rate': 4.8295444901938926e-08, 'n_estimators': 2504, 'min_child_samples': 9, 'subsample': 0.7100430887666348}. Best is trial 2 with value: 0.4896851906391399.\u001b[0m\n",
      "\u001b[32m[I 2023-02-21 14:46:28,297]\u001b[0m Trial 8 finished with value: 0.4976960813688172 and parameters: {'max_depth': 10, 'learning_rate': 0.0008236106883720722, 'n_estimators': 677, 'min_child_samples': 87, 'subsample': 0.5520731753100153}. Best is trial 2 with value: 0.4896851906391399.\u001b[0m\n",
      "\u001b[32m[I 2023-02-21 14:47:03,876]\u001b[0m Trial 9 finished with value: 0.736223074047346 and parameters: {'max_depth': 12, 'learning_rate': 5.967195151630884e-07, 'n_estimators': 2664, 'min_child_samples': 36, 'subsample': 0.46529289303849874}. Best is trial 2 with value: 0.4896851906391399.\u001b[0m\n",
      "\u001b[32m[I 2023-02-21 14:47:05,068]\u001b[0m Trial 10 finished with value: 0.4622172315235168 and parameters: {'max_depth': 3, 'learning_rate': 0.007287079614451884, 'n_estimators': 125, 'min_child_samples': 50, 'subsample': 0.9370978022952945}. Best is trial 10 with value: 0.4622172315235168.\u001b[0m\n",
      "\u001b[32m[I 2023-02-21 14:47:06,317]\u001b[0m Trial 11 finished with value: 0.40560508239213344 and parameters: {'max_depth': 3, 'learning_rate': 0.009781360056777894, 'n_estimators': 134, 'min_child_samples': 50, 'subsample': 0.9710017015068796}. Best is trial 11 with value: 0.40560508239213344.\u001b[0m\n",
      "\u001b[32m[I 2023-02-21 14:47:07,769]\u001b[0m Trial 12 finished with value: 0.42303820219926414 and parameters: {'max_depth': 3, 'learning_rate': 0.007773589322284729, 'n_estimators': 151, 'min_child_samples': 46, 'subsample': 0.9989436234186677}. Best is trial 11 with value: 0.40560508239213344.\u001b[0m\n",
      "\u001b[32m[I 2023-02-21 14:47:12,867]\u001b[0m Trial 13 finished with value: 0.24937504530069654 and parameters: {'max_depth': 3, 'learning_rate': 0.009888319202599477, 'n_estimators': 544, 'min_child_samples': 49, 'subsample': 0.9537507201053227}. Best is trial 13 with value: 0.24937504530069654.\u001b[0m\n",
      "\u001b[32m[I 2023-02-21 14:47:19,827]\u001b[0m Trial 14 finished with value: 0.5287152728779307 and parameters: {'max_depth': 15, 'learning_rate': 0.0007953098131062786, 'n_estimators': 579, 'min_child_samples': 59, 'subsample': 0.8787981219847805}. Best is trial 13 with value: 0.24937504530069654.\u001b[0m\n",
      "\u001b[32m[I 2023-02-21 14:47:27,740]\u001b[0m Trial 15 finished with value: 0.5251982845979327 and parameters: {'max_depth': 5, 'learning_rate': 0.0007694971413933516, 'n_estimators': 626, 'min_child_samples': 33, 'subsample': 0.9802388051912547}. Best is trial 13 with value: 0.24937504530069654.\u001b[0m\n",
      "\u001b[32m[I 2023-02-21 14:47:44,638]\u001b[0m Trial 16 finished with value: 0.7340155267271339 and parameters: {'max_depth': 7, 'learning_rate': 4.2688335633294556e-06, 'n_estimators': 1261, 'min_child_samples': 24, 'subsample': 0.8383644611816777}. Best is trial 13 with value: 0.24937504530069654.\u001b[0m\n",
      "\u001b[32m[I 2023-02-21 14:47:49,468]\u001b[0m Trial 17 finished with value: 0.4307545641730399 and parameters: {'max_depth': 4, 'learning_rate': 0.0019744901716059015, 'n_estimators': 480, 'min_child_samples': 42, 'subsample': 0.9070340852408912}. Best is trial 13 with value: 0.24937504530069654.\u001b[0m\n",
      "\u001b[32m[I 2023-02-21 14:48:02,556]\u001b[0m Trial 18 finished with value: 0.670796199969165 and parameters: {'max_depth': 7, 'learning_rate': 0.00012602448397870257, 'n_estimators': 964, 'min_child_samples': 63, 'subsample': 0.8052056675821299}. Best is trial 13 with value: 0.24937504530069654.\u001b[0m\n",
      "\u001b[32m[I 2023-02-21 14:48:05,460]\u001b[0m Trial 19 finished with value: 0.2778179480059256 and parameters: {'max_depth': 3, 'learning_rate': 0.00936078035561635, 'n_estimators': 385, 'min_child_samples': 81, 'subsample': 0.9267915036418815}. Best is trial 13 with value: 0.24937504530069654.\u001b[0m\n",
      "\u001b[32m[I 2023-02-21 14:48:25,068]\u001b[0m Trial 20 finished with value: 0.23644544603808287 and parameters: {'max_depth': 5, 'learning_rate': 0.002187488717620425, 'n_estimators': 1686, 'min_child_samples': 77, 'subsample': 0.764009791016043}. Best is trial 20 with value: 0.23644544603808287.\u001b[0m\n",
      "\u001b[32m[I 2023-02-21 14:48:44,106]\u001b[0m Trial 21 finished with value: 0.2339574173350663 and parameters: {'max_depth': 5, 'learning_rate': 0.0024590460270451577, 'n_estimators': 1566, 'min_child_samples': 85, 'subsample': 0.89963384479485}. Best is trial 21 with value: 0.2339574173350663.\u001b[0m\n",
      "\u001b[32m[I 2023-02-21 14:49:05,612]\u001b[0m Trial 22 finished with value: 0.23734373195931033 and parameters: {'max_depth': 5, 'learning_rate': 0.0019815503943540883, 'n_estimators': 1832, 'min_child_samples': 100, 'subsample': 0.7958415456838127}. Best is trial 21 with value: 0.2339574173350663.\u001b[0m\n",
      "\u001b[32m[I 2023-02-21 14:49:27,135]\u001b[0m Trial 23 finished with value: 0.5244715697759242 and parameters: {'max_depth': 5, 'learning_rate': 0.000270561235296352, 'n_estimators': 1789, 'min_child_samples': 98, 'subsample': 0.7576443470005589}. Best is trial 21 with value: 0.2339574173350663.\u001b[0m\n",
      "\u001b[32m[I 2023-02-21 14:49:54,234]\u001b[0m Trial 24 finished with value: 0.23011298754687054 and parameters: {'max_depth': 8, 'learning_rate': 0.0019805068575622043, 'n_estimators': 2072, 'min_child_samples': 100, 'subsample': 0.8010660322173186}. Best is trial 24 with value: 0.23011298754687054.\u001b[0m\n",
      "\u001b[32m[I 2023-02-21 14:50:22,514]\u001b[0m Trial 25 finished with value: 0.22171884521460258 and parameters: {'max_depth': 7, 'learning_rate': 0.0023202689482806557, 'n_estimators': 2218, 'min_child_samples': 87, 'subsample': 0.8567735024427949}. Best is trial 25 with value: 0.22171884521460258.\u001b[0m\n",
      "\u001b[32m[I 2023-02-21 14:50:52,125]\u001b[0m Trial 26 finished with value: 0.4543504925533465 and parameters: {'max_depth': 8, 'learning_rate': 0.000327079898549571, 'n_estimators': 2186, 'min_child_samples': 89, 'subsample': 0.8840355367029542}. Best is trial 25 with value: 0.22171884521460258.\u001b[0m\n",
      "\u001b[32m[I 2023-02-21 14:51:20,594]\u001b[0m Trial 27 finished with value: 0.6512913242272566 and parameters: {'max_depth': 8, 'learning_rate': 7.662080595779155e-05, 'n_estimators': 2099, 'min_child_samples': 85, 'subsample': 0.8708926686764029}. Best is trial 25 with value: 0.22171884521460258.\u001b[0m\n"
     ]
    },
    {
     "name": "stderr",
     "output_type": "stream",
     "text": [
      "\u001b[32m[I 2023-02-21 14:51:39,663]\u001b[0m Trial 28 finished with value: 0.2589245818719717 and parameters: {'max_depth': 7, 'learning_rate': 0.0019129532047507689, 'n_estimators': 1383, 'min_child_samples': 93, 'subsample': 0.8390572525975}. Best is trial 25 with value: 0.22171884521460258.\u001b[0m\n",
      "\u001b[32m[I 2023-02-21 14:52:06,809]\u001b[0m Trial 29 finished with value: 0.412216386018922 and parameters: {'max_depth': 6, 'learning_rate': 0.0004576553844928165, 'n_estimators': 1980, 'min_child_samples': 73, 'subsample': 0.7111759738045452}. Best is trial 25 with value: 0.22171884521460258.\u001b[0m\n",
      "\u001b[32m[I 2023-02-21 14:52:41,997]\u001b[0m Trial 30 finished with value: 0.2151307350371508 and parameters: {'max_depth': 9, 'learning_rate': 0.0033374304293500114, 'n_estimators': 2367, 'min_child_samples': 78, 'subsample': 0.9114830533669263}. Best is trial 30 with value: 0.2151307350371508.\u001b[0m\n",
      "\u001b[32m[I 2023-02-21 14:53:18,740]\u001b[0m Trial 31 finished with value: 0.2169983734504394 and parameters: {'max_depth': 9, 'learning_rate': 0.0028034552096531514, 'n_estimators': 2412, 'min_child_samples': 79, 'subsample': 0.9075942578276225}. Best is trial 30 with value: 0.2151307350371508.\u001b[0m\n",
      "\u001b[32m[I 2023-02-21 14:53:58,801]\u001b[0m Trial 32 finished with value: 0.21371558565487592 and parameters: {'max_depth': 9, 'learning_rate': 0.0031068780616571173, 'n_estimators': 2960, 'min_child_samples': 78, 'subsample': 0.820892092099061}. Best is trial 32 with value: 0.21371558565487592.\u001b[0m\n",
      "\u001b[32m[I 2023-02-21 14:54:40,970]\u001b[0m Trial 33 finished with value: 0.28407106768483376 and parameters: {'max_depth': 9, 'learning_rate': 0.0007139493673792379, 'n_estimators': 2904, 'min_child_samples': 75, 'subsample': 0.9995006349704951}. Best is trial 32 with value: 0.21371558565487592.\u001b[0m\n",
      "\u001b[32m[I 2023-02-21 14:55:07,713]\u001b[0m Trial 34 finished with value: 0.21365432495577763 and parameters: {'max_depth': 9, 'learning_rate': 0.004901956601980959, 'n_estimators': 2401, 'min_child_samples': 81, 'subsample': 0.8508667688313208}. Best is trial 34 with value: 0.21365432495577763.\u001b[0m\n",
      "\u001b[32m[I 2023-02-21 14:55:40,965]\u001b[0m Trial 35 finished with value: 0.2135187579184325 and parameters: {'max_depth': 11, 'learning_rate': 0.003982606744957771, 'n_estimators': 2436, 'min_child_samples': 79, 'subsample': 0.9179032672112422}. Best is trial 35 with value: 0.2135187579184325.\u001b[0m\n",
      "\u001b[32m[I 2023-02-21 14:56:22,795]\u001b[0m Trial 36 finished with value: 0.2136481892013815 and parameters: {'max_depth': 11, 'learning_rate': 0.003261028891246933, 'n_estimators': 2894, 'min_child_samples': 58, 'subsample': 0.8336078712299586}. Best is trial 35 with value: 0.2135187579184325.\u001b[0m\n",
      "\u001b[32m[I 2023-02-21 14:57:03,799]\u001b[0m Trial 37 finished with value: 0.21183297152890432 and parameters: {'max_depth': 11, 'learning_rate': 0.004090148422342356, 'n_estimators': 2965, 'min_child_samples': 57, 'subsample': 0.8297161498893082}. Best is trial 37 with value: 0.21183297152890432.\u001b[0m\n",
      "\u001b[32m[I 2023-02-21 14:57:39,492]\u001b[0m Trial 38 finished with value: 0.21232304546733083 and parameters: {'max_depth': 11, 'learning_rate': 0.004009977443113108, 'n_estimators': 2714, 'min_child_samples': 57, 'subsample': 0.7297210746754428}. Best is trial 37 with value: 0.21183297152890432.\u001b[0m\n",
      "\u001b[32m[I 2023-02-21 14:58:18,031]\u001b[0m Trial 39 finished with value: 0.24592956522081214 and parameters: {'max_depth': 11, 'learning_rate': 0.0011021063462552413, 'n_estimators': 2852, 'min_child_samples': 58, 'subsample': 0.7243725612300178}. Best is trial 37 with value: 0.21183297152890432.\u001b[0m\n",
      "\u001b[32m[I 2023-02-21 14:58:53,583]\u001b[0m Trial 40 finished with value: 0.5552785484773969 and parameters: {'max_depth': 12, 'learning_rate': 0.00014725714874132089, 'n_estimators': 2620, 'min_child_samples': 64, 'subsample': 0.6516746326527127}. Best is trial 37 with value: 0.21183297152890432.\u001b[0m\n",
      "\u001b[32m[I 2023-02-21 14:59:26,954]\u001b[0m Trial 41 finished with value: 0.209503536405925 and parameters: {'max_depth': 11, 'learning_rate': 0.0056062784133962375, 'n_estimators': 2782, 'min_child_samples': 70, 'subsample': 0.7720685958592631}. Best is trial 41 with value: 0.209503536405925.\u001b[0m\n",
      "\u001b[32m[I 2023-02-21 14:59:57,881]\u001b[0m Trial 42 finished with value: 0.20990154348841752 and parameters: {'max_depth': 11, 'learning_rate': 0.00533488861515562, 'n_estimators': 2770, 'min_child_samples': 70, 'subsample': 0.7652038960317518}. Best is trial 41 with value: 0.209503536405925.\u001b[0m\n",
      "\u001b[32m[I 2023-02-21 15:00:23,820]\u001b[0m Trial 43 finished with value: 0.21288805720219053 and parameters: {'max_depth': 12, 'learning_rate': 0.005117366119614748, 'n_estimators': 2704, 'min_child_samples': 70, 'subsample': 0.7448063224640807}. Best is trial 41 with value: 0.209503536405925.\u001b[0m\n",
      "\u001b[32m[I 2023-02-21 15:00:53,443]\u001b[0m Trial 44 finished with value: 0.2126085278184149 and parameters: {'max_depth': 14, 'learning_rate': 0.005194684086145675, 'n_estimators': 2728, 'min_child_samples': 68, 'subsample': 0.744226336136173}. Best is trial 41 with value: 0.209503536405925.\u001b[0m\n",
      "\u001b[32m[I 2023-02-21 15:01:28,113]\u001b[0m Trial 45 finished with value: 0.2500640757689509 and parameters: {'max_depth': 14, 'learning_rate': 0.001151108725528484, 'n_estimators': 2571, 'min_child_samples': 66, 'subsample': 0.6794796426497425}. Best is trial 41 with value: 0.209503536405925.\u001b[0m\n",
      "\u001b[32m[I 2023-02-21 15:02:01,677]\u001b[0m Trial 46 finished with value: 0.21091890985470219 and parameters: {'max_depth': 13, 'learning_rate': 0.0055938766501227545, 'n_estimators': 2740, 'min_child_samples': 53, 'subsample': 0.7357845436045236}. Best is trial 41 with value: 0.209503536405925.\u001b[0m\n",
      "\u001b[32m[I 2023-02-21 15:02:25,389]\u001b[0m Trial 47 finished with value: 0.2084302865730303 and parameters: {'max_depth': 13, 'learning_rate': 0.00999049201373405, 'n_estimators': 2793, 'min_child_samples': 55, 'subsample': 0.7753502657486255}. Best is trial 47 with value: 0.2084302865730303.\u001b[0m\n",
      "\u001b[32m[I 2023-02-21 15:02:49,331]\u001b[0m Trial 48 finished with value: 0.20838460331432287 and parameters: {'max_depth': 13, 'learning_rate': 0.009934320766298186, 'n_estimators': 2996, 'min_child_samples': 42, 'subsample': 0.7793193879552185}. Best is trial 48 with value: 0.20838460331432287.\u001b[0m\n",
      "\u001b[32m[I 2023-02-21 15:03:17,492]\u001b[0m Trial 49 finished with value: 0.2102576287605019 and parameters: {'max_depth': 13, 'learning_rate': 0.007527487091736906, 'n_estimators': 2812, 'min_child_samples': 42, 'subsample': 0.7769749128930578}. Best is trial 48 with value: 0.20838460331432287.\u001b[0m\n",
      "\u001b[32m[I 2023-02-21 15:03:36,431]\u001b[0m Trial 50 finished with value: 0.21158216341537256 and parameters: {'max_depth': 13, 'learning_rate': 0.00807750531718511, 'n_estimators': 2833, 'min_child_samples': 42, 'subsample': 0.7769536057190011}. Best is trial 48 with value: 0.20838460331432287.\u001b[0m\n",
      "\u001b[32m[I 2023-02-21 15:04:03,276]\u001b[0m Trial 51 finished with value: 0.21053773297825576 and parameters: {'max_depth': 13, 'learning_rate': 0.00700515702688516, 'n_estimators': 2517, 'min_child_samples': 32, 'subsample': 0.7821889103673373}. Best is trial 48 with value: 0.20838460331432287.\u001b[0m\n",
      "\u001b[32m[I 2023-02-21 15:04:27,939]\u001b[0m Trial 52 finished with value: 0.20896896445455918 and parameters: {'max_depth': 14, 'learning_rate': 0.008696668242618591, 'n_estimators': 2536, 'min_child_samples': 32, 'subsample': 0.7764171472457887}. Best is trial 48 with value: 0.20838460331432287.\u001b[0m\n",
      "\u001b[32m[I 2023-02-21 15:04:53,430]\u001b[0m Trial 53 finished with value: 0.20946407980383713 and parameters: {'max_depth': 15, 'learning_rate': 0.008341859128917658, 'n_estimators': 2792, 'min_child_samples': 27, 'subsample': 0.6924431301028878}. Best is trial 48 with value: 0.20838460331432287.\u001b[0m\n",
      "\u001b[32m[I 2023-02-21 15:05:15,450]\u001b[0m Trial 54 finished with value: 0.20960504543350603 and parameters: {'max_depth': 15, 'learning_rate': 0.00927220442270912, 'n_estimators': 2590, 'min_child_samples': 23, 'subsample': 0.6973893818250609}. Best is trial 48 with value: 0.20838460331432287.\u001b[0m\n",
      "\u001b[32m[I 2023-02-21 15:05:46,108]\u001b[0m Trial 55 finished with value: 0.24505674287190993 and parameters: {'max_depth': 15, 'learning_rate': 0.001399060314583943, 'n_estimators': 2267, 'min_child_samples': 18, 'subsample': 0.6895325117135144}. Best is trial 48 with value: 0.20838460331432287.\u001b[0m\n"
     ]
    },
    {
     "name": "stderr",
     "output_type": "stream",
     "text": [
      "\u001b[32m[I 2023-02-21 15:06:06,097]\u001b[0m Trial 56 finished with value: 0.2101616173850606 and parameters: {'max_depth': 14, 'learning_rate': 0.009514311365430654, 'n_estimators': 2996, 'min_child_samples': 28, 'subsample': 0.6712991378912478}. Best is trial 48 with value: 0.20838460331432287.\u001b[0m\n",
      "\u001b[32m[I 2023-02-21 15:06:39,759]\u001b[0m Trial 57 finished with value: 0.23893287963584206 and parameters: {'max_depth': 15, 'learning_rate': 0.0013400400700965165, 'n_estimators': 2601, 'min_child_samples': 12, 'subsample': 0.7051168673752289}. Best is trial 48 with value: 0.20838460331432287.\u001b[0m\n",
      "\u001b[32m[I 2023-02-21 15:07:05,055]\u001b[0m Trial 58 finished with value: 0.20902273862804815 and parameters: {'max_depth': 14, 'learning_rate': 0.009320361868390189, 'n_estimators': 2511, 'min_child_samples': 21, 'subsample': 0.6503121581904318}. Best is trial 48 with value: 0.20838460331432287.\u001b[0m\n",
      "\u001b[32m[I 2023-02-21 15:07:37,881]\u001b[0m Trial 59 finished with value: 0.29235952384726555 and parameters: {'max_depth': 14, 'learning_rate': 0.0007826168072035589, 'n_estimators': 2466, 'min_child_samples': 37, 'subsample': 0.6394216909938222}. Best is trial 48 with value: 0.20838460331432287.\u001b[0m\n",
      "\u001b[32m[I 2023-02-21 15:08:11,141]\u001b[0m Trial 60 finished with value: 0.3928768643649987 and parameters: {'max_depth': 14, 'learning_rate': 0.00040066558720609183, 'n_estimators': 2518, 'min_child_samples': 17, 'subsample': 0.5997530148274294}. Best is trial 48 with value: 0.20838460331432287.\u001b[0m\n",
      "\u001b[32m[I 2023-02-21 15:08:35,064]\u001b[0m Trial 61 finished with value: 0.20995514149935765 and parameters: {'max_depth': 15, 'learning_rate': 0.008902840918453909, 'n_estimators': 2325, 'min_child_samples': 24, 'subsample': 0.6853989672332019}. Best is trial 48 with value: 0.20838460331432287.\u001b[0m\n",
      "\u001b[32m[I 2023-02-21 15:08:58,014]\u001b[0m Trial 62 finished with value: 0.2147410040496361 and parameters: {'max_depth': 15, 'learning_rate': 0.005568987058186727, 'n_estimators': 2623, 'min_child_samples': 29, 'subsample': 0.7148351463677631}. Best is trial 48 with value: 0.20838460331432287.\u001b[0m\n",
      "\u001b[32m[I 2023-02-21 15:09:20,277]\u001b[0m Trial 63 finished with value: 0.2103652255949457 and parameters: {'max_depth': 14, 'learning_rate': 0.009804195547856947, 'n_estimators': 2886, 'min_child_samples': 22, 'subsample': 0.7958214049713073}. Best is trial 48 with value: 0.20838460331432287.\u001b[0m\n",
      "\u001b[32m[I 2023-02-21 15:09:53,867]\u001b[0m Trial 64 finished with value: 0.21536661494523937 and parameters: {'max_depth': 12, 'learning_rate': 0.0033704730302459643, 'n_estimators': 2645, 'min_child_samples': 39, 'subsample': 0.6678890518349806}. Best is trial 48 with value: 0.20838460331432287.\u001b[0m\n",
      "\u001b[32m[I 2023-02-21 15:10:27,478]\u001b[0m Trial 65 finished with value: 0.2336439078094689 and parameters: {'max_depth': 13, 'learning_rate': 0.001526804831427428, 'n_estimators': 2509, 'min_child_samples': 7, 'subsample': 0.7555182585101488}. Best is trial 48 with value: 0.20838460331432287.\u001b[0m\n",
      "\u001b[32m[I 2023-02-21 15:10:37,327]\u001b[0m Trial 66 finished with value: 0.2875073455708514 and parameters: {'max_depth': 15, 'learning_rate': 0.002592359549968283, 'n_estimators': 775, 'min_child_samples': 47, 'subsample': 0.7053565165389004}. Best is trial 48 with value: 0.20838460331432287.\u001b[0m\n",
      "\u001b[32m[I 2023-02-21 15:11:10,628]\u001b[0m Trial 67 finished with value: 0.21075842881257345 and parameters: {'max_depth': 14, 'learning_rate': 0.005738350032795544, 'n_estimators': 2807, 'min_child_samples': 27, 'subsample': 0.7431272431820226}. Best is trial 48 with value: 0.20838460331432287.\u001b[0m\n",
      "\u001b[32m[I 2023-02-21 15:11:50,566]\u001b[0m Trial 68 finished with value: 0.21988848281300624 and parameters: {'max_depth': 12, 'learning_rate': 0.001995126942272754, 'n_estimators': 2991, 'min_child_samples': 14, 'subsample': 0.6150916405407393}. Best is trial 48 with value: 0.20838460331432287.\u001b[0m\n",
      "\u001b[32m[I 2023-02-21 15:12:12,029]\u001b[0m Trial 69 finished with value: 0.21001740900466154 and parameters: {'max_depth': 14, 'learning_rate': 0.009875898182735857, 'n_estimators': 2093, 'min_child_samples': 32, 'subsample': 0.8122448261737178}. Best is trial 48 with value: 0.20838460331432287.\u001b[0m\n",
      "\u001b[32m[I 2023-02-21 15:12:42,268]\u001b[0m Trial 70 finished with value: 0.21586513624033238 and parameters: {'max_depth': 15, 'learning_rate': 0.0036217846464162576, 'n_estimators': 2299, 'min_child_samples': 19, 'subsample': 0.7158222940484233}. Best is trial 48 with value: 0.20838460331432287.\u001b[0m\n",
      "\u001b[32m[I 2023-02-21 15:13:07,316]\u001b[0m Trial 71 finished with value: 0.21361513347324176 and parameters: {'max_depth': 12, 'learning_rate': 0.006156044260472702, 'n_estimators': 2763, 'min_child_samples': 26, 'subsample': 0.7638004105885576}. Best is trial 48 with value: 0.20838460331432287.\u001b[0m\n",
      "\u001b[32m[I 2023-02-21 15:13:34,785]\u001b[0m Trial 72 finished with value: 0.21287905836993143 and parameters: {'max_depth': 13, 'learning_rate': 0.005371408714496126, 'n_estimators': 2785, 'min_child_samples': 34, 'subsample': 0.7897050070756635}. Best is trial 48 with value: 0.20838460331432287.\u001b[0m\n",
      "\u001b[32m[I 2023-02-21 15:14:08,684]\u001b[0m Trial 73 finished with value: 0.21626418779734957 and parameters: {'max_depth': 10, 'learning_rate': 0.0028087310130923892, 'n_estimators': 2683, 'min_child_samples': 30, 'subsample': 0.8035184184816769}. Best is trial 48 with value: 0.20838460331432287.\u001b[0m\n",
      "\u001b[32m[I 2023-02-21 15:14:37,712]\u001b[0m Trial 74 finished with value: 0.20858959017085965 and parameters: {'max_depth': 10, 'learning_rate': 0.006871827720016724, 'n_estimators': 2566, 'min_child_samples': 72, 'subsample': 0.7547317646310967}. Best is trial 48 with value: 0.20838460331432287.\u001b[0m\n",
      "\u001b[32m[I 2023-02-21 15:15:03,445]\u001b[0m Trial 75 finished with value: 0.20992084598792893 and parameters: {'max_depth': 15, 'learning_rate': 0.009813904879400558, 'n_estimators': 2894, 'min_child_samples': 22, 'subsample': 0.7266749891831495}. Best is trial 48 with value: 0.20838460331432287.\u001b[0m\n",
      "\u001b[32m[I 2023-02-21 15:15:36,989]\u001b[0m Trial 76 finished with value: 0.213276705191335 and parameters: {'max_depth': 10, 'learning_rate': 0.003998723712158622, 'n_estimators': 2589, 'min_child_samples': 39, 'subsample': 0.6955689410881214}. Best is trial 48 with value: 0.20838460331432287.\u001b[0m\n",
      "\u001b[32m[I 2023-02-21 15:16:05,438]\u001b[0m Trial 77 finished with value: 0.2100151132006722 and parameters: {'max_depth': 10, 'learning_rate': 0.007177242218481654, 'n_estimators': 2396, 'min_child_samples': 46, 'subsample': 0.6649292216673728}. Best is trial 48 with value: 0.20838460331432287.\u001b[0m\n",
      "\u001b[32m[I 2023-02-21 15:16:34,402]\u001b[0m Trial 78 finished with value: 0.2221070814094755 and parameters: {'max_depth': 14, 'learning_rate': 0.002465168564682916, 'n_estimators': 2178, 'min_child_samples': 73, 'subsample': 0.8162719488214407}. Best is trial 48 with value: 0.20838460331432287.\u001b[0m\n",
      "\u001b[32m[I 2023-02-21 15:17:06,438]\u001b[0m Trial 79 finished with value: 0.21442968447167093 and parameters: {'max_depth': 13, 'learning_rate': 0.003866296177309913, 'n_estimators': 2560, 'min_child_samples': 14, 'subsample': 0.7421729973441332}. Best is trial 48 with value: 0.20838460331432287.\u001b[0m\n",
      "\u001b[32m[I 2023-02-21 15:17:21,134]\u001b[0m Trial 80 finished with value: 0.29056609683901413 and parameters: {'max_depth': 15, 'learning_rate': 0.0017734649663415712, 'n_estimators': 1103, 'min_child_samples': 63, 'subsample': 0.7652422348981055}. Best is trial 48 with value: 0.20838460331432287.\u001b[0m\n",
      "\u001b[32m[I 2023-02-21 15:17:47,744]\u001b[0m Trial 81 finished with value: 0.2101808867792723 and parameters: {'max_depth': 10, 'learning_rate': 0.006241141215504965, 'n_estimators': 2668, 'min_child_samples': 71, 'subsample': 0.7580987091753564}. Best is trial 48 with value: 0.20838460331432287.\u001b[0m\n",
      "\u001b[32m[I 2023-02-21 15:18:23,795]\u001b[0m Trial 82 finished with value: 0.21033673163131086 and parameters: {'max_depth': 11, 'learning_rate': 0.004678301278292249, 'n_estimators': 2931, 'min_child_samples': 62, 'subsample': 0.7821178601930322}. Best is trial 48 with value: 0.20838460331432287.\u001b[0m\n",
      "\u001b[32m[I 2023-02-21 15:18:55,885]\u001b[0m Trial 83 finished with value: 0.20913739397300746 and parameters: {'max_depth': 13, 'learning_rate': 0.0071046891078452475, 'n_estimators': 2798, 'min_child_samples': 55, 'subsample': 0.7266202383842818}. Best is trial 48 with value: 0.20838460331432287.\u001b[0m\n"
     ]
    },
    {
     "name": "stderr",
     "output_type": "stream",
     "text": [
      "\u001b[32m[I 2023-02-21 15:19:14,396]\u001b[0m Trial 84 finished with value: 0.21350725613632796 and parameters: {'max_depth': 13, 'learning_rate': 0.0070072807854575465, 'n_estimators': 1450, 'min_child_samples': 55, 'subsample': 0.7004506984899678}. Best is trial 48 with value: 0.20838460331432287.\u001b[0m\n",
      "\u001b[32m[I 2023-02-21 15:19:50,830]\u001b[0m Trial 85 finished with value: 0.21566740705745574 and parameters: {'max_depth': 14, 'learning_rate': 0.002785331365970946, 'n_estimators': 2861, 'min_child_samples': 49, 'subsample': 0.7278213491607545}. Best is trial 48 with value: 0.20838460331432287.\u001b[0m\n",
      "\u001b[32m[I 2023-02-21 15:20:13,442]\u001b[0m Trial 86 finished with value: 0.20971776337339532 and parameters: {'max_depth': 12, 'learning_rate': 0.009979372770112861, 'n_estimators': 2453, 'min_child_samples': 25, 'subsample': 0.6872493326107195}. Best is trial 48 with value: 0.20838460331432287.\u001b[0m\n",
      "\u001b[32m[I 2023-02-21 15:20:46,502]\u001b[0m Trial 87 finished with value: 0.21218125447512112 and parameters: {'max_depth': 14, 'learning_rate': 0.004242498091146522, 'n_estimators': 2711, 'min_child_samples': 60, 'subsample': 0.6497949550663461}. Best is trial 48 with value: 0.20838460331432287.\u001b[0m\n",
      "\u001b[32m[I 2023-02-21 15:21:15,741]\u001b[0m Trial 88 finished with value: 0.2101694184833594 and parameters: {'max_depth': 15, 'learning_rate': 0.006930485358595919, 'n_estimators': 2806, 'min_child_samples': 44, 'subsample': 0.8581829930451705}. Best is trial 48 with value: 0.20838460331432287.\u001b[0m\n",
      "\u001b[32m[I 2023-02-21 15:21:54,270]\u001b[0m Trial 89 finished with value: 0.24215726744183955 and parameters: {'max_depth': 13, 'learning_rate': 0.0011342296673077965, 'n_estimators': 2927, 'min_child_samples': 66, 'subsample': 0.7126107298904953}. Best is trial 48 with value: 0.20838460331432287.\u001b[0m\n",
      "\u001b[32m[I 2023-02-21 15:22:28,927]\u001b[0m Trial 90 finished with value: 0.22393969356611532 and parameters: {'max_depth': 14, 'learning_rate': 0.001954097979963315, 'n_estimators': 2555, 'min_child_samples': 51, 'subsample': 0.7532045341696598}. Best is trial 48 with value: 0.20838460331432287.\u001b[0m\n",
      "\u001b[32m[I 2023-02-21 15:22:56,930]\u001b[0m Trial 91 finished with value: 0.20912543524401364 and parameters: {'max_depth': 12, 'learning_rate': 0.007516420371966541, 'n_estimators': 2451, 'min_child_samples': 25, 'subsample': 0.6845918859649854}. Best is trial 48 with value: 0.20838460331432287.\u001b[0m\n",
      "\u001b[32m[I 2023-02-21 15:23:27,745]\u001b[0m Trial 92 finished with value: 0.20968367396069595 and parameters: {'max_depth': 12, 'learning_rate': 0.006943753570363764, 'n_estimators': 2656, 'min_child_samples': 21, 'subsample': 0.7306407841154151}. Best is trial 48 with value: 0.20838460331432287.\u001b[0m\n",
      "\u001b[32m[I 2023-02-21 15:23:58,373]\u001b[0m Trial 93 finished with value: 0.21421989747326275 and parameters: {'max_depth': 13, 'learning_rate': 0.0042255934880277984, 'n_estimators': 2474, 'min_child_samples': 36, 'subsample': 0.6765050306399228}. Best is trial 48 with value: 0.20838460331432287.\u001b[0m\n",
      "\u001b[32m[I 2023-02-21 15:24:33,360]\u001b[0m Trial 94 finished with value: 0.21505676670497292 and parameters: {'max_depth': 12, 'learning_rate': 0.0031924190161093805, 'n_estimators': 2771, 'min_child_samples': 30, 'subsample': 0.7777154682633378}. Best is trial 48 with value: 0.20838460331432287.\u001b[0m\n",
      "\u001b[32m[I 2023-02-21 15:25:00,563]\u001b[0m Trial 95 finished with value: 0.20853504090393365 and parameters: {'max_depth': 11, 'learning_rate': 0.0076009062664663075, 'n_estimators': 2376, 'min_child_samples': 55, 'subsample': 0.6913906742660335}. Best is trial 48 with value: 0.20838460331432287.\u001b[0m\n",
      "\u001b[32m[I 2023-02-21 15:25:28,302]\u001b[0m Trial 96 finished with value: 0.21181836981557822 and parameters: {'max_depth': 11, 'learning_rate': 0.005260838832538145, 'n_estimators': 2181, 'min_child_samples': 54, 'subsample': 0.7465705590898692}. Best is trial 48 with value: 0.20838460331432287.\u001b[0m\n",
      "\u001b[32m[I 2023-02-21 15:25:51,349]\u001b[0m Trial 97 finished with value: 0.2095506443460408 and parameters: {'max_depth': 11, 'learning_rate': 0.007069475484010924, 'n_estimators': 1896, 'min_child_samples': 61, 'subsample': 0.6592588159369756}. Best is trial 48 with value: 0.20838460331432287.\u001b[0m\n",
      "\u001b[32m[I 2023-02-21 15:26:20,189]\u001b[0m Trial 98 finished with value: 0.21377260268687287 and parameters: {'max_depth': 12, 'learning_rate': 0.0045692136842951595, 'n_estimators': 2311, 'min_child_samples': 39, 'subsample': 0.8248466317679056}. Best is trial 48 with value: 0.20838460331432287.\u001b[0m\n",
      "\u001b[32m[I 2023-02-21 15:26:51,853]\u001b[0m Trial 99 finished with value: 0.23487199747998355 and parameters: {'max_depth': 10, 'learning_rate': 0.0015749703097751736, 'n_estimators': 2380, 'min_child_samples': 55, 'subsample': 0.7923803324942622}. Best is trial 48 with value: 0.20838460331432287.\u001b[0m\n"
     ]
    }
   ],
   "source": [
    "from optuna.samplers import TPESampler\n",
    "\n",
    "sampler = TPESampler(seed=10)\n",
    "\n",
    "def objective(trial):\n",
    "    dtrain = lgb.Dataset(h_train_X, label=h_train_y)\n",
    "    dtest = lgb.Dataset(h_valid_X, label=h_valid_y)\n",
    "\n",
    "    param = {\n",
    "        'objective': 'regression', # 회귀\n",
    "        'verbose': -1,\n",
    "        'metric': 'rmse', \n",
    "        'max_depth': trial.suggest_int('max_depth',3, 15),\n",
    "        'learning_rate': trial.suggest_loguniform(\"learning_rate\", 1e-8, 1e-2),\n",
    "        'n_estimators': trial.suggest_int('n_estimators', 100, 3000),\n",
    "        'min_child_samples': trial.suggest_int('min_child_samples', 5, 100),\n",
    "        'subsample': trial.suggest_loguniform('subsample', 0.4, 1),\n",
    "    }\n",
    "\n",
    "    model = lgb.LGBMRegressor(**param)\n",
    "    lgb_model = model.fit(h_train_X, h_train_y, eval_set=[(h_valid_X, h_valid_y)], verbose=0, early_stopping_rounds=25)\n",
    "    rmse = RMSE(h_valid_y, lgb_model.predict(h_valid_X))\n",
    "    return rmse\n",
    "        \n",
    "study_lgb = optuna.create_study(direction='minimize', sampler=sampler)\n",
    "study_lgb.optimize(objective, n_trials=100)"
   ]
  },
  {
   "cell_type": "markdown",
   "id": "036824bf",
   "metadata": {},
   "source": [
    "## 모든 특성치 사용"
   ]
  },
  {
   "cell_type": "code",
   "execution_count": 64,
   "id": "d3ec0739",
   "metadata": {
    "scrolled": true
   },
   "outputs": [
    {
     "name": "stdout",
     "output_type": "stream",
     "text": [
      "Best Trial: score 0.20838460331432287,\n",
      "params {'max_depth': 13, 'learning_rate': 0.009934320766298186, 'n_estimators': 2996, 'min_child_samples': 42, 'subsample': 0.7793193879552185}\n"
     ]
    }
   ],
   "source": [
    "trial = study_lgb.best_trial\n",
    "trial_params = trial.params\n",
    "print('Best Trial: score {},\\nparams {}'.format(trial.value, trial_params))"
   ]
  },
  {
   "cell_type": "code",
   "execution_count": 55,
   "id": "5b056594",
   "metadata": {},
   "outputs": [
    {
     "data": {
      "text/plain": [
       "array([10.44213748,  9.48412573,  9.65563163, ..., 11.00014648,\n",
       "       10.66989413, 10.06554204])"
      ]
     },
     "execution_count": 55,
     "metadata": {},
     "output_type": "execute_result"
    }
   ],
   "source": [
    "final_lgb_model = lgb.LGBMRegressor(**trial_params)\n",
    "final_lgb_model.fit(train_X, train_y)\n",
    "final_lgb_pred = final_lgb_model.predict(test)\n",
    "\n",
    "final_lgb_pred"
   ]
  },
  {
   "cell_type": "code",
   "execution_count": 57,
   "id": "849406e4",
   "metadata": {},
   "outputs": [
    {
     "data": {
      "text/html": [
       "<div>\n",
       "<style scoped>\n",
       "    .dataframe tbody tr th:only-of-type {\n",
       "        vertical-align: middle;\n",
       "    }\n",
       "\n",
       "    .dataframe tbody tr th {\n",
       "        vertical-align: top;\n",
       "    }\n",
       "\n",
       "    .dataframe thead th {\n",
       "        text-align: right;\n",
       "    }\n",
       "</style>\n",
       "<table border=\"1\" class=\"dataframe\">\n",
       "  <thead>\n",
       "    <tr style=\"text-align: right;\">\n",
       "      <th></th>\n",
       "      <th>도시</th>\n",
       "      <th>동</th>\n",
       "      <th>아파트</th>\n",
       "      <th>설립일자</th>\n",
       "      <th>거래 년/월</th>\n",
       "      <th>층수</th>\n",
       "      <th>top10</th>\n",
       "      <th>log_area</th>\n",
       "    </tr>\n",
       "  </thead>\n",
       "  <tbody>\n",
       "    <tr>\n",
       "      <th>0</th>\n",
       "      <td>1</td>\n",
       "      <td>51</td>\n",
       "      <td>23</td>\n",
       "      <td>41</td>\n",
       "      <td>118</td>\n",
       "      <td>6</td>\n",
       "      <td>0</td>\n",
       "      <td>3.598681</td>\n",
       "    </tr>\n",
       "    <tr>\n",
       "      <th>1</th>\n",
       "      <td>0</td>\n",
       "      <td>417</td>\n",
       "      <td>23</td>\n",
       "      <td>16</td>\n",
       "      <td>115</td>\n",
       "      <td>6</td>\n",
       "      <td>0</td>\n",
       "      <td>4.244487</td>\n",
       "    </tr>\n",
       "    <tr>\n",
       "      <th>2</th>\n",
       "      <td>0</td>\n",
       "      <td>409</td>\n",
       "      <td>23</td>\n",
       "      <td>28</td>\n",
       "      <td>117</td>\n",
       "      <td>6</td>\n",
       "      <td>0</td>\n",
       "      <td>4.297829</td>\n",
       "    </tr>\n",
       "    <tr>\n",
       "      <th>3</th>\n",
       "      <td>1</td>\n",
       "      <td>8</td>\n",
       "      <td>23</td>\n",
       "      <td>43</td>\n",
       "      <td>114</td>\n",
       "      <td>14</td>\n",
       "      <td>0</td>\n",
       "      <td>4.723309</td>\n",
       "    </tr>\n",
       "    <tr>\n",
       "      <th>4</th>\n",
       "      <td>0</td>\n",
       "      <td>415</td>\n",
       "      <td>10</td>\n",
       "      <td>53</td>\n",
       "      <td>119</td>\n",
       "      <td>25</td>\n",
       "      <td>1</td>\n",
       "      <td>4.792809</td>\n",
       "    </tr>\n",
       "    <tr>\n",
       "      <th>...</th>\n",
       "      <td>...</td>\n",
       "      <td>...</td>\n",
       "      <td>...</td>\n",
       "      <td>...</td>\n",
       "      <td>...</td>\n",
       "      <td>...</td>\n",
       "      <td>...</td>\n",
       "      <td>...</td>\n",
       "    </tr>\n",
       "    <tr>\n",
       "      <th>5458</th>\n",
       "      <td>1</td>\n",
       "      <td>97</td>\n",
       "      <td>23</td>\n",
       "      <td>42</td>\n",
       "      <td>117</td>\n",
       "      <td>11</td>\n",
       "      <td>0</td>\n",
       "      <td>4.443239</td>\n",
       "    </tr>\n",
       "    <tr>\n",
       "      <th>5459</th>\n",
       "      <td>1</td>\n",
       "      <td>5</td>\n",
       "      <td>3</td>\n",
       "      <td>48</td>\n",
       "      <td>119</td>\n",
       "      <td>8</td>\n",
       "      <td>1</td>\n",
       "      <td>4.453533</td>\n",
       "    </tr>\n",
       "    <tr>\n",
       "      <th>5460</th>\n",
       "      <td>1</td>\n",
       "      <td>274</td>\n",
       "      <td>3</td>\n",
       "      <td>43</td>\n",
       "      <td>119</td>\n",
       "      <td>27</td>\n",
       "      <td>1</td>\n",
       "      <td>4.711222</td>\n",
       "    </tr>\n",
       "    <tr>\n",
       "      <th>5461</th>\n",
       "      <td>1</td>\n",
       "      <td>223</td>\n",
       "      <td>23</td>\n",
       "      <td>44</td>\n",
       "      <td>117</td>\n",
       "      <td>5</td>\n",
       "      <td>0</td>\n",
       "      <td>4.537320</td>\n",
       "    </tr>\n",
       "    <tr>\n",
       "      <th>5462</th>\n",
       "      <td>0</td>\n",
       "      <td>333</td>\n",
       "      <td>23</td>\n",
       "      <td>32</td>\n",
       "      <td>119</td>\n",
       "      <td>11</td>\n",
       "      <td>0</td>\n",
       "      <td>4.450152</td>\n",
       "    </tr>\n",
       "  </tbody>\n",
       "</table>\n",
       "<p>5463 rows × 8 columns</p>\n",
       "</div>"
      ],
      "text/plain": [
       "      도시    동  아파트  설립일자  거래 년/월  층수  top10  log_area\n",
       "0      1   51   23    41     118   6      0  3.598681\n",
       "1      0  417   23    16     115   6      0  4.244487\n",
       "2      0  409   23    28     117   6      0  4.297829\n",
       "3      1    8   23    43     114  14      0  4.723309\n",
       "4      0  415   10    53     119  25      1  4.792809\n",
       "...   ..  ...  ...   ...     ...  ..    ...       ...\n",
       "5458   1   97   23    42     117  11      0  4.443239\n",
       "5459   1    5    3    48     119   8      1  4.453533\n",
       "5460   1  274    3    43     119  27      1  4.711222\n",
       "5461   1  223   23    44     117   5      0  4.537320\n",
       "5462   0  333   23    32     119  11      0  4.450152\n",
       "\n",
       "[5463 rows x 8 columns]"
      ]
     },
     "execution_count": 57,
     "metadata": {},
     "output_type": "execute_result"
    }
   ],
   "source": [
    "test"
   ]
  },
  {
   "cell_type": "markdown",
   "id": "0b4569b0",
   "metadata": {},
   "source": [
    "## top10 특성 제거 (특성 중요도가 너무 낮아서)"
   ]
  },
  {
   "cell_type": "code",
   "execution_count": 103,
   "id": "e18a7940",
   "metadata": {},
   "outputs": [
    {
     "name": "stdout",
     "output_type": "stream",
     "text": [
      "Best Trial: score 0.20727202201866085,\n",
      "params {'max_depth': 15, 'learning_rate': 0.009920869327989383, 'n_estimators': 2452, 'min_child_samples': 54, 'subsample': 0.5839686550395637}\n"
     ]
    }
   ],
   "source": [
    "trial = study_lgb.best_trial\n",
    "trial_params = trial.params\n",
    "print('Best Trial: score {},\\nparams {}'.format(trial.value, trial_params))"
   ]
  },
  {
   "cell_type": "code",
   "execution_count": 122,
   "id": "7774712d",
   "metadata": {},
   "outputs": [],
   "source": [
    "test1 = test.drop(['top10'],axis = 1)\n",
    "train_X, train_y = train.drop(['top10','log_price'], axis=1), train['log_price']"
   ]
  },
  {
   "cell_type": "code",
   "execution_count": 123,
   "id": "dcb02207",
   "metadata": {},
   "outputs": [
    {
     "data": {
      "text/plain": [
       "array([10.16779496,  9.15621557,  9.29956814, ..., 11.01510994,\n",
       "       10.46950674, 10.03995678])"
      ]
     },
     "execution_count": 123,
     "metadata": {},
     "output_type": "execute_result"
    }
   ],
   "source": [
    "final_lgb_model = lgb.LGBMRegressor(**trial_params)\n",
    "final_lgb_model.fit(train_X, train_y)\n",
    "final_lgb_pred1 = final_lgb_model.predict(test1)\n",
    "\n",
    "final_lgb_pred1"
   ]
  },
  {
   "cell_type": "markdown",
   "id": "abb52cd1",
   "metadata": {},
   "source": [
    "## 제출 파일 만들기"
   ]
  },
  {
   "cell_type": "markdown",
   "id": "8de79bc3",
   "metadata": {},
   "source": [
    "#### 로그 역변환"
   ]
  },
  {
   "cell_type": "code",
   "execution_count": 56,
   "id": "a0e369f2",
   "metadata": {},
   "outputs": [
    {
     "data": {
      "text/plain": [
       "array([34272.83391482, 13148.32529805, 15608.44770799, ...,\n",
       "       59881.91268283, 43039.38465056, 23517.48631804])"
      ]
     },
     "execution_count": 56,
     "metadata": {},
     "output_type": "execute_result"
    }
   ],
   "source": [
    "# 모든 특성치\n",
    "final_pred_sub = np.expm1(final_lgb_pred)\n",
    "final_pred_sub"
   ]
  },
  {
   "cell_type": "code",
   "execution_count": 58,
   "id": "3ee4f0fd",
   "metadata": {},
   "outputs": [
    {
     "data": {
      "text/html": [
       "<div>\n",
       "<style scoped>\n",
       "    .dataframe tbody tr th:only-of-type {\n",
       "        vertical-align: middle;\n",
       "    }\n",
       "\n",
       "    .dataframe tbody tr th {\n",
       "        vertical-align: top;\n",
       "    }\n",
       "\n",
       "    .dataframe thead th {\n",
       "        text-align: right;\n",
       "    }\n",
       "</style>\n",
       "<table border=\"1\" class=\"dataframe\">\n",
       "  <thead>\n",
       "    <tr style=\"text-align: right;\">\n",
       "      <th></th>\n",
       "      <th>transaction_id</th>\n",
       "      <th>transaction_real_price</th>\n",
       "    </tr>\n",
       "  </thead>\n",
       "  <tbody>\n",
       "    <tr>\n",
       "      <th>0</th>\n",
       "      <td>1145756</td>\n",
       "      <td>34272.833915</td>\n",
       "    </tr>\n",
       "    <tr>\n",
       "      <th>1</th>\n",
       "      <td>1198704</td>\n",
       "      <td>13148.325298</td>\n",
       "    </tr>\n",
       "    <tr>\n",
       "      <th>2</th>\n",
       "      <td>1222384</td>\n",
       "      <td>15608.447708</td>\n",
       "    </tr>\n",
       "    <tr>\n",
       "      <th>3</th>\n",
       "      <td>1179897</td>\n",
       "      <td>126240.710654</td>\n",
       "    </tr>\n",
       "    <tr>\n",
       "      <th>4</th>\n",
       "      <td>1223091</td>\n",
       "      <td>46069.568562</td>\n",
       "    </tr>\n",
       "    <tr>\n",
       "      <th>...</th>\n",
       "      <td>...</td>\n",
       "      <td>...</td>\n",
       "    </tr>\n",
       "    <tr>\n",
       "      <th>5458</th>\n",
       "      <td>1174640</td>\n",
       "      <td>59129.948035</td>\n",
       "    </tr>\n",
       "    <tr>\n",
       "      <th>5459</th>\n",
       "      <td>1175575</td>\n",
       "      <td>161648.664315</td>\n",
       "    </tr>\n",
       "    <tr>\n",
       "      <th>5460</th>\n",
       "      <td>1157024</td>\n",
       "      <td>59881.912683</td>\n",
       "    </tr>\n",
       "    <tr>\n",
       "      <th>5461</th>\n",
       "      <td>1136863</td>\n",
       "      <td>43039.384651</td>\n",
       "    </tr>\n",
       "    <tr>\n",
       "      <th>5462</th>\n",
       "      <td>1218921</td>\n",
       "      <td>23517.486318</td>\n",
       "    </tr>\n",
       "  </tbody>\n",
       "</table>\n",
       "<p>5463 rows × 2 columns</p>\n",
       "</div>"
      ],
      "text/plain": [
       "      transaction_id  transaction_real_price\n",
       "0            1145756            34272.833915\n",
       "1            1198704            13148.325298\n",
       "2            1222384            15608.447708\n",
       "3            1179897           126240.710654\n",
       "4            1223091            46069.568562\n",
       "...              ...                     ...\n",
       "5458         1174640            59129.948035\n",
       "5459         1175575           161648.664315\n",
       "5460         1157024            59881.912683\n",
       "5461         1136863            43039.384651\n",
       "5462         1218921            23517.486318\n",
       "\n",
       "[5463 rows x 2 columns]"
      ]
     },
     "execution_count": 58,
     "metadata": {},
     "output_type": "execute_result"
    }
   ],
   "source": [
    "s = pd.read_csv('submission.csv')\n",
    "s['transaction_real_price'] = final_pred_sub\n",
    "s.to_csv('submission_lgb.csv', index=False)\n",
    "s"
   ]
  },
  {
   "cell_type": "code",
   "execution_count": 124,
   "id": "bb8ba6db",
   "metadata": {},
   "outputs": [
    {
     "data": {
      "text/plain": [
       "array([26049.57074876,  9472.13869435, 10932.29649988, ...,\n",
       "       60784.70559868, 35223.83795718, 22923.39212777])"
      ]
     },
     "execution_count": 124,
     "metadata": {},
     "output_type": "execute_result"
    }
   ],
   "source": [
    "# top10 특성치 제거\n",
    "final_pred_sub1 = np.expm1(final_lgb_pred1)\n",
    "final_pred_sub1"
   ]
  },
  {
   "cell_type": "code",
   "execution_count": 125,
   "id": "62692ebf",
   "metadata": {},
   "outputs": [
    {
     "data": {
      "text/html": [
       "<div>\n",
       "<style scoped>\n",
       "    .dataframe tbody tr th:only-of-type {\n",
       "        vertical-align: middle;\n",
       "    }\n",
       "\n",
       "    .dataframe tbody tr th {\n",
       "        vertical-align: top;\n",
       "    }\n",
       "\n",
       "    .dataframe thead th {\n",
       "        text-align: right;\n",
       "    }\n",
       "</style>\n",
       "<table border=\"1\" class=\"dataframe\">\n",
       "  <thead>\n",
       "    <tr style=\"text-align: right;\">\n",
       "      <th></th>\n",
       "      <th>transaction_id</th>\n",
       "      <th>transaction_real_price</th>\n",
       "    </tr>\n",
       "  </thead>\n",
       "  <tbody>\n",
       "    <tr>\n",
       "      <th>0</th>\n",
       "      <td>1145756</td>\n",
       "      <td>26049.570749</td>\n",
       "    </tr>\n",
       "    <tr>\n",
       "      <th>1</th>\n",
       "      <td>1198704</td>\n",
       "      <td>9472.138694</td>\n",
       "    </tr>\n",
       "    <tr>\n",
       "      <th>2</th>\n",
       "      <td>1222384</td>\n",
       "      <td>10932.296500</td>\n",
       "    </tr>\n",
       "    <tr>\n",
       "      <th>3</th>\n",
       "      <td>1179897</td>\n",
       "      <td>117088.924394</td>\n",
       "    </tr>\n",
       "    <tr>\n",
       "      <th>4</th>\n",
       "      <td>1223091</td>\n",
       "      <td>45304.713998</td>\n",
       "    </tr>\n",
       "    <tr>\n",
       "      <th>...</th>\n",
       "      <td>...</td>\n",
       "      <td>...</td>\n",
       "    </tr>\n",
       "    <tr>\n",
       "      <th>5458</th>\n",
       "      <td>1174640</td>\n",
       "      <td>57356.915818</td>\n",
       "    </tr>\n",
       "    <tr>\n",
       "      <th>5459</th>\n",
       "      <td>1175575</td>\n",
       "      <td>155569.514404</td>\n",
       "    </tr>\n",
       "    <tr>\n",
       "      <th>5460</th>\n",
       "      <td>1157024</td>\n",
       "      <td>60784.705599</td>\n",
       "    </tr>\n",
       "    <tr>\n",
       "      <th>5461</th>\n",
       "      <td>1136863</td>\n",
       "      <td>35223.837957</td>\n",
       "    </tr>\n",
       "    <tr>\n",
       "      <th>5462</th>\n",
       "      <td>1218921</td>\n",
       "      <td>22923.392128</td>\n",
       "    </tr>\n",
       "  </tbody>\n",
       "</table>\n",
       "<p>5463 rows × 2 columns</p>\n",
       "</div>"
      ],
      "text/plain": [
       "      transaction_id  transaction_real_price\n",
       "0            1145756            26049.570749\n",
       "1            1198704             9472.138694\n",
       "2            1222384            10932.296500\n",
       "3            1179897           117088.924394\n",
       "4            1223091            45304.713998\n",
       "...              ...                     ...\n",
       "5458         1174640            57356.915818\n",
       "5459         1175575           155569.514404\n",
       "5460         1157024            60784.705599\n",
       "5461         1136863            35223.837957\n",
       "5462         1218921            22923.392128\n",
       "\n",
       "[5463 rows x 2 columns]"
      ]
     },
     "execution_count": 125,
     "metadata": {},
     "output_type": "execute_result"
    }
   ],
   "source": [
    "s1 = pd.read_csv('submission.csv')\n",
    "s1['transaction_real_price'] = final_pred_sub1\n",
    "s1.to_csv('submission_lgb1.csv', index=False)\n",
    "s1"
   ]
  },
  {
   "cell_type": "code",
   "execution_count": null,
   "id": "c4bc9b9b",
   "metadata": {},
   "outputs": [],
   "source": []
  },
  {
   "cell_type": "code",
   "execution_count": null,
   "id": "031f039e",
   "metadata": {},
   "outputs": [],
   "source": []
  },
  {
   "cell_type": "markdown",
   "id": "934e3df1",
   "metadata": {},
   "source": [
    "# pycaret"
   ]
  },
  {
   "cell_type": "code",
   "execution_count": 54,
   "id": "995e90b1",
   "metadata": {},
   "outputs": [],
   "source": [
    "from pycaret.regression import *"
   ]
  },
  {
   "cell_type": "code",
   "execution_count": 55,
   "id": "1afcb312",
   "metadata": {},
   "outputs": [
    {
     "data": {
      "text/html": [
       "<style type=\"text/css\">\n",
       "#T_19810_row42_col1 {\n",
       "  background-color: lightgreen;\n",
       "}\n",
       "</style>\n",
       "<table id=\"T_19810\">\n",
       "  <thead>\n",
       "    <tr>\n",
       "      <th class=\"blank level0\" >&nbsp;</th>\n",
       "      <th id=\"T_19810_level0_col0\" class=\"col_heading level0 col0\" >Description</th>\n",
       "      <th id=\"T_19810_level0_col1\" class=\"col_heading level0 col1\" >Value</th>\n",
       "    </tr>\n",
       "  </thead>\n",
       "  <tbody>\n",
       "    <tr>\n",
       "      <th id=\"T_19810_level0_row0\" class=\"row_heading level0 row0\" >0</th>\n",
       "      <td id=\"T_19810_row0_col0\" class=\"data row0 col0\" >session_id</td>\n",
       "      <td id=\"T_19810_row0_col1\" class=\"data row0 col1\" >123</td>\n",
       "    </tr>\n",
       "    <tr>\n",
       "      <th id=\"T_19810_level0_row1\" class=\"row_heading level0 row1\" >1</th>\n",
       "      <td id=\"T_19810_row1_col0\" class=\"data row1 col0\" >Target</td>\n",
       "      <td id=\"T_19810_row1_col1\" class=\"data row1 col1\" >log_price</td>\n",
       "    </tr>\n",
       "    <tr>\n",
       "      <th id=\"T_19810_level0_row2\" class=\"row_heading level0 row2\" >2</th>\n",
       "      <td id=\"T_19810_row2_col0\" class=\"data row2 col0\" >Original Data</td>\n",
       "      <td id=\"T_19810_row2_col1\" class=\"data row2 col1\" >(1216553, 9)</td>\n",
       "    </tr>\n",
       "    <tr>\n",
       "      <th id=\"T_19810_level0_row3\" class=\"row_heading level0 row3\" >3</th>\n",
       "      <td id=\"T_19810_row3_col0\" class=\"data row3 col0\" >Missing Values</td>\n",
       "      <td id=\"T_19810_row3_col1\" class=\"data row3 col1\" >False</td>\n",
       "    </tr>\n",
       "    <tr>\n",
       "      <th id=\"T_19810_level0_row4\" class=\"row_heading level0 row4\" >4</th>\n",
       "      <td id=\"T_19810_row4_col0\" class=\"data row4 col0\" >Numeric Features</td>\n",
       "      <td id=\"T_19810_row4_col1\" class=\"data row4 col1\" >6</td>\n",
       "    </tr>\n",
       "    <tr>\n",
       "      <th id=\"T_19810_level0_row5\" class=\"row_heading level0 row5\" >5</th>\n",
       "      <td id=\"T_19810_row5_col0\" class=\"data row5 col0\" >Categorical Features</td>\n",
       "      <td id=\"T_19810_row5_col1\" class=\"data row5 col1\" >2</td>\n",
       "    </tr>\n",
       "    <tr>\n",
       "      <th id=\"T_19810_level0_row6\" class=\"row_heading level0 row6\" >6</th>\n",
       "      <td id=\"T_19810_row6_col0\" class=\"data row6 col0\" >Ordinal Features</td>\n",
       "      <td id=\"T_19810_row6_col1\" class=\"data row6 col1\" >False</td>\n",
       "    </tr>\n",
       "    <tr>\n",
       "      <th id=\"T_19810_level0_row7\" class=\"row_heading level0 row7\" >7</th>\n",
       "      <td id=\"T_19810_row7_col0\" class=\"data row7 col0\" >High Cardinality Features</td>\n",
       "      <td id=\"T_19810_row7_col1\" class=\"data row7 col1\" >False</td>\n",
       "    </tr>\n",
       "    <tr>\n",
       "      <th id=\"T_19810_level0_row8\" class=\"row_heading level0 row8\" >8</th>\n",
       "      <td id=\"T_19810_row8_col0\" class=\"data row8 col0\" >High Cardinality Method</td>\n",
       "      <td id=\"T_19810_row8_col1\" class=\"data row8 col1\" >None</td>\n",
       "    </tr>\n",
       "    <tr>\n",
       "      <th id=\"T_19810_level0_row9\" class=\"row_heading level0 row9\" >9</th>\n",
       "      <td id=\"T_19810_row9_col0\" class=\"data row9 col0\" >Transformed Train Set</td>\n",
       "      <td id=\"T_19810_row9_col1\" class=\"data row9 col1\" >(851587, 8)</td>\n",
       "    </tr>\n",
       "    <tr>\n",
       "      <th id=\"T_19810_level0_row10\" class=\"row_heading level0 row10\" >10</th>\n",
       "      <td id=\"T_19810_row10_col0\" class=\"data row10 col0\" >Transformed Test Set</td>\n",
       "      <td id=\"T_19810_row10_col1\" class=\"data row10 col1\" >(364966, 8)</td>\n",
       "    </tr>\n",
       "    <tr>\n",
       "      <th id=\"T_19810_level0_row11\" class=\"row_heading level0 row11\" >11</th>\n",
       "      <td id=\"T_19810_row11_col0\" class=\"data row11 col0\" >Shuffle Train-Test</td>\n",
       "      <td id=\"T_19810_row11_col1\" class=\"data row11 col1\" >True</td>\n",
       "    </tr>\n",
       "    <tr>\n",
       "      <th id=\"T_19810_level0_row12\" class=\"row_heading level0 row12\" >12</th>\n",
       "      <td id=\"T_19810_row12_col0\" class=\"data row12 col0\" >Stratify Train-Test</td>\n",
       "      <td id=\"T_19810_row12_col1\" class=\"data row12 col1\" >False</td>\n",
       "    </tr>\n",
       "    <tr>\n",
       "      <th id=\"T_19810_level0_row13\" class=\"row_heading level0 row13\" >13</th>\n",
       "      <td id=\"T_19810_row13_col0\" class=\"data row13 col0\" >Fold Generator</td>\n",
       "      <td id=\"T_19810_row13_col1\" class=\"data row13 col1\" >KFold</td>\n",
       "    </tr>\n",
       "    <tr>\n",
       "      <th id=\"T_19810_level0_row14\" class=\"row_heading level0 row14\" >14</th>\n",
       "      <td id=\"T_19810_row14_col0\" class=\"data row14 col0\" >Fold Number</td>\n",
       "      <td id=\"T_19810_row14_col1\" class=\"data row14 col1\" >10</td>\n",
       "    </tr>\n",
       "    <tr>\n",
       "      <th id=\"T_19810_level0_row15\" class=\"row_heading level0 row15\" >15</th>\n",
       "      <td id=\"T_19810_row15_col0\" class=\"data row15 col0\" >CPU Jobs</td>\n",
       "      <td id=\"T_19810_row15_col1\" class=\"data row15 col1\" >-1</td>\n",
       "    </tr>\n",
       "    <tr>\n",
       "      <th id=\"T_19810_level0_row16\" class=\"row_heading level0 row16\" >16</th>\n",
       "      <td id=\"T_19810_row16_col0\" class=\"data row16 col0\" >Use GPU</td>\n",
       "      <td id=\"T_19810_row16_col1\" class=\"data row16 col1\" >False</td>\n",
       "    </tr>\n",
       "    <tr>\n",
       "      <th id=\"T_19810_level0_row17\" class=\"row_heading level0 row17\" >17</th>\n",
       "      <td id=\"T_19810_row17_col0\" class=\"data row17 col0\" >Log Experiment</td>\n",
       "      <td id=\"T_19810_row17_col1\" class=\"data row17 col1\" >False</td>\n",
       "    </tr>\n",
       "    <tr>\n",
       "      <th id=\"T_19810_level0_row18\" class=\"row_heading level0 row18\" >18</th>\n",
       "      <td id=\"T_19810_row18_col0\" class=\"data row18 col0\" >Experiment Name</td>\n",
       "      <td id=\"T_19810_row18_col1\" class=\"data row18 col1\" >reg-default-name</td>\n",
       "    </tr>\n",
       "    <tr>\n",
       "      <th id=\"T_19810_level0_row19\" class=\"row_heading level0 row19\" >19</th>\n",
       "      <td id=\"T_19810_row19_col0\" class=\"data row19 col0\" >USI</td>\n",
       "      <td id=\"T_19810_row19_col1\" class=\"data row19 col1\" >7d70</td>\n",
       "    </tr>\n",
       "    <tr>\n",
       "      <th id=\"T_19810_level0_row20\" class=\"row_heading level0 row20\" >20</th>\n",
       "      <td id=\"T_19810_row20_col0\" class=\"data row20 col0\" >Imputation Type</td>\n",
       "      <td id=\"T_19810_row20_col1\" class=\"data row20 col1\" >simple</td>\n",
       "    </tr>\n",
       "    <tr>\n",
       "      <th id=\"T_19810_level0_row21\" class=\"row_heading level0 row21\" >21</th>\n",
       "      <td id=\"T_19810_row21_col0\" class=\"data row21 col0\" >Iterative Imputation Iteration</td>\n",
       "      <td id=\"T_19810_row21_col1\" class=\"data row21 col1\" >None</td>\n",
       "    </tr>\n",
       "    <tr>\n",
       "      <th id=\"T_19810_level0_row22\" class=\"row_heading level0 row22\" >22</th>\n",
       "      <td id=\"T_19810_row22_col0\" class=\"data row22 col0\" >Numeric Imputer</td>\n",
       "      <td id=\"T_19810_row22_col1\" class=\"data row22 col1\" >mean</td>\n",
       "    </tr>\n",
       "    <tr>\n",
       "      <th id=\"T_19810_level0_row23\" class=\"row_heading level0 row23\" >23</th>\n",
       "      <td id=\"T_19810_row23_col0\" class=\"data row23 col0\" >Iterative Imputation Numeric Model</td>\n",
       "      <td id=\"T_19810_row23_col1\" class=\"data row23 col1\" >None</td>\n",
       "    </tr>\n",
       "    <tr>\n",
       "      <th id=\"T_19810_level0_row24\" class=\"row_heading level0 row24\" >24</th>\n",
       "      <td id=\"T_19810_row24_col0\" class=\"data row24 col0\" >Categorical Imputer</td>\n",
       "      <td id=\"T_19810_row24_col1\" class=\"data row24 col1\" >constant</td>\n",
       "    </tr>\n",
       "    <tr>\n",
       "      <th id=\"T_19810_level0_row25\" class=\"row_heading level0 row25\" >25</th>\n",
       "      <td id=\"T_19810_row25_col0\" class=\"data row25 col0\" >Iterative Imputation Categorical Model</td>\n",
       "      <td id=\"T_19810_row25_col1\" class=\"data row25 col1\" >None</td>\n",
       "    </tr>\n",
       "    <tr>\n",
       "      <th id=\"T_19810_level0_row26\" class=\"row_heading level0 row26\" >26</th>\n",
       "      <td id=\"T_19810_row26_col0\" class=\"data row26 col0\" >Unknown Categoricals Handling</td>\n",
       "      <td id=\"T_19810_row26_col1\" class=\"data row26 col1\" >least_frequent</td>\n",
       "    </tr>\n",
       "    <tr>\n",
       "      <th id=\"T_19810_level0_row27\" class=\"row_heading level0 row27\" >27</th>\n",
       "      <td id=\"T_19810_row27_col0\" class=\"data row27 col0\" >Normalize</td>\n",
       "      <td id=\"T_19810_row27_col1\" class=\"data row27 col1\" >False</td>\n",
       "    </tr>\n",
       "    <tr>\n",
       "      <th id=\"T_19810_level0_row28\" class=\"row_heading level0 row28\" >28</th>\n",
       "      <td id=\"T_19810_row28_col0\" class=\"data row28 col0\" >Normalize Method</td>\n",
       "      <td id=\"T_19810_row28_col1\" class=\"data row28 col1\" >None</td>\n",
       "    </tr>\n",
       "    <tr>\n",
       "      <th id=\"T_19810_level0_row29\" class=\"row_heading level0 row29\" >29</th>\n",
       "      <td id=\"T_19810_row29_col0\" class=\"data row29 col0\" >Transformation</td>\n",
       "      <td id=\"T_19810_row29_col1\" class=\"data row29 col1\" >False</td>\n",
       "    </tr>\n",
       "    <tr>\n",
       "      <th id=\"T_19810_level0_row30\" class=\"row_heading level0 row30\" >30</th>\n",
       "      <td id=\"T_19810_row30_col0\" class=\"data row30 col0\" >Transformation Method</td>\n",
       "      <td id=\"T_19810_row30_col1\" class=\"data row30 col1\" >None</td>\n",
       "    </tr>\n",
       "    <tr>\n",
       "      <th id=\"T_19810_level0_row31\" class=\"row_heading level0 row31\" >31</th>\n",
       "      <td id=\"T_19810_row31_col0\" class=\"data row31 col0\" >PCA</td>\n",
       "      <td id=\"T_19810_row31_col1\" class=\"data row31 col1\" >False</td>\n",
       "    </tr>\n",
       "    <tr>\n",
       "      <th id=\"T_19810_level0_row32\" class=\"row_heading level0 row32\" >32</th>\n",
       "      <td id=\"T_19810_row32_col0\" class=\"data row32 col0\" >PCA Method</td>\n",
       "      <td id=\"T_19810_row32_col1\" class=\"data row32 col1\" >None</td>\n",
       "    </tr>\n",
       "    <tr>\n",
       "      <th id=\"T_19810_level0_row33\" class=\"row_heading level0 row33\" >33</th>\n",
       "      <td id=\"T_19810_row33_col0\" class=\"data row33 col0\" >PCA Components</td>\n",
       "      <td id=\"T_19810_row33_col1\" class=\"data row33 col1\" >None</td>\n",
       "    </tr>\n",
       "    <tr>\n",
       "      <th id=\"T_19810_level0_row34\" class=\"row_heading level0 row34\" >34</th>\n",
       "      <td id=\"T_19810_row34_col0\" class=\"data row34 col0\" >Ignore Low Variance</td>\n",
       "      <td id=\"T_19810_row34_col1\" class=\"data row34 col1\" >False</td>\n",
       "    </tr>\n",
       "    <tr>\n",
       "      <th id=\"T_19810_level0_row35\" class=\"row_heading level0 row35\" >35</th>\n",
       "      <td id=\"T_19810_row35_col0\" class=\"data row35 col0\" >Combine Rare Levels</td>\n",
       "      <td id=\"T_19810_row35_col1\" class=\"data row35 col1\" >False</td>\n",
       "    </tr>\n",
       "    <tr>\n",
       "      <th id=\"T_19810_level0_row36\" class=\"row_heading level0 row36\" >36</th>\n",
       "      <td id=\"T_19810_row36_col0\" class=\"data row36 col0\" >Rare Level Threshold</td>\n",
       "      <td id=\"T_19810_row36_col1\" class=\"data row36 col1\" >None</td>\n",
       "    </tr>\n",
       "    <tr>\n",
       "      <th id=\"T_19810_level0_row37\" class=\"row_heading level0 row37\" >37</th>\n",
       "      <td id=\"T_19810_row37_col0\" class=\"data row37 col0\" >Numeric Binning</td>\n",
       "      <td id=\"T_19810_row37_col1\" class=\"data row37 col1\" >False</td>\n",
       "    </tr>\n",
       "    <tr>\n",
       "      <th id=\"T_19810_level0_row38\" class=\"row_heading level0 row38\" >38</th>\n",
       "      <td id=\"T_19810_row38_col0\" class=\"data row38 col0\" >Remove Outliers</td>\n",
       "      <td id=\"T_19810_row38_col1\" class=\"data row38 col1\" >False</td>\n",
       "    </tr>\n",
       "    <tr>\n",
       "      <th id=\"T_19810_level0_row39\" class=\"row_heading level0 row39\" >39</th>\n",
       "      <td id=\"T_19810_row39_col0\" class=\"data row39 col0\" >Outliers Threshold</td>\n",
       "      <td id=\"T_19810_row39_col1\" class=\"data row39 col1\" >None</td>\n",
       "    </tr>\n",
       "    <tr>\n",
       "      <th id=\"T_19810_level0_row40\" class=\"row_heading level0 row40\" >40</th>\n",
       "      <td id=\"T_19810_row40_col0\" class=\"data row40 col0\" >Remove Multicollinearity</td>\n",
       "      <td id=\"T_19810_row40_col1\" class=\"data row40 col1\" >False</td>\n",
       "    </tr>\n",
       "    <tr>\n",
       "      <th id=\"T_19810_level0_row41\" class=\"row_heading level0 row41\" >41</th>\n",
       "      <td id=\"T_19810_row41_col0\" class=\"data row41 col0\" >Multicollinearity Threshold</td>\n",
       "      <td id=\"T_19810_row41_col1\" class=\"data row41 col1\" >None</td>\n",
       "    </tr>\n",
       "    <tr>\n",
       "      <th id=\"T_19810_level0_row42\" class=\"row_heading level0 row42\" >42</th>\n",
       "      <td id=\"T_19810_row42_col0\" class=\"data row42 col0\" >Remove Perfect Collinearity</td>\n",
       "      <td id=\"T_19810_row42_col1\" class=\"data row42 col1\" >True</td>\n",
       "    </tr>\n",
       "    <tr>\n",
       "      <th id=\"T_19810_level0_row43\" class=\"row_heading level0 row43\" >43</th>\n",
       "      <td id=\"T_19810_row43_col0\" class=\"data row43 col0\" >Clustering</td>\n",
       "      <td id=\"T_19810_row43_col1\" class=\"data row43 col1\" >False</td>\n",
       "    </tr>\n",
       "    <tr>\n",
       "      <th id=\"T_19810_level0_row44\" class=\"row_heading level0 row44\" >44</th>\n",
       "      <td id=\"T_19810_row44_col0\" class=\"data row44 col0\" >Clustering Iteration</td>\n",
       "      <td id=\"T_19810_row44_col1\" class=\"data row44 col1\" >None</td>\n",
       "    </tr>\n",
       "    <tr>\n",
       "      <th id=\"T_19810_level0_row45\" class=\"row_heading level0 row45\" >45</th>\n",
       "      <td id=\"T_19810_row45_col0\" class=\"data row45 col0\" >Polynomial Features</td>\n",
       "      <td id=\"T_19810_row45_col1\" class=\"data row45 col1\" >False</td>\n",
       "    </tr>\n",
       "    <tr>\n",
       "      <th id=\"T_19810_level0_row46\" class=\"row_heading level0 row46\" >46</th>\n",
       "      <td id=\"T_19810_row46_col0\" class=\"data row46 col0\" >Polynomial Degree</td>\n",
       "      <td id=\"T_19810_row46_col1\" class=\"data row46 col1\" >None</td>\n",
       "    </tr>\n",
       "    <tr>\n",
       "      <th id=\"T_19810_level0_row47\" class=\"row_heading level0 row47\" >47</th>\n",
       "      <td id=\"T_19810_row47_col0\" class=\"data row47 col0\" >Trignometry Features</td>\n",
       "      <td id=\"T_19810_row47_col1\" class=\"data row47 col1\" >False</td>\n",
       "    </tr>\n",
       "    <tr>\n",
       "      <th id=\"T_19810_level0_row48\" class=\"row_heading level0 row48\" >48</th>\n",
       "      <td id=\"T_19810_row48_col0\" class=\"data row48 col0\" >Polynomial Threshold</td>\n",
       "      <td id=\"T_19810_row48_col1\" class=\"data row48 col1\" >None</td>\n",
       "    </tr>\n",
       "    <tr>\n",
       "      <th id=\"T_19810_level0_row49\" class=\"row_heading level0 row49\" >49</th>\n",
       "      <td id=\"T_19810_row49_col0\" class=\"data row49 col0\" >Group Features</td>\n",
       "      <td id=\"T_19810_row49_col1\" class=\"data row49 col1\" >False</td>\n",
       "    </tr>\n",
       "    <tr>\n",
       "      <th id=\"T_19810_level0_row50\" class=\"row_heading level0 row50\" >50</th>\n",
       "      <td id=\"T_19810_row50_col0\" class=\"data row50 col0\" >Feature Selection</td>\n",
       "      <td id=\"T_19810_row50_col1\" class=\"data row50 col1\" >False</td>\n",
       "    </tr>\n",
       "    <tr>\n",
       "      <th id=\"T_19810_level0_row51\" class=\"row_heading level0 row51\" >51</th>\n",
       "      <td id=\"T_19810_row51_col0\" class=\"data row51 col0\" >Feature Selection Method</td>\n",
       "      <td id=\"T_19810_row51_col1\" class=\"data row51 col1\" >classic</td>\n",
       "    </tr>\n",
       "    <tr>\n",
       "      <th id=\"T_19810_level0_row52\" class=\"row_heading level0 row52\" >52</th>\n",
       "      <td id=\"T_19810_row52_col0\" class=\"data row52 col0\" >Features Selection Threshold</td>\n",
       "      <td id=\"T_19810_row52_col1\" class=\"data row52 col1\" >None</td>\n",
       "    </tr>\n",
       "    <tr>\n",
       "      <th id=\"T_19810_level0_row53\" class=\"row_heading level0 row53\" >53</th>\n",
       "      <td id=\"T_19810_row53_col0\" class=\"data row53 col0\" >Feature Interaction</td>\n",
       "      <td id=\"T_19810_row53_col1\" class=\"data row53 col1\" >False</td>\n",
       "    </tr>\n",
       "    <tr>\n",
       "      <th id=\"T_19810_level0_row54\" class=\"row_heading level0 row54\" >54</th>\n",
       "      <td id=\"T_19810_row54_col0\" class=\"data row54 col0\" >Feature Ratio</td>\n",
       "      <td id=\"T_19810_row54_col1\" class=\"data row54 col1\" >False</td>\n",
       "    </tr>\n",
       "    <tr>\n",
       "      <th id=\"T_19810_level0_row55\" class=\"row_heading level0 row55\" >55</th>\n",
       "      <td id=\"T_19810_row55_col0\" class=\"data row55 col0\" >Interaction Threshold</td>\n",
       "      <td id=\"T_19810_row55_col1\" class=\"data row55 col1\" >None</td>\n",
       "    </tr>\n",
       "    <tr>\n",
       "      <th id=\"T_19810_level0_row56\" class=\"row_heading level0 row56\" >56</th>\n",
       "      <td id=\"T_19810_row56_col0\" class=\"data row56 col0\" >Transform Target</td>\n",
       "      <td id=\"T_19810_row56_col1\" class=\"data row56 col1\" >False</td>\n",
       "    </tr>\n",
       "    <tr>\n",
       "      <th id=\"T_19810_level0_row57\" class=\"row_heading level0 row57\" >57</th>\n",
       "      <td id=\"T_19810_row57_col0\" class=\"data row57 col0\" >Transform Target Method</td>\n",
       "      <td id=\"T_19810_row57_col1\" class=\"data row57 col1\" >box-cox</td>\n",
       "    </tr>\n",
       "  </tbody>\n",
       "</table>\n"
      ],
      "text/plain": [
       "<pandas.io.formats.style.Styler at 0x27f4f1d57f0>"
      ]
     },
     "metadata": {},
     "output_type": "display_data"
    }
   ],
   "source": [
    "exp=setup(data=train,target='log_price',session_id=123)"
   ]
  },
  {
   "cell_type": "code",
   "execution_count": 55,
   "id": "863b864c",
   "metadata": {},
   "outputs": [
    {
     "data": {
      "text/html": [
       "<style type=\"text/css\">\n",
       "#T_bdc69 th {\n",
       "  text-align: left;\n",
       "}\n",
       "#T_bdc69_row0_col0, #T_bdc69_row1_col0, #T_bdc69_row1_col1, #T_bdc69_row1_col2, #T_bdc69_row1_col3, #T_bdc69_row1_col4, #T_bdc69_row1_col5, #T_bdc69_row1_col6, #T_bdc69_row2_col0, #T_bdc69_row2_col1, #T_bdc69_row2_col2, #T_bdc69_row2_col3, #T_bdc69_row2_col4, #T_bdc69_row2_col5, #T_bdc69_row2_col6, #T_bdc69_row3_col0, #T_bdc69_row3_col1, #T_bdc69_row3_col2, #T_bdc69_row3_col3, #T_bdc69_row3_col4, #T_bdc69_row3_col5, #T_bdc69_row3_col6, #T_bdc69_row4_col0, #T_bdc69_row4_col1, #T_bdc69_row4_col2, #T_bdc69_row4_col3, #T_bdc69_row4_col4, #T_bdc69_row4_col5, #T_bdc69_row4_col6, #T_bdc69_row5_col0, #T_bdc69_row5_col1, #T_bdc69_row5_col2, #T_bdc69_row5_col3, #T_bdc69_row5_col4, #T_bdc69_row5_col5, #T_bdc69_row5_col6, #T_bdc69_row6_col0, #T_bdc69_row6_col1, #T_bdc69_row6_col2, #T_bdc69_row6_col3, #T_bdc69_row6_col4, #T_bdc69_row6_col5, #T_bdc69_row6_col6, #T_bdc69_row7_col0, #T_bdc69_row7_col1, #T_bdc69_row7_col2, #T_bdc69_row7_col3, #T_bdc69_row7_col4, #T_bdc69_row7_col5, #T_bdc69_row7_col6, #T_bdc69_row8_col0, #T_bdc69_row8_col1, #T_bdc69_row8_col2, #T_bdc69_row8_col3, #T_bdc69_row8_col4, #T_bdc69_row8_col5, #T_bdc69_row8_col6, #T_bdc69_row9_col0, #T_bdc69_row9_col1, #T_bdc69_row9_col2, #T_bdc69_row9_col3, #T_bdc69_row9_col4, #T_bdc69_row9_col5, #T_bdc69_row9_col6, #T_bdc69_row10_col0, #T_bdc69_row10_col1, #T_bdc69_row10_col2, #T_bdc69_row10_col3, #T_bdc69_row10_col4, #T_bdc69_row10_col5, #T_bdc69_row10_col6, #T_bdc69_row11_col0, #T_bdc69_row11_col1, #T_bdc69_row11_col2, #T_bdc69_row11_col3, #T_bdc69_row11_col4, #T_bdc69_row11_col5, #T_bdc69_row11_col6, #T_bdc69_row12_col0, #T_bdc69_row12_col1, #T_bdc69_row12_col2, #T_bdc69_row12_col3, #T_bdc69_row12_col4, #T_bdc69_row12_col5, #T_bdc69_row12_col6, #T_bdc69_row13_col0, #T_bdc69_row13_col1, #T_bdc69_row13_col2, #T_bdc69_row13_col3, #T_bdc69_row13_col4, #T_bdc69_row13_col5, #T_bdc69_row13_col6, #T_bdc69_row14_col0, #T_bdc69_row14_col1, #T_bdc69_row14_col2, #T_bdc69_row14_col3, #T_bdc69_row14_col4, #T_bdc69_row14_col5, #T_bdc69_row14_col6, #T_bdc69_row15_col0, #T_bdc69_row15_col1, #T_bdc69_row15_col2, #T_bdc69_row15_col3, #T_bdc69_row15_col4, #T_bdc69_row15_col5, #T_bdc69_row15_col6, #T_bdc69_row16_col0, #T_bdc69_row16_col1, #T_bdc69_row16_col2, #T_bdc69_row16_col3, #T_bdc69_row16_col4, #T_bdc69_row16_col5, #T_bdc69_row16_col6, #T_bdc69_row17_col0, #T_bdc69_row17_col1, #T_bdc69_row17_col2, #T_bdc69_row17_col3, #T_bdc69_row17_col4, #T_bdc69_row17_col5, #T_bdc69_row17_col6, #T_bdc69_row18_col0, #T_bdc69_row18_col1, #T_bdc69_row18_col2, #T_bdc69_row18_col3, #T_bdc69_row18_col4, #T_bdc69_row18_col5, #T_bdc69_row18_col6 {\n",
       "  text-align: left;\n",
       "}\n",
       "#T_bdc69_row0_col1, #T_bdc69_row0_col2, #T_bdc69_row0_col3, #T_bdc69_row0_col4, #T_bdc69_row0_col5, #T_bdc69_row0_col6 {\n",
       "  text-align: left;\n",
       "  background-color: yellow;\n",
       "}\n",
       "#T_bdc69_row0_col7, #T_bdc69_row1_col7, #T_bdc69_row2_col7, #T_bdc69_row3_col7, #T_bdc69_row4_col7, #T_bdc69_row5_col7, #T_bdc69_row6_col7, #T_bdc69_row7_col7, #T_bdc69_row8_col7, #T_bdc69_row9_col7, #T_bdc69_row10_col7, #T_bdc69_row11_col7, #T_bdc69_row12_col7, #T_bdc69_row13_col7, #T_bdc69_row14_col7, #T_bdc69_row15_col7, #T_bdc69_row16_col7, #T_bdc69_row17_col7 {\n",
       "  text-align: left;\n",
       "  background-color: lightgrey;\n",
       "}\n",
       "#T_bdc69_row18_col7 {\n",
       "  text-align: left;\n",
       "  background-color: yellow;\n",
       "  background-color: lightgrey;\n",
       "}\n",
       "</style>\n",
       "<table id=\"T_bdc69\">\n",
       "  <thead>\n",
       "    <tr>\n",
       "      <th class=\"blank level0\" >&nbsp;</th>\n",
       "      <th id=\"T_bdc69_level0_col0\" class=\"col_heading level0 col0\" >Model</th>\n",
       "      <th id=\"T_bdc69_level0_col1\" class=\"col_heading level0 col1\" >MAE</th>\n",
       "      <th id=\"T_bdc69_level0_col2\" class=\"col_heading level0 col2\" >MSE</th>\n",
       "      <th id=\"T_bdc69_level0_col3\" class=\"col_heading level0 col3\" >RMSE</th>\n",
       "      <th id=\"T_bdc69_level0_col4\" class=\"col_heading level0 col4\" >R2</th>\n",
       "      <th id=\"T_bdc69_level0_col5\" class=\"col_heading level0 col5\" >RMSLE</th>\n",
       "      <th id=\"T_bdc69_level0_col6\" class=\"col_heading level0 col6\" >MAPE</th>\n",
       "      <th id=\"T_bdc69_level0_col7\" class=\"col_heading level0 col7\" >TT (Sec)</th>\n",
       "    </tr>\n",
       "  </thead>\n",
       "  <tbody>\n",
       "    <tr>\n",
       "      <th id=\"T_bdc69_level0_row0\" class=\"row_heading level0 row0\" >rf</th>\n",
       "      <td id=\"T_bdc69_row0_col0\" class=\"data row0 col0\" >Random Forest Regressor</td>\n",
       "      <td id=\"T_bdc69_row0_col1\" class=\"data row0 col1\" >0.0553</td>\n",
       "      <td id=\"T_bdc69_row0_col2\" class=\"data row0 col2\" >0.0086</td>\n",
       "      <td id=\"T_bdc69_row0_col3\" class=\"data row0 col3\" >0.0926</td>\n",
       "      <td id=\"T_bdc69_row0_col4\" class=\"data row0 col4\" >0.9828</td>\n",
       "      <td id=\"T_bdc69_row0_col5\" class=\"data row0 col5\" >0.0085</td>\n",
       "      <td id=\"T_bdc69_row0_col6\" class=\"data row0 col6\" >0.0055</td>\n",
       "      <td id=\"T_bdc69_row0_col7\" class=\"data row0 col7\" >287.9180</td>\n",
       "    </tr>\n",
       "    <tr>\n",
       "      <th id=\"T_bdc69_level0_row1\" class=\"row_heading level0 row1\" >et</th>\n",
       "      <td id=\"T_bdc69_row1_col0\" class=\"data row1 col0\" >Extra Trees Regressor</td>\n",
       "      <td id=\"T_bdc69_row1_col1\" class=\"data row1 col1\" >0.0562</td>\n",
       "      <td id=\"T_bdc69_row1_col2\" class=\"data row1 col2\" >0.0087</td>\n",
       "      <td id=\"T_bdc69_row1_col3\" class=\"data row1 col3\" >0.0934</td>\n",
       "      <td id=\"T_bdc69_row1_col4\" class=\"data row1 col4\" >0.9825</td>\n",
       "      <td id=\"T_bdc69_row1_col5\" class=\"data row1 col5\" >0.0086</td>\n",
       "      <td id=\"T_bdc69_row1_col6\" class=\"data row1 col6\" >0.0056</td>\n",
       "      <td id=\"T_bdc69_row1_col7\" class=\"data row1 col7\" >444.3910</td>\n",
       "    </tr>\n",
       "    <tr>\n",
       "      <th id=\"T_bdc69_level0_row2\" class=\"row_heading level0 row2\" >dt</th>\n",
       "      <td id=\"T_bdc69_row2_col0\" class=\"data row2 col0\" >Decision Tree Regressor</td>\n",
       "      <td id=\"T_bdc69_row2_col1\" class=\"data row2 col1\" >0.0717</td>\n",
       "      <td id=\"T_bdc69_row2_col2\" class=\"data row2 col2\" >0.0157</td>\n",
       "      <td id=\"T_bdc69_row2_col3\" class=\"data row2 col3\" >0.1251</td>\n",
       "      <td id=\"T_bdc69_row2_col4\" class=\"data row2 col4\" >0.9685</td>\n",
       "      <td id=\"T_bdc69_row2_col5\" class=\"data row2 col5\" >0.0115</td>\n",
       "      <td id=\"T_bdc69_row2_col6\" class=\"data row2 col6\" >0.0071</td>\n",
       "      <td id=\"T_bdc69_row2_col7\" class=\"data row2 col7\" >0.7000</td>\n",
       "    </tr>\n",
       "    <tr>\n",
       "      <th id=\"T_bdc69_level0_row3\" class=\"row_heading level0 row3\" >xgboost</th>\n",
       "      <td id=\"T_bdc69_row3_col0\" class=\"data row3 col0\" >Extreme Gradient Boosting</td>\n",
       "      <td id=\"T_bdc69_row3_col1\" class=\"data row3 col1\" >0.1011</td>\n",
       "      <td id=\"T_bdc69_row3_col2\" class=\"data row3 col2\" >0.0197</td>\n",
       "      <td id=\"T_bdc69_row3_col3\" class=\"data row3 col3\" >0.1402</td>\n",
       "      <td id=\"T_bdc69_row3_col4\" class=\"data row3 col4\" >0.9605</td>\n",
       "      <td id=\"T_bdc69_row3_col5\" class=\"data row3 col5\" >0.0127</td>\n",
       "      <td id=\"T_bdc69_row3_col6\" class=\"data row3 col6\" >0.0099</td>\n",
       "      <td id=\"T_bdc69_row3_col7\" class=\"data row3 col7\" >11.4540</td>\n",
       "    </tr>\n",
       "    <tr>\n",
       "      <th id=\"T_bdc69_level0_row4\" class=\"row_heading level0 row4\" >lightgbm</th>\n",
       "      <td id=\"T_bdc69_row4_col0\" class=\"data row4 col0\" >Light Gradient Boosting Machine</td>\n",
       "      <td id=\"T_bdc69_row4_col1\" class=\"data row4 col1\" >0.1266</td>\n",
       "      <td id=\"T_bdc69_row4_col2\" class=\"data row4 col2\" >0.0288</td>\n",
       "      <td id=\"T_bdc69_row4_col3\" class=\"data row4 col3\" >0.1698</td>\n",
       "      <td id=\"T_bdc69_row4_col4\" class=\"data row4 col4\" >0.9420</td>\n",
       "      <td id=\"T_bdc69_row4_col5\" class=\"data row4 col5\" >0.0153</td>\n",
       "      <td id=\"T_bdc69_row4_col6\" class=\"data row4 col6\" >0.0124</td>\n",
       "      <td id=\"T_bdc69_row4_col7\" class=\"data row4 col7\" >0.9370</td>\n",
       "    </tr>\n",
       "    <tr>\n",
       "      <th id=\"T_bdc69_level0_row5\" class=\"row_heading level0 row5\" >gbr</th>\n",
       "      <td id=\"T_bdc69_row5_col0\" class=\"data row5 col0\" >Gradient Boosting Regressor</td>\n",
       "      <td id=\"T_bdc69_row5_col1\" class=\"data row5 col1\" >0.1537</td>\n",
       "      <td id=\"T_bdc69_row5_col2\" class=\"data row5 col2\" >0.0416</td>\n",
       "      <td id=\"T_bdc69_row5_col3\" class=\"data row5 col3\" >0.2039</td>\n",
       "      <td id=\"T_bdc69_row5_col4\" class=\"data row5 col4\" >0.9164</td>\n",
       "      <td id=\"T_bdc69_row5_col5\" class=\"data row5 col5\" >0.0184</td>\n",
       "      <td id=\"T_bdc69_row5_col6\" class=\"data row5 col6\" >0.0151</td>\n",
       "      <td id=\"T_bdc69_row5_col7\" class=\"data row5 col7\" >14.8240</td>\n",
       "    </tr>\n",
       "    <tr>\n",
       "      <th id=\"T_bdc69_level0_row6\" class=\"row_heading level0 row6\" >knn</th>\n",
       "      <td id=\"T_bdc69_row6_col0\" class=\"data row6 col0\" >K Neighbors Regressor</td>\n",
       "      <td id=\"T_bdc69_row6_col1\" class=\"data row6 col1\" >0.1867</td>\n",
       "      <td id=\"T_bdc69_row6_col2\" class=\"data row6 col2\" >0.0684</td>\n",
       "      <td id=\"T_bdc69_row6_col3\" class=\"data row6 col3\" >0.2614</td>\n",
       "      <td id=\"T_bdc69_row6_col4\" class=\"data row6 col4\" >0.8627</td>\n",
       "      <td id=\"T_bdc69_row6_col5\" class=\"data row6 col5\" >0.0234</td>\n",
       "      <td id=\"T_bdc69_row6_col6\" class=\"data row6 col6\" >0.0183</td>\n",
       "      <td id=\"T_bdc69_row6_col7\" class=\"data row6 col7\" >0.9710</td>\n",
       "    </tr>\n",
       "    <tr>\n",
       "      <th id=\"T_bdc69_level0_row7\" class=\"row_heading level0 row7\" >br</th>\n",
       "      <td id=\"T_bdc69_row7_col0\" class=\"data row7 col0\" >Bayesian Ridge</td>\n",
       "      <td id=\"T_bdc69_row7_col1\" class=\"data row7 col1\" >0.2099</td>\n",
       "      <td id=\"T_bdc69_row7_col2\" class=\"data row7 col2\" >0.0748</td>\n",
       "      <td id=\"T_bdc69_row7_col3\" class=\"data row7 col3\" >0.2735</td>\n",
       "      <td id=\"T_bdc69_row7_col4\" class=\"data row7 col4\" >0.8497</td>\n",
       "      <td id=\"T_bdc69_row7_col5\" class=\"data row7 col5\" >0.0246</td>\n",
       "      <td id=\"T_bdc69_row7_col6\" class=\"data row7 col6\" >0.0206</td>\n",
       "      <td id=\"T_bdc69_row7_col7\" class=\"data row7 col7\" >0.1000</td>\n",
       "    </tr>\n",
       "    <tr>\n",
       "      <th id=\"T_bdc69_level0_row8\" class=\"row_heading level0 row8\" >lar</th>\n",
       "      <td id=\"T_bdc69_row8_col0\" class=\"data row8 col0\" >Least Angle Regression</td>\n",
       "      <td id=\"T_bdc69_row8_col1\" class=\"data row8 col1\" >0.2099</td>\n",
       "      <td id=\"T_bdc69_row8_col2\" class=\"data row8 col2\" >0.0748</td>\n",
       "      <td id=\"T_bdc69_row8_col3\" class=\"data row8 col3\" >0.2735</td>\n",
       "      <td id=\"T_bdc69_row8_col4\" class=\"data row8 col4\" >0.8497</td>\n",
       "      <td id=\"T_bdc69_row8_col5\" class=\"data row8 col5\" >0.0246</td>\n",
       "      <td id=\"T_bdc69_row8_col6\" class=\"data row8 col6\" >0.0206</td>\n",
       "      <td id=\"T_bdc69_row8_col7\" class=\"data row8 col7\" >0.0420</td>\n",
       "    </tr>\n",
       "    <tr>\n",
       "      <th id=\"T_bdc69_level0_row9\" class=\"row_heading level0 row9\" >ridge</th>\n",
       "      <td id=\"T_bdc69_row9_col0\" class=\"data row9 col0\" >Ridge Regression</td>\n",
       "      <td id=\"T_bdc69_row9_col1\" class=\"data row9 col1\" >0.2099</td>\n",
       "      <td id=\"T_bdc69_row9_col2\" class=\"data row9 col2\" >0.0748</td>\n",
       "      <td id=\"T_bdc69_row9_col3\" class=\"data row9 col3\" >0.2735</td>\n",
       "      <td id=\"T_bdc69_row9_col4\" class=\"data row9 col4\" >0.8497</td>\n",
       "      <td id=\"T_bdc69_row9_col5\" class=\"data row9 col5\" >0.0246</td>\n",
       "      <td id=\"T_bdc69_row9_col6\" class=\"data row9 col6\" >0.0206</td>\n",
       "      <td id=\"T_bdc69_row9_col7\" class=\"data row9 col7\" >0.0420</td>\n",
       "    </tr>\n",
       "    <tr>\n",
       "      <th id=\"T_bdc69_level0_row10\" class=\"row_heading level0 row10\" >lr</th>\n",
       "      <td id=\"T_bdc69_row10_col0\" class=\"data row10 col0\" >Linear Regression</td>\n",
       "      <td id=\"T_bdc69_row10_col1\" class=\"data row10 col1\" >0.2099</td>\n",
       "      <td id=\"T_bdc69_row10_col2\" class=\"data row10 col2\" >0.0748</td>\n",
       "      <td id=\"T_bdc69_row10_col3\" class=\"data row10 col3\" >0.2735</td>\n",
       "      <td id=\"T_bdc69_row10_col4\" class=\"data row10 col4\" >0.8497</td>\n",
       "      <td id=\"T_bdc69_row10_col5\" class=\"data row10 col5\" >0.0246</td>\n",
       "      <td id=\"T_bdc69_row10_col6\" class=\"data row10 col6\" >0.0206</td>\n",
       "      <td id=\"T_bdc69_row10_col7\" class=\"data row10 col7\" >0.7100</td>\n",
       "    </tr>\n",
       "    <tr>\n",
       "      <th id=\"T_bdc69_level0_row11\" class=\"row_heading level0 row11\" >par</th>\n",
       "      <td id=\"T_bdc69_row11_col0\" class=\"data row11 col0\" >Passive Aggressive Regressor</td>\n",
       "      <td id=\"T_bdc69_row11_col1\" class=\"data row11 col1\" >0.3144</td>\n",
       "      <td id=\"T_bdc69_row11_col2\" class=\"data row11 col2\" >0.1683</td>\n",
       "      <td id=\"T_bdc69_row11_col3\" class=\"data row11 col3\" >0.3988</td>\n",
       "      <td id=\"T_bdc69_row11_col4\" class=\"data row11 col4\" >0.6615</td>\n",
       "      <td id=\"T_bdc69_row11_col5\" class=\"data row11 col5\" >0.0365</td>\n",
       "      <td id=\"T_bdc69_row11_col6\" class=\"data row11 col6\" >0.0312</td>\n",
       "      <td id=\"T_bdc69_row11_col7\" class=\"data row11 col7\" >0.5400</td>\n",
       "    </tr>\n",
       "    <tr>\n",
       "      <th id=\"T_bdc69_level0_row12\" class=\"row_heading level0 row12\" >en</th>\n",
       "      <td id=\"T_bdc69_row12_col0\" class=\"data row12 col0\" >Elastic Net</td>\n",
       "      <td id=\"T_bdc69_row12_col1\" class=\"data row12 col1\" >0.3183</td>\n",
       "      <td id=\"T_bdc69_row12_col2\" class=\"data row12 col2\" >0.1754</td>\n",
       "      <td id=\"T_bdc69_row12_col3\" class=\"data row12 col3\" >0.4188</td>\n",
       "      <td id=\"T_bdc69_row12_col4\" class=\"data row12 col4\" >0.6477</td>\n",
       "      <td id=\"T_bdc69_row12_col5\" class=\"data row12 col5\" >0.0377</td>\n",
       "      <td id=\"T_bdc69_row12_col6\" class=\"data row12 col6\" >0.0314</td>\n",
       "      <td id=\"T_bdc69_row12_col7\" class=\"data row12 col7\" >0.0590</td>\n",
       "    </tr>\n",
       "    <tr>\n",
       "      <th id=\"T_bdc69_level0_row13\" class=\"row_heading level0 row13\" >lasso</th>\n",
       "      <td id=\"T_bdc69_row13_col0\" class=\"data row13 col0\" >Lasso Regression</td>\n",
       "      <td id=\"T_bdc69_row13_col1\" class=\"data row13 col1\" >0.3254</td>\n",
       "      <td id=\"T_bdc69_row13_col2\" class=\"data row13 col2\" >0.1829</td>\n",
       "      <td id=\"T_bdc69_row13_col3\" class=\"data row13 col3\" >0.4276</td>\n",
       "      <td id=\"T_bdc69_row13_col4\" class=\"data row13 col4\" >0.6326</td>\n",
       "      <td id=\"T_bdc69_row13_col5\" class=\"data row13 col5\" >0.0385</td>\n",
       "      <td id=\"T_bdc69_row13_col6\" class=\"data row13 col6\" >0.0321</td>\n",
       "      <td id=\"T_bdc69_row13_col7\" class=\"data row13 col7\" >0.3130</td>\n",
       "    </tr>\n",
       "    <tr>\n",
       "      <th id=\"T_bdc69_level0_row14\" class=\"row_heading level0 row14\" >omp</th>\n",
       "      <td id=\"T_bdc69_row14_col0\" class=\"data row14 col0\" >Orthogonal Matching Pursuit</td>\n",
       "      <td id=\"T_bdc69_row14_col1\" class=\"data row14 col1\" >0.3415</td>\n",
       "      <td id=\"T_bdc69_row14_col2\" class=\"data row14 col2\" >0.1986</td>\n",
       "      <td id=\"T_bdc69_row14_col3\" class=\"data row14 col3\" >0.4456</td>\n",
       "      <td id=\"T_bdc69_row14_col4\" class=\"data row14 col4\" >0.6010</td>\n",
       "      <td id=\"T_bdc69_row14_col5\" class=\"data row14 col5\" >0.0402</td>\n",
       "      <td id=\"T_bdc69_row14_col6\" class=\"data row14 col6\" >0.0337</td>\n",
       "      <td id=\"T_bdc69_row14_col7\" class=\"data row14 col7\" >0.0540</td>\n",
       "    </tr>\n",
       "    <tr>\n",
       "      <th id=\"T_bdc69_level0_row15\" class=\"row_heading level0 row15\" >huber</th>\n",
       "      <td id=\"T_bdc69_row15_col0\" class=\"data row15 col0\" >Huber Regressor</td>\n",
       "      <td id=\"T_bdc69_row15_col1\" class=\"data row15 col1\" >0.3955</td>\n",
       "      <td id=\"T_bdc69_row15_col2\" class=\"data row15 col2\" >0.2675</td>\n",
       "      <td id=\"T_bdc69_row15_col3\" class=\"data row15 col3\" >0.5167</td>\n",
       "      <td id=\"T_bdc69_row15_col4\" class=\"data row15 col4\" >0.4625</td>\n",
       "      <td id=\"T_bdc69_row15_col5\" class=\"data row15 col5\" >0.0468</td>\n",
       "      <td id=\"T_bdc69_row15_col6\" class=\"data row15 col6\" >0.0384</td>\n",
       "      <td id=\"T_bdc69_row15_col7\" class=\"data row15 col7\" >1.9230</td>\n",
       "    </tr>\n",
       "    <tr>\n",
       "      <th id=\"T_bdc69_level0_row16\" class=\"row_heading level0 row16\" >ada</th>\n",
       "      <td id=\"T_bdc69_row16_col0\" class=\"data row16 col0\" >AdaBoost Regressor</td>\n",
       "      <td id=\"T_bdc69_row16_col1\" class=\"data row16 col1\" >0.4792</td>\n",
       "      <td id=\"T_bdc69_row16_col2\" class=\"data row16 col2\" >0.3358</td>\n",
       "      <td id=\"T_bdc69_row16_col3\" class=\"data row16 col3\" >0.5777</td>\n",
       "      <td id=\"T_bdc69_row16_col4\" class=\"data row16 col4\" >0.3251</td>\n",
       "      <td id=\"T_bdc69_row16_col5\" class=\"data row16 col5\" >0.0523</td>\n",
       "      <td id=\"T_bdc69_row16_col6\" class=\"data row16 col6\" >0.0461</td>\n",
       "      <td id=\"T_bdc69_row16_col7\" class=\"data row16 col7\" >9.6100</td>\n",
       "    </tr>\n",
       "    <tr>\n",
       "      <th id=\"T_bdc69_level0_row17\" class=\"row_heading level0 row17\" >llar</th>\n",
       "      <td id=\"T_bdc69_row17_col0\" class=\"data row17 col0\" >Lasso Least Angle Regression</td>\n",
       "      <td id=\"T_bdc69_row17_col1\" class=\"data row17 col1\" >0.5534</td>\n",
       "      <td id=\"T_bdc69_row17_col2\" class=\"data row17 col2\" >0.4977</td>\n",
       "      <td id=\"T_bdc69_row17_col3\" class=\"data row17 col3\" >0.7055</td>\n",
       "      <td id=\"T_bdc69_row17_col4\" class=\"data row17 col4\" >-0.0000</td>\n",
       "      <td id=\"T_bdc69_row17_col5\" class=\"data row17 col5\" >0.0630</td>\n",
       "      <td id=\"T_bdc69_row17_col6\" class=\"data row17 col6\" >0.0544</td>\n",
       "      <td id=\"T_bdc69_row17_col7\" class=\"data row17 col7\" >0.0390</td>\n",
       "    </tr>\n",
       "    <tr>\n",
       "      <th id=\"T_bdc69_level0_row18\" class=\"row_heading level0 row18\" >dummy</th>\n",
       "      <td id=\"T_bdc69_row18_col0\" class=\"data row18 col0\" >Dummy Regressor</td>\n",
       "      <td id=\"T_bdc69_row18_col1\" class=\"data row18 col1\" >0.5534</td>\n",
       "      <td id=\"T_bdc69_row18_col2\" class=\"data row18 col2\" >0.4977</td>\n",
       "      <td id=\"T_bdc69_row18_col3\" class=\"data row18 col3\" >0.7055</td>\n",
       "      <td id=\"T_bdc69_row18_col4\" class=\"data row18 col4\" >-0.0000</td>\n",
       "      <td id=\"T_bdc69_row18_col5\" class=\"data row18 col5\" >0.0630</td>\n",
       "      <td id=\"T_bdc69_row18_col6\" class=\"data row18 col6\" >0.0544</td>\n",
       "      <td id=\"T_bdc69_row18_col7\" class=\"data row18 col7\" >0.0300</td>\n",
       "    </tr>\n",
       "  </tbody>\n",
       "</table>\n"
      ],
      "text/plain": [
       "<pandas.io.formats.style.Styler at 0x1e138fe6460>"
      ]
     },
     "metadata": {},
     "output_type": "display_data"
    }
   ],
   "source": [
    "best_model = compare_models()"
   ]
  },
  {
   "cell_type": "code",
   "execution_count": null,
   "id": "3180b76f",
   "metadata": {},
   "outputs": [],
   "source": []
  },
  {
   "cell_type": "code",
   "execution_count": null,
   "id": "7e873e91",
   "metadata": {},
   "outputs": [],
   "source": []
  },
  {
   "cell_type": "code",
   "execution_count": null,
   "id": "4160f294",
   "metadata": {},
   "outputs": [],
   "source": []
  },
  {
   "cell_type": "markdown",
   "id": "e690eb5b",
   "metadata": {},
   "source": [
    "# stacking"
   ]
  },
  {
   "cell_type": "code",
   "execution_count": 53,
   "id": "1005630c",
   "metadata": {},
   "outputs": [],
   "source": [
    "from sklearn.ensemble import StackingRegressor"
   ]
  },
  {
   "cell_type": "code",
   "execution_count": 66,
   "id": "68364f23",
   "metadata": {},
   "outputs": [],
   "source": [
    "stack_models = [('rf',rf),('lgbm', model_lgb),('xgb',model_xgb)]"
   ]
  },
  {
   "cell_type": "code",
   "execution_count": 67,
   "id": "36994c2a",
   "metadata": {},
   "outputs": [
    {
     "data": {
      "text/plain": [
       "StackingRegressor(estimators=[('rf', RandomForestRegressor()),\n",
       "                              ('lgbm',\n",
       "                               LGBMRegressor(max_depth=9, min_child_weight=5,\n",
       "                                             n_estimators=500)),\n",
       "                              ('xgb',\n",
       "                               XGBRegressor(base_score=None, booster=None,\n",
       "                                            callbacks=None,\n",
       "                                            colsample_bylevel=None,\n",
       "                                            colsample_bynode=None,\n",
       "                                            colsample_bytree=None,\n",
       "                                            early_stopping_rounds=None,\n",
       "                                            enable_categorical=False,\n",
       "                                            eval_metric=None,\n",
       "                                            feature_types=Non...\n",
       "                                            interaction_constraints=None,\n",
       "                                            learning_rate=None, max_bin=None,\n",
       "                                            max_cat_threshold=None,\n",
       "                                            max_cat_to_onehot=None,\n",
       "                                            max_delta_step=None, max_depth=None,\n",
       "                                            max_leaves=None,\n",
       "                                            min_child_weight=None, missing=nan,\n",
       "                                            monotone_constraints=None,\n",
       "                                            n_estimators=100, n_jobs=None,\n",
       "                                            num_parallel_tree=None,\n",
       "                                            predictor=None, random_state=None, ...))],\n",
       "                  final_estimator=RandomForestRegressor())"
      ]
     },
     "execution_count": 67,
     "metadata": {},
     "output_type": "execute_result"
    }
   ],
   "source": [
    "stack_reg = StackingRegressor(stack_models, final_estimator=rf)\n",
    "stack_reg.fit(train_X, train_y)"
   ]
  },
  {
   "cell_type": "code",
   "execution_count": 68,
   "id": "f3b53b0a",
   "metadata": {},
   "outputs": [
    {
     "data": {
      "text/html": [
       "<div>\n",
       "<style scoped>\n",
       "    .dataframe tbody tr th:only-of-type {\n",
       "        vertical-align: middle;\n",
       "    }\n",
       "\n",
       "    .dataframe tbody tr th {\n",
       "        vertical-align: top;\n",
       "    }\n",
       "\n",
       "    .dataframe thead th {\n",
       "        text-align: right;\n",
       "    }\n",
       "</style>\n",
       "<table border=\"1\" class=\"dataframe\">\n",
       "  <thead>\n",
       "    <tr style=\"text-align: right;\">\n",
       "      <th></th>\n",
       "      <th>transaction_id</th>\n",
       "      <th>transaction_real_price</th>\n",
       "    </tr>\n",
       "  </thead>\n",
       "  <tbody>\n",
       "    <tr>\n",
       "      <th>0</th>\n",
       "      <td>1145756</td>\n",
       "      <td>32175.351250</td>\n",
       "    </tr>\n",
       "    <tr>\n",
       "      <th>1</th>\n",
       "      <td>1198704</td>\n",
       "      <td>14155.695792</td>\n",
       "    </tr>\n",
       "    <tr>\n",
       "      <th>2</th>\n",
       "      <td>1222384</td>\n",
       "      <td>15146.857472</td>\n",
       "    </tr>\n",
       "    <tr>\n",
       "      <th>3</th>\n",
       "      <td>1179897</td>\n",
       "      <td>152596.959679</td>\n",
       "    </tr>\n",
       "    <tr>\n",
       "      <th>4</th>\n",
       "      <td>1223091</td>\n",
       "      <td>46901.801936</td>\n",
       "    </tr>\n",
       "    <tr>\n",
       "      <th>...</th>\n",
       "      <td>...</td>\n",
       "      <td>...</td>\n",
       "    </tr>\n",
       "    <tr>\n",
       "      <th>5458</th>\n",
       "      <td>1174640</td>\n",
       "      <td>64532.417182</td>\n",
       "    </tr>\n",
       "    <tr>\n",
       "      <th>5459</th>\n",
       "      <td>1175575</td>\n",
       "      <td>176243.720489</td>\n",
       "    </tr>\n",
       "    <tr>\n",
       "      <th>5460</th>\n",
       "      <td>1157024</td>\n",
       "      <td>59731.198256</td>\n",
       "    </tr>\n",
       "    <tr>\n",
       "      <th>5461</th>\n",
       "      <td>1136863</td>\n",
       "      <td>41982.636901</td>\n",
       "    </tr>\n",
       "    <tr>\n",
       "      <th>5462</th>\n",
       "      <td>1218921</td>\n",
       "      <td>23059.745582</td>\n",
       "    </tr>\n",
       "  </tbody>\n",
       "</table>\n",
       "<p>5463 rows × 2 columns</p>\n",
       "</div>"
      ],
      "text/plain": [
       "      transaction_id  transaction_real_price\n",
       "0            1145756            32175.351250\n",
       "1            1198704            14155.695792\n",
       "2            1222384            15146.857472\n",
       "3            1179897           152596.959679\n",
       "4            1223091            46901.801936\n",
       "...              ...                     ...\n",
       "5458         1174640            64532.417182\n",
       "5459         1175575           176243.720489\n",
       "5460         1157024            59731.198256\n",
       "5461         1136863            41982.636901\n",
       "5462         1218921            23059.745582\n",
       "\n",
       "[5463 rows x 2 columns]"
      ]
     },
     "execution_count": 68,
     "metadata": {},
     "output_type": "execute_result"
    }
   ],
   "source": [
    "final_stack_pred = stack_reg.predict(test)\n",
    "final_stack_sub = np.expm1(final_stack_pred)\n",
    "s = pd.read_csv('submission.csv')\n",
    "s['transaction_real_price'] = final_stack_sub\n",
    "s.to_csv('submission_stack.csv', index=False)\n",
    "s"
   ]
  },
  {
   "cell_type": "code",
   "execution_count": null,
   "id": "dece003c",
   "metadata": {},
   "outputs": [],
   "source": []
  }
 ],
 "metadata": {
  "kernelspec": {
   "display_name": "Python 3 (ipykernel)",
   "language": "python",
   "name": "python3"
  },
  "language_info": {
   "codemirror_mode": {
    "name": "ipython",
    "version": 3
   },
   "file_extension": ".py",
   "mimetype": "text/x-python",
   "name": "python",
   "nbconvert_exporter": "python",
   "pygments_lexer": "ipython3",
   "version": "3.8.16"
  }
 },
 "nbformat": 4,
 "nbformat_minor": 5
}
