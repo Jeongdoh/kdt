{
 "cells": [
  {
   "cell_type": "code",
   "execution_count": 1,
   "metadata": {},
   "outputs": [
    {
     "name": "stdout",
     "output_type": "stream",
     "text": [
      "[0 1 2 3 4]\n",
      "<class 'numpy.ndarray'>\n"
     ]
    },
    {
     "data": {
      "text/plain": [
       "(None, None)"
      ]
     },
     "execution_count": 1,
     "metadata": {},
     "output_type": "execute_result"
    }
   ],
   "source": [
    "import numpy as np\n",
    "\n",
    "a= np.array([0,1,2,3,4])\n",
    "\n",
    "list1=[10,20,30,40]\n",
    "b=np.array(list1)\n",
    "c=np.array(['a','b','c'])\n",
    "print(a),print(type(a))"
   ]
  },
  {
   "cell_type": "code",
   "execution_count": 2,
   "metadata": {},
   "outputs": [
    {
     "data": {
      "text/plain": [
       "array([[1, 2, 3],\n",
       "       [4, 5, 6]])"
      ]
     },
     "execution_count": 2,
     "metadata": {},
     "output_type": "execute_result"
    }
   ],
   "source": [
    "arr2=np.array([[1,2,3],[4,5,6]])\n",
    "arr2"
   ]
  },
  {
   "cell_type": "code",
   "execution_count": 3,
   "metadata": {},
   "outputs": [
    {
     "data": {
      "text/plain": [
       "array([0., 0., 0., 0., 0.])"
      ]
     },
     "execution_count": 3,
     "metadata": {},
     "output_type": "execute_result"
    }
   ],
   "source": [
    "# zeros() 함수\n",
    "#numpy.zeros(shape, dtype=float, order='C',*, like=None)\n",
    "\n",
    "# 0으로 채워지는 배열 생성\n",
    "# • shape: int 또는 튜플 형식\n",
    "# • dtype: 데이터 타입(float, int 등)\n",
    "# • order: 메모리 저장 방식\n",
    "# – ‘C’: row-major (행 우선, C-style)\n",
    "# – ‘F’: column-major (열 우선, Fortran-style)\n",
    "\n",
    "arr=np.zeros(5)\n",
    "arr"
   ]
  },
  {
   "cell_type": "code",
   "execution_count": 4,
   "metadata": {},
   "outputs": [
    {
     "data": {
      "text/plain": [
       "array([[0, 0, 0],\n",
       "       [0, 0, 0]], dtype=int64)"
      ]
     },
     "execution_count": 4,
     "metadata": {},
     "output_type": "execute_result"
    }
   ],
   "source": [
    "arr1=np.zeros((2,3),dtype=np.int64)\n",
    "arr1"
   ]
  },
  {
   "cell_type": "code",
   "execution_count": 5,
   "metadata": {},
   "outputs": [
    {
     "data": {
      "text/plain": [
       "(5,)"
      ]
     },
     "execution_count": 5,
     "metadata": {},
     "output_type": "execute_result"
    }
   ],
   "source": [
    "arr.shape"
   ]
  },
  {
   "cell_type": "code",
   "execution_count": 6,
   "metadata": {},
   "outputs": [
    {
     "data": {
      "text/plain": [
       "(2, 3)"
      ]
     },
     "execution_count": 6,
     "metadata": {},
     "output_type": "execute_result"
    }
   ],
   "source": [
    "arr1.shape"
   ]
  },
  {
   "cell_type": "code",
   "execution_count": 7,
   "metadata": {},
   "outputs": [
    {
     "name": "stdout",
     "output_type": "stream",
     "text": [
      "[1. 1. 1. 1. 1. 1. 1. 1. 1. 1.]\n",
      "[[1. 0. 0. 0.]\n",
      " [0. 1. 0. 0.]\n",
      " [0. 0. 1. 0.]\n",
      " [0. 0. 0. 1.]]\n"
     ]
    }
   ],
   "source": [
    "# 배열 생성\n",
    "# • ones(), eye() 같은 다양한 함수를 사용해서 배열 초기화\n",
    "# • ones(shape, dtype=None, order=‘C’)\n",
    "# • eye(N, M=None, k=0, dtype=<class ‘float’>): 단위 행렬 생성\n",
    "\n",
    "import numpy as np\n",
    "a = np.ones(10) # 1로 이루어진 크기가 10인 배열 생성\n",
    "print(a)\n",
    "b = np.eye(4) # 단위행렬 생성\n",
    "print(b)"
   ]
  },
  {
   "cell_type": "code",
   "execution_count": 8,
   "metadata": {},
   "outputs": [
    {
     "name": "stdout",
     "output_type": "stream",
     "text": [
      "[0 2 4 6 8]\n"
     ]
    },
    {
     "data": {
      "image/png": "[encoded data removed]",
      "text/plain": [
       "<Figure size 640x480 with 1 Axes>"
      ]
     },
     "metadata": {},
     "output_type": "display_data"
    }
   ],
   "source": [
    "# arange(start, stop, step)\n",
    "# • start부터 stop 미만까지 step 간격으로 배열 생성 (데이터 간격 지정)\n",
    "# • 데이터의 간격을 기준으로 데이터 생성\n",
    "\n",
    "import numpy as np\n",
    "import matplotlib.pyplot as plt\n",
    "\n",
    "xtick = np.arange(5)\n",
    "a=np.arange(0,10,2)\n",
    "print(a)\n",
    "\n",
    "plt.plot(a, 'o', linestyle='-')\n",
    "plt.xticks(xtick)\n",
    "plt.show()"
   ]
  },
  {
   "cell_type": "code",
   "execution_count": 9,
   "metadata": {},
   "outputs": [],
   "source": [
    "# ndim\n",
    "# 배열 축 혹은 차원의 갯수 (1차원, 2차원 배열)\n",
    "\n",
    "\n",
    "# shape\n",
    "# 배열의 차원으로 (m, n) 형식의 튜플 형태이다.\n",
    "# 이 때, m과 n은 각 차원의 원소의 크기를 알려주는 정수 값이다.\n",
    "\n",
    "# size\n",
    "# 배열의 원소의 개수이다. 이 개수는 shape내의 원소의 크기의 곱과 같다.\n",
    "# 즉 (m, n) shape 배열의 size는 (m x n) 이다.\n",
    "\n",
    "\n",
    "# dtype\n",
    "# 배열내의 원소의 형을 기술하는 객체이다.\n",
    "# numpy는 파이썬 표준 형을 사용할 수 있으나 numpy 자체의 자료형인 bool_, character,\n",
    "# int_, int8, int16, int32, int64, float, float8, float16_, float32, float64, complex_, complex64\n",
    "# , object_ 형을 사용할 수 있다.\n",
    "\n",
    "\n",
    "# itemsize\n",
    "# 배열내의 원소의 크기를 바이트 단위로 기술한다.\n",
    "# 예를 들어 int32 자료형의 크기는 32bit/8bit=4 바이트가 된다.\n",
    "\n",
    "\n",
    "# data 배열의 실제 원소를 포함하고 있는 버퍼"
   ]
  },
  {
   "cell_type": "code",
   "execution_count": null,
   "metadata": {},
   "outputs": [],
   "source": []
  }
 ],
 "metadata": {
  "kernelspec": {
   "display_name": "ML",
   "language": "python",
   "name": "python3"
  },
  "language_info": {
   "codemirror_mode": {
    "name": "ipython",
    "version": 3
   },
   "file_extension": ".py",
   "mimetype": "text/x-python",
   "name": "python",
   "nbconvert_exporter": "python",
   "pygments_lexer": "ipython3",
   "version": "3.8.1"
  },
  "orig_nbformat": 4
 },
 "nbformat": 4,
 "nbformat_minor": 2
}
