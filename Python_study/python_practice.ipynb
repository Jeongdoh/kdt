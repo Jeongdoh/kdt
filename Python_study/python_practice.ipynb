{
 "cells": [
  {
   "cell_type": "code",
   "execution_count": 7,
   "metadata": {},
   "outputs": [
    {
     "name": "stdout",
     "output_type": "stream",
     "text": [
      "0.0\n"
     ]
    }
   ],
   "source": [
    "# 나눗셈을 하는 프로그램을 만드세요. 만드는 방법은 자유이나\n",
    "# 나눗셈에서 0으로 나누는 경우 (예 : 4/0) try except 문으로 처리하세요.\n",
    "\n",
    "try:\n",
    "    num1, num2 = map(int,input().split('/'))\n",
    "    print(f'{num1/num2}')\n",
    "except ZeroDivisionError as err:\n",
    "    print(err)\n",
    "\n"
   ]
  },
  {
   "cell_type": "code",
   "execution_count": 9,
   "metadata": {},
   "outputs": [
    {
     "name": "stdout",
     "output_type": "stream",
     "text": [
      "정수가 아닙니다.\n",
      "정수가 아닙니다.\n",
      "정수가 아닙니다.\n",
      "정수가 아닙니다.\n",
      "정수가 아닙니다.\n",
      "정수가 아닙니다.\n",
      "정수가 아닙니다.\n",
      "정수가 아닙니다.\n",
      "정수가 아닙니다.\n",
      "정수가 아닙니다.\n",
      "정수가 아닙니다.\n",
      "정수가 아닙니다.\n",
      "정수가 아닙니다.\n",
      "정수가 아닙니다.\n",
      "정수가 아닙니다.\n",
      "정수가 아닙니다.\n",
      "정수가 아닙니다.\n",
      "정수가 아닙니다.\n",
      "정수가 아닙니다.\n",
      "정수가 아닙니다.\n",
      "정수가 아닙니다.\n",
      "정수가 아닙니다.\n",
      "정수가 아닙니다.\n",
      "정수가 아닙니다.\n",
      "정수가 아닙니다.\n",
      "정수가 아닙니다.\n",
      "정수가 아닙니다.\n",
      "정수가 아닙니다.\n",
      "정수가 아닙니다.\n",
      "정수가 아닙니다.\n",
      "정수가 아닙니다.\n",
      "정수가 아닙니다.\n",
      "입력된 값 확인 : [3, 4, 6, 5, 2, 0, 7, 8]\n"
     ]
    }
   ],
   "source": [
    "# 빈 리스트를 만들어둔 뒤 input()을 받아 int 타입으로 변환되는 것만 리스트에 추가 해주는 프로그램을 만들어주세요.\n",
    "# try except문을 사용해주세요.\n",
    "ls=[]\n",
    "a=input()\n",
    "for i in a:\n",
    "    try:\n",
    "        num=int(i)\n",
    "        ls.append(num)\n",
    "    except:\n",
    "        print(\"정수가 아닙니다.\")\n",
    "print(f'입력된 값 확인 : {ls}')"
   ]
  },
  {
   "cell_type": "code",
   "execution_count": 13,
   "metadata": {},
   "outputs": [
    {
     "name": "stdout",
     "output_type": "stream",
     "text": [
      "missy,3\n"
     ]
    },
    {
     "data": {
      "text/plain": [
       "<__main__.cat_program at 0x263f0575d20>"
      ]
     },
     "execution_count": 13,
     "metadata": {},
     "output_type": "execute_result"
    }
   ],
   "source": [
    "# 고양이의 이름과 나이를 관리하는 클래스를 만들어주세요.\n",
    "class cat_program:\n",
    "    def __init__(self,name,age):\n",
    "        self.name=name\n",
    "        self.age=age\n",
    "        return(f'{name},{age}')\n",
    "\n",
    "missy=cat_program(\"missy\",\"3\")\n",
    "lucky=cat_program(\"lucky\",\"5\")"
   ]
  },
  {
   "cell_type": "code",
   "execution_count": 17,
   "metadata": {},
   "outputs": [
    {
     "name": "stdout",
     "output_type": "stream",
     "text": [
      "7\n",
      "7\n",
      "0\n",
      "ZeroDivisionError\n"
     ]
    }
   ],
   "source": [
    "# 계산기를 클래스로 만들어 주세요. 클래스로만 만든다면 만드는 방법은 자유입니다.\n",
    "\n",
    "class calculate:\n",
    "    def __init__(self,a,b):\n",
    "        self.a=a\n",
    "        self.b=b\n",
    "\n",
    "    def add(self):\n",
    "        print(self.a + self.b)\n",
    "\n",
    "    def sub(self):\n",
    "        print(self.a - self.b)\n",
    "\n",
    "    def multi(self):\n",
    "        print(self.a * self.b)\n",
    "\n",
    "    def div(self):\n",
    "        if self.b==0:\n",
    "            print(\"ZeroDivisionError\")\n",
    "        else:\n",
    "            print(self.a / self.b)\n",
    "\n",
    "\n",
    "        \n",
    "\n",
    "\n",
    "calc=calculate(7,0)\n",
    "calc.add()\n",
    "calc.sub()\n",
    "calc.multi()\n",
    "calc.div()"
   ]
  },
  {
   "cell_type": "code",
   "execution_count": null,
   "metadata": {},
   "outputs": [],
   "source": []
  }
 ],
 "metadata": {
  "kernelspec": {
   "display_name": "Python 3",
   "language": "python",
   "name": "python3"
  },
  "language_info": {
   "codemirror_mode": {
    "name": "ipython",
    "version": 3
   },
   "file_extension": ".py",
   "mimetype": "text/x-python",
   "name": "python",
   "nbconvert_exporter": "python",
   "pygments_lexer": "ipython3",
   "version": "3.10.8"
  },
  "orig_nbformat": 4,
  "vscode": {
   "interpreter": {
    "hash": "8067d1ce4c85e46c5273899c0dacb8209d45b639fd5332dc8086783c64f5e7c0"
   }
  }
 },
 "nbformat": 4,
 "nbformat_minor": 2
}
