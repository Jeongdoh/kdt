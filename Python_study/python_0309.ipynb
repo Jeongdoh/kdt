{
 "cells": [
  {
   "cell_type": "code",
   "execution_count": 5,
   "metadata": {},
   "outputs": [
    {
     "name": "stdout",
     "output_type": "stream",
     "text": [
      "반지름의 둘레 :  31.416919\n"
     ]
    }
   ],
   "source": [
    "# 원의 둘레를 계산하는 함수 get_peri(radius)을 정의하고 테스트한다.\n",
    "# 만약 원의 반지름이 주어지지 않았으면 5.0으로 간주한다. 함수의 \"기본 인수를사용하라\"\n",
    "\n",
    "PI = 3.1416919   #파이 변수 생성\n",
    "   \n",
    "def get_peri(radius):   #원의 둘레 계산 함수 생성\n",
    "    get_peri_result = PI*radius* 2 # 원의 둘레 구하는 공식 = 파이 * 반지름 * 2\n",
    "    return get_peri_result\n",
    "\n",
    "print(\"반지름의 둘레 : \",get_peri(5.0))"
   ]
  },
  {
   "cell_type": "code",
   "execution_count": 26,
   "metadata": {},
   "outputs": [
    {
     "name": "stdout",
     "output_type": "stream",
     "text": [
      "파이썬과 함께라면 이 입고 되었습니다.\n",
      "모두의 파이썬은 이미 있습니다.\n",
      "모두의 파이썬 을 대출하였습니다.\n",
      "모두의 파이썬 이 반납 되었습니다.\n"
     ]
    }
   ],
   "source": [
    "#도서관 클래스 만들기\n",
    "class Library:\n",
    "    def __init__(self, name, book_list=[]):\n",
    "        self.name = name\n",
    "        self.book_list = book_list\n",
    "        \n",
    "    def print_info(self):\n",
    "        return f'{self.name}, {self.book_list}'\n",
    "        \n",
    "    def add_book(self, book_title,name):\n",
    "        add_name=name\n",
    "        for book in self.book_list:\n",
    "            if book == book_title:\n",
    "                print(f'{book_title}은 이미 있습니다.')\n",
    "                break\n",
    "        else:\n",
    "            self.book_list.append(book_title)\n",
    "            print(f'{book_title} 이 입고 되었습니다.')\n",
    "    \n",
    "    def borrow_book(self, book_title):\n",
    "        for book in self.book_list:\n",
    "            if book == book_title:\n",
    "                self.book_list.remove(book)\n",
    "                print(f'{book_title} 을 대출하였습니다.')\n",
    "                break\n",
    "        else:\n",
    "            print(f'{book_title} 은 도서목록에 없습니다.')\n",
    "\n",
    "    def return_book(self, book_title):\n",
    "        self.book_list.append(book_title)\n",
    "        print(f'{book_title} 이 반납 되었습니다.')\n",
    "\n",
    "\n",
    "library=Library(\"이승현\",[\"모두의 파이썬\"])\n",
    "\n",
    "library.add_book(\"파이썬과 함께라면\",\"김도형\")\n",
    "\n",
    "library.add_book(\"모두의 파이썬\",\"임도영\")\n",
    "\n",
    "library.borrow_book(\"모두의 파이썬\")\n",
    "\n",
    "library.return_book(\"모두의 파이썬\")\n"
   ]
  },
  {
   "cell_type": "code",
   "execution_count": 15,
   "metadata": {},
   "outputs": [
    {
     "name": "stdout",
     "output_type": "stream",
     "text": [
      "a s "
     ]
    }
   ],
   "source": [
    "##미완성\n",
    "\n",
    "#2개의 문자열을 받아서 이들 문자열에 모두 포함된 글자를 반환하는 프로그램을 작성하기\n",
    "# 1.Hello World!\n",
    "# 2.Hi! Welcome!\n",
    "\n",
    "# 모두 포함된 글자 : H W o e\n",
    "\n",
    "a,b=input().split()\n",
    "ls=[]\n",
    "for i in a:\n",
    "    ls.append(i)\n",
    "for j in b:\n",
    "    if j in ls:\n",
    "        if j.isalpha():\n",
    "            print(j,end=' ')"
   ]
  },
  {
   "cell_type": "code",
   "execution_count": null,
   "metadata": {},
   "outputs": [],
   "source": []
  },
  {
   "cell_type": "code",
   "execution_count": null,
   "metadata": {},
   "outputs": [],
   "source": []
  }
 ],
 "metadata": {
  "kernelspec": {
   "display_name": "base",
   "language": "python",
   "name": "python3"
  },
  "language_info": {
   "codemirror_mode": {
    "name": "ipython",
    "version": 3
   },
   "file_extension": ".py",
   "mimetype": "text/x-python",
   "name": "python",
   "nbconvert_exporter": "python",
   "pygments_lexer": "ipython3",
   "version": "3.8.1"
  },
  "orig_nbformat": 4
 },
 "nbformat": 4,
 "nbformat_minor": 2
}
