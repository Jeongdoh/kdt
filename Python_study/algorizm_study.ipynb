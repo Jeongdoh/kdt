{
 "cells": [
  {
   "attachments": {},
   "cell_type": "markdown",
   "metadata": {},
   "source": [
    "# 교재는 5-3 ~ 6-4장 까지 읽어오기"
   ]
  },
  {
   "attachments": {},
   "cell_type": "markdown",
   "metadata": {},
   "source": [
    "### 브론즈3 2525 오븐시계"
   ]
  },
  {
   "cell_type": "code",
   "execution_count": null,
   "metadata": {},
   "outputs": [],
   "source": [
    "# 문제\n",
    "# KOI 전자에서는 건강에 좋고 맛있는 훈제오리구이 요리를 간편하게 만드는 인공지능 오븐을 개발하려고 한다. 인공지능 오븐을 사용하는 방법은 적당한 양의 오리 훈제 재료를 인공지능 오븐에 넣으면 된다. 그러면 인공지능 오븐은 오븐구이가 끝나는 시간을 분 단위로 자동적으로 계산한다. \n",
    "\n",
    "# 또한, KOI 전자의 인공지능 오븐 앞면에는 사용자에게 훈제오리구이 요리가 끝나는 시각을 알려 주는 디지털 시계가 있다. \n",
    "\n",
    "# 훈제오리구이를 시작하는 시각과 오븐구이를 하는 데 필요한 시간이 분단위로 주어졌을 때, 오븐구이가 끝나는 시각을 계산하는 프로그램을 작성하시오.\n",
    "\n",
    "# 입력\n",
    "# 첫째 줄에는 현재 시각이 나온다. 현재 시각은 시 A (0 ≤ A ≤ 23) 와 분 B (0 ≤ B ≤ 59)가 정수로 빈칸을 사이에 두고 순서대로 주어진다. 두 번째 줄에는 요리하는 데 필요한 시간 C (0 ≤ C ≤ 1,000)가 분 단위로 주어진다. \n",
    "\n",
    "# 출력\n",
    "# 첫째 줄에 종료되는 시각의 시와 분을 공백을 사이에 두고 출력한다. (단, 시는 0부터 23까지의 정수, 분은 0부터 59까지의 정수이다. 디지털 시계는 23시 59분에서 1분이 지나면 0시 0분이 된다.)\n",
    "\n",
    "# 예제 입력 1 \n",
    "# 14 30\n",
    "# 20\n",
    "# 예제 출력 1 \n",
    "# 14 50\n",
    "\n",
    "\n",
    "# 예제 입력 2 \n",
    "# 17 40\n",
    "# 80\n",
    "# 예제 출력 2 \n",
    "# 19 0\n",
    "\n",
    "\n",
    "# 예제 입력 3 \n",
    "# 23 48\n",
    "# 25\n",
    "# 예제 출력 3 \n",
    "# 0 13"
   ]
  },
  {
   "attachments": {},
   "cell_type": "markdown",
   "metadata": {},
   "source": [
    "### 브론즈3 2547 사탕선생"
   ]
  },
  {
   "cell_type": "code",
   "execution_count": null,
   "metadata": {},
   "outputs": [],
   "source": [
    "# 문제\n",
    "# 사탕 박사 고창영은 사탕 공장을 그만 두고 초등학교 선생님으로 취직했다.\n",
    "\n",
    "# 오늘은 창영이네 반 학생들과 소풍을 가는 날이다. N명의 학생은 모두 가방에 사탕을 가득 담아왔다.\n",
    "\n",
    "# 그런데, 사탕을 많이 가져온 학생들이 사탕을 적게 가져온 학생들을 놀리기 시작했다.\n",
    "\n",
    "# 창영이는 \"얘들아~ 그러면 안되지ㅜㅜ 사탕을 모두 여기에 가져와보렴. 선생님이 공평하게 나눠줄게\"\n",
    "\n",
    "# 창영이는 모든 학생들이 같은 사탕을 가지게 하려고 한다.\n",
    "\n",
    "# 이것이 가능한 일일까?\n",
    "\n",
    "# 입력\n",
    "# 첫째 줄에 테스트 케이스의 개수 T가 주어진다. 각 테스트 케이스는 빈 줄로 구분되어 있고, 다음과 같이 구성되어 있다.\n",
    "\n",
    "# 테스트 케이스의 첫째 줄에 학생의 수 N이 주어진다. 다음 N개의 줄에는 각 학생들이 가져온 사탕의 수가 주어진다.\n",
    "\n",
    "# N은 100,000보다 작거나 같은 자연수이고, 사탕의 개수는 0보다 크거나 같은 정수이다. 학생들이 가져온 사탕 개수는 1018보다 작거나 같다. (학생들이 가져온 사탕 개수의 합은 1018을 넘어갈 수 있다)\n",
    "\n",
    "# 출력\n",
    "# 각 테스트 케이스에 대해 모두에게 같은 사탕을 나눠줄 수 있으면 YES를, 없으면 NO를 출력한다.\n",
    "\n",
    "# 예제 입력 1 \n",
    "# 2\n",
    "\n",
    "# 5\n",
    "# 5\n",
    "# 2\n",
    "# 7\n",
    "# 3\n",
    "# 8\n",
    "\n",
    "# 6\n",
    "# 7\n",
    "# 11\n",
    "# 2\n",
    "# 7\n",
    "# 3\n",
    "# 4\n",
    "# 예제 출력 1 \n",
    "# YES\n",
    "# NO"
   ]
  },
  {
   "attachments": {},
   "cell_type": "markdown",
   "metadata": {},
   "source": [
    "### 브론즈2 1212 진수 - 내꺼"
   ]
  },
  {
   "cell_type": "code",
   "execution_count": 1,
   "metadata": {},
   "outputs": [
    {
     "name": "stdout",
     "output_type": "stream",
     "text": [
      "11001100\n"
     ]
    }
   ],
   "source": [
    "# 8진수 2진수\n",
    "\n",
    "# 문제\n",
    "# 8진수가 주어졌을 때, 2진수로 변환하는 프로그램을 작성하시오.\n",
    "\n",
    "# 입력\n",
    "# 첫째 줄에 8진수가 주어진다. 주어지는 수의 길이는 333,334을 넘지 않는다.\n",
    "\n",
    "# 출력\n",
    "# 첫째 줄에 주어진 수를 2진수로 변환하여 출력한다. 수가 0인 경우를 제외하고는 반드시 1로 시작해야 한다.\n",
    "\n",
    "# 예제 입력 1\n",
    "# 314\n",
    "\n",
    "# 예제 출력 1\n",
    "# 11001100\n",
    "\n",
    "# format의 기능이 다양하다는 것을 깨달음...\n",
    "\n",
    "\n",
    "# 8진수 -> 10진수 -> 2진수로..\n",
    "\n",
    "#첨에 이렇게 시작함.\n",
    "# a8 = input()\n",
    "# a2 = \"\"\n",
    "\n",
    "# for digit in a8:\n",
    "#     a2 += '03b'+digit\n",
    "# int(a2)\n",
    "\n",
    "# a2 = a2.lstrip(\"0\")\n",
    "# if not a2:\n",
    "#     a2 = \"0\"\n",
    "\n",
    "# a2\n",
    "\n",
    "\n",
    "\n",
    "a8 = input() # 입력\n",
    "a2 = \"\" # 빈문자열\n",
    "\n",
    "# 8진수 각 자리를[3][1][4] 2진수로 변환하여 이어붙이기\n",
    "for digit in a8:\n",
    "    a2 += format(int(digit), '03b')\n",
    "\n",
    "# 2진수 앞부분의 0 제거\n",
    "a2 = a2.lstrip(\"0\")\n",
    "\n",
    "# 수가 0인 경우를 제외하라고 했으니까 조건 걸어줌\n",
    "if not a2:\n",
    "    a2 = \"0\"\n",
    "\n",
    "# 출력\n",
    "print(a2)\n",
    "\n",
    "#완성!"
   ]
  },
  {
   "attachments": {},
   "cell_type": "markdown",
   "metadata": {},
   "source": [
    "호기롭게 제출했지만!\n",
    "\n",
    "시간초과.."
   ]
  },
  {
   "cell_type": "code",
   "execution_count": 34,
   "metadata": {},
   "outputs": [
    {
     "name": "stdout",
     "output_type": "stream",
     "text": [
      "11001100\n"
     ]
    }
   ],
   "source": [
    "# 이게 정답..\n",
    "# int, format에 이런 신기능이 있는줄 몰랐음\n",
    "\n",
    "a = input() # 입력받고\n",
    "a8 = int(a, 8) # 8진수로 담아주고\n",
    "string = format(a8, 'b') # 8진수를 문자형으로 담아주고\n",
    "print(string) # 출력"
   ]
  },
  {
   "cell_type": "code",
   "execution_count": 21,
   "metadata": {},
   "outputs": [
    {
     "name": "stdout",
     "output_type": "stream",
     "text": [
      "Alice is 30 years old.\n"
     ]
    }
   ],
   "source": [
    "# formatted_string = format(value, format_spec)\n",
    "\n",
    "name = 'Alice'\n",
    "age = 30\n",
    "formatted_string = '{} is {} years old.'.format(name, age)\n",
    "print(formatted_string)\n",
    "# 출력 결과: Alice is 30 years old.\n"
   ]
  },
  {
   "attachments": {},
   "cell_type": "markdown",
   "metadata": {},
   "source": [
    "### 브론즈2 1225 이상한 곱셈"
   ]
  },
  {
   "cell_type": "code",
   "execution_count": null,
   "metadata": {},
   "outputs": [],
   "source": [
    "# 문제\n",
    "# A×B를 계산하다 지겨워진 형택이는 A×B를 새로운 방법으로 정의하려고 한다.\n",
    "\n",
    "# A에서 한 자리를 뽑고 × B에서 임의로 한 자리를 뽑아 곱한다.\n",
    "\n",
    "# 의 가능한 모든 조합 (A가 n자리, B가 m자리 수라면 총 가능한 조합은 n×m개)을 더한 수로 정의하려고 한다.\n",
    "\n",
    "# 예를 들어 121×34는\n",
    "\n",
    "# 1×3 + 1×4 + 2×3 + 2×4 + 1×3 + 1×4 = 28\n",
    "\n",
    "# 이 된다. 이러한 형택이의 곱셈 결과를 구하는 프로그램을 작성하시오.\n",
    "\n",
    "\n",
    "# 입력\n",
    "# 첫째 줄에 A와 B가 주어진다. 주어지는 두 수는 모두 10,000자리를 넘지 않는 음이 아닌 정수이다. \n",
    "# 수가 0인 경우에는 0만 주어지며, 그 외의 경우 수는 0으로 시작하지 않는다.\n",
    "\n",
    "# 출력\n",
    "# 첫째 줄에 형택이의 곱셈 결과를 출력한다.\n",
    "\n",
    "# 예제 입력 1\n",
    "# 123 45\n",
    "\n",
    "# 예제 출력 1\n",
    "# 54\n",
    "\n",
    "\n"
   ]
  }
 ],
 "metadata": {
  "kernelspec": {
   "display_name": "ML",
   "language": "python",
   "name": "python3"
  },
  "language_info": {
   "codemirror_mode": {
    "name": "ipython",
    "version": 3
   },
   "file_extension": ".py",
   "mimetype": "text/x-python",
   "name": "python",
   "nbconvert_exporter": "python",
   "pygments_lexer": "ipython3",
   "version": "3.8.1"
  },
  "orig_nbformat": 4
 },
 "nbformat": 4,
 "nbformat_minor": 2
}
