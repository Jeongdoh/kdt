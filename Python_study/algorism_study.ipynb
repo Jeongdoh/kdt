{
 "cells": [
  {
   "cell_type": "code",
   "execution_count": 1,
   "metadata": {},
   "outputs": [],
   "source": [
    "#111p~116p\n",
    "\n",
    "#선형 검색이란 직선 모양（선형）으로 늘어선 배열에서 검색하는 경우에 \n",
    "#원하는 키값을 가진 원소를찾을 때까지 맨 앞부터 스캔하여 순서대로 검색하는 알고리즘."
   ]
  },
  {
   "cell_type": "code",
   "execution_count": 3,
   "metadata": {},
   "outputs": [],
   "source": [
    "# 과정\n",
    "# 1. 리스트의 첫 번째 요소부터 시작.\n",
    "# 2. 현재 위치의 값이 찾고자 하는 값과 같은지 확인.\n",
    "# 3. 만약 값이 같으면 탐색을 종료하고, 그렇지 않으면 다음 요소로 이동.\n",
    "# 4. 리스트의 마지막 요소까지 모든 요소를 확인했는데도 찾고자 하는 값이 없다면, 탐색종료."
   ]
  },
  {
   "cell_type": "code",
   "execution_count": 2,
   "metadata": {},
   "outputs": [
    {
     "name": "stdout",
     "output_type": "stream",
     "text": [
      "3 found at index 2\n"
     ]
    }
   ],
   "source": [
    "# 선형검색에 성공했을때의 예시\n",
    "def linear_search(arr, x):\n",
    "    for i in range(len(arr)):\n",
    "        if arr[i] == x:\n",
    "            return i\n",
    "    return -1\n",
    "\n",
    "arr = [1, 2, 3, 4, 5]\n",
    "x = 3\n",
    "result = linear_search(arr, x)\n",
    "if result == -1:\n",
    "    print(f\"{x} not found\")\n",
    "else:\n",
    "    print(f\"{x} found at index {result}\")\n",
    "\n",
    "\n",
    "# 위 코드에서는 리스트 [1, 2, 3, 4, 5]에서 3을 찾으려고 함. \n",
    "# 리스트에 3이 존재하므로 검색에 성공. \n",
    "# 따라서 함수는 2를 반환하게 되고, 이를 통해 검색 결과를 확인할 수 있음."
   ]
  },
  {
   "cell_type": "code",
   "execution_count": 3,
   "metadata": {},
   "outputs": [
    {
     "name": "stdout",
     "output_type": "stream",
     "text": [
      "6 not found\n"
     ]
    }
   ],
   "source": [
    "# 선형검색에 실패했을 때의 예시\n",
    "#이 때는 검색 결과로 -1을 반환하거나, None 등의 특정 값으로 표시\n",
    "\n",
    "def linear_search(arr, x):\n",
    "    for i in range(len(arr)):\n",
    "        if arr[i] == x:\n",
    "            return i\n",
    "    return -1\n",
    "\n",
    "arr = [1, 2, 3, 4, 5]\n",
    "x = 6\n",
    "result = linear_search(arr, x)\n",
    "if result == -1:\n",
    "    print(f\"{x} not found\")\n",
    "else:\n",
    "    print(f\"{x} found at index {result}\")\n",
    "\n",
    "\n",
    "# 위 코드에서는 리스트 [1, 2, 3, 4, 5]에서 6을 찾으려고 함. \n",
    "# 하지만 리스트에는 6이 존재하지 않으므로 검색에 실패하게 됨. \n",
    "# 따라서 함수는 -1을 반환하게 되고, 이를 통해 검색 실패를 확인할 수 있음."
   ]
  },
  {
   "cell_type": "code",
   "execution_count": 6,
   "metadata": {},
   "outputs": [
    {
     "name": "stdout",
     "output_type": "stream",
     "text": [
      "검색값은 x[3]에 있습니다. \n"
     ]
    }
   ],
   "source": [
    "# 선형 검색의 종료 조건\n",
    "# 1. 검색할 값을 찾지 못하고 배열의 맨 끝을 지나간 경우 … 검색 실패\n",
    "# 2. 검색할 값과 같은 원소를 찾는 경우 … 검색 성공\n",
    "\n",
    "# 배열 원소의 개수가n이라면 이 조건을 판단하는 횟수는 평균 n / 2번입니다.\n",
    "# 배열에 원하는 값이 존재하지 않는 경우 1과 2는 각각 n + 1 번，n번 수행됩니다.\n",
    "\n",
    "\n",
    "#while 문으로 작성한 선형 검색 알고리즘\n",
    "\n",
    "from typing import Any, Sequence\n",
    "\n",
    "def seq_search(a: Sequence, key: Any) -> int:\n",
    "\n",
    "    \"\"\"시퀀스 a에서 key와 값이 같은 원소를 선형 검색(while 문)\"\"\"\n",
    "\n",
    "    i = 0\n",
    "    while True:\n",
    "        if i == len(a):\n",
    "            return -1 # 검색에 실패하여 -1 을 반환\n",
    "        if a[i] == key:\n",
    "            return i # 검색에 성공하여 현재 검사한 배열의 인덱스를 반환\n",
    "        i += 1\n",
    "\n",
    "if __name__== '__main__':\n",
    "\n",
    "    num = int(input('원소 수를 입력하세요. :')) # num값을 입력받음\n",
    "    x = [None] * num                            # 원소 수가 num인 배열을 생성\n",
    "\n",
    "    for i in range(num):\n",
    "        x[i] = int(input(f'x[{i}]: '))\n",
    "\n",
    "    ky = int(input('검색할 값을 입력하세요.:'))  #검색할키 ky를입력받음\n",
    "\n",
    "    idx = seq_search(x, ky)                     # ky와 값이 같은 원소를 x에서 검색\n",
    "    \n",
    "   \n",
    "    if idx == -1:\n",
    "        print('검색값을 갖는 원소가 존재하지 않습니다.')\n",
    "    else:\n",
    "        print(f'검색값은 x[{idx}]에 있습니다. ')\n",
    "\n",
    "# 실행 결과\n",
    "# 원소 수를 입력하세요 : 7\n",
    "# x[0]： 6\n",
    "# x[1]：4\n",
    "# x[2]： 3\n",
    "# x[3]： 2\n",
    "# x[4]： 1\n",
    "# x[5]： 2\n",
    "# x[6]： 8\n",
    "# 검색할 값을 입력하세요 : 2\n",
    "# 검색값은 x[3]에 있습니다.\n",
    "\n",
    "\n",
    "\n",
    "    \n",
    "\n",
    "# seq_search（）는 배열 a에서 값이 key인 원소를 선형 검색하는 함수이며，찾은 원소의 인덱스를 반환합니다.\n",
    "\n",
    "# 값이 key인 원소가 여러 개 존재하는 경우에는스캔 과정에서 맨 처음발견한 원소（배열에서 맨 앞의 원소）를 반환합니다. \n",
    "\n",
    "# 또 배열 안에 값이 key인 원소가존재하지 않으면-1을 반환합니다.\n",
    "\n"
   ]
  },
  {
   "cell_type": "code",
   "execution_count": 8,
   "metadata": {},
   "outputs": [],
   "source": [
    "# for 문으로 작성한 선형 검색 알고리즘\n",
    "\n",
    "from typing import Any, Sequence\n",
    "\n",
    "\n",
    "def seq_search(a: Sequence, key: Any) -> int:\n",
    "    \"\"\"시퀀스 a에서 key와 값이 같은 원소를 선형 검색(for 문)\"\"\"\n",
    "\n",
    "    for i in range(len(a)):\n",
    "        if a[i] == key:\n",
    "            return i            # 검색 성공（인덱스를 반환）\n",
    "        return -1               # 검색 실패（-1 을 반환)\n",
    "\n",
    "\n",
    "# 배열 맨 앞부터 순서대로 원소를 스캔하는 선형 검색은 원소의 값이 정렬되지 않은 배열에서\n",
    "# 검색할 때 사용하는 유일한 방법임.\n"
   ]
  },
  {
   "cell_type": "code",
   "execution_count": 7,
   "metadata": {},
   "outputs": [
    {
     "name": "stdout",
     "output_type": "stream",
     "text": [
      "실수를 검색합니다.\n",
      "주의: \"End\"를 입력하면 종료합니다.\n"
     ]
    },
    {
     "ename": "ValueError",
     "evalue": "could not convert string to float: ''",
     "output_type": "error",
     "traceback": [
      "\u001b[1;31m---------------------------------------------------------------------------\u001b[0m",
      "\u001b[1;31mValueError\u001b[0m                                Traceback (most recent call last)",
      "\u001b[1;32m~\\AppData\\Local\\Temp\\ipykernel_28096\\3457738379.py\u001b[0m in \u001b[0;36m<module>\u001b[1;34m\u001b[0m\n\u001b[0;32m     15\u001b[0m     \u001b[1;32mif\u001b[0m \u001b[0ms\u001b[0m \u001b[1;33m==\u001b[0m \u001b[1;34m'End'\u001b[0m\u001b[1;33m:\u001b[0m\u001b[1;33m\u001b[0m\u001b[1;33m\u001b[0m\u001b[0m\n\u001b[0;32m     16\u001b[0m         \u001b[1;32mbreak\u001b[0m\u001b[1;33m\u001b[0m\u001b[1;33m\u001b[0m\u001b[0m\n\u001b[1;32m---> 17\u001b[1;33m     \u001b[0mx\u001b[0m\u001b[1;33m.\u001b[0m\u001b[0mappend\u001b[0m\u001b[1;33m(\u001b[0m\u001b[0mfloat\u001b[0m\u001b[1;33m(\u001b[0m\u001b[0ms\u001b[0m\u001b[1;33m)\u001b[0m\u001b[1;33m)\u001b[0m\u001b[1;33m\u001b[0m\u001b[1;33m\u001b[0m\u001b[0m\n\u001b[0m\u001b[0;32m     18\u001b[0m     \u001b[0mnumber\u001b[0m \u001b[1;33m+=\u001b[0m \u001b[1;36m1\u001b[0m\u001b[1;33m\u001b[0m\u001b[1;33m\u001b[0m\u001b[0m\n\u001b[0;32m     19\u001b[0m \u001b[1;33m\u001b[0m\u001b[0m\n",
      "\u001b[1;31mValueError\u001b[0m: could not convert string to float: ''"
     ]
    }
   ],
   "source": [
    "# 실습 3-1에서 작성한 seq_search() 함수는 임의의 자료형인 시퀀스에서 검색할 수 있습니다. 이는\n",
    "# 02장 실습 2-2에서 max_of() 함수가 임의의 자료형인 시퀀스에서 최댓값을 구할 수 있는 것과 같은 개념입니다.\n",
    "\n",
    "# from ssearch_while import seq_search\n",
    "\n",
    "print('실수를 검색합니다.')\n",
    "print('주의: \"End\"를 입력하면 종료합니다.')\n",
    "\n",
    "number = 0\n",
    "x = []              # 빈 리스트 x를 생성\n",
    "\n",
    "\n",
    "while True:\n",
    "    s = input(f'x[{number}]: ')\n",
    "    if s == 'End':\n",
    "        break\n",
    "    x.append(float(s))\n",
    "    number += 1\n",
    "\n",
    "\n",
    "ky = float(input('검색할 값을 입력하세요.: '))      # 검색할 키 ky를 입력받기\n",
    "\n",
    "idx = seq_search(x, ky)             # ky와 값이 같은 원소를 x에서 검색\n",
    "\n",
    "if idx == -1:\n",
    "    print('검색값을 갖는 원소가 존재하지 않습니다. ')\n",
    "else:\n",
    "    print(f'검색값은 x[{idx}]에 있습니다.')\n",
    "\n",
    "\n",
    "# 실행 결과\n",
    "# 실수를 검색합니다.\n",
    "# 주으I: \"End\"를 입력하면 종료합니다.\n",
    "# x[0]: 12.7\n",
    "# x[1]： 3.14\n",
    "# x[2]： 6.4\n",
    "# x[3]： 7.2\n",
    "# x[4]： End\n",
    "# 검색할 값을 입력하세요.: 6.4\n",
    "# 검색값은 x[2]에 있습니다.\n",
    "\n",
    "\n",
    "#float형인 실수（부동 소수점 수）의 배열에서 검색하는 것을 알 수 있음.\n"
   ]
  },
  {
   "cell_type": "code",
   "execution_count": null,
   "metadata": {},
   "outputs": [],
   "source": [
    "# from ssearch_while import seq_search\n",
    "\n",
    "t = (4, 7, 5.6, 2, 3.14, 1)\n",
    "s = 'string'\n",
    "a = ['DTS', 'AAC', 'FLAC']\n",
    "\n",
    "print(f'{t}에서 5.6의 인덱스는 {seq_search(t, 5.6)}입니다.')\n",
    "print(f'{s}에서 \"n\"의 인덱스는 {seq_search(s, \"n\")}입니다.')\n",
    "print(f'{a}에서 ”DTS”의 인덱스는 {seq_search(a, \"DTS\")}입니다.')\n",
    "\n",
    "\n",
    "\n",
    "#3개의 배열에서 특정 인덱스를 각각 검색하는 프로그램\n",
    "\n",
    "# 튜플 t에는 int형 정수와\n",
    "# float형 실수인 원소가 섞여 있지만 검색하는 데 문제가 없습니다. str형 문자열 s 안에서는 문자를 검\n",
    "# 색할 수도 있습니다（문자열도 시퀀스이기 때문입니다）. a는 문자열의 배열（모든 원소가 str형이고 list\n",
    "# 형인 리스트）인데，이 배열에서도 검색을 정확하게 수행"
   ]
  }
 ],
 "metadata": {
  "kernelspec": {
   "display_name": "base",
   "language": "python",
   "name": "python3"
  },
  "language_info": {
   "codemirror_mode": {
    "name": "ipython",
    "version": 3
   },
   "file_extension": ".py",
   "mimetype": "text/x-python",
   "name": "python",
   "nbconvert_exporter": "python",
   "pygments_lexer": "ipython3",
   "version": "3.9.13"
  },
  "orig_nbformat": 4,
  "vscode": {
   "interpreter": {
    "hash": "eb8f946b1bed9d4c187cb5cd8c9637ed8e0cf7622b356295ec0a7b79391bc593"
   }
  }
 },
 "nbformat": 4,
 "nbformat_minor": 2
}
