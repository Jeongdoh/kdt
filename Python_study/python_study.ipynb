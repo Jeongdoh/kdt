{
 "cells": [
  {
   "cell_type": "code",
   "execution_count": 4,
   "metadata": {},
   "outputs": [
    {
     "name": "stdout",
     "output_type": "stream",
     "text": [
      "5000\n",
      "0\n"
     ]
    }
   ],
   "source": [
    "# 문제\n",
    "# 갑부 최백준 조교는 동전을 최소로 바꾸는데 성공했으나 김재홍 조교가 그 돈을 발견해서 최백준 조교에게 그 돈을 나누자고 따진다.\n",
    "\n",
    "# 그 사실이 전 우주로 알려지자 우주에 있던 많은 생명체들이 자신들에게 돈을 분배해 달라고 당장 달려오기 시작했다.\n",
    "\n",
    "# 프로토스 중앙 우주 정부의 정책인, ‘모든 지적 생명체는 동등하다’라는 규칙에 입각해서 돈을 똑같이 분배하고자 한다.\n",
    "\n",
    "# 한 생명체에게 얼마씩 돈을 줄 수 있는가?\n",
    "\n",
    "# 또, 생명체들에게 동일하게 분배한 후 남는 돈은 얼마인가?\n",
    "\n",
    "\n",
    "\n",
    "def distribute_money(num_of_creatures, coins):\n",
    "    # 동전 종류별 금액을 저장하는 리스트 생성\n",
    "    coin_values = [50000, 10000, 5000, 1000, 500, 100, 50, 10, 5, 1]\n",
    "\n",
    "    # 최백준 조교가 가진 돈의 총액 계산\n",
    "    total_money = sum([coin_values[i] * coins[i] for i in range(len(coins))])\n",
    "\n",
    "    # 생명체들에게 동등하게 분배할 금액 계산\n",
    "    amount_per_creature, remaining_money = divmod(total_money, num_of_creatures)\n",
    "\n",
    "    # 한 생명체에게 줄 수 있는 금액과 남는 돈의 양 출력\n",
    "    print(amount_per_creature)\n",
    "    print(remaining_money)\n",
    "\n",
    "\n",
    "\n",
    "\n",
    "distribute_money(1000,[100])\n"
   ]
  },
  {
   "cell_type": "code",
   "execution_count": 41,
   "metadata": {},
   "outputs": [
    {
     "name": "stdout",
     "output_type": "stream",
     "text": [
      "0\n",
      "2\n",
      "-1\n"
     ]
    }
   ],
   "source": [
    "# 문제\n",
    "# 두 수 A, B를 입력받아, A+B, A-B, A×B를 구하는 프로그램을 작성하시오.\n",
    "\n",
    "# 입력\n",
    "# 첫째 줄에 A가, 둘째 줄에 B가 주어진다. 각각의 수는 10진수로 1,000자리를 넘지 않으며 양수와 음수가 모두 주어질 수 있다.\n",
    "\n",
    "# 출력\n",
    "# 첫째 줄에 A+B, 둘째 줄에 A-B, 셋째 줄에 A×B를 출력한다. 각각을 출력할 때, 답이 0인 경우를 제외하고는 0으로 시작하게 해서는 안 된다(1을 01로 출력하면 안 된다는 의미).\n",
    "\n",
    "\n",
    "A=int(input())\n",
    "B=int(input())\n",
    "print(A + B)\n",
    "print(A - B)\n",
    "print(A * B)"
   ]
  },
  {
   "cell_type": "code",
   "execution_count": 32,
   "metadata": {},
   "outputs": [
    {
     "name": "stdout",
     "output_type": "stream",
     "text": [
      "7\n"
     ]
    }
   ],
   "source": [
    "# 문제\n",
    "# 사파리월드는 인터넷으로만 존재하는 미스테리한 나라이다. 사파리월드에는 2개의 서브도메인이 seunghwan.royal.gov.sw와 kyuhyun.royal.gov.sw 이 있는데, 이것이 couple.royal.gov.sw으로 합쳐질 것이다. 그러나 도메인 관리 센터 SWNIC(센터장: 김동규)에는 엄격한 룰이 있다. 두 서브도메인을 합칠 때, 유명도의 차이가 너무 차이나지 않을 경우에만 두 서브도메인을 결혼시키는 것이다. 서브도메인의 유명도는 정수이다. 두 서브도메인의 유명도가 주어졌을 때, 그 차이를 구하는 프로그램을 작성하시오.\n",
    "\n",
    "# 입력\n",
    "# 첫째 줄에 두 도메인의 유명도 N과 M이 주어진다. (-2,000,000,000 ≤ N, M ≤ 2,000,000,000)\n",
    "\n",
    "# 출력\n",
    "# 첫째 줄에 두 유명도의 차이 (|N-M|)을 출력한다.\n",
    "N,M=map(int,input().split())\n",
    "\n",
    "print(abs(M-N))"
   ]
  },
  {
   "cell_type": "code",
   "execution_count": 26,
   "metadata": {},
   "outputs": [
    {
     "name": "stdout",
     "output_type": "stream",
     "text": [
      "*\n",
      "**\n",
      "***\n",
      "****\n",
      "*****\n"
     ]
    }
   ],
   "source": [
    "# 문제\n",
    "# 첫째 줄에는 별 1개, 둘째 줄에는 별 2개, N번째 줄에는 별 N개를 찍는 문제\n",
    "\n",
    "# 입력\n",
    "# 첫째 줄에 N(1 ≤ N ≤ 100)이 주어진다.\n",
    "\n",
    "# 출력\n",
    "# 첫째 줄부터 N번째 줄까지 차례대로 별을 출력한다.\n",
    "\n",
    "n=int(input())\n",
    "\n",
    "for i in range(1,n+1):\n",
    "    print('*'*i)"
   ]
  },
  {
   "cell_type": "code",
   "execution_count": 20,
   "metadata": {},
   "outputs": [
    {
     "name": "stdout",
     "output_type": "stream",
     "text": [
      "1\n"
     ]
    }
   ],
   "source": [
    "# 문제\n",
    "# 컴퓨터를 제조하는 회사인 KOI 전자에서는 제조하는 컴퓨터마다 6자리의 고유번호를 매긴다. 고유번호의 처음 5자리에는 00000부터 99999까지의 수 중 하나가 주어지며 6번째 자리에는 검증수가 들어간다. 검증수는 고유번호의 처음 5자리에 들어가는 5개의 숫자를 각각 제곱한 수의 합을 10으로 나눈 나머지이다.\n",
    "\n",
    "# 예를 들어 고유번호의 처음 5자리의 숫자들이 04256이면, 각 숫자를 제곱한 수들의 합 0+16+4+25+36 = 81 을 10으로 나눈 나머지인 1이 검증수이다.\n",
    "\n",
    "# 입력\n",
    "# 첫째 줄에 고유번호의 처음 5자리의 숫자들이 빈칸을 사이에 두고 하나씩 주어진다.\n",
    "\n",
    "# 출력\n",
    "# 첫째 줄에 검증수를 출력한다.\n",
    "\n",
    "a,b,c,d,e=map(int,input().split())\n",
    "print(((a*a)+(b*b)+(c*c)+(d*d)+(e*e))%10)"
   ]
  },
  {
   "cell_type": "code",
   "execution_count": 16,
   "metadata": {},
   "outputs": [
    {
     "name": "stdout",
     "output_type": "stream",
     "text": [
      "Hello World!\n"
     ]
    }
   ],
   "source": [
    "# 문제\n",
    "# Hello World!를 출력하시오.\n",
    "\n",
    "# 입력\n",
    "# 없음\n",
    "\n",
    "# 출력\n",
    "# Hello World!를 출력하시오.\n",
    "print(\"Hello World!\")"
   ]
  },
  {
   "cell_type": "code",
   "execution_count": 15,
   "metadata": {},
   "outputs": [
    {
     "name": "stdout",
     "output_type": "stream",
     "text": [
      "3\n"
     ]
    }
   ],
   "source": [
    "# 두 정수 A와 B를 입력받은 다음, A+B를 출력하는 프로그램을 작성하시오.\n",
    "\n",
    "# 입력\n",
    "# 첫째 줄에 A, 둘째 줄에 B가 주어진다. (0 < A, B < 10)\n",
    "\n",
    "# 출력\n",
    "# 첫째 줄에 A+B를 출력한다.\n",
    "\n",
    "a,b=map(int,input().split())\n",
    "print(a+b)"
   ]
  },
  {
   "cell_type": "code",
   "execution_count": 13,
   "metadata": {},
   "outputs": [
    {
     "name": "stdout",
     "output_type": "stream",
     "text": [
      "4 4 4\n",
      "6 6 6\n",
      "5 6 100\n"
     ]
    }
   ],
   "source": [
    "# N*M크기의 두 행렬 A와 B가 주어졌을 때, 두 행렬을 더하는 프로그램을 작성하시오.\n",
    "\n",
    "# 입력\n",
    "# 첫째 줄에 행렬의 크기 N 과 M이 주어진다. 둘째 줄부터 N개의 줄에 행렬 A의 원소 M개가 차례대로 주어진다. 이어서 N개의 줄에 행렬 B의 원소 M개가 차례대로 주어진다. N과 M은 100보다 작거나 같고, 행렬의 원소는 절댓값이 100보다 작거나 같은 정수이다.\n",
    "\n",
    "# 출력\n",
    "# 첫째 줄부터 N개의 줄에 행렬 A와 B를 더한 행렬을 출력한다. 행렬의 각 원소는 공백으로 구분한다.\n",
    "# n,m=map(int,input().split())\n",
    "\n",
    "# A = []\n",
    "# B = []\n",
    "# C = [[0] * m for _ in range(n)]\n",
    "\n",
    "# for i in range(n):\n",
    "#     A.append(list(map(int, input().split())))\n",
    "\n",
    "# for i in range(n):\n",
    "#     B.append(list(map(int, input().split())))\n",
    "\n",
    "\n",
    "# for i in range(n):\n",
    "#     for j in range(m):\n",
    "#         C[i][j] = A[i][j] + B[i][j]\n",
    "\n",
    "# C = (n, m, A, B)\n",
    "\n",
    "# for row in C:\n",
    "#     print(' '.join(map(str, row)))\n",
    "\n",
    "\n",
    "\n",
    "\n",
    "def matrix_addition(N, M, A, B):\n",
    "    # 새로운 행렬 C 생성\n",
    "    C = [[0] * M for _ in range(N)]\n",
    "    for i in range(N):\n",
    "        for j in range(M):\n",
    "            C[i][j] = A[i][j] + B[i][j]\n",
    "\n",
    "    return C\n",
    "\n",
    "\n",
    "# 행렬의 크기 N, M\n",
    "N, M = map(int, input().split())\n",
    "\n",
    "# 행렬 A와 B\n",
    "A = []\n",
    "B = []\n",
    "\n",
    "# 행렬 A의 원소 입력\n",
    "for i in range(N):\n",
    "    A.append(list(map(int, input().split())))\n",
    "\n",
    "# 행렬 B의 원소 입력\n",
    "for i in range(N):\n",
    "    B.append(list(map(int, input().split())))\n",
    "\n",
    "# 두 행렬 A와 B를 더하여 새로운 행렬 C 생성\n",
    "C = matrix_addition(N, M, A, B)\n",
    "\n",
    "# 결과 출력\n",
    "for row in C:\n",
    "    print(' '.join(map(str, row)))\n"
   ]
  },
  {
   "cell_type": "code",
   "execution_count": 11,
   "metadata": {},
   "outputs": [
    {
     "name": "stdout",
     "output_type": "stream",
     "text": [
      "2 * 1 = 2\n",
      "2 * 2 = 4\n",
      "2 * 3 = 6\n",
      "2 * 4 = 8\n",
      "2 * 5 = 10\n",
      "2 * 6 = 12\n",
      "2 * 7 = 14\n",
      "2 * 8 = 16\n",
      "2 * 9 = 18\n"
     ]
    }
   ],
   "source": [
    "# N을 입력받은 뒤, 구구단 N단을 출력하는 프로그램을 작성하시오. 출력 형식에 맞춰서 출력하면 된다.\n",
    "\n",
    "# 입력\n",
    "# 첫째 줄에 N이 주어진다. N은 1보다 크거나 같고, 9보다 작거나 같다.\n",
    "\n",
    "# 출력\n",
    "# 출력형식과 같게 N*1부터 N*9까지 출력한다.\n",
    "\n",
    "n=int(input())\n",
    "\n",
    "for i in range(1,9+1):\n",
    "    print(f'{n} * {i} = {n*i}')"
   ]
  },
  {
   "cell_type": "code",
   "execution_count": 7,
   "metadata": {},
   "outputs": [
    {
     "name": "stdout",
     "output_type": "stream",
     "text": [
      "1\n",
      "2\n",
      "3\n",
      "4\n",
      "5\n"
     ]
    }
   ],
   "source": [
    "# 문제\n",
    "# 자연수 N이 주어졌을 때, 1부터 N까지 한 줄에 하나씩 출력하는 프로그램을 작성하시오.\n",
    "\n",
    "# 입력\n",
    "# 첫째 줄에 100,000보다 작거나 같은 자연수 N이 주어진다.\n",
    "\n",
    "# 출력\n",
    "# 첫째 줄부터 N번째 줄 까지 차례대로 출력한다.\n",
    "\n",
    "n=int(input())\n",
    "\n",
    "for i in range(n):\n",
    "    print(i+1)"
   ]
  },
  {
   "cell_type": "code",
   "execution_count": null,
   "metadata": {},
   "outputs": [],
   "source": []
  },
  {
   "cell_type": "code",
   "execution_count": null,
   "metadata": {},
   "outputs": [],
   "source": []
  },
  {
   "cell_type": "code",
   "execution_count": null,
   "metadata": {},
   "outputs": [],
   "source": []
  },
  {
   "cell_type": "code",
   "execution_count": null,
   "metadata": {},
   "outputs": [],
   "source": []
  },
  {
   "cell_type": "code",
   "execution_count": null,
   "metadata": {},
   "outputs": [],
   "source": []
  },
  {
   "cell_type": "code",
   "execution_count": null,
   "metadata": {},
   "outputs": [],
   "source": []
  },
  {
   "cell_type": "code",
   "execution_count": null,
   "metadata": {},
   "outputs": [],
   "source": []
  },
  {
   "cell_type": "code",
   "execution_count": null,
   "metadata": {},
   "outputs": [],
   "source": []
  }
 ],
 "metadata": {
  "kernelspec": {
   "display_name": "ML",
   "language": "python",
   "name": "python3"
  },
  "language_info": {
   "codemirror_mode": {
    "name": "ipython",
    "version": 3
   },
   "file_extension": ".py",
   "mimetype": "text/x-python",
   "name": "python",
   "nbconvert_exporter": "python",
   "pygments_lexer": "ipython3",
   "version": "3.8.1"
  },
  "orig_nbformat": 4
 },
 "nbformat": 4,
 "nbformat_minor": 2
}
