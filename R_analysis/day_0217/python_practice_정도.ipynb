{
 "cells": [
  {
   "cell_type": "code",
   "execution_count": 20,
   "metadata": {},
   "outputs": [
    {
     "name": "stdout",
     "output_type": "stream",
     "text": [
      "A\n"
     ]
    }
   ],
   "source": [
    "# 1번 문제\n",
    "def getGrade(score):\n",
    "    if score >= 90:\n",
    "        print(\"A\")\n",
    "    elif score >= 80:\n",
    "        print(\"B\")\n",
    "    elif score >= 70:\n",
    "        print(\"C\")\n",
    "    elif score >= 60:\n",
    "        print(\"D\")\n",
    "    else:\n",
    "        print(\"F\")\n",
    "\n",
    "getGrade(91)"
   ]
  },
  {
   "cell_type": "code",
   "execution_count": 51,
   "metadata": {},
   "outputs": [
    {
     "name": "stdout",
     "output_type": "stream",
     "text": [
      "인간6,컴퓨터6=비겼습니다.\n",
      "인간4,컴퓨터1=인간 승리\n",
      "인간2,컴퓨터2=비겼습니다.\n",
      "인간2,컴퓨터1=인간 승리\n",
      "인간3,컴퓨터1=인간 승리\n",
      "인간6,컴퓨터3=인간 승리\n",
      "인간4,컴퓨터6=컴퓨터 승리\n",
      "인간4,컴퓨터2=인간 승리\n",
      "인간4,컴퓨터2=인간 승리\n"
     ]
    }
   ],
   "source": [
    "# 2번 문제\n",
    "import random\n",
    "\n",
    "def dice_game():\n",
    "    Human=random.randint(1,6)\n",
    "    computer=random.randint(1,6)\n",
    "    while 1:\n",
    "        if Human>computer:\n",
    "            print(\"인간{},컴퓨터{}=인간 승리\".format(Human,computer))\n",
    "        elif Human<computer:\n",
    "            print(\"인간{},컴퓨터{}=컴퓨터 승리\".format(Human,computer))\n",
    "        else:\n",
    "            print(\"인간{},컴퓨터{}=비겼습니다.\".format(Human,computer))\n",
    "\n",
    "        question=input(\"중단할까요? Yy/Nn\")\n",
    "        if question=='Y' or question=='y':\n",
    "            break\n",
    "        elif question=='N' or question=='n':\n",
    "            return dice_game()\n",
    "        \n",
    "\n",
    "dice_game()"
   ]
  },
  {
   "cell_type": "code",
   "execution_count": 28,
   "metadata": {},
   "outputs": [
    {
     "name": "stdout",
     "output_type": "stream",
     "text": [
      "1 2 X 4 5 X 7 8 X 10 11 12 X 14 15 X 17 18 X 20 21 22 X 24 25 X 27 28 X X X X XX X X XX X X XX 40 41 42 X 44 45 X 47 48 X 50 51 52 X 54 55 X 57 58 X X X X XX X X XX X X XX 70 71 72 X 74 75 X 77 78 X 80 81 82 X 84 85 X 87 88 X X X X XX X X XX X X XX 100 101 102 X 104 105 X 107 108 X 110 111 112 X 114 115 X 117 118 X 120 121 122 X 124 125 X 127 128 X X X X XX X X XX X X XX 140 141 142 X 144 145 X 147 148 X 150 151 152 X 154 155 X 157 158 X X X X XX X X XX X X XX 170 171 172 X 174 175 X 177 178 X 180 181 182 X 184 185 X 187 188 X X X X XX X X XX X X XX 200 201 202 X 204 205 X 207 208 X 210 211 212 X 214 215 X 217 218 X 220 221 222 X 224 225 X 227 228 X X X X XX X X XX X X XX 240 241 242 X 244 245 X 247 248 X 250 251 252 X 254 255 X 257 258 X X X X XX X X XX X X XX 270 271 272 X 274 275 X 277 278 X 280 281 282 X 284 285 X 287 288 X X X X XX X X XX X X XX X X X XX X X XX X X XX X X X XX X X XX X X XX X X X XX X X XX X X XX XX XX XX XXX "
     ]
    }
   ],
   "source": [
    "# 3번 문제\n",
    "num=int(input(\"숫자 입력\"))\n",
    "for i in range(1,num+1):\n",
    "    string=str(i)\n",
    "    count=0\n",
    "    #print(string)\n",
    "    for j in string:\n",
    "        if j=='3' or j=='6' or j =='9':\n",
    "            count+=1\n",
    "    if count==0:\n",
    "        print(i,end=\" \")\n",
    "    else:\n",
    "        print(count*'X',end=\" \")"
   ]
  },
  {
   "cell_type": "code",
   "execution_count": 37,
   "metadata": {},
   "outputs": [
    {
     "name": "stdout",
     "output_type": "stream",
     "text": [
      "2\n"
     ]
    }
   ],
   "source": [
    "# 4번 문제\n",
    "# 문자열을 입력받아 각 문자열마다 모음의 개수를 출력해주세요.\n",
    "# 문자열 대신 #이 입력되면 멈춥니다.\n",
    "\n",
    "alphabet=['A','a','E','e','I','i','O','o','U','u']\n",
    "\n",
    "a=input(\"문자열을 입력하세요 : \")\n",
    "ls=[]\n",
    "for i in a:\n",
    "    if i in alphabet:\n",
    "        ls.append(int(len(i)))\n",
    "    elif i in '#':\n",
    "        pass\n",
    "if a !='#':\n",
    "    print(sum(ls))"
   ]
  },
  {
   "cell_type": "code",
   "execution_count": null,
   "metadata": {},
   "outputs": [],
   "source": []
  },
  {
   "cell_type": "code",
   "execution_count": null,
   "metadata": {},
   "outputs": [],
   "source": []
  }
 ],
 "metadata": {
  "kernelspec": {
   "display_name": "base",
   "language": "python",
   "name": "python3"
  },
  "language_info": {
   "codemirror_mode": {
    "name": "ipython",
    "version": 3
   },
   "file_extension": ".py",
   "mimetype": "text/x-python",
   "name": "python",
   "nbconvert_exporter": "python",
   "pygments_lexer": "ipython3",
   "version": "3.9.13"
  },
  "orig_nbformat": 4,
  "vscode": {
   "interpreter": {
    "hash": "eb8f946b1bed9d4c187cb5cd8c9637ed8e0cf7622b356295ec0a7b79391bc593"
   }
  }
 },
 "nbformat": 4,
 "nbformat_minor": 2
}
