{
 "cells": [
  {
   "cell_type": "code",
   "execution_count": null,
   "id": "52ef3bb7",
   "metadata": {},
   "outputs": [],
   "source": [
    "from bs4 import BeautifulSoup\n",
    "from konlpy.tag import Okt\n",
    "from collections import Counter\n",
    "from wordcloud import WordCloud\n",
    "from selenium import webdriver\n",
    "from selenium.webdriver.common.keys import Keys\n",
    "from selenium.webdriver.common.by import By\n",
    "import matplotlib.pyplot as plt\n",
    "import pandas as pd\n",
    "import urllib.request\n",
    "import requests\n",
    "import time\n",
    "import re\n",
    "import platform"
   ]
  },
  {
   "cell_type": "code",
   "execution_count": null,
   "id": "fadc904d",
   "metadata": {},
   "outputs": [],
   "source": [
    "a = pd.read_csv('fragrance_add.csv')\n",
    "l = list(a['이름'])"
   ]
  },
  {
   "cell_type": "code",
   "execution_count": 54,
   "id": "ff009c5d",
   "metadata": {},
   "outputs": [],
   "source": [
    "driver=webdriver.Chrome()\n",
    "time.sleep(1)\n",
    "driver.get(\"https://www.google.co.kr/imghp?hl=ko&tab=ri&authuser=0&ogbl\")\n",
    "elem = driver.find_element(By.NAME, \"q\")\n",
    "elem.send_keys(\"a\")\n",
    "elem.send_keys(Keys.RETURN)\n",
    "for i in l:\n",
    "    search_box = driver.find_element(By.NAME,'q')\n",
    "    search_box.clear()\n",
    "    search_box.send_keys(i)\n",
    "    search_box.submit()\n",
    "\n",
    "    images=driver.find_elements(By.CSS_SELECTOR,'.rg_i.Q4LuWd')\n",
    "    images[0].click()\n",
    "\n",
    "    imgUrl=driver.find_element(By.CSS_SELECTOR,'.n3VNCb').get_attribute('src')\n",
    "    urllib.request.urlretrieve(imgUrl, folder + f'{i}.jpg')"
   ]
  }
 ],
 "metadata": {
  "kernelspec": {
   "display_name": "Python 3",
   "language": "python",
   "name": "python3"
  },
  "language_info": {
   "codemirror_mode": {
    "name": "ipython",
    "version": 3
   },
   "file_extension": ".py",
   "mimetype": "text/x-python",
   "name": "python",
   "nbconvert_exporter": "python",
   "pygments_lexer": "ipython3",
   "version": "3.9.12"
  }
 },
 "nbformat": 4,
 "nbformat_minor": 5
}
